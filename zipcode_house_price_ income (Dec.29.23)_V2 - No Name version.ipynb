{
 "cells": [
  {
   "cell_type": "markdown",
   "metadata": {},
   "source": [
    "What has been done in this notebook?\n",
    "-- Treat the zipcode (RegionName) column in the houseprice file downloaded from zillow, get the column ZIPCODE5.\n",
    "-- Treat the zipcode column in the donor file, get the column ZIPCODE5.\n",
    "--  Merge the column '2023_average' from steps 2 to donor dataframe based on ZIPCODE5.\n",
    "--  Treat the zipcode column in the household income file downloaded from IRB, get the column ZIPCODE5.\n",
    "--  Merge the column 'AVERAGE_AGI_STUB' from steps 6 to donor dataframe based on ZIPCODE5."
   ]
  },
  {
   "cell_type": "code",
   "execution_count": 1,
   "metadata": {},
   "outputs": [],
   "source": [
    "import pandas as pd"
   ]
  },
  {
   "cell_type": "markdown",
   "metadata": {},
   "source": [
    "# Generate 'house price' feature based on zipcode"
   ]
  },
  {
   "cell_type": "markdown",
   "metadata": {},
   "source": [
    "# from zillow get the data of zipcode and allhome seasonally adjusted mid-tier price"
   ]
  },
  {
   "cell_type": "code",
   "execution_count": 2,
   "metadata": {},
   "outputs": [
    {
     "name": "stdout",
     "output_type": "stream",
     "text": [
      "<class 'pandas.core.frame.DataFrame'>\n",
      "RangeIndex: 26368 entries, 0 to 26367\n",
      "Columns: 295 entries, RegionID to 2023-10-31\n",
      "dtypes: float64(286), int64(3), object(6)\n",
      "memory usage: 59.3+ MB\n"
     ]
    },
    {
     "data": {
      "text/html": [
       "<div>\n",
       "<style scoped>\n",
       "    .dataframe tbody tr th:only-of-type {\n",
       "        vertical-align: middle;\n",
       "    }\n",
       "\n",
       "    .dataframe tbody tr th {\n",
       "        vertical-align: top;\n",
       "    }\n",
       "\n",
       "    .dataframe thead th {\n",
       "        text-align: right;\n",
       "    }\n",
       "</style>\n",
       "<table border=\"1\" class=\"dataframe\">\n",
       "  <thead>\n",
       "    <tr style=\"text-align: right;\">\n",
       "      <th></th>\n",
       "      <th>RegionID</th>\n",
       "      <th>SizeRank</th>\n",
       "      <th>RegionName</th>\n",
       "      <th>RegionType</th>\n",
       "      <th>StateName</th>\n",
       "      <th>State</th>\n",
       "      <th>City</th>\n",
       "      <th>Metro</th>\n",
       "      <th>CountyName</th>\n",
       "      <th>2000-01-31</th>\n",
       "      <th>...</th>\n",
       "      <th>2023-01-31</th>\n",
       "      <th>2023-02-28</th>\n",
       "      <th>2023-03-31</th>\n",
       "      <th>2023-04-30</th>\n",
       "      <th>2023-05-31</th>\n",
       "      <th>2023-06-30</th>\n",
       "      <th>2023-07-31</th>\n",
       "      <th>2023-08-31</th>\n",
       "      <th>2023-09-30</th>\n",
       "      <th>2023-10-31</th>\n",
       "    </tr>\n",
       "  </thead>\n",
       "  <tbody>\n",
       "    <tr>\n",
       "      <th>0</th>\n",
       "      <td>91982</td>\n",
       "      <td>1</td>\n",
       "      <td>77494</td>\n",
       "      <td>zip</td>\n",
       "      <td>TX</td>\n",
       "      <td>TX</td>\n",
       "      <td>Katy</td>\n",
       "      <td>Houston-The Woodlands-Sugar Land, TX</td>\n",
       "      <td>Fort Bend County</td>\n",
       "      <td>209048.790580</td>\n",
       "      <td>...</td>\n",
       "      <td>471385.326722</td>\n",
       "      <td>470094.099251</td>\n",
       "      <td>469065.556757</td>\n",
       "      <td>470268.040235</td>\n",
       "      <td>472257.943107</td>\n",
       "      <td>475361.948918</td>\n",
       "      <td>478138.444450</td>\n",
       "      <td>480601.210512</td>\n",
       "      <td>482411.387838</td>\n",
       "      <td>483644.709033</td>\n",
       "    </tr>\n",
       "    <tr>\n",
       "      <th>1</th>\n",
       "      <td>61148</td>\n",
       "      <td>2</td>\n",
       "      <td>8701</td>\n",
       "      <td>zip</td>\n",
       "      <td>NJ</td>\n",
       "      <td>NJ</td>\n",
       "      <td>Lakewood</td>\n",
       "      <td>New York-Newark-Jersey City, NY-NJ-PA</td>\n",
       "      <td>Ocean County</td>\n",
       "      <td>137886.463799</td>\n",
       "      <td>...</td>\n",
       "      <td>527727.482336</td>\n",
       "      <td>529947.403462</td>\n",
       "      <td>532846.215822</td>\n",
       "      <td>537015.420626</td>\n",
       "      <td>542395.542666</td>\n",
       "      <td>548357.302256</td>\n",
       "      <td>554489.247144</td>\n",
       "      <td>560407.160599</td>\n",
       "      <td>566757.356522</td>\n",
       "      <td>574127.832246</td>\n",
       "    </tr>\n",
       "    <tr>\n",
       "      <th>2</th>\n",
       "      <td>91940</td>\n",
       "      <td>3</td>\n",
       "      <td>77449</td>\n",
       "      <td>zip</td>\n",
       "      <td>TX</td>\n",
       "      <td>TX</td>\n",
       "      <td>Katy</td>\n",
       "      <td>Houston-The Woodlands-Sugar Land, TX</td>\n",
       "      <td>Harris County</td>\n",
       "      <td>102129.420943</td>\n",
       "      <td>...</td>\n",
       "      <td>278195.430561</td>\n",
       "      <td>275880.290491</td>\n",
       "      <td>274043.954520</td>\n",
       "      <td>272863.082137</td>\n",
       "      <td>272388.856446</td>\n",
       "      <td>272763.356816</td>\n",
       "      <td>273515.337456</td>\n",
       "      <td>274401.485842</td>\n",
       "      <td>274929.000487</td>\n",
       "      <td>274918.911121</td>\n",
       "    </tr>\n",
       "    <tr>\n",
       "      <th>3</th>\n",
       "      <td>62080</td>\n",
       "      <td>4</td>\n",
       "      <td>11368</td>\n",
       "      <td>zip</td>\n",
       "      <td>NY</td>\n",
       "      <td>NY</td>\n",
       "      <td>New York</td>\n",
       "      <td>New York-Newark-Jersey City, NY-NJ-PA</td>\n",
       "      <td>Queens County</td>\n",
       "      <td>150957.229387</td>\n",
       "      <td>...</td>\n",
       "      <td>504476.508141</td>\n",
       "      <td>497473.431981</td>\n",
       "      <td>491025.331919</td>\n",
       "      <td>484268.341352</td>\n",
       "      <td>477023.811433</td>\n",
       "      <td>471521.583059</td>\n",
       "      <td>469663.049583</td>\n",
       "      <td>469656.984977</td>\n",
       "      <td>469088.685776</td>\n",
       "      <td>467022.345948</td>\n",
       "    </tr>\n",
       "    <tr>\n",
       "      <th>4</th>\n",
       "      <td>91733</td>\n",
       "      <td>5</td>\n",
       "      <td>77084</td>\n",
       "      <td>zip</td>\n",
       "      <td>TX</td>\n",
       "      <td>TX</td>\n",
       "      <td>Houston</td>\n",
       "      <td>Houston-The Woodlands-Sugar Land, TX</td>\n",
       "      <td>Harris County</td>\n",
       "      <td>100930.403886</td>\n",
       "      <td>...</td>\n",
       "      <td>270371.788379</td>\n",
       "      <td>268791.042726</td>\n",
       "      <td>267480.620986</td>\n",
       "      <td>266697.212613</td>\n",
       "      <td>266556.111617</td>\n",
       "      <td>267147.680536</td>\n",
       "      <td>267982.228262</td>\n",
       "      <td>268846.207177</td>\n",
       "      <td>269269.787186</td>\n",
       "      <td>269260.239977</td>\n",
       "    </tr>\n",
       "  </tbody>\n",
       "</table>\n",
       "<p>5 rows × 295 columns</p>\n",
       "</div>"
      ],
      "text/plain": [
       "   RegionID  SizeRank  RegionName RegionType StateName State      City  \\\n",
       "0     91982         1       77494        zip        TX    TX      Katy   \n",
       "1     61148         2        8701        zip        NJ    NJ  Lakewood   \n",
       "2     91940         3       77449        zip        TX    TX      Katy   \n",
       "3     62080         4       11368        zip        NY    NY  New York   \n",
       "4     91733         5       77084        zip        TX    TX   Houston   \n",
       "\n",
       "                                   Metro        CountyName     2000-01-31  \\\n",
       "0   Houston-The Woodlands-Sugar Land, TX  Fort Bend County  209048.790580   \n",
       "1  New York-Newark-Jersey City, NY-NJ-PA      Ocean County  137886.463799   \n",
       "2   Houston-The Woodlands-Sugar Land, TX     Harris County  102129.420943   \n",
       "3  New York-Newark-Jersey City, NY-NJ-PA     Queens County  150957.229387   \n",
       "4   Houston-The Woodlands-Sugar Land, TX     Harris County  100930.403886   \n",
       "\n",
       "   ...     2023-01-31     2023-02-28     2023-03-31     2023-04-30  \\\n",
       "0  ...  471385.326722  470094.099251  469065.556757  470268.040235   \n",
       "1  ...  527727.482336  529947.403462  532846.215822  537015.420626   \n",
       "2  ...  278195.430561  275880.290491  274043.954520  272863.082137   \n",
       "3  ...  504476.508141  497473.431981  491025.331919  484268.341352   \n",
       "4  ...  270371.788379  268791.042726  267480.620986  266697.212613   \n",
       "\n",
       "      2023-05-31     2023-06-30     2023-07-31     2023-08-31     2023-09-30  \\\n",
       "0  472257.943107  475361.948918  478138.444450  480601.210512  482411.387838   \n",
       "1  542395.542666  548357.302256  554489.247144  560407.160599  566757.356522   \n",
       "2  272388.856446  272763.356816  273515.337456  274401.485842  274929.000487   \n",
       "3  477023.811433  471521.583059  469663.049583  469656.984977  469088.685776   \n",
       "4  266556.111617  267147.680536  267982.228262  268846.207177  269269.787186   \n",
       "\n",
       "      2023-10-31  \n",
       "0  483644.709033  \n",
       "1  574127.832246  \n",
       "2  274918.911121  \n",
       "3  467022.345948  \n",
       "4  269260.239977  \n",
       "\n",
       "[5 rows x 295 columns]"
      ]
     },
     "execution_count": 2,
     "metadata": {},
     "output_type": "execute_result"
    }
   ],
   "source": [
    "#from https://www.zillow.com/research/data/ get the data of zipcode and allhome seasonally adjusted mid-tier price\n",
    "dfzipcodehouse = pd.read_csv('Zip_zhvi_uc_sfrcondo_tier_0.33_0.67_sm_sa_month.csv')\n",
    "dfzipcodehouse.info()\n",
    "dfzipcodehouse.head()\n",
    "# invalid zipcode as 8701 appeared"
   ]
  },
  {
   "cell_type": "code",
   "execution_count": 3,
   "metadata": {},
   "outputs": [
    {
     "name": "stdout",
     "output_type": "stream",
     "text": [
      "Minimum length: 4, Maximum length: 5\n"
     ]
    }
   ],
   "source": [
    "min_length = dfzipcodehouse['RegionName'].astype(str).str.len().min()\n",
    "max_length = dfzipcodehouse['RegionName'].astype(str).str.len().max()\n",
    "print(f\"Minimum length: {min_length}, Maximum length: {max_length}\")"
   ]
  },
  {
   "cell_type": "code",
   "execution_count": 5,
   "metadata": {},
   "outputs": [
    {
     "name": "stdout",
     "output_type": "stream",
     "text": [
      "<class 'pandas.core.frame.DataFrame'>\n",
      "RangeIndex: 26368 entries, 0 to 26367\n",
      "Columns: 295 entries, RegionID to 2023-10-31\n",
      "dtypes: float64(286), int64(3), object(6)\n",
      "memory usage: 59.3+ MB\n"
     ]
    },
    {
     "data": {
      "text/plain": [
       "77494    1\n",
       "12578    1\n",
       "59523    1\n",
       "49043    1\n",
       "48467    1\n",
       "        ..\n",
       "32333    1\n",
       "18252    1\n",
       "7452     1\n",
       "94507    1\n",
       "52163    1\n",
       "Name: RegionName, Length: 26368, dtype: int64"
      ]
     },
     "execution_count": 5,
     "metadata": {},
     "output_type": "execute_result"
    }
   ],
   "source": [
    "dfzipcodehouse.info()\n",
    "#RegionName is zipcode\n",
    "dfzipcodehouse.RegionName.value_counts()"
   ]
  },
  {
   "cell_type": "code",
   "execution_count": 6,
   "metadata": {},
   "outputs": [],
   "source": [
    "# get the average house price for mid-tier based on data from 2023 Jan. through 2023 OCt.\n",
    "\n",
    "# Select the columns for the average calculation\n",
    "columns_for_average = ['2023-01-31', '2023-02-28', '2023-03-31', '2023-04-30', '2023-05-31', '2023-06-30', '2023-07-31', '2023-08-31', '2023-09-30', '2023-10-31']\n",
    "\n",
    "# Calculate the average for each row based on the selected columns\n",
    "dfzipcodehouse['2023_average'] = dfzipcodehouse[columns_for_average].mean(axis=1)"
   ]
  },
  {
   "cell_type": "code",
   "execution_count": 7,
   "metadata": {},
   "outputs": [
    {
     "data": {
      "text/plain": [
       "0    475322.866682\n",
       "1    547407.096368\n",
       "2    274389.970588\n",
       "3    480122.007417\n",
       "4    268240.291946\n",
       "Name: 2023_average, dtype: float64"
      ]
     },
     "execution_count": 7,
     "metadata": {},
     "output_type": "execute_result"
    }
   ],
   "source": [
    "dfzipcodehouse['2023_average'].head()"
   ]
  },
  {
   "cell_type": "code",
   "execution_count": 10,
   "metadata": {},
   "outputs": [
    {
     "name": "stdout",
     "output_type": "stream",
     "text": [
      "Rows where 'RegionName' starts with zero:\n",
      "Empty DataFrame\n",
      "Columns: [RegionID, SizeRank, RegionName, RegionType, StateName, State, City, Metro, CountyName, 2000-01-31, 2000-02-29, 2000-03-31, 2000-04-30, 2000-05-31, 2000-06-30, 2000-07-31, 2000-08-31, 2000-09-30, 2000-10-31, 2000-11-30, 2000-12-31, 2001-01-31, 2001-02-28, 2001-03-31, 2001-04-30, 2001-05-31, 2001-06-30, 2001-07-31, 2001-08-31, 2001-09-30, 2001-10-31, 2001-11-30, 2001-12-31, 2002-01-31, 2002-02-28, 2002-03-31, 2002-04-30, 2002-05-31, 2002-06-30, 2002-07-31, 2002-08-31, 2002-09-30, 2002-10-31, 2002-11-30, 2002-12-31, 2003-01-31, 2003-02-28, 2003-03-31, 2003-04-30, 2003-05-31, 2003-06-30, 2003-07-31, 2003-08-31, 2003-09-30, 2003-10-31, 2003-11-30, 2003-12-31, 2004-01-31, 2004-02-29, 2004-03-31, 2004-04-30, 2004-05-31, 2004-06-30, 2004-07-31, 2004-08-31, 2004-09-30, 2004-10-31, 2004-11-30, 2004-12-31, 2005-01-31, 2005-02-28, 2005-03-31, 2005-04-30, 2005-05-31, 2005-06-30, 2005-07-31, 2005-08-31, 2005-09-30, 2005-10-31, 2005-11-30, 2005-12-31, 2006-01-31, 2006-02-28, 2006-03-31, 2006-04-30, 2006-05-31, 2006-06-30, 2006-07-31, 2006-08-31, 2006-09-30, 2006-10-31, 2006-11-30, 2006-12-31, 2007-01-31, 2007-02-28, 2007-03-31, 2007-04-30, 2007-05-31, 2007-06-30, 2007-07-31, ...]\n",
      "Index: []\n",
      "\n",
      "[0 rows x 296 columns]\n"
     ]
    }
   ],
   "source": [
    "# Display rows where 'RegionName' starts with zero\n",
    "zero_starting_regionname_rows = dfzipcodehouse[dfzipcodehouse['RegionName'].astype(str).str.startswith('0')]\n",
    "\n",
    "# Print the rows\n",
    "print(\"Rows where 'RegionName' starts with zero:\")\n",
    "print(zero_starting_regionname_rows.head())"
   ]
  },
  {
   "cell_type": "code",
   "execution_count": 11,
   "metadata": {},
   "outputs": [
    {
     "name": "stdout",
     "output_type": "stream",
     "text": [
      "Rows where 'RegionName' has less than 5 digits:\n",
      "     RegionID  SizeRank  RegionName RegionType StateName State         City  \\\n",
      "1       61148         2        8701        zip        NJ    NJ     Lakewood   \n",
      "209     60565       215        7055        zip        NJ    NJ      Passaic   \n",
      "218     60642       224        7305        zip        NJ    NJ  Jersey City   \n",
      "242     58710       248        2301        zip        MA    MA     Brockton   \n",
      "257     60499       263        6902        zip        CT    CT     Stamford   \n",
      "\n",
      "                                     Metro        CountyName     2000-01-31  \\\n",
      "1    New York-Newark-Jersey City, NY-NJ-PA      Ocean County  137886.463799   \n",
      "209  New York-Newark-Jersey City, NY-NJ-PA    Passaic County  114654.793349   \n",
      "218  New York-Newark-Jersey City, NY-NJ-PA     Hudson County  157549.901238   \n",
      "242         Boston-Cambridge-Newton, MA-NH   Plymouth County  125137.126969   \n",
      "257        Bridgeport-Stamford-Norwalk, CT  Fairfield County            NaN   \n",
      "\n",
      "     ...     2023-02-28     2023-03-31     2023-04-30     2023-05-31  \\\n",
      "1    ...  529947.403462  532846.215822  537015.420626  542395.542666   \n",
      "209  ...  440873.248343  443795.917528  447664.095290  453029.813789   \n",
      "218  ...  456119.427239  458292.645632  459614.632325  462472.260806   \n",
      "242  ...  441356.883473  441839.651504  443379.429559  445900.834728   \n",
      "257  ...  461841.943320  463160.968647  466826.940958  470885.933169   \n",
      "\n",
      "        2023-06-30     2023-07-31     2023-08-31     2023-09-30  \\\n",
      "1    548357.302256  554489.247144  560407.160599  566757.356522   \n",
      "209  457635.195114  460300.278886  461216.954989  462309.782521   \n",
      "218  464877.782491  467913.726028  470832.435496  473871.316629   \n",
      "242  449041.844978  452764.428161  457277.279430  461245.258772   \n",
      "257  476307.537530  481929.851660  488160.192389  493556.890984   \n",
      "\n",
      "        2023-10-31   2023_average  \n",
      "1    574127.832246  547407.096368  \n",
      "209  464293.696798  453049.591423  \n",
      "218  476251.016665  464556.026656  \n",
      "242  464668.142592  449912.230619  \n",
      "257  497616.254895  476136.457095  \n",
      "\n",
      "[5 rows x 296 columns]\n"
     ]
    }
   ],
   "source": [
    "# get rows where 'RegionName' has less than 5 digits\n",
    "\n",
    "short_regionname_rows = dfzipcodehouse[dfzipcodehouse['RegionName'].astype(str).apply(len) < 5]\n",
    "\n",
    "# Print the rows\n",
    "print(\"Rows where 'RegionName' has less than 5 digits:\")\n",
    "print(short_regionname_rows.head(5))"
   ]
  },
  {
   "cell_type": "markdown",
   "metadata": {},
   "source": [
    "# After checking 'RegionName' (zipcode) values with less than 5 digits and their corresponding 'city' values, it is obvious that the leading zero for those zipcodes are missing. Thus, the leading zero was added next. "
   ]
  },
  {
   "cell_type": "code",
   "execution_count": 12,
   "metadata": {},
   "outputs": [
    {
     "name": "stdout",
     "output_type": "stream",
     "text": [
      "   RegionID  SizeRank  RegionName RegionType StateName State      City  \\\n",
      "0     91982         1       77494        zip        TX    TX      Katy   \n",
      "1     61148         2        8701        zip        NJ    NJ  Lakewood   \n",
      "2     91940         3       77449        zip        TX    TX      Katy   \n",
      "3     62080         4       11368        zip        NY    NY  New York   \n",
      "4     91733         5       77084        zip        TX    TX   Houston   \n",
      "\n",
      "                                   Metro        CountyName     2000-01-31  \\\n",
      "0   Houston-The Woodlands-Sugar Land, TX  Fort Bend County  209048.790580   \n",
      "1  New York-Newark-Jersey City, NY-NJ-PA      Ocean County  137886.463799   \n",
      "2   Houston-The Woodlands-Sugar Land, TX     Harris County  102129.420943   \n",
      "3  New York-Newark-Jersey City, NY-NJ-PA     Queens County  150957.229387   \n",
      "4   Houston-The Woodlands-Sugar Land, TX     Harris County  100930.403886   \n",
      "\n",
      "   ...     2023-03-31     2023-04-30     2023-05-31     2023-06-30  \\\n",
      "0  ...  469065.556757  470268.040235  472257.943107  475361.948918   \n",
      "1  ...  532846.215822  537015.420626  542395.542666  548357.302256   \n",
      "2  ...  274043.954520  272863.082137  272388.856446  272763.356816   \n",
      "3  ...  491025.331919  484268.341352  477023.811433  471521.583059   \n",
      "4  ...  267480.620986  266697.212613  266556.111617  267147.680536   \n",
      "\n",
      "      2023-07-31     2023-08-31     2023-09-30     2023-10-31   2023_average  \\\n",
      "0  478138.444450  480601.210512  482411.387838  483644.709033  475322.866682   \n",
      "1  554489.247144  560407.160599  566757.356522  574127.832246  547407.096368   \n",
      "2  273515.337456  274401.485842  274929.000487  274918.911121  274389.970588   \n",
      "3  469663.049583  469656.984977  469088.685776  467022.345948  480122.007417   \n",
      "4  267982.228262  268846.207177  269269.787186  269260.239977  268240.291946   \n",
      "\n",
      "   RegionName_add0  \n",
      "0            77494  \n",
      "1            08701  \n",
      "2            77449  \n",
      "3            11368  \n",
      "4            77084  \n",
      "\n",
      "[5 rows x 297 columns]\n"
     ]
    }
   ],
   "source": [
    "# Add leading zero to 'RegionName' values with exactly 4 digits\n",
    "dfzipcodehouse['RegionName_add0'] = dfzipcodehouse['RegionName'].apply(lambda x: f'0{x}' if len(str(x)) == 4 else x)\n",
    "\n",
    "# Print the updated DataFrame\n",
    "print(dfzipcodehouse.head())"
   ]
  },
  {
   "cell_type": "code",
   "execution_count": 13,
   "metadata": {},
   "outputs": [
    {
     "name": "stdout",
     "output_type": "stream",
     "text": [
      "All values in 'RegionName_add0' have 5 digits: True\n"
     ]
    }
   ],
   "source": [
    "# 'RegionName_add0' is the column after adding leading zeros\n",
    "all_have_5_digits = all(dfzipcodehouse['RegionName_add0'].astype(str).apply(len) == 5)\n",
    "\n",
    "# Print the result\n",
    "print(\"All values in 'RegionName_add0' have 5 digits:\", all_have_5_digits)"
   ]
  },
  {
   "cell_type": "code",
   "execution_count": 14,
   "metadata": {},
   "outputs": [
    {
     "data": {
      "text/plain": [
       "0"
      ]
     },
     "execution_count": 14,
     "metadata": {},
     "output_type": "execute_result"
    }
   ],
   "source": [
    "dfzipcodehouse['RegionName_add0'].isna().sum()"
   ]
  },
  {
   "cell_type": "code",
   "execution_count": 15,
   "metadata": {},
   "outputs": [
    {
     "data": {
      "text/plain": [
       "dtype('O')"
      ]
     },
     "execution_count": 15,
     "metadata": {},
     "output_type": "execute_result"
    }
   ],
   "source": [
    "dfzipcodehouse['RegionName_add0'].dtype"
   ]
  },
  {
   "cell_type": "code",
   "execution_count": 16,
   "metadata": {},
   "outputs": [
    {
     "data": {
      "text/plain": [
       "<class 'int'>    26368\n",
       "Name: zipcode_datatype, dtype: int64"
      ]
     },
     "execution_count": 16,
     "metadata": {},
     "output_type": "execute_result"
    }
   ],
   "source": [
    "dfzipcodehouse['zipcode_datatype']=dfzipcodehouse.RegionName.map(lambda x: type(x))\n",
    "dfzipcodehouse.zipcode_datatype.value_counts()\n",
    "#price of house from zillow has 26368 zipcodes(each has one value)"
   ]
  },
  {
   "cell_type": "markdown",
   "metadata": {},
   "source": [
    "# Treat the feature 'zip code' in the donor data."
   ]
  },
  {
   "cell_type": "code",
   "execution_count": 17,
   "metadata": {},
   "outputs": [
    {
     "name": "stderr",
     "output_type": "stream",
     "text": [
      "C:\\Users\\tubos\\AppData\\Local\\Temp\\ipykernel_24764\\3355206029.py:1: DtypeWarning: Columns (3) have mixed types. Specify dtype option on import or set low_memory=False.\n",
      "  df = pd.read_csv('df_2023_treat party_no_names.csv')\n"
     ]
    }
   ],
   "source": [
    "df = pd.read_csv('df_2023_treat party_no_names.csv')"
   ]
  },
  {
   "cell_type": "code",
   "execution_count": 18,
   "metadata": {},
   "outputs": [
    {
     "data": {
      "text/plain": [
       "(6653441, 10)"
      ]
     },
     "execution_count": 18,
     "metadata": {},
     "output_type": "execute_result"
    }
   ],
   "source": [
    "df.shape"
   ]
  },
  {
   "cell_type": "code",
   "execution_count": 21,
   "metadata": {},
   "outputs": [
    {
     "name": "stdout",
     "output_type": "stream",
     "text": [
      "<class 'pandas.core.frame.DataFrame'>\n",
      "RangeIndex: 6653441 entries, 0 to 6653440\n",
      "Data columns (total 10 columns):\n",
      " #   Column           Dtype \n",
      "---  ------           ----- \n",
      " 0   CMTE_ID          object\n",
      " 1   CITY             object\n",
      " 2   STATE            object\n",
      " 3   ZIP_CODE         object\n",
      " 4   EMPLOYER         object\n",
      " 5   OCCUPATION       object\n",
      " 6   TRANSACTION_DT   int64 \n",
      " 7   TRANSACTION_AMT  int64 \n",
      " 8   party_full       object\n",
      " 9   party_label      int64 \n",
      "dtypes: int64(3), object(7)\n",
      "memory usage: 507.6+ MB\n"
     ]
    }
   ],
   "source": [
    "df.info()"
   ]
  },
  {
   "cell_type": "code",
   "execution_count": 22,
   "metadata": {},
   "outputs": [
    {
     "name": "stdout",
     "output_type": "stream",
     "text": [
      "Minimum length2: 1, Maximum length2: 11\n"
     ]
    }
   ],
   "source": [
    "min_length2 = df['ZIP_CODE'].astype(str).str.len().min()\n",
    "max_length2 = df['ZIP_CODE'].astype(str).str.len().max()\n",
    "print(f\"Minimum length2: {min_length2}, Maximum length2: {max_length2}\")"
   ]
  },
  {
   "cell_type": "code",
   "execution_count": 28,
   "metadata": {},
   "outputs": [
    {
     "data": {
      "text/plain": [
       "8275"
      ]
     },
     "execution_count": 28,
     "metadata": {},
     "output_type": "execute_result"
    }
   ],
   "source": [
    "df.ZIP_CODE.isnull().sum()"
   ]
  },
  {
   "cell_type": "code",
   "execution_count": 30,
   "metadata": {},
   "outputs": [],
   "source": [
    "df['ZIP_CODE'].fillna('00000', inplace=True)"
   ]
  },
  {
   "cell_type": "code",
   "execution_count": 31,
   "metadata": {},
   "outputs": [
    {
     "data": {
      "text/plain": [
       "905058"
      ]
     },
     "execution_count": 31,
     "metadata": {},
     "output_type": "execute_result"
    }
   ],
   "source": [
    "len(df.ZIP_CODE.value_counts())"
   ]
  },
  {
   "cell_type": "code",
   "execution_count": 35,
   "metadata": {},
   "outputs": [
    {
     "data": {
      "text/plain": [
       "<class 'str'>      4261821\n",
       "<class 'float'>    2391620\n",
       "Name: zipcode_datatype, dtype: int64"
      ]
     },
     "execution_count": 35,
     "metadata": {},
     "output_type": "execute_result"
    }
   ],
   "source": [
    "df['zipcode_datatype']=df.ZIP_CODE.map(lambda x: type(x))\n",
    "df.zipcode_datatype.value_counts()"
   ]
  },
  {
   "cell_type": "code",
   "execution_count": 36,
   "metadata": {},
   "outputs": [],
   "source": [
    "#found some data from out of United states as ZIP_CODE == 'E145AA' in london \n",
    "#also found data from some other places\n",
    "states=['AL', 'AK', 'AZ', 'AR', 'CA', 'CO', 'CT', 'DE', 'FL', 'GA', 'HI', 'ID', 'IL', 'IN', 'IA', 'KS', 'KY', 'LA', \n",
    "        'ME', 'MD', 'MA', 'MI', 'MN', 'MS', 'MO', 'MT', 'NE', 'NV', 'NH', 'NJ', 'NM', 'NY', 'NC', 'ND', 'OH', 'OK', 'OR',\n",
    "        'PA', 'RI', 'SC', 'SD', 'TN', 'TX', 'UT', 'VT', 'VA', 'WA', 'WV', 'WI', 'WY','DC']\n",
    "df_us=df[df['STATE'].isin(states)]"
   ]
  },
  {
   "cell_type": "code",
   "execution_count": 37,
   "metadata": {},
   "outputs": [
    {
     "data": {
      "text/plain": [
       "94611          5730\n",
       "00000          5470\n",
       "10025          5414\n",
       "10023          5081\n",
       "760405951.0    4736\n",
       "019608572      4641\n",
       "10024          3869\n",
       "55384          3804\n",
       "300402707.0    3611\n",
       "20011          3542\n",
       "480171279.0    3513\n",
       "786665129      3229\n",
       "48198          3219\n",
       "85351          3117\n",
       "760405951.0    3062\n",
       "10011          2942\n",
       "98668          2914\n",
       "85253          2863\n",
       "67204          2840\n",
       "236932544.0    2801\n",
       "Name: ZIP_CODE, dtype: int64"
      ]
     },
     "execution_count": 37,
     "metadata": {},
     "output_type": "execute_result"
    }
   ],
   "source": [
    "df_us.ZIP_CODE.value_counts().head(20)"
   ]
  },
  {
   "cell_type": "code",
   "execution_count": 39,
   "metadata": {},
   "outputs": [
    {
     "data": {
      "text/plain": [
       "14455"
      ]
     },
     "execution_count": 39,
     "metadata": {},
     "output_type": "execute_result"
    }
   ],
   "source": [
    "df.ZIP_CODE.count()-df_us.ZIP_CODE.count()\n",
    "\n",
    "# There are 14455 df.ZIP_CODE not in US states."
   ]
  },
  {
   "cell_type": "code",
   "execution_count": 40,
   "metadata": {},
   "outputs": [
    {
     "data": {
      "text/plain": [
       "0"
      ]
     },
     "execution_count": 40,
     "metadata": {},
     "output_type": "execute_result"
    }
   ],
   "source": [
    "df_us.ZIP_CODE.isnull().sum()"
   ]
  },
  {
   "cell_type": "code",
   "execution_count": 194,
   "metadata": {},
   "outputs": [
    {
     "name": "stderr",
     "output_type": "stream",
     "text": [
      "C:\\Users\\tubos\\AppData\\Local\\Temp\\ipykernel_24764\\2864755282.py:1: SettingWithCopyWarning: \n",
      "A value is trying to be set on a copy of a slice from a DataFrame\n",
      "\n",
      "See the caveats in the documentation: https://pandas.pydata.org/pandas-docs/stable/user_guide/indexing.html#returning-a-view-versus-a-copy\n",
      "  df_us.drop('party_full', axis=1, inplace=True)\n"
     ]
    }
   ],
   "source": [
    "df_us.drop('party_full', axis=1, inplace=True)"
   ]
  },
  {
   "cell_type": "code",
   "execution_count": 42,
   "metadata": {},
   "outputs": [],
   "source": [
    "df_tmp = df_us[['ZIP_CODE','zipcode_datatype','CITY', 'STATE']]"
   ]
  },
  {
   "cell_type": "code",
   "execution_count": 43,
   "metadata": {},
   "outputs": [
    {
     "data": {
      "text/html": [
       "<div>\n",
       "<style scoped>\n",
       "    .dataframe tbody tr th:only-of-type {\n",
       "        vertical-align: middle;\n",
       "    }\n",
       "\n",
       "    .dataframe tbody tr th {\n",
       "        vertical-align: top;\n",
       "    }\n",
       "\n",
       "    .dataframe thead th {\n",
       "        text-align: right;\n",
       "    }\n",
       "</style>\n",
       "<table border=\"1\" class=\"dataframe\">\n",
       "  <thead>\n",
       "    <tr style=\"text-align: right;\">\n",
       "      <th></th>\n",
       "      <th>ZIP_CODE</th>\n",
       "      <th>zipcode_datatype</th>\n",
       "      <th>CITY</th>\n",
       "      <th>STATE</th>\n",
       "    </tr>\n",
       "  </thead>\n",
       "  <tbody>\n",
       "    <tr>\n",
       "      <th>0</th>\n",
       "      <td>89107</td>\n",
       "      <td>&lt;class 'str'&gt;</td>\n",
       "      <td>LAS VEGAS</td>\n",
       "      <td>NV</td>\n",
       "    </tr>\n",
       "    <tr>\n",
       "      <th>1</th>\n",
       "      <td>89148</td>\n",
       "      <td>&lt;class 'str'&gt;</td>\n",
       "      <td>LAS VEGAS</td>\n",
       "      <td>NV</td>\n",
       "    </tr>\n",
       "    <tr>\n",
       "      <th>2</th>\n",
       "      <td>89107</td>\n",
       "      <td>&lt;class 'str'&gt;</td>\n",
       "      <td>LAS VEGAS</td>\n",
       "      <td>NV</td>\n",
       "    </tr>\n",
       "    <tr>\n",
       "      <th>3</th>\n",
       "      <td>89110</td>\n",
       "      <td>&lt;class 'str'&gt;</td>\n",
       "      <td>LAS VEGAS</td>\n",
       "      <td>NV</td>\n",
       "    </tr>\n",
       "    <tr>\n",
       "      <th>4</th>\n",
       "      <td>029033050</td>\n",
       "      <td>&lt;class 'str'&gt;</td>\n",
       "      <td>PROVIDENCE</td>\n",
       "      <td>RI</td>\n",
       "    </tr>\n",
       "  </tbody>\n",
       "</table>\n",
       "</div>"
      ],
      "text/plain": [
       "    ZIP_CODE zipcode_datatype        CITY STATE\n",
       "0      89107    <class 'str'>   LAS VEGAS    NV\n",
       "1      89148    <class 'str'>   LAS VEGAS    NV\n",
       "2      89107    <class 'str'>   LAS VEGAS    NV\n",
       "3      89110    <class 'str'>   LAS VEGAS    NV\n",
       "4  029033050    <class 'str'>  PROVIDENCE    RI"
      ]
     },
     "execution_count": 43,
     "metadata": {},
     "output_type": "execute_result"
    }
   ],
   "source": [
    "df_tmp.head()"
   ]
  },
  {
   "cell_type": "code",
   "execution_count": 44,
   "metadata": {},
   "outputs": [
    {
     "name": "stderr",
     "output_type": "stream",
     "text": [
      "C:\\Users\\tubos\\AppData\\Local\\Temp\\ipykernel_24764\\2050393077.py:1: SettingWithCopyWarning: \n",
      "A value is trying to be set on a copy of a slice from a DataFrame.\n",
      "Try using .loc[row_indexer,col_indexer] = value instead\n",
      "\n",
      "See the caveats in the documentation: https://pandas.pydata.org/pandas-docs/stable/user_guide/indexing.html#returning-a-view-versus-a-copy\n",
      "  df_tmp['ZIP_CODE_split'] = df_tmp['ZIP_CODE'].astype(str).str.split('.').str[0]\n"
     ]
    },
    {
     "name": "stdout",
     "output_type": "stream",
     "text": [
      "    ZIP_CODE ZIP_CODE_split\n",
      "0      89107          89107\n",
      "1      89148          89148\n",
      "2      89107          89107\n",
      "3      89110          89110\n",
      "4  029033050      029033050\n"
     ]
    }
   ],
   "source": [
    "df_tmp['ZIP_CODE_split'] = df_tmp['ZIP_CODE'].astype(str).str.split('.').str[0]\n",
    "\n",
    "# Display the updated DataFrame\n",
    "print(df_tmp[['ZIP_CODE', 'ZIP_CODE_split']].head())"
   ]
  },
  {
   "cell_type": "code",
   "execution_count": 45,
   "metadata": {},
   "outputs": [
    {
     "name": "stdout",
     "output_type": "stream",
     "text": [
      "        ZIP_CODE zipcode_datatype                 CITY STATE ZIP_CODE_split\n",
      "544935  40244040    <class 'str'>         EAST BALDWIN    ME       40244040\n",
      "720910      7040    <class 'str'>            MAPLEWOOD    NJ           7040\n",
      "720917      1951    <class 'str'>              NEWBURY    MA           1951\n",
      "720925      2568    <class 'str'>       VINEYARD HAVEN    MA           2568\n",
      "720943      8759    <class 'str'>           MANCHESTER    NJ           8759\n",
      "720976      1938    <class 'str'>              IPSWICH    MA           1938\n",
      "720979      7421    <class 'str'>               HEWITT    NJ           7421\n",
      "721120      3444    <class 'str'>               DUBLIN    NH           3444\n",
      "721161      3301    <class 'str'>              CONCORD    NH           3301\n",
      "721177      8742    <class 'str'>  POINT PLEASANT BORO    NJ           8742\n"
     ]
    }
   ],
   "source": [
    "four_and_eight_digit_rows1 = df_tmp[df_tmp['ZIP_CODE'].astype(str).str.len().isin([4, 8])]\n",
    "\n",
    "# Display the rows\n",
    "print(four_and_eight_digit_rows1[['ZIP_CODE', 'zipcode_datatype', 'CITY', 'STATE','ZIP_CODE_split']].head(10))"
   ]
  },
  {
   "cell_type": "code",
   "execution_count": 46,
   "metadata": {},
   "outputs": [
    {
     "data": {
      "text/plain": [
       "15079"
      ]
     },
     "execution_count": 46,
     "metadata": {},
     "output_type": "execute_result"
    }
   ],
   "source": [
    "len(four_and_eight_digit_rows1)"
   ]
  },
  {
   "cell_type": "markdown",
   "metadata": {},
   "source": [
    "#  Looked up zip codes via https://tools.usps.com/zip-code-lookup.htm?citybyzipcode and concluded that the leading zero is missing for above 4- and 8- digit zip codes. Next, adding the leading zero for these zip codes. "
   ]
  },
  {
   "cell_type": "code",
   "execution_count": 47,
   "metadata": {},
   "outputs": [
    {
     "name": "stderr",
     "output_type": "stream",
     "text": [
      "C:\\Users\\tubos\\AppData\\Local\\Temp\\ipykernel_24764\\1956342046.py:3: SettingWithCopyWarning: \n",
      "A value is trying to be set on a copy of a slice from a DataFrame.\n",
      "Try using .loc[row_indexer,col_indexer] = value instead\n",
      "\n",
      "See the caveats in the documentation: https://pandas.pydata.org/pandas-docs/stable/user_guide/indexing.html#returning-a-view-versus-a-copy\n",
      "  df_tmp['ZIP_CODE_addo'] = df_tmp['ZIP_CODE_split'].astype(str).apply(lambda x: x.zfill(len(x) + 1) if len(x) == 4 or len(x) == 8 else x)\n"
     ]
    },
    {
     "name": "stdout",
     "output_type": "stream",
     "text": [
      "    ZIP_CODE zipcode_datatype         CITY STATE ZIP_CODE_addo\n",
      "0      89107    <class 'str'>    LAS VEGAS    NV         89107\n",
      "1      89148    <class 'str'>    LAS VEGAS    NV         89148\n",
      "2      89107    <class 'str'>    LAS VEGAS    NV         89107\n",
      "3      89110    <class 'str'>    LAS VEGAS    NV         89110\n",
      "4  029033050    <class 'str'>   PROVIDENCE    RI     029033050\n",
      "5  112012170    <class 'str'>     BROOKLYN    NY     112012170\n",
      "6  112012129    <class 'str'>     BROOKLYN    NY     112012129\n",
      "7  209124128    <class 'str'>  TAKOMA PARK    MD     209124128\n",
      "8  100280139    <class 'str'>     NEW YORK    NY     100280139\n",
      "9      20874    <class 'str'>   DARNESTOWN    MD         20874\n"
     ]
    }
   ],
   "source": [
    "# add a leading zero to 4 or 8 digit zipcode.\n",
    "\n",
    "df_tmp['ZIP_CODE_addo'] = df_tmp['ZIP_CODE_split'].astype(str).apply(lambda x: x.zfill(len(x) + 1) if len(x) == 4 or len(x) == 8 else x)\n",
    "\n",
    "# Display the updated DataFrame\n",
    "print(df_tmp[['ZIP_CODE', 'zipcode_datatype', 'CITY', 'STATE', 'ZIP_CODE_addo']].head(10))"
   ]
  },
  {
   "cell_type": "code",
   "execution_count": 48,
   "metadata": {},
   "outputs": [],
   "source": [
    "# df_tmp['ZIP_CODE_addo'] = df_tmp['ZIP_CODE'].astype(str).apply(lambda x: x.zfill(5) if len(x) == 4 or len(x) == 8 else x)\n",
    "\n",
    "# # Display the updated DataFrame\n",
    "# print(df_tmp[['ZIP_CODE', 'zipcode_datatype', 'CITY', 'STATE','ZIP_CODE_addo']].head(10))"
   ]
  },
  {
   "cell_type": "code",
   "execution_count": 49,
   "metadata": {},
   "outputs": [
    {
     "name": "stdout",
     "output_type": "stream",
     "text": [
      "        ZIP_CODE zipcode_datatype                 CITY STATE ZIP_CODE_addo\n",
      "544935  40244040    <class 'str'>         EAST BALDWIN    ME     040244040\n",
      "720910      7040    <class 'str'>            MAPLEWOOD    NJ         07040\n",
      "720917      1951    <class 'str'>              NEWBURY    MA         01951\n",
      "720925      2568    <class 'str'>       VINEYARD HAVEN    MA         02568\n",
      "720943      8759    <class 'str'>           MANCHESTER    NJ         08759\n",
      "720976      1938    <class 'str'>              IPSWICH    MA         01938\n",
      "720979      7421    <class 'str'>               HEWITT    NJ         07421\n",
      "721120      3444    <class 'str'>               DUBLIN    NH         03444\n",
      "721161      3301    <class 'str'>              CONCORD    NH         03301\n",
      "721177      8742    <class 'str'>  POINT PLEASANT BORO    NJ         08742\n"
     ]
    }
   ],
   "source": [
    "four_and_eight_digit_rows2 = df_tmp[df_tmp['ZIP_CODE'].astype(str).str.len().isin([4, 8])]\n",
    "\n",
    "# Display the rows\n",
    "print(four_and_eight_digit_rows2[['ZIP_CODE', 'zipcode_datatype', 'CITY', 'STATE','ZIP_CODE_addo']].head(10))"
   ]
  },
  {
   "cell_type": "code",
   "execution_count": 50,
   "metadata": {},
   "outputs": [
    {
     "data": {
      "text/html": [
       "<div>\n",
       "<style scoped>\n",
       "    .dataframe tbody tr th:only-of-type {\n",
       "        vertical-align: middle;\n",
       "    }\n",
       "\n",
       "    .dataframe tbody tr th {\n",
       "        vertical-align: top;\n",
       "    }\n",
       "\n",
       "    .dataframe thead th {\n",
       "        text-align: right;\n",
       "    }\n",
       "</style>\n",
       "<table border=\"1\" class=\"dataframe\">\n",
       "  <thead>\n",
       "    <tr style=\"text-align: right;\">\n",
       "      <th></th>\n",
       "      <th>ZIP_CODE</th>\n",
       "      <th>zipcode_datatype</th>\n",
       "      <th>CITY</th>\n",
       "      <th>STATE</th>\n",
       "      <th>ZIP_CODE_split</th>\n",
       "      <th>ZIP_CODE_addo</th>\n",
       "    </tr>\n",
       "  </thead>\n",
       "  <tbody>\n",
       "    <tr>\n",
       "      <th>0</th>\n",
       "      <td>89107</td>\n",
       "      <td>&lt;class 'str'&gt;</td>\n",
       "      <td>LAS VEGAS</td>\n",
       "      <td>NV</td>\n",
       "      <td>89107</td>\n",
       "      <td>89107</td>\n",
       "    </tr>\n",
       "    <tr>\n",
       "      <th>1</th>\n",
       "      <td>89148</td>\n",
       "      <td>&lt;class 'str'&gt;</td>\n",
       "      <td>LAS VEGAS</td>\n",
       "      <td>NV</td>\n",
       "      <td>89148</td>\n",
       "      <td>89148</td>\n",
       "    </tr>\n",
       "    <tr>\n",
       "      <th>2</th>\n",
       "      <td>89107</td>\n",
       "      <td>&lt;class 'str'&gt;</td>\n",
       "      <td>LAS VEGAS</td>\n",
       "      <td>NV</td>\n",
       "      <td>89107</td>\n",
       "      <td>89107</td>\n",
       "    </tr>\n",
       "    <tr>\n",
       "      <th>3</th>\n",
       "      <td>89110</td>\n",
       "      <td>&lt;class 'str'&gt;</td>\n",
       "      <td>LAS VEGAS</td>\n",
       "      <td>NV</td>\n",
       "      <td>89110</td>\n",
       "      <td>89110</td>\n",
       "    </tr>\n",
       "    <tr>\n",
       "      <th>4</th>\n",
       "      <td>029033050</td>\n",
       "      <td>&lt;class 'str'&gt;</td>\n",
       "      <td>PROVIDENCE</td>\n",
       "      <td>RI</td>\n",
       "      <td>029033050</td>\n",
       "      <td>029033050</td>\n",
       "    </tr>\n",
       "  </tbody>\n",
       "</table>\n",
       "</div>"
      ],
      "text/plain": [
       "    ZIP_CODE zipcode_datatype        CITY STATE ZIP_CODE_split ZIP_CODE_addo\n",
       "0      89107    <class 'str'>   LAS VEGAS    NV          89107         89107\n",
       "1      89148    <class 'str'>   LAS VEGAS    NV          89148         89148\n",
       "2      89107    <class 'str'>   LAS VEGAS    NV          89107         89107\n",
       "3      89110    <class 'str'>   LAS VEGAS    NV          89110         89110\n",
       "4  029033050    <class 'str'>  PROVIDENCE    RI      029033050     029033050"
      ]
     },
     "execution_count": 50,
     "metadata": {},
     "output_type": "execute_result"
    }
   ],
   "source": [
    "df_tmp.head()"
   ]
  },
  {
   "cell_type": "code",
   "execution_count": 52,
   "metadata": {},
   "outputs": [
    {
     "name": "stdout",
     "output_type": "stream",
     "text": [
      "Empty DataFrame\n",
      "Columns: [ZIP_CODE, zipcode_datatype, CITY, STATE, ZIP_CODE_addo]\n",
      "Index: []\n"
     ]
    }
   ],
   "source": [
    "four_and_eight_digit_rows3 = df_tmp[df_tmp['ZIP_CODE_addo'].astype(str).str.len().isin([4, 8])]\n",
    "\n",
    "# Display the rows\n",
    "print(four_and_eight_digit_rows3[['ZIP_CODE', 'zipcode_datatype', 'CITY', 'STATE','ZIP_CODE_addo']].head(10))"
   ]
  },
  {
   "cell_type": "code",
   "execution_count": 54,
   "metadata": {},
   "outputs": [
    {
     "name": "stderr",
     "output_type": "stream",
     "text": [
      "C:\\Users\\tubos\\AppData\\Local\\Temp\\ipykernel_24764\\3569742950.py:1: SettingWithCopyWarning: \n",
      "A value is trying to be set on a copy of a slice from a DataFrame.\n",
      "Try using .loc[row_indexer,col_indexer] = value instead\n",
      "\n",
      "See the caveats in the documentation: https://pandas.pydata.org/pandas-docs/stable/user_guide/indexing.html#returning-a-view-versus-a-copy\n",
      "  df_tmp['ZIP_CODE_addo_datatype'] = df_tmp['ZIP_CODE_addo'].apply(type)\n"
     ]
    }
   ],
   "source": [
    "df_tmp['ZIP_CODE_addo_datatype'] = df_tmp['ZIP_CODE_addo'].apply(type)"
   ]
  },
  {
   "cell_type": "code",
   "execution_count": 55,
   "metadata": {},
   "outputs": [
    {
     "data": {
      "text/html": [
       "<div>\n",
       "<style scoped>\n",
       "    .dataframe tbody tr th:only-of-type {\n",
       "        vertical-align: middle;\n",
       "    }\n",
       "\n",
       "    .dataframe tbody tr th {\n",
       "        vertical-align: top;\n",
       "    }\n",
       "\n",
       "    .dataframe thead th {\n",
       "        text-align: right;\n",
       "    }\n",
       "</style>\n",
       "<table border=\"1\" class=\"dataframe\">\n",
       "  <thead>\n",
       "    <tr style=\"text-align: right;\">\n",
       "      <th></th>\n",
       "      <th>ZIP_CODE</th>\n",
       "      <th>zipcode_datatype</th>\n",
       "      <th>CITY</th>\n",
       "      <th>STATE</th>\n",
       "      <th>ZIP_CODE_split</th>\n",
       "      <th>ZIP_CODE_addo</th>\n",
       "      <th>ZIP_CODE_addo_datatype</th>\n",
       "    </tr>\n",
       "  </thead>\n",
       "  <tbody>\n",
       "    <tr>\n",
       "      <th>0</th>\n",
       "      <td>89107</td>\n",
       "      <td>&lt;class 'str'&gt;</td>\n",
       "      <td>LAS VEGAS</td>\n",
       "      <td>NV</td>\n",
       "      <td>89107</td>\n",
       "      <td>89107</td>\n",
       "      <td>&lt;class 'str'&gt;</td>\n",
       "    </tr>\n",
       "    <tr>\n",
       "      <th>1</th>\n",
       "      <td>89148</td>\n",
       "      <td>&lt;class 'str'&gt;</td>\n",
       "      <td>LAS VEGAS</td>\n",
       "      <td>NV</td>\n",
       "      <td>89148</td>\n",
       "      <td>89148</td>\n",
       "      <td>&lt;class 'str'&gt;</td>\n",
       "    </tr>\n",
       "    <tr>\n",
       "      <th>2</th>\n",
       "      <td>89107</td>\n",
       "      <td>&lt;class 'str'&gt;</td>\n",
       "      <td>LAS VEGAS</td>\n",
       "      <td>NV</td>\n",
       "      <td>89107</td>\n",
       "      <td>89107</td>\n",
       "      <td>&lt;class 'str'&gt;</td>\n",
       "    </tr>\n",
       "    <tr>\n",
       "      <th>3</th>\n",
       "      <td>89110</td>\n",
       "      <td>&lt;class 'str'&gt;</td>\n",
       "      <td>LAS VEGAS</td>\n",
       "      <td>NV</td>\n",
       "      <td>89110</td>\n",
       "      <td>89110</td>\n",
       "      <td>&lt;class 'str'&gt;</td>\n",
       "    </tr>\n",
       "    <tr>\n",
       "      <th>4</th>\n",
       "      <td>029033050</td>\n",
       "      <td>&lt;class 'str'&gt;</td>\n",
       "      <td>PROVIDENCE</td>\n",
       "      <td>RI</td>\n",
       "      <td>029033050</td>\n",
       "      <td>029033050</td>\n",
       "      <td>&lt;class 'str'&gt;</td>\n",
       "    </tr>\n",
       "  </tbody>\n",
       "</table>\n",
       "</div>"
      ],
      "text/plain": [
       "    ZIP_CODE zipcode_datatype        CITY STATE ZIP_CODE_split ZIP_CODE_addo  \\\n",
       "0      89107    <class 'str'>   LAS VEGAS    NV          89107         89107   \n",
       "1      89148    <class 'str'>   LAS VEGAS    NV          89148         89148   \n",
       "2      89107    <class 'str'>   LAS VEGAS    NV          89107         89107   \n",
       "3      89110    <class 'str'>   LAS VEGAS    NV          89110         89110   \n",
       "4  029033050    <class 'str'>  PROVIDENCE    RI      029033050     029033050   \n",
       "\n",
       "  ZIP_CODE_addo_datatype  \n",
       "0          <class 'str'>  \n",
       "1          <class 'str'>  \n",
       "2          <class 'str'>  \n",
       "3          <class 'str'>  \n",
       "4          <class 'str'>  "
      ]
     },
     "execution_count": 55,
     "metadata": {},
     "output_type": "execute_result"
    }
   ],
   "source": [
    "df_tmp.head()"
   ]
  },
  {
   "cell_type": "code",
   "execution_count": 56,
   "metadata": {},
   "outputs": [
    {
     "data": {
      "text/plain": [
       "<class 'str'>    6638986\n",
       "Name: ZIP_CODE_addo_datatype, dtype: int64"
      ]
     },
     "execution_count": 56,
     "metadata": {},
     "output_type": "execute_result"
    }
   ],
   "source": [
    "df_tmp['ZIP_CODE_addo_datatype'].value_counts()"
   ]
  },
  {
   "cell_type": "code",
   "execution_count": 57,
   "metadata": {},
   "outputs": [
    {
     "data": {
      "text/plain": [
       "(6638986, 7)"
      ]
     },
     "execution_count": 57,
     "metadata": {},
     "output_type": "execute_result"
    }
   ],
   "source": [
    "df_tmp.shape"
   ]
  },
  {
   "cell_type": "code",
   "execution_count": 58,
   "metadata": {},
   "outputs": [
    {
     "data": {
      "text/plain": [
       "0"
      ]
     },
     "execution_count": 58,
     "metadata": {},
     "output_type": "execute_result"
    }
   ],
   "source": [
    "df_tmp['ZIP_CODE_addo'].isna().sum()"
   ]
  },
  {
   "cell_type": "code",
   "execution_count": 59,
   "metadata": {},
   "outputs": [
    {
     "name": "stdout",
     "output_type": "stream",
     "text": [
      "['56' '0' '764' '233' '282' '688' '662' '969' '12' '704' '42']\n"
     ]
    }
   ],
   "source": [
    "zip_codes_len_1_4 = df_tmp[df_tmp['ZIP_CODE_addo'].astype(str).apply(len).isin([1,2,3,4])]\n",
    "\n",
    "# Display the unique values\n",
    "unique_zip_codes_len_1_4 = zip_codes_len_1_4['ZIP_CODE_addo'].unique()\n",
    "print(unique_zip_codes_len_1_4)"
   ]
  },
  {
   "cell_type": "code",
   "execution_count": 60,
   "metadata": {},
   "outputs": [
    {
     "name": "stdout",
     "output_type": "stream",
     "text": [
      "40\n"
     ]
    }
   ],
   "source": [
    "value_counts = df_tmp['ZIP_CODE_addo'].isin(['000', '56', '0', '764', '233', '282', '688', '662', '969', '12', '704', '42']).sum()\n",
    "print(value_counts)"
   ]
  },
  {
   "cell_type": "code",
   "execution_count": 61,
   "metadata": {},
   "outputs": [
    {
     "name": "stdout",
     "output_type": "stream",
     "text": [
      "['900017' '1060046' 'NASSAU' 'V6N1H1' 'V4A1R6' '1076DZ' '110025' 'GU323NP'\n",
      " 'SW73SS' 'E6C1P2' 'N1G1P2' 'K2S1P2' '9210806' '940027' '2200006'\n",
      " 'D14NY71' '100000' '4910101' 'V8K2B8' '7510211' 'CA92637' 'V6G0C9'\n",
      " '921020']\n"
     ]
    }
   ],
   "source": [
    "zip_codes_len_6_10 = df_tmp[df_tmp['ZIP_CODE_addo'].astype(str).apply(len).isin([6,7,8,10])]\n",
    "\n",
    "# Display the unique values\n",
    "unique_zip_codes_len_6_10 = zip_codes_len_6_10['ZIP_CODE_addo'].unique()\n",
    "print(unique_zip_codes_len_6_10)"
   ]
  },
  {
   "cell_type": "code",
   "execution_count": 62,
   "metadata": {},
   "outputs": [
    {
     "name": "stdout",
     "output_type": "stream",
     "text": [
      "105\n"
     ]
    }
   ],
   "source": [
    "value_counts_6_10 = df_tmp['ZIP_CODE_addo'].isin(['900017', '1060046', 'NASSAU', 'V6N1H1', 'V4A1R6', '1076DZ', '110025', 'GU323NP',\n",
    " 'SW73SS', 'E6C1P2', 'N1G1P2', 'K2S1P2', '9210806', '940027', '2200006',\n",
    " 'D14NY71', '100000', '4910101', 'V8K2B8' ,'7510211', 'CA92637', 'V6G0C9',\n",
    " '921020']).sum()\n",
    "print(value_counts_6_10)"
   ]
  },
  {
   "cell_type": "code",
   "execution_count": 63,
   "metadata": {},
   "outputs": [
    {
     "name": "stdout",
     "output_type": "stream",
     "text": [
      "True     6638841\n",
      "False        145\n",
      "Name: ZIP_CODE_addo, dtype: int64\n"
     ]
    }
   ],
   "source": [
    "length_counts = df_tmp['ZIP_CODE_addo'].apply(len).isin([5, 9]).value_counts()\n",
    "print(length_counts)"
   ]
  },
  {
   "cell_type": "code",
   "execution_count": 64,
   "metadata": {},
   "outputs": [],
   "source": [
    "import re\n",
    "def zipcode_transform(x):\n",
    "    if pd.isna(x):\n",
    "        return '99998'  # or any other suitable value for NaN\n",
    "    elif isinstance(x, str):\n",
    "        us_zip_code_pattern = r'^\\d{5}(?:\\d{4})?$'\n",
    "        if re.match(us_zip_code_pattern, x):\n",
    "            return x\n",
    "        else:\n",
    "            return '99998'  # or any other suitable value for invalid ZIP codes"
   ]
  },
  {
   "cell_type": "code",
   "execution_count": 65,
   "metadata": {},
   "outputs": [
    {
     "data": {
      "text/plain": [
       "'99998'"
      ]
     },
     "execution_count": 65,
     "metadata": {},
     "output_type": "execute_result"
    }
   ],
   "source": [
    "zipcode_transform('356')"
   ]
  },
  {
   "cell_type": "code",
   "execution_count": 66,
   "metadata": {},
   "outputs": [
    {
     "name": "stderr",
     "output_type": "stream",
     "text": [
      "C:\\Users\\tubos\\AppData\\Local\\Temp\\ipykernel_24764\\2918085996.py:1: SettingWithCopyWarning: \n",
      "A value is trying to be set on a copy of a slice from a DataFrame.\n",
      "Try using .loc[row_indexer,col_indexer] = value instead\n",
      "\n",
      "See the caveats in the documentation: https://pandas.pydata.org/pandas-docs/stable/user_guide/indexing.html#returning-a-view-versus-a-copy\n",
      "  df_tmp['zipcode_tf'] = df_tmp['ZIP_CODE_addo'].map(zipcode_transform)\n"
     ]
    }
   ],
   "source": [
    "df_tmp['zipcode_tf'] = df_tmp['ZIP_CODE_addo'].map(zipcode_transform)"
   ]
  },
  {
   "cell_type": "code",
   "execution_count": 67,
   "metadata": {},
   "outputs": [
    {
     "data": {
      "text/plain": [
       "0"
      ]
     },
     "execution_count": 67,
     "metadata": {},
     "output_type": "execute_result"
    }
   ],
   "source": [
    "df_tmp.ZIP_CODE.isna().sum()"
   ]
  },
  {
   "cell_type": "code",
   "execution_count": 68,
   "metadata": {},
   "outputs": [
    {
     "data": {
      "text/plain": [
       "0"
      ]
     },
     "execution_count": 68,
     "metadata": {},
     "output_type": "execute_result"
    }
   ],
   "source": [
    "df_tmp.zipcode_tf.isna().sum()"
   ]
  },
  {
   "cell_type": "code",
   "execution_count": 69,
   "metadata": {},
   "outputs": [
    {
     "data": {
      "text/plain": [
       "157"
      ]
     },
     "execution_count": 69,
     "metadata": {},
     "output_type": "execute_result"
    }
   ],
   "source": [
    "count_99998 = (df_tmp['zipcode_tf'] == '99998').sum()\n",
    "count_99998"
   ]
  },
  {
   "cell_type": "code",
   "execution_count": 70,
   "metadata": {},
   "outputs": [
    {
     "data": {
      "text/plain": [
       "6638829"
      ]
     },
     "execution_count": 70,
     "metadata": {},
     "output_type": "execute_result"
    }
   ],
   "source": [
    "df_tmp['zipcode_tf'].count()-count_99998"
   ]
  },
  {
   "cell_type": "code",
   "execution_count": 71,
   "metadata": {},
   "outputs": [
    {
     "name": "stdout",
     "output_type": "stream",
     "text": [
      "Rows where 'zipcode_tf' is equal to 99998:\n",
      "       ZIP_CODE zipcode_datatype            CITY STATE ZIP_CODE_split  \\\n",
      "514596   900017    <class 'str'>     LOS ANGELES    CA         900017   \n",
      "519528  1060046    <class 'str'>           TOKYO    NY        1060046   \n",
      "546352   NASSAU    <class 'str'>  NEW PROVIDENCE    CA         NASSAU   \n",
      "757818   V6N1H1    <class 'str'>       VANCOUVER    CA         V6N1H1   \n",
      "757821   V6N1H1    <class 'str'>       VANCOUVER    CA         V6N1H1   \n",
      "\n",
      "       ZIP_CODE_addo ZIP_CODE_addo_datatype zipcode_tf  \n",
      "514596        900017          <class 'str'>      99998  \n",
      "519528       1060046          <class 'str'>      99998  \n",
      "546352        NASSAU          <class 'str'>      99998  \n",
      "757818        V6N1H1          <class 'str'>      99998  \n",
      "757821        V6N1H1          <class 'str'>      99998  \n"
     ]
    }
   ],
   "source": [
    "# Display rows where 'zipcode_tf' is equal to 99998\n",
    "\n",
    "zipcode_tf_99998_rows = df_tmp[df_tmp['zipcode_tf'] == '99998']\n",
    "print(\"Rows where 'zipcode_tf' is equal to 99998:\")\n",
    "print(zipcode_tf_99998_rows.head())"
   ]
  },
  {
   "cell_type": "code",
   "execution_count": 72,
   "metadata": {},
   "outputs": [
    {
     "name": "stdout",
     "output_type": "stream",
     "text": [
      "<class 'str'>    6638986\n",
      "Name: zipcode_tf, dtype: int64\n"
     ]
    }
   ],
   "source": [
    "# Get data type counts for 'zipcode_tf' column\n",
    "dtype_counts = df_tmp['zipcode_tf'].apply(type).value_counts()\n",
    "\n",
    "# Display the data type counts\n",
    "print(dtype_counts)"
   ]
  },
  {
   "cell_type": "code",
   "execution_count": 73,
   "metadata": {},
   "outputs": [
    {
     "name": "stdout",
     "output_type": "stream",
     "text": [
      "Minimum length_zipcode_tf: 5\n",
      "Maximum length_zipcode_tf: 9\n"
     ]
    }
   ],
   "source": [
    "min_length_zipcode_tf = df_tmp['zipcode_tf'].astype(str).apply(len).min()\n",
    "max_length_zipcode_tf = df_tmp['zipcode_tf'].astype(str).apply(len).max()\n",
    "\n",
    "# Display the results\n",
    "print(f\"Minimum length_zipcode_tf: {min_length_zipcode_tf}\")\n",
    "print(f\"Maximum length_zipcode_tf: {max_length_zipcode_tf}\")"
   ]
  },
  {
   "cell_type": "code",
   "execution_count": 74,
   "metadata": {},
   "outputs": [
    {
     "name": "stderr",
     "output_type": "stream",
     "text": [
      "C:\\Users\\tubos\\AppData\\Local\\Temp\\ipykernel_24764\\1295354496.py:3: SettingWithCopyWarning: \n",
      "A value is trying to be set on a copy of a slice from a DataFrame.\n",
      "Try using .loc[row_indexer,col_indexer] = value instead\n",
      "\n",
      "See the caveats in the documentation: https://pandas.pydata.org/pandas-docs/stable/user_guide/indexing.html#returning-a-view-versus-a-copy\n",
      "  df_tmp['zipcode5'] = df_tmp['zipcode_tf'].str[:5]\n"
     ]
    }
   ],
   "source": [
    "# get the first 5 digits from the transformed zipcode.\n",
    "\n",
    "df_tmp['zipcode5'] = df_tmp['zipcode_tf'].str[:5]"
   ]
  },
  {
   "cell_type": "code",
   "execution_count": 75,
   "metadata": {},
   "outputs": [
    {
     "data": {
      "text/plain": [
       "0    89107\n",
       "1    89148\n",
       "2    89107\n",
       "3    89110\n",
       "4    02903\n",
       "5    11201\n",
       "6    11201\n",
       "7    20912\n",
       "8    10028\n",
       "9    20874\n",
       "Name: zipcode5, dtype: object"
      ]
     },
     "execution_count": 75,
     "metadata": {},
     "output_type": "execute_result"
    }
   ],
   "source": [
    "df_tmp['zipcode5'].head(10)"
   ]
  },
  {
   "cell_type": "code",
   "execution_count": 76,
   "metadata": {},
   "outputs": [
    {
     "data": {
      "text/html": [
       "<div>\n",
       "<style scoped>\n",
       "    .dataframe tbody tr th:only-of-type {\n",
       "        vertical-align: middle;\n",
       "    }\n",
       "\n",
       "    .dataframe tbody tr th {\n",
       "        vertical-align: top;\n",
       "    }\n",
       "\n",
       "    .dataframe thead th {\n",
       "        text-align: right;\n",
       "    }\n",
       "</style>\n",
       "<table border=\"1\" class=\"dataframe\">\n",
       "  <thead>\n",
       "    <tr style=\"text-align: right;\">\n",
       "      <th></th>\n",
       "      <th>ZIP_CODE</th>\n",
       "      <th>zipcode_datatype</th>\n",
       "      <th>CITY</th>\n",
       "      <th>STATE</th>\n",
       "      <th>ZIP_CODE_addo</th>\n",
       "      <th>zipcode5</th>\n",
       "    </tr>\n",
       "  </thead>\n",
       "  <tbody>\n",
       "    <tr>\n",
       "      <th>544935</th>\n",
       "      <td>40244040</td>\n",
       "      <td>&lt;class 'str'&gt;</td>\n",
       "      <td>EAST BALDWIN</td>\n",
       "      <td>ME</td>\n",
       "      <td>040244040</td>\n",
       "      <td>04024</td>\n",
       "    </tr>\n",
       "    <tr>\n",
       "      <th>720910</th>\n",
       "      <td>7040</td>\n",
       "      <td>&lt;class 'str'&gt;</td>\n",
       "      <td>MAPLEWOOD</td>\n",
       "      <td>NJ</td>\n",
       "      <td>07040</td>\n",
       "      <td>07040</td>\n",
       "    </tr>\n",
       "    <tr>\n",
       "      <th>720917</th>\n",
       "      <td>1951</td>\n",
       "      <td>&lt;class 'str'&gt;</td>\n",
       "      <td>NEWBURY</td>\n",
       "      <td>MA</td>\n",
       "      <td>01951</td>\n",
       "      <td>01951</td>\n",
       "    </tr>\n",
       "    <tr>\n",
       "      <th>720925</th>\n",
       "      <td>2568</td>\n",
       "      <td>&lt;class 'str'&gt;</td>\n",
       "      <td>VINEYARD HAVEN</td>\n",
       "      <td>MA</td>\n",
       "      <td>02568</td>\n",
       "      <td>02568</td>\n",
       "    </tr>\n",
       "    <tr>\n",
       "      <th>720943</th>\n",
       "      <td>8759</td>\n",
       "      <td>&lt;class 'str'&gt;</td>\n",
       "      <td>MANCHESTER</td>\n",
       "      <td>NJ</td>\n",
       "      <td>08759</td>\n",
       "      <td>08759</td>\n",
       "    </tr>\n",
       "    <tr>\n",
       "      <th>720976</th>\n",
       "      <td>1938</td>\n",
       "      <td>&lt;class 'str'&gt;</td>\n",
       "      <td>IPSWICH</td>\n",
       "      <td>MA</td>\n",
       "      <td>01938</td>\n",
       "      <td>01938</td>\n",
       "    </tr>\n",
       "    <tr>\n",
       "      <th>720979</th>\n",
       "      <td>7421</td>\n",
       "      <td>&lt;class 'str'&gt;</td>\n",
       "      <td>HEWITT</td>\n",
       "      <td>NJ</td>\n",
       "      <td>07421</td>\n",
       "      <td>07421</td>\n",
       "    </tr>\n",
       "    <tr>\n",
       "      <th>721120</th>\n",
       "      <td>3444</td>\n",
       "      <td>&lt;class 'str'&gt;</td>\n",
       "      <td>DUBLIN</td>\n",
       "      <td>NH</td>\n",
       "      <td>03444</td>\n",
       "      <td>03444</td>\n",
       "    </tr>\n",
       "    <tr>\n",
       "      <th>721161</th>\n",
       "      <td>3301</td>\n",
       "      <td>&lt;class 'str'&gt;</td>\n",
       "      <td>CONCORD</td>\n",
       "      <td>NH</td>\n",
       "      <td>03301</td>\n",
       "      <td>03301</td>\n",
       "    </tr>\n",
       "    <tr>\n",
       "      <th>721177</th>\n",
       "      <td>8742</td>\n",
       "      <td>&lt;class 'str'&gt;</td>\n",
       "      <td>POINT PLEASANT BORO</td>\n",
       "      <td>NJ</td>\n",
       "      <td>08742</td>\n",
       "      <td>08742</td>\n",
       "    </tr>\n",
       "    <tr>\n",
       "      <th>721224</th>\n",
       "      <td>8540</td>\n",
       "      <td>&lt;class 'str'&gt;</td>\n",
       "      <td>PRINCETON</td>\n",
       "      <td>NJ</td>\n",
       "      <td>08540</td>\n",
       "      <td>08540</td>\n",
       "    </tr>\n",
       "    <tr>\n",
       "      <th>721274</th>\n",
       "      <td>3057</td>\n",
       "      <td>&lt;class 'str'&gt;</td>\n",
       "      <td>MONT VERNON</td>\n",
       "      <td>NH</td>\n",
       "      <td>03057</td>\n",
       "      <td>03057</td>\n",
       "    </tr>\n",
       "    <tr>\n",
       "      <th>721280</th>\n",
       "      <td>6473</td>\n",
       "      <td>&lt;class 'str'&gt;</td>\n",
       "      <td>NORTH HAVEN</td>\n",
       "      <td>CT</td>\n",
       "      <td>06473</td>\n",
       "      <td>06473</td>\n",
       "    </tr>\n",
       "    <tr>\n",
       "      <th>721313</th>\n",
       "      <td>6424</td>\n",
       "      <td>&lt;class 'str'&gt;</td>\n",
       "      <td>EAST HAMPTON</td>\n",
       "      <td>CT</td>\n",
       "      <td>06424</td>\n",
       "      <td>06424</td>\n",
       "    </tr>\n",
       "    <tr>\n",
       "      <th>721334</th>\n",
       "      <td>6117</td>\n",
       "      <td>&lt;class 'str'&gt;</td>\n",
       "      <td>WEST HARTFORD</td>\n",
       "      <td>CT</td>\n",
       "      <td>06117</td>\n",
       "      <td>06117</td>\n",
       "    </tr>\n",
       "    <tr>\n",
       "      <th>721347</th>\n",
       "      <td>2493</td>\n",
       "      <td>&lt;class 'str'&gt;</td>\n",
       "      <td>WESTON</td>\n",
       "      <td>MA</td>\n",
       "      <td>02493</td>\n",
       "      <td>02493</td>\n",
       "    </tr>\n",
       "    <tr>\n",
       "      <th>721362</th>\n",
       "      <td>2571</td>\n",
       "      <td>&lt;class 'str'&gt;</td>\n",
       "      <td>WAREHAM</td>\n",
       "      <td>MA</td>\n",
       "      <td>02571</td>\n",
       "      <td>02571</td>\n",
       "    </tr>\n",
       "    <tr>\n",
       "      <th>721402</th>\n",
       "      <td>1938</td>\n",
       "      <td>&lt;class 'str'&gt;</td>\n",
       "      <td>IPSWICH</td>\n",
       "      <td>MA</td>\n",
       "      <td>01938</td>\n",
       "      <td>01938</td>\n",
       "    </tr>\n",
       "    <tr>\n",
       "      <th>721403</th>\n",
       "      <td>1938</td>\n",
       "      <td>&lt;class 'str'&gt;</td>\n",
       "      <td>IPSWICH</td>\n",
       "      <td>MA</td>\n",
       "      <td>01938</td>\n",
       "      <td>01938</td>\n",
       "    </tr>\n",
       "    <tr>\n",
       "      <th>721404</th>\n",
       "      <td>1938</td>\n",
       "      <td>&lt;class 'str'&gt;</td>\n",
       "      <td>IPSWICH</td>\n",
       "      <td>MA</td>\n",
       "      <td>01938</td>\n",
       "      <td>01938</td>\n",
       "    </tr>\n",
       "  </tbody>\n",
       "</table>\n",
       "</div>"
      ],
      "text/plain": [
       "        ZIP_CODE zipcode_datatype                 CITY STATE ZIP_CODE_addo  \\\n",
       "544935  40244040    <class 'str'>         EAST BALDWIN    ME     040244040   \n",
       "720910      7040    <class 'str'>            MAPLEWOOD    NJ         07040   \n",
       "720917      1951    <class 'str'>              NEWBURY    MA         01951   \n",
       "720925      2568    <class 'str'>       VINEYARD HAVEN    MA         02568   \n",
       "720943      8759    <class 'str'>           MANCHESTER    NJ         08759   \n",
       "720976      1938    <class 'str'>              IPSWICH    MA         01938   \n",
       "720979      7421    <class 'str'>               HEWITT    NJ         07421   \n",
       "721120      3444    <class 'str'>               DUBLIN    NH         03444   \n",
       "721161      3301    <class 'str'>              CONCORD    NH         03301   \n",
       "721177      8742    <class 'str'>  POINT PLEASANT BORO    NJ         08742   \n",
       "721224      8540    <class 'str'>            PRINCETON    NJ         08540   \n",
       "721274      3057    <class 'str'>          MONT VERNON    NH         03057   \n",
       "721280      6473    <class 'str'>          NORTH HAVEN    CT         06473   \n",
       "721313      6424    <class 'str'>         EAST HAMPTON    CT         06424   \n",
       "721334      6117    <class 'str'>        WEST HARTFORD    CT         06117   \n",
       "721347      2493    <class 'str'>               WESTON    MA         02493   \n",
       "721362      2571    <class 'str'>              WAREHAM    MA         02571   \n",
       "721402      1938    <class 'str'>              IPSWICH    MA         01938   \n",
       "721403      1938    <class 'str'>              IPSWICH    MA         01938   \n",
       "721404      1938    <class 'str'>              IPSWICH    MA         01938   \n",
       "\n",
       "       zipcode5  \n",
       "544935    04024  \n",
       "720910    07040  \n",
       "720917    01951  \n",
       "720925    02568  \n",
       "720943    08759  \n",
       "720976    01938  \n",
       "720979    07421  \n",
       "721120    03444  \n",
       "721161    03301  \n",
       "721177    08742  \n",
       "721224    08540  \n",
       "721274    03057  \n",
       "721280    06473  \n",
       "721313    06424  \n",
       "721334    06117  \n",
       "721347    02493  \n",
       "721362    02571  \n",
       "721402    01938  \n",
       "721403    01938  \n",
       "721404    01938  "
      ]
     },
     "execution_count": 76,
     "metadata": {},
     "output_type": "execute_result"
    }
   ],
   "source": [
    "four_and_eight_digit_rows2 = df_tmp[df_tmp['ZIP_CODE'].astype(str).str.len().isin([4, 8])]\n",
    "\n",
    "# Display the rows\n",
    "four_and_eight_digit_rows2[['ZIP_CODE', 'zipcode_datatype', 'CITY', 'STATE','ZIP_CODE_addo', 'zipcode5']].head(20)"
   ]
  },
  {
   "cell_type": "code",
   "execution_count": 77,
   "metadata": {},
   "outputs": [
    {
     "data": {
      "text/plain": [
       "0"
      ]
     },
     "execution_count": 77,
     "metadata": {},
     "output_type": "execute_result"
    }
   ],
   "source": [
    "df_tmp.zipcode5.isna().sum()"
   ]
  },
  {
   "cell_type": "code",
   "execution_count": 78,
   "metadata": {},
   "outputs": [
    {
     "name": "stdout",
     "output_type": "stream",
     "text": [
      "Rows where 'zipcode5' is NaN:\n",
      "Empty DataFrame\n",
      "Columns: [zipcode_tf, zipcode5]\n",
      "Index: []\n"
     ]
    }
   ],
   "source": [
    "# Display rows where 'zipcode5' is NaN\n",
    "missing_zipcode_rows = df_tmp[df_tmp['zipcode5'].isna()]\n",
    "print(\"Rows where 'zipcode5' is NaN:\")\n",
    "print(missing_zipcode_rows[['zipcode_tf', 'zipcode5']].head())"
   ]
  },
  {
   "cell_type": "markdown",
   "metadata": {},
   "source": [
    "# Here, the length for all df_tmp['zipcode5'] values are 5. "
   ]
  },
  {
   "cell_type": "code",
   "execution_count": 79,
   "metadata": {},
   "outputs": [
    {
     "name": "stdout",
     "output_type": "stream",
     "text": [
      "Minimum length: 5\n",
      "Maximum length: 5\n"
     ]
    }
   ],
   "source": [
    "min_length = df_tmp['zipcode5'].astype(str).apply(len).min()\n",
    "max_length = df_tmp['zipcode5'].astype(str).apply(len).max()\n",
    "\n",
    "# Display the results\n",
    "print(f\"Minimum length: {min_length}\")\n",
    "print(f\"Maximum length: {max_length}\")"
   ]
  },
  {
   "cell_type": "code",
   "execution_count": 80,
   "metadata": {},
   "outputs": [
    {
     "data": {
      "text/plain": [
       "(6638986, 9)"
      ]
     },
     "execution_count": 80,
     "metadata": {},
     "output_type": "execute_result"
    }
   ],
   "source": [
    "df_tmp.shape"
   ]
  },
  {
   "cell_type": "code",
   "execution_count": 81,
   "metadata": {},
   "outputs": [
    {
     "data": {
      "text/plain": [
       "(6638986, 11)"
      ]
     },
     "execution_count": 81,
     "metadata": {},
     "output_type": "execute_result"
    }
   ],
   "source": [
    "df_us.shape"
   ]
  },
  {
   "cell_type": "code",
   "execution_count": 82,
   "metadata": {},
   "outputs": [
    {
     "data": {
      "text/plain": [
       "0"
      ]
     },
     "execution_count": 82,
     "metadata": {},
     "output_type": "execute_result"
    }
   ],
   "source": [
    "df_us['ZIP_CODE'].isna().sum()"
   ]
  },
  {
   "cell_type": "code",
   "execution_count": 83,
   "metadata": {},
   "outputs": [
    {
     "data": {
      "text/html": [
       "<div>\n",
       "<style scoped>\n",
       "    .dataframe tbody tr th:only-of-type {\n",
       "        vertical-align: middle;\n",
       "    }\n",
       "\n",
       "    .dataframe tbody tr th {\n",
       "        vertical-align: top;\n",
       "    }\n",
       "\n",
       "    .dataframe thead th {\n",
       "        text-align: right;\n",
       "    }\n",
       "</style>\n",
       "<table border=\"1\" class=\"dataframe\">\n",
       "  <thead>\n",
       "    <tr style=\"text-align: right;\">\n",
       "      <th></th>\n",
       "      <th>CMTE_ID</th>\n",
       "      <th>CITY</th>\n",
       "      <th>STATE</th>\n",
       "      <th>ZIP_CODE</th>\n",
       "      <th>EMPLOYER</th>\n",
       "      <th>OCCUPATION</th>\n",
       "      <th>TRANSACTION_DT</th>\n",
       "      <th>TRANSACTION_AMT</th>\n",
       "      <th>party_full</th>\n",
       "      <th>party_label</th>\n",
       "      <th>zipcode_datatype</th>\n",
       "    </tr>\n",
       "  </thead>\n",
       "  <tbody>\n",
       "    <tr>\n",
       "      <th>0</th>\n",
       "      <td>C00806752</td>\n",
       "      <td>LAS VEGAS</td>\n",
       "      <td>NV</td>\n",
       "      <td>89107</td>\n",
       "      <td>NaN</td>\n",
       "      <td>NaN</td>\n",
       "      <td>4052022</td>\n",
       "      <td>580</td>\n",
       "      <td>REPUBLICAN PARTY</td>\n",
       "      <td>0</td>\n",
       "      <td>&lt;class 'str'&gt;</td>\n",
       "    </tr>\n",
       "    <tr>\n",
       "      <th>1</th>\n",
       "      <td>C00806752</td>\n",
       "      <td>LAS VEGAS</td>\n",
       "      <td>NV</td>\n",
       "      <td>89148</td>\n",
       "      <td>NaN</td>\n",
       "      <td>NaN</td>\n",
       "      <td>4102022</td>\n",
       "      <td>350</td>\n",
       "      <td>REPUBLICAN PARTY</td>\n",
       "      <td>0</td>\n",
       "      <td>&lt;class 'str'&gt;</td>\n",
       "    </tr>\n",
       "    <tr>\n",
       "      <th>2</th>\n",
       "      <td>C00806752</td>\n",
       "      <td>LAS VEGAS</td>\n",
       "      <td>NV</td>\n",
       "      <td>89107</td>\n",
       "      <td>NONE</td>\n",
       "      <td>RETIRED</td>\n",
       "      <td>4112022</td>\n",
       "      <td>480</td>\n",
       "      <td>REPUBLICAN PARTY</td>\n",
       "      <td>0</td>\n",
       "      <td>&lt;class 'str'&gt;</td>\n",
       "    </tr>\n",
       "    <tr>\n",
       "      <th>3</th>\n",
       "      <td>C00806752</td>\n",
       "      <td>LAS VEGAS</td>\n",
       "      <td>NV</td>\n",
       "      <td>89110</td>\n",
       "      <td>NONE</td>\n",
       "      <td>RETIRED</td>\n",
       "      <td>6302022</td>\n",
       "      <td>7709</td>\n",
       "      <td>REPUBLICAN PARTY</td>\n",
       "      <td>0</td>\n",
       "      <td>&lt;class 'str'&gt;</td>\n",
       "    </tr>\n",
       "    <tr>\n",
       "      <th>4</th>\n",
       "      <td>C00806372</td>\n",
       "      <td>PROVIDENCE</td>\n",
       "      <td>RI</td>\n",
       "      <td>029033050</td>\n",
       "      <td>NOT EMPLOYED</td>\n",
       "      <td>NOT EMPLOYED</td>\n",
       "      <td>1112023</td>\n",
       "      <td>64427</td>\n",
       "      <td>DEMOCRATIC PARTY</td>\n",
       "      <td>1</td>\n",
       "      <td>&lt;class 'str'&gt;</td>\n",
       "    </tr>\n",
       "  </tbody>\n",
       "</table>\n",
       "</div>"
      ],
      "text/plain": [
       "     CMTE_ID        CITY STATE   ZIP_CODE      EMPLOYER    OCCUPATION  \\\n",
       "0  C00806752   LAS VEGAS    NV      89107           NaN           NaN   \n",
       "1  C00806752   LAS VEGAS    NV      89148           NaN           NaN   \n",
       "2  C00806752   LAS VEGAS    NV      89107          NONE       RETIRED   \n",
       "3  C00806752   LAS VEGAS    NV      89110          NONE       RETIRED   \n",
       "4  C00806372  PROVIDENCE    RI  029033050  NOT EMPLOYED  NOT EMPLOYED   \n",
       "\n",
       "   TRANSACTION_DT  TRANSACTION_AMT        party_full  party_label  \\\n",
       "0         4052022              580  REPUBLICAN PARTY            0   \n",
       "1         4102022              350  REPUBLICAN PARTY            0   \n",
       "2         4112022              480  REPUBLICAN PARTY            0   \n",
       "3         6302022             7709  REPUBLICAN PARTY            0   \n",
       "4         1112023            64427  DEMOCRATIC PARTY            1   \n",
       "\n",
       "  zipcode_datatype  \n",
       "0    <class 'str'>  \n",
       "1    <class 'str'>  \n",
       "2    <class 'str'>  \n",
       "3    <class 'str'>  \n",
       "4    <class 'str'>  "
      ]
     },
     "execution_count": 83,
     "metadata": {},
     "output_type": "execute_result"
    }
   ],
   "source": [
    "df_us.head()"
   ]
  },
  {
   "cell_type": "code",
   "execution_count": 84,
   "metadata": {},
   "outputs": [
    {
     "name": "stderr",
     "output_type": "stream",
     "text": [
      "C:\\Users\\tubos\\AppData\\Local\\Temp\\ipykernel_24764\\404374983.py:1: SettingWithCopyWarning: \n",
      "A value is trying to be set on a copy of a slice from a DataFrame.\n",
      "Try using .loc[row_indexer,col_indexer] = value instead\n",
      "\n",
      "See the caveats in the documentation: https://pandas.pydata.org/pandas-docs/stable/user_guide/indexing.html#returning-a-view-versus-a-copy\n",
      "  df_us['ZIPCODE5'] = df_tmp['zipcode5']\n"
     ]
    }
   ],
   "source": [
    "df_us['ZIPCODE5'] = df_tmp['zipcode5']"
   ]
  },
  {
   "cell_type": "code",
   "execution_count": 86,
   "metadata": {},
   "outputs": [
    {
     "data": {
      "text/plain": [
       "0"
      ]
     },
     "execution_count": 86,
     "metadata": {},
     "output_type": "execute_result"
    }
   ],
   "source": [
    "df_us['ZIPCODE5'].isna().sum()"
   ]
  },
  {
   "cell_type": "code",
   "execution_count": 87,
   "metadata": {},
   "outputs": [
    {
     "data": {
      "text/plain": [
       "dtype('O')"
      ]
     },
     "execution_count": 87,
     "metadata": {},
     "output_type": "execute_result"
    }
   ],
   "source": [
    "df_us['ZIPCODE5'].dtype"
   ]
  },
  {
   "cell_type": "code",
   "execution_count": 89,
   "metadata": {},
   "outputs": [
    {
     "name": "stdout",
     "output_type": "stream",
     "text": [
      "Minimum length: 5\n",
      "Maximum length: 5\n"
     ]
    }
   ],
   "source": [
    "min_length_df_us = df_us['ZIPCODE5'].astype(str).apply(len).min()\n",
    "max_length_df_us = df_us['ZIPCODE5'].astype(str).apply(len).max()\n",
    "\n",
    "# Display the results\n",
    "print(f\"Minimum length: {min_length_df_us}\")\n",
    "print(f\"Maximum length: {max_length_df_us}\")"
   ]
  },
  {
   "cell_type": "markdown",
   "metadata": {},
   "source": [
    "# Merge house price column to the main df based on ZIPCODE5"
   ]
  },
  {
   "cell_type": "code",
   "execution_count": 90,
   "metadata": {},
   "outputs": [
    {
     "data": {
      "text/html": [
       "<div>\n",
       "<style scoped>\n",
       "    .dataframe tbody tr th:only-of-type {\n",
       "        vertical-align: middle;\n",
       "    }\n",
       "\n",
       "    .dataframe tbody tr th {\n",
       "        vertical-align: top;\n",
       "    }\n",
       "\n",
       "    .dataframe thead th {\n",
       "        text-align: right;\n",
       "    }\n",
       "</style>\n",
       "<table border=\"1\" class=\"dataframe\">\n",
       "  <thead>\n",
       "    <tr style=\"text-align: right;\">\n",
       "      <th></th>\n",
       "      <th>RegionID</th>\n",
       "      <th>SizeRank</th>\n",
       "      <th>RegionName</th>\n",
       "      <th>RegionType</th>\n",
       "      <th>StateName</th>\n",
       "      <th>State</th>\n",
       "      <th>City</th>\n",
       "      <th>Metro</th>\n",
       "      <th>CountyName</th>\n",
       "      <th>2000-01-31</th>\n",
       "      <th>...</th>\n",
       "      <th>2023-04-30</th>\n",
       "      <th>2023-05-31</th>\n",
       "      <th>2023-06-30</th>\n",
       "      <th>2023-07-31</th>\n",
       "      <th>2023-08-31</th>\n",
       "      <th>2023-09-30</th>\n",
       "      <th>2023-10-31</th>\n",
       "      <th>2023_average</th>\n",
       "      <th>RegionName_add0</th>\n",
       "      <th>zipcode_datatype</th>\n",
       "    </tr>\n",
       "  </thead>\n",
       "  <tbody>\n",
       "    <tr>\n",
       "      <th>0</th>\n",
       "      <td>91982</td>\n",
       "      <td>1</td>\n",
       "      <td>77494</td>\n",
       "      <td>zip</td>\n",
       "      <td>TX</td>\n",
       "      <td>TX</td>\n",
       "      <td>Katy</td>\n",
       "      <td>Houston-The Woodlands-Sugar Land, TX</td>\n",
       "      <td>Fort Bend County</td>\n",
       "      <td>209048.790580</td>\n",
       "      <td>...</td>\n",
       "      <td>470268.040235</td>\n",
       "      <td>472257.943107</td>\n",
       "      <td>475361.948918</td>\n",
       "      <td>478138.444450</td>\n",
       "      <td>480601.210512</td>\n",
       "      <td>482411.387838</td>\n",
       "      <td>483644.709033</td>\n",
       "      <td>475322.866682</td>\n",
       "      <td>77494</td>\n",
       "      <td>&lt;class 'int'&gt;</td>\n",
       "    </tr>\n",
       "    <tr>\n",
       "      <th>1</th>\n",
       "      <td>61148</td>\n",
       "      <td>2</td>\n",
       "      <td>8701</td>\n",
       "      <td>zip</td>\n",
       "      <td>NJ</td>\n",
       "      <td>NJ</td>\n",
       "      <td>Lakewood</td>\n",
       "      <td>New York-Newark-Jersey City, NY-NJ-PA</td>\n",
       "      <td>Ocean County</td>\n",
       "      <td>137886.463799</td>\n",
       "      <td>...</td>\n",
       "      <td>537015.420626</td>\n",
       "      <td>542395.542666</td>\n",
       "      <td>548357.302256</td>\n",
       "      <td>554489.247144</td>\n",
       "      <td>560407.160599</td>\n",
       "      <td>566757.356522</td>\n",
       "      <td>574127.832246</td>\n",
       "      <td>547407.096368</td>\n",
       "      <td>08701</td>\n",
       "      <td>&lt;class 'int'&gt;</td>\n",
       "    </tr>\n",
       "    <tr>\n",
       "      <th>2</th>\n",
       "      <td>91940</td>\n",
       "      <td>3</td>\n",
       "      <td>77449</td>\n",
       "      <td>zip</td>\n",
       "      <td>TX</td>\n",
       "      <td>TX</td>\n",
       "      <td>Katy</td>\n",
       "      <td>Houston-The Woodlands-Sugar Land, TX</td>\n",
       "      <td>Harris County</td>\n",
       "      <td>102129.420943</td>\n",
       "      <td>...</td>\n",
       "      <td>272863.082137</td>\n",
       "      <td>272388.856446</td>\n",
       "      <td>272763.356816</td>\n",
       "      <td>273515.337456</td>\n",
       "      <td>274401.485842</td>\n",
       "      <td>274929.000487</td>\n",
       "      <td>274918.911121</td>\n",
       "      <td>274389.970588</td>\n",
       "      <td>77449</td>\n",
       "      <td>&lt;class 'int'&gt;</td>\n",
       "    </tr>\n",
       "    <tr>\n",
       "      <th>3</th>\n",
       "      <td>62080</td>\n",
       "      <td>4</td>\n",
       "      <td>11368</td>\n",
       "      <td>zip</td>\n",
       "      <td>NY</td>\n",
       "      <td>NY</td>\n",
       "      <td>New York</td>\n",
       "      <td>New York-Newark-Jersey City, NY-NJ-PA</td>\n",
       "      <td>Queens County</td>\n",
       "      <td>150957.229387</td>\n",
       "      <td>...</td>\n",
       "      <td>484268.341352</td>\n",
       "      <td>477023.811433</td>\n",
       "      <td>471521.583059</td>\n",
       "      <td>469663.049583</td>\n",
       "      <td>469656.984977</td>\n",
       "      <td>469088.685776</td>\n",
       "      <td>467022.345948</td>\n",
       "      <td>480122.007417</td>\n",
       "      <td>11368</td>\n",
       "      <td>&lt;class 'int'&gt;</td>\n",
       "    </tr>\n",
       "    <tr>\n",
       "      <th>4</th>\n",
       "      <td>91733</td>\n",
       "      <td>5</td>\n",
       "      <td>77084</td>\n",
       "      <td>zip</td>\n",
       "      <td>TX</td>\n",
       "      <td>TX</td>\n",
       "      <td>Houston</td>\n",
       "      <td>Houston-The Woodlands-Sugar Land, TX</td>\n",
       "      <td>Harris County</td>\n",
       "      <td>100930.403886</td>\n",
       "      <td>...</td>\n",
       "      <td>266697.212613</td>\n",
       "      <td>266556.111617</td>\n",
       "      <td>267147.680536</td>\n",
       "      <td>267982.228262</td>\n",
       "      <td>268846.207177</td>\n",
       "      <td>269269.787186</td>\n",
       "      <td>269260.239977</td>\n",
       "      <td>268240.291946</td>\n",
       "      <td>77084</td>\n",
       "      <td>&lt;class 'int'&gt;</td>\n",
       "    </tr>\n",
       "  </tbody>\n",
       "</table>\n",
       "<p>5 rows × 298 columns</p>\n",
       "</div>"
      ],
      "text/plain": [
       "   RegionID  SizeRank  RegionName RegionType StateName State      City  \\\n",
       "0     91982         1       77494        zip        TX    TX      Katy   \n",
       "1     61148         2        8701        zip        NJ    NJ  Lakewood   \n",
       "2     91940         3       77449        zip        TX    TX      Katy   \n",
       "3     62080         4       11368        zip        NY    NY  New York   \n",
       "4     91733         5       77084        zip        TX    TX   Houston   \n",
       "\n",
       "                                   Metro        CountyName     2000-01-31  \\\n",
       "0   Houston-The Woodlands-Sugar Land, TX  Fort Bend County  209048.790580   \n",
       "1  New York-Newark-Jersey City, NY-NJ-PA      Ocean County  137886.463799   \n",
       "2   Houston-The Woodlands-Sugar Land, TX     Harris County  102129.420943   \n",
       "3  New York-Newark-Jersey City, NY-NJ-PA     Queens County  150957.229387   \n",
       "4   Houston-The Woodlands-Sugar Land, TX     Harris County  100930.403886   \n",
       "\n",
       "   ...     2023-04-30     2023-05-31     2023-06-30     2023-07-31  \\\n",
       "0  ...  470268.040235  472257.943107  475361.948918  478138.444450   \n",
       "1  ...  537015.420626  542395.542666  548357.302256  554489.247144   \n",
       "2  ...  272863.082137  272388.856446  272763.356816  273515.337456   \n",
       "3  ...  484268.341352  477023.811433  471521.583059  469663.049583   \n",
       "4  ...  266697.212613  266556.111617  267147.680536  267982.228262   \n",
       "\n",
       "      2023-08-31     2023-09-30     2023-10-31   2023_average  \\\n",
       "0  480601.210512  482411.387838  483644.709033  475322.866682   \n",
       "1  560407.160599  566757.356522  574127.832246  547407.096368   \n",
       "2  274401.485842  274929.000487  274918.911121  274389.970588   \n",
       "3  469656.984977  469088.685776  467022.345948  480122.007417   \n",
       "4  268846.207177  269269.787186  269260.239977  268240.291946   \n",
       "\n",
       "   RegionName_add0  zipcode_datatype  \n",
       "0            77494     <class 'int'>  \n",
       "1            08701     <class 'int'>  \n",
       "2            77449     <class 'int'>  \n",
       "3            11368     <class 'int'>  \n",
       "4            77084     <class 'int'>  \n",
       "\n",
       "[5 rows x 298 columns]"
      ]
     },
     "execution_count": 90,
     "metadata": {},
     "output_type": "execute_result"
    }
   ],
   "source": [
    "dfzipcodehouse.head()"
   ]
  },
  {
   "cell_type": "code",
   "execution_count": 91,
   "metadata": {},
   "outputs": [],
   "source": [
    "# 'RegionName' contains zipcodes. 'RegionName_add0' contains treated zipcodes\n",
    "\n",
    "dfzipcodehouse['ZIPCODE5'] = dfzipcodehouse['RegionName_add0']"
   ]
  },
  {
   "cell_type": "code",
   "execution_count": 92,
   "metadata": {},
   "outputs": [
    {
     "name": "stdout",
     "output_type": "stream",
     "text": [
      "Minimum length: 5\n",
      "Maximum length: 5\n"
     ]
    }
   ],
   "source": [
    "min_length_dfzipcodehouses = dfzipcodehouse['ZIPCODE5'].astype(str).apply(len).min()\n",
    "max_length_dfzipcodehouse = dfzipcodehouse['ZIPCODE5'].astype(str).apply(len).max()\n",
    "\n",
    "# Display the results\n",
    "print(f\"Minimum length: {min_length_dfzipcodehouses}\")\n",
    "print(f\"Maximum length: {max_length_dfzipcodehouse}\")"
   ]
  },
  {
   "cell_type": "code",
   "execution_count": 93,
   "metadata": {},
   "outputs": [
    {
     "data": {
      "text/html": [
       "<div>\n",
       "<style scoped>\n",
       "    .dataframe tbody tr th:only-of-type {\n",
       "        vertical-align: middle;\n",
       "    }\n",
       "\n",
       "    .dataframe tbody tr th {\n",
       "        vertical-align: top;\n",
       "    }\n",
       "\n",
       "    .dataframe thead th {\n",
       "        text-align: right;\n",
       "    }\n",
       "</style>\n",
       "<table border=\"1\" class=\"dataframe\">\n",
       "  <thead>\n",
       "    <tr style=\"text-align: right;\">\n",
       "      <th></th>\n",
       "      <th>RegionID</th>\n",
       "      <th>SizeRank</th>\n",
       "      <th>RegionName</th>\n",
       "      <th>RegionType</th>\n",
       "      <th>StateName</th>\n",
       "      <th>State</th>\n",
       "      <th>City</th>\n",
       "      <th>Metro</th>\n",
       "      <th>CountyName</th>\n",
       "      <th>2000-01-31</th>\n",
       "      <th>...</th>\n",
       "      <th>2023-05-31</th>\n",
       "      <th>2023-06-30</th>\n",
       "      <th>2023-07-31</th>\n",
       "      <th>2023-08-31</th>\n",
       "      <th>2023-09-30</th>\n",
       "      <th>2023-10-31</th>\n",
       "      <th>2023_average</th>\n",
       "      <th>RegionName_add0</th>\n",
       "      <th>zipcode_datatype</th>\n",
       "      <th>ZIPCODE5</th>\n",
       "    </tr>\n",
       "  </thead>\n",
       "  <tbody>\n",
       "    <tr>\n",
       "      <th>0</th>\n",
       "      <td>91982</td>\n",
       "      <td>1</td>\n",
       "      <td>77494</td>\n",
       "      <td>zip</td>\n",
       "      <td>TX</td>\n",
       "      <td>TX</td>\n",
       "      <td>Katy</td>\n",
       "      <td>Houston-The Woodlands-Sugar Land, TX</td>\n",
       "      <td>Fort Bend County</td>\n",
       "      <td>209048.790580</td>\n",
       "      <td>...</td>\n",
       "      <td>472257.943107</td>\n",
       "      <td>475361.948918</td>\n",
       "      <td>478138.444450</td>\n",
       "      <td>480601.210512</td>\n",
       "      <td>482411.387838</td>\n",
       "      <td>483644.709033</td>\n",
       "      <td>475322.866682</td>\n",
       "      <td>77494</td>\n",
       "      <td>&lt;class 'int'&gt;</td>\n",
       "      <td>77494</td>\n",
       "    </tr>\n",
       "    <tr>\n",
       "      <th>1</th>\n",
       "      <td>61148</td>\n",
       "      <td>2</td>\n",
       "      <td>8701</td>\n",
       "      <td>zip</td>\n",
       "      <td>NJ</td>\n",
       "      <td>NJ</td>\n",
       "      <td>Lakewood</td>\n",
       "      <td>New York-Newark-Jersey City, NY-NJ-PA</td>\n",
       "      <td>Ocean County</td>\n",
       "      <td>137886.463799</td>\n",
       "      <td>...</td>\n",
       "      <td>542395.542666</td>\n",
       "      <td>548357.302256</td>\n",
       "      <td>554489.247144</td>\n",
       "      <td>560407.160599</td>\n",
       "      <td>566757.356522</td>\n",
       "      <td>574127.832246</td>\n",
       "      <td>547407.096368</td>\n",
       "      <td>08701</td>\n",
       "      <td>&lt;class 'int'&gt;</td>\n",
       "      <td>08701</td>\n",
       "    </tr>\n",
       "    <tr>\n",
       "      <th>2</th>\n",
       "      <td>91940</td>\n",
       "      <td>3</td>\n",
       "      <td>77449</td>\n",
       "      <td>zip</td>\n",
       "      <td>TX</td>\n",
       "      <td>TX</td>\n",
       "      <td>Katy</td>\n",
       "      <td>Houston-The Woodlands-Sugar Land, TX</td>\n",
       "      <td>Harris County</td>\n",
       "      <td>102129.420943</td>\n",
       "      <td>...</td>\n",
       "      <td>272388.856446</td>\n",
       "      <td>272763.356816</td>\n",
       "      <td>273515.337456</td>\n",
       "      <td>274401.485842</td>\n",
       "      <td>274929.000487</td>\n",
       "      <td>274918.911121</td>\n",
       "      <td>274389.970588</td>\n",
       "      <td>77449</td>\n",
       "      <td>&lt;class 'int'&gt;</td>\n",
       "      <td>77449</td>\n",
       "    </tr>\n",
       "    <tr>\n",
       "      <th>3</th>\n",
       "      <td>62080</td>\n",
       "      <td>4</td>\n",
       "      <td>11368</td>\n",
       "      <td>zip</td>\n",
       "      <td>NY</td>\n",
       "      <td>NY</td>\n",
       "      <td>New York</td>\n",
       "      <td>New York-Newark-Jersey City, NY-NJ-PA</td>\n",
       "      <td>Queens County</td>\n",
       "      <td>150957.229387</td>\n",
       "      <td>...</td>\n",
       "      <td>477023.811433</td>\n",
       "      <td>471521.583059</td>\n",
       "      <td>469663.049583</td>\n",
       "      <td>469656.984977</td>\n",
       "      <td>469088.685776</td>\n",
       "      <td>467022.345948</td>\n",
       "      <td>480122.007417</td>\n",
       "      <td>11368</td>\n",
       "      <td>&lt;class 'int'&gt;</td>\n",
       "      <td>11368</td>\n",
       "    </tr>\n",
       "    <tr>\n",
       "      <th>4</th>\n",
       "      <td>91733</td>\n",
       "      <td>5</td>\n",
       "      <td>77084</td>\n",
       "      <td>zip</td>\n",
       "      <td>TX</td>\n",
       "      <td>TX</td>\n",
       "      <td>Houston</td>\n",
       "      <td>Houston-The Woodlands-Sugar Land, TX</td>\n",
       "      <td>Harris County</td>\n",
       "      <td>100930.403886</td>\n",
       "      <td>...</td>\n",
       "      <td>266556.111617</td>\n",
       "      <td>267147.680536</td>\n",
       "      <td>267982.228262</td>\n",
       "      <td>268846.207177</td>\n",
       "      <td>269269.787186</td>\n",
       "      <td>269260.239977</td>\n",
       "      <td>268240.291946</td>\n",
       "      <td>77084</td>\n",
       "      <td>&lt;class 'int'&gt;</td>\n",
       "      <td>77084</td>\n",
       "    </tr>\n",
       "  </tbody>\n",
       "</table>\n",
       "<p>5 rows × 299 columns</p>\n",
       "</div>"
      ],
      "text/plain": [
       "   RegionID  SizeRank  RegionName RegionType StateName State      City  \\\n",
       "0     91982         1       77494        zip        TX    TX      Katy   \n",
       "1     61148         2        8701        zip        NJ    NJ  Lakewood   \n",
       "2     91940         3       77449        zip        TX    TX      Katy   \n",
       "3     62080         4       11368        zip        NY    NY  New York   \n",
       "4     91733         5       77084        zip        TX    TX   Houston   \n",
       "\n",
       "                                   Metro        CountyName     2000-01-31  \\\n",
       "0   Houston-The Woodlands-Sugar Land, TX  Fort Bend County  209048.790580   \n",
       "1  New York-Newark-Jersey City, NY-NJ-PA      Ocean County  137886.463799   \n",
       "2   Houston-The Woodlands-Sugar Land, TX     Harris County  102129.420943   \n",
       "3  New York-Newark-Jersey City, NY-NJ-PA     Queens County  150957.229387   \n",
       "4   Houston-The Woodlands-Sugar Land, TX     Harris County  100930.403886   \n",
       "\n",
       "   ...     2023-05-31     2023-06-30     2023-07-31     2023-08-31  \\\n",
       "0  ...  472257.943107  475361.948918  478138.444450  480601.210512   \n",
       "1  ...  542395.542666  548357.302256  554489.247144  560407.160599   \n",
       "2  ...  272388.856446  272763.356816  273515.337456  274401.485842   \n",
       "3  ...  477023.811433  471521.583059  469663.049583  469656.984977   \n",
       "4  ...  266556.111617  267147.680536  267982.228262  268846.207177   \n",
       "\n",
       "      2023-09-30     2023-10-31   2023_average  RegionName_add0  \\\n",
       "0  482411.387838  483644.709033  475322.866682            77494   \n",
       "1  566757.356522  574127.832246  547407.096368            08701   \n",
       "2  274929.000487  274918.911121  274389.970588            77449   \n",
       "3  469088.685776  467022.345948  480122.007417            11368   \n",
       "4  269269.787186  269260.239977  268240.291946            77084   \n",
       "\n",
       "   zipcode_datatype  ZIPCODE5  \n",
       "0     <class 'int'>     77494  \n",
       "1     <class 'int'>     08701  \n",
       "2     <class 'int'>     77449  \n",
       "3     <class 'int'>     11368  \n",
       "4     <class 'int'>     77084  \n",
       "\n",
       "[5 rows x 299 columns]"
      ]
     },
     "execution_count": 93,
     "metadata": {},
     "output_type": "execute_result"
    }
   ],
   "source": [
    "dfzipcodehouse.head()"
   ]
  },
  {
   "cell_type": "code",
   "execution_count": 94,
   "metadata": {},
   "outputs": [
    {
     "name": "stderr",
     "output_type": "stream",
     "text": [
      "C:\\Users\\tubos\\AppData\\Local\\Temp\\ipykernel_24764\\2319003913.py:4: SettingWithCopyWarning: \n",
      "A value is trying to be set on a copy of a slice from a DataFrame.\n",
      "Try using .loc[row_indexer,col_indexer] = value instead\n",
      "\n",
      "See the caveats in the documentation: https://pandas.pydata.org/pandas-docs/stable/user_guide/indexing.html#returning-a-view-versus-a-copy\n",
      "  df_us['ZIPCODE5'] = df_us['ZIPCODE5'].astype(str)\n"
     ]
    }
   ],
   "source": [
    "# Merge based on 'df_us.ZIPCODE5' and 'dfzipcodehouse['ZIPCODE5']'\n",
    "\n",
    "# Convert 'ZIPCODE5' column to the same dtype before merging\n",
    "df_us['ZIPCODE5'] = df_us['ZIPCODE5'].astype(str)\n",
    "dfzipcodehouse['ZIPCODE5'] = dfzipcodehouse['ZIPCODE5'].astype(str)\n",
    "\n",
    "df_us_houseprice= pd.merge(df_us, dfzipcodehouse[['ZIPCODE5', '2023_average']], on='ZIPCODE5', how='left')"
   ]
  },
  {
   "cell_type": "code",
   "execution_count": 95,
   "metadata": {},
   "outputs": [
    {
     "name": "stdout",
     "output_type": "stream",
     "text": [
      "NA value counts in df_us['ZIPCODE5']:\n",
      "0\n"
     ]
    }
   ],
   "source": [
    "# Check NA value counts in df_us['ZIPCODE5'] after convert this column to str\n",
    "print(\"NA value counts in df_us['ZIPCODE5']:\")\n",
    "print(df_us['ZIPCODE5'].isna().sum())"
   ]
  },
  {
   "cell_type": "code",
   "execution_count": 96,
   "metadata": {},
   "outputs": [
    {
     "data": {
      "text/html": [
       "<div>\n",
       "<style scoped>\n",
       "    .dataframe tbody tr th:only-of-type {\n",
       "        vertical-align: middle;\n",
       "    }\n",
       "\n",
       "    .dataframe tbody tr th {\n",
       "        vertical-align: top;\n",
       "    }\n",
       "\n",
       "    .dataframe thead th {\n",
       "        text-align: right;\n",
       "    }\n",
       "</style>\n",
       "<table border=\"1\" class=\"dataframe\">\n",
       "  <thead>\n",
       "    <tr style=\"text-align: right;\">\n",
       "      <th></th>\n",
       "      <th>CMTE_ID</th>\n",
       "      <th>CITY</th>\n",
       "      <th>STATE</th>\n",
       "      <th>ZIP_CODE</th>\n",
       "      <th>EMPLOYER</th>\n",
       "      <th>OCCUPATION</th>\n",
       "      <th>TRANSACTION_DT</th>\n",
       "      <th>TRANSACTION_AMT</th>\n",
       "      <th>party_full</th>\n",
       "      <th>party_label</th>\n",
       "      <th>zipcode_datatype</th>\n",
       "      <th>ZIPCODE5</th>\n",
       "      <th>2023_average</th>\n",
       "    </tr>\n",
       "  </thead>\n",
       "  <tbody>\n",
       "    <tr>\n",
       "      <th>0</th>\n",
       "      <td>C00806752</td>\n",
       "      <td>LAS VEGAS</td>\n",
       "      <td>NV</td>\n",
       "      <td>89107</td>\n",
       "      <td>NaN</td>\n",
       "      <td>NaN</td>\n",
       "      <td>4052022</td>\n",
       "      <td>580</td>\n",
       "      <td>REPUBLICAN PARTY</td>\n",
       "      <td>0</td>\n",
       "      <td>&lt;class 'str'&gt;</td>\n",
       "      <td>89107</td>\n",
       "      <td>3.205190e+05</td>\n",
       "    </tr>\n",
       "    <tr>\n",
       "      <th>1</th>\n",
       "      <td>C00806752</td>\n",
       "      <td>LAS VEGAS</td>\n",
       "      <td>NV</td>\n",
       "      <td>89148</td>\n",
       "      <td>NaN</td>\n",
       "      <td>NaN</td>\n",
       "      <td>4102022</td>\n",
       "      <td>350</td>\n",
       "      <td>REPUBLICAN PARTY</td>\n",
       "      <td>0</td>\n",
       "      <td>&lt;class 'str'&gt;</td>\n",
       "      <td>89148</td>\n",
       "      <td>4.490541e+05</td>\n",
       "    </tr>\n",
       "    <tr>\n",
       "      <th>2</th>\n",
       "      <td>C00806752</td>\n",
       "      <td>LAS VEGAS</td>\n",
       "      <td>NV</td>\n",
       "      <td>89107</td>\n",
       "      <td>NONE</td>\n",
       "      <td>RETIRED</td>\n",
       "      <td>4112022</td>\n",
       "      <td>480</td>\n",
       "      <td>REPUBLICAN PARTY</td>\n",
       "      <td>0</td>\n",
       "      <td>&lt;class 'str'&gt;</td>\n",
       "      <td>89107</td>\n",
       "      <td>3.205190e+05</td>\n",
       "    </tr>\n",
       "    <tr>\n",
       "      <th>3</th>\n",
       "      <td>C00806752</td>\n",
       "      <td>LAS VEGAS</td>\n",
       "      <td>NV</td>\n",
       "      <td>89110</td>\n",
       "      <td>NONE</td>\n",
       "      <td>RETIRED</td>\n",
       "      <td>6302022</td>\n",
       "      <td>7709</td>\n",
       "      <td>REPUBLICAN PARTY</td>\n",
       "      <td>0</td>\n",
       "      <td>&lt;class 'str'&gt;</td>\n",
       "      <td>89110</td>\n",
       "      <td>3.266159e+05</td>\n",
       "    </tr>\n",
       "    <tr>\n",
       "      <th>4</th>\n",
       "      <td>C00806372</td>\n",
       "      <td>PROVIDENCE</td>\n",
       "      <td>RI</td>\n",
       "      <td>029033050</td>\n",
       "      <td>NOT EMPLOYED</td>\n",
       "      <td>NOT EMPLOYED</td>\n",
       "      <td>1112023</td>\n",
       "      <td>64427</td>\n",
       "      <td>DEMOCRATIC PARTY</td>\n",
       "      <td>1</td>\n",
       "      <td>&lt;class 'str'&gt;</td>\n",
       "      <td>02903</td>\n",
       "      <td>3.765648e+05</td>\n",
       "    </tr>\n",
       "    <tr>\n",
       "      <th>5</th>\n",
       "      <td>C00796540</td>\n",
       "      <td>BROOKLYN</td>\n",
       "      <td>NY</td>\n",
       "      <td>112012170</td>\n",
       "      <td>NaN</td>\n",
       "      <td>NaN</td>\n",
       "      <td>1102023</td>\n",
       "      <td>800</td>\n",
       "      <td>DEMOCRATIC PARTY</td>\n",
       "      <td>1</td>\n",
       "      <td>&lt;class 'str'&gt;</td>\n",
       "      <td>11201</td>\n",
       "      <td>1.241503e+06</td>\n",
       "    </tr>\n",
       "    <tr>\n",
       "      <th>6</th>\n",
       "      <td>C00796540</td>\n",
       "      <td>BROOKLYN</td>\n",
       "      <td>NY</td>\n",
       "      <td>112012129</td>\n",
       "      <td>NaN</td>\n",
       "      <td>NaN</td>\n",
       "      <td>1102023</td>\n",
       "      <td>800</td>\n",
       "      <td>DEMOCRATIC PARTY</td>\n",
       "      <td>1</td>\n",
       "      <td>&lt;class 'str'&gt;</td>\n",
       "      <td>11201</td>\n",
       "      <td>1.241503e+06</td>\n",
       "    </tr>\n",
       "    <tr>\n",
       "      <th>7</th>\n",
       "      <td>C00796540</td>\n",
       "      <td>TAKOMA PARK</td>\n",
       "      <td>MD</td>\n",
       "      <td>209124128</td>\n",
       "      <td>NaN</td>\n",
       "      <td>NaN</td>\n",
       "      <td>1052023</td>\n",
       "      <td>1000</td>\n",
       "      <td>DEMOCRATIC PARTY</td>\n",
       "      <td>1</td>\n",
       "      <td>&lt;class 'str'&gt;</td>\n",
       "      <td>20912</td>\n",
       "      <td>6.632729e+05</td>\n",
       "    </tr>\n",
       "    <tr>\n",
       "      <th>8</th>\n",
       "      <td>C00796540</td>\n",
       "      <td>NEW YORK</td>\n",
       "      <td>NY</td>\n",
       "      <td>100280139</td>\n",
       "      <td>NaN</td>\n",
       "      <td>NaN</td>\n",
       "      <td>1052023</td>\n",
       "      <td>1000</td>\n",
       "      <td>DEMOCRATIC PARTY</td>\n",
       "      <td>1</td>\n",
       "      <td>&lt;class 'str'&gt;</td>\n",
       "      <td>10028</td>\n",
       "      <td>1.339272e+06</td>\n",
       "    </tr>\n",
       "    <tr>\n",
       "      <th>9</th>\n",
       "      <td>C00765560</td>\n",
       "      <td>DARNESTOWN</td>\n",
       "      <td>MD</td>\n",
       "      <td>20874</td>\n",
       "      <td>NaN</td>\n",
       "      <td>NaN</td>\n",
       "      <td>10192022</td>\n",
       "      <td>2800</td>\n",
       "      <td>DEMOCRATIC PARTY</td>\n",
       "      <td>1</td>\n",
       "      <td>&lt;class 'str'&gt;</td>\n",
       "      <td>20874</td>\n",
       "      <td>3.985539e+05</td>\n",
       "    </tr>\n",
       "  </tbody>\n",
       "</table>\n",
       "</div>"
      ],
      "text/plain": [
       "     CMTE_ID         CITY STATE   ZIP_CODE      EMPLOYER    OCCUPATION  \\\n",
       "0  C00806752    LAS VEGAS    NV      89107           NaN           NaN   \n",
       "1  C00806752    LAS VEGAS    NV      89148           NaN           NaN   \n",
       "2  C00806752    LAS VEGAS    NV      89107          NONE       RETIRED   \n",
       "3  C00806752    LAS VEGAS    NV      89110          NONE       RETIRED   \n",
       "4  C00806372   PROVIDENCE    RI  029033050  NOT EMPLOYED  NOT EMPLOYED   \n",
       "5  C00796540     BROOKLYN    NY  112012170           NaN           NaN   \n",
       "6  C00796540     BROOKLYN    NY  112012129           NaN           NaN   \n",
       "7  C00796540  TAKOMA PARK    MD  209124128           NaN           NaN   \n",
       "8  C00796540     NEW YORK    NY  100280139           NaN           NaN   \n",
       "9  C00765560   DARNESTOWN    MD      20874           NaN           NaN   \n",
       "\n",
       "   TRANSACTION_DT  TRANSACTION_AMT        party_full  party_label  \\\n",
       "0         4052022              580  REPUBLICAN PARTY            0   \n",
       "1         4102022              350  REPUBLICAN PARTY            0   \n",
       "2         4112022              480  REPUBLICAN PARTY            0   \n",
       "3         6302022             7709  REPUBLICAN PARTY            0   \n",
       "4         1112023            64427  DEMOCRATIC PARTY            1   \n",
       "5         1102023              800  DEMOCRATIC PARTY            1   \n",
       "6         1102023              800  DEMOCRATIC PARTY            1   \n",
       "7         1052023             1000  DEMOCRATIC PARTY            1   \n",
       "8         1052023             1000  DEMOCRATIC PARTY            1   \n",
       "9        10192022             2800  DEMOCRATIC PARTY            1   \n",
       "\n",
       "  zipcode_datatype ZIPCODE5  2023_average  \n",
       "0    <class 'str'>    89107  3.205190e+05  \n",
       "1    <class 'str'>    89148  4.490541e+05  \n",
       "2    <class 'str'>    89107  3.205190e+05  \n",
       "3    <class 'str'>    89110  3.266159e+05  \n",
       "4    <class 'str'>    02903  3.765648e+05  \n",
       "5    <class 'str'>    11201  1.241503e+06  \n",
       "6    <class 'str'>    11201  1.241503e+06  \n",
       "7    <class 'str'>    20912  6.632729e+05  \n",
       "8    <class 'str'>    10028  1.339272e+06  \n",
       "9    <class 'str'>    20874  3.985539e+05  "
      ]
     },
     "execution_count": 96,
     "metadata": {},
     "output_type": "execute_result"
    }
   ],
   "source": [
    "df_us_houseprice.head(10)"
   ]
  },
  {
   "cell_type": "code",
   "execution_count": 97,
   "metadata": {},
   "outputs": [
    {
     "name": "stdout",
     "output_type": "stream",
     "text": [
      "<class 'pandas.core.frame.DataFrame'>\n",
      "Int64Index: 6638986 entries, 0 to 6638985\n",
      "Data columns (total 13 columns):\n",
      " #   Column            Dtype  \n",
      "---  ------            -----  \n",
      " 0   CMTE_ID           object \n",
      " 1   CITY              object \n",
      " 2   STATE             object \n",
      " 3   ZIP_CODE          object \n",
      " 4   EMPLOYER          object \n",
      " 5   OCCUPATION        object \n",
      " 6   TRANSACTION_DT    int64  \n",
      " 7   TRANSACTION_AMT   int64  \n",
      " 8   party_full        object \n",
      " 9   party_label       int64  \n",
      " 10  zipcode_datatype  object \n",
      " 11  ZIPCODE5          object \n",
      " 12  2023_average      float64\n",
      "dtypes: float64(1), int64(3), object(9)\n",
      "memory usage: 709.1+ MB\n"
     ]
    }
   ],
   "source": [
    "df_us_houseprice.info()"
   ]
  },
  {
   "cell_type": "code",
   "execution_count": 98,
   "metadata": {},
   "outputs": [
    {
     "data": {
      "text/plain": [
       "6487883"
      ]
     },
     "execution_count": 98,
     "metadata": {},
     "output_type": "execute_result"
    }
   ],
   "source": [
    "df_us_houseprice['2023_average'].count()"
   ]
  },
  {
   "cell_type": "code",
   "execution_count": 99,
   "metadata": {},
   "outputs": [
    {
     "data": {
      "text/plain": [
       "151103"
      ]
     },
     "execution_count": 99,
     "metadata": {},
     "output_type": "execute_result"
    }
   ],
   "source": [
    "df_us_houseprice['2023_average'].isnull().sum()"
   ]
  },
  {
   "cell_type": "code",
   "execution_count": 100,
   "metadata": {},
   "outputs": [
    {
     "data": {
      "text/plain": [
       "0.022759951595017675"
      ]
     },
     "execution_count": 100,
     "metadata": {},
     "output_type": "execute_result"
    }
   ],
   "source": [
    "df_us_houseprice['2023_average'].isnull().sum()/df_us_houseprice.shape[0]"
   ]
  },
  {
   "cell_type": "code",
   "execution_count": 101,
   "metadata": {},
   "outputs": [
    {
     "data": {
      "text/plain": [
       "0"
      ]
     },
     "execution_count": 101,
     "metadata": {},
     "output_type": "execute_result"
    }
   ],
   "source": [
    "df_us_houseprice['ZIPCODE5'].isna().sum()"
   ]
  },
  {
   "cell_type": "code",
   "execution_count": 102,
   "metadata": {},
   "outputs": [
    {
     "name": "stdout",
     "output_type": "stream",
     "text": [
      "Minimum length: 5\n",
      "Maximum length: 5\n"
     ]
    }
   ],
   "source": [
    "min_length_df_us_houseprice = df_us_houseprice['ZIPCODE5'].astype(str).apply(len).min()\n",
    "max_length_df_us_houseprice = df_us_houseprice['ZIPCODE5'].astype(str).apply(len).max()\n",
    "\n",
    "# Display the results\n",
    "print(f\"Minimum length: {min_length_df_us_houseprice}\")\n",
    "print(f\"Maximum length: {max_length_df_us_houseprice}\")"
   ]
  },
  {
   "cell_type": "code",
   "execution_count": 103,
   "metadata": {},
   "outputs": [
    {
     "data": {
      "text/html": [
       "<div>\n",
       "<style scoped>\n",
       "    .dataframe tbody tr th:only-of-type {\n",
       "        vertical-align: middle;\n",
       "    }\n",
       "\n",
       "    .dataframe tbody tr th {\n",
       "        vertical-align: top;\n",
       "    }\n",
       "\n",
       "    .dataframe thead th {\n",
       "        text-align: right;\n",
       "    }\n",
       "</style>\n",
       "<table border=\"1\" class=\"dataframe\">\n",
       "  <thead>\n",
       "    <tr style=\"text-align: right;\">\n",
       "      <th></th>\n",
       "      <th>CMTE_ID</th>\n",
       "      <th>CITY</th>\n",
       "      <th>STATE</th>\n",
       "      <th>ZIP_CODE</th>\n",
       "      <th>EMPLOYER</th>\n",
       "      <th>OCCUPATION</th>\n",
       "      <th>TRANSACTION_DT</th>\n",
       "      <th>TRANSACTION_AMT</th>\n",
       "      <th>party_full</th>\n",
       "      <th>party_label</th>\n",
       "      <th>zipcode_datatype</th>\n",
       "      <th>ZIPCODE5</th>\n",
       "      <th>2023_average</th>\n",
       "    </tr>\n",
       "  </thead>\n",
       "  <tbody>\n",
       "  </tbody>\n",
       "</table>\n",
       "</div>"
      ],
      "text/plain": [
       "Empty DataFrame\n",
       "Columns: [CMTE_ID, CITY, STATE, ZIP_CODE, EMPLOYER, OCCUPATION, TRANSACTION_DT, TRANSACTION_AMT, party_full, party_label, zipcode_datatype, ZIPCODE5, 2023_average]\n",
       "Index: []"
      ]
     },
     "execution_count": 103,
     "metadata": {},
     "output_type": "execute_result"
    }
   ],
   "source": [
    "# Display rows where the length of values in the 'ZIPCODE5' column is equal to 1\n",
    "result_df_df_us_houseprice = df_us_houseprice[df_us_houseprice['ZIPCODE5'].apply(lambda x: len(str(x)) == 1)]\n",
    "\n",
    "# Display the result\n",
    "result_df_df_us_houseprice.head(10)"
   ]
  },
  {
   "cell_type": "code",
   "execution_count": 104,
   "metadata": {},
   "outputs": [
    {
     "data": {
      "text/html": [
       "<div>\n",
       "<style scoped>\n",
       "    .dataframe tbody tr th:only-of-type {\n",
       "        vertical-align: middle;\n",
       "    }\n",
       "\n",
       "    .dataframe tbody tr th {\n",
       "        vertical-align: top;\n",
       "    }\n",
       "\n",
       "    .dataframe thead th {\n",
       "        text-align: right;\n",
       "    }\n",
       "</style>\n",
       "<table border=\"1\" class=\"dataframe\">\n",
       "  <thead>\n",
       "    <tr style=\"text-align: right;\">\n",
       "      <th></th>\n",
       "      <th>CMTE_ID</th>\n",
       "      <th>CITY</th>\n",
       "      <th>STATE</th>\n",
       "      <th>ZIP_CODE</th>\n",
       "      <th>EMPLOYER</th>\n",
       "      <th>OCCUPATION</th>\n",
       "      <th>TRANSACTION_DT</th>\n",
       "      <th>TRANSACTION_AMT</th>\n",
       "      <th>party_full</th>\n",
       "      <th>party_label</th>\n",
       "      <th>zipcode_datatype</th>\n",
       "      <th>ZIPCODE5</th>\n",
       "      <th>2023_average</th>\n",
       "    </tr>\n",
       "  </thead>\n",
       "  <tbody>\n",
       "  </tbody>\n",
       "</table>\n",
       "</div>"
      ],
      "text/plain": [
       "Empty DataFrame\n",
       "Columns: [CMTE_ID, CITY, STATE, ZIP_CODE, EMPLOYER, OCCUPATION, TRANSACTION_DT, TRANSACTION_AMT, party_full, party_label, zipcode_datatype, ZIPCODE5, 2023_average]\n",
       "Index: []"
      ]
     },
     "execution_count": 104,
     "metadata": {},
     "output_type": "execute_result"
    }
   ],
   "source": [
    "# Display rows where the length of values in the 'ZIPCODE5' column is equal to 1\n",
    "result_df_df_us_houseprice_2 = df_us_houseprice[df_us_houseprice['ZIPCODE5'].apply(lambda x: len(str(x)) == 2)]\n",
    "\n",
    "# Display the result\n",
    "result_df_df_us_houseprice_2.head(10)"
   ]
  },
  {
   "cell_type": "code",
   "execution_count": 105,
   "metadata": {},
   "outputs": [
    {
     "name": "stdout",
     "output_type": "stream",
     "text": [
      "Unique lengths of ZIPCODE5 values: [5]\n"
     ]
    }
   ],
   "source": [
    "# Get unique values for different lengths in the 'ZIPCODE5' column\n",
    "unique_lengths = df_us_houseprice['ZIPCODE5'].apply(lambda x: len(str(x))).unique()\n",
    "\n",
    "# Display the unique lengths\n",
    "print(\"Unique lengths of ZIPCODE5 values:\", unique_lengths)"
   ]
  },
  {
   "cell_type": "code",
   "execution_count": 106,
   "metadata": {},
   "outputs": [],
   "source": [
    "# # Iterate over lengths from 1 to 5\n",
    "# for length in range(1, 6):\n",
    "#     unique_values_df_us_houseprice = df_us_houseprice['ZIPCODE5'].astype(str).apply(lambda x: x[:length]).unique()\n",
    "    \n",
    "#     print(f\"Unique values for length {length}:\")\n",
    "#     print(unique_values_df_us_houseprice)\n",
    "#     print()"
   ]
  },
  {
   "cell_type": "code",
   "execution_count": null,
   "metadata": {},
   "outputs": [],
   "source": []
  },
  {
   "cell_type": "markdown",
   "metadata": {},
   "source": [
    "# Generate the new feature 'average household income' from zip code"
   ]
  },
  {
   "cell_type": "code",
   "execution_count": 107,
   "metadata": {},
   "outputs": [],
   "source": [
    "df_zip_income = pd.read_csv('../20zpallagi.csv')\n",
    "\n",
    "# 20zpallagi.csv downloaded from https://www.irs.gov/statistics/soi-tax-stats-individual-income-tax-statistics-2020-zip-code-data-soi"
   ]
  },
  {
   "cell_type": "code",
   "execution_count": 108,
   "metadata": {},
   "outputs": [
    {
     "data": {
      "text/html": [
       "<div>\n",
       "<style scoped>\n",
       "    .dataframe tbody tr th:only-of-type {\n",
       "        vertical-align: middle;\n",
       "    }\n",
       "\n",
       "    .dataframe tbody tr th {\n",
       "        vertical-align: top;\n",
       "    }\n",
       "\n",
       "    .dataframe thead th {\n",
       "        text-align: right;\n",
       "    }\n",
       "</style>\n",
       "<table border=\"1\" class=\"dataframe\">\n",
       "  <thead>\n",
       "    <tr style=\"text-align: right;\">\n",
       "      <th></th>\n",
       "      <th>STATEFIPS</th>\n",
       "      <th>STATE</th>\n",
       "      <th>zipcode</th>\n",
       "      <th>agi_stub</th>\n",
       "      <th>N1</th>\n",
       "      <th>mars1</th>\n",
       "      <th>MARS2</th>\n",
       "      <th>MARS4</th>\n",
       "      <th>ELF</th>\n",
       "      <th>CPREP</th>\n",
       "      <th>...</th>\n",
       "      <th>N85300</th>\n",
       "      <th>A85300</th>\n",
       "      <th>N11901</th>\n",
       "      <th>A11901</th>\n",
       "      <th>N11900</th>\n",
       "      <th>A11900</th>\n",
       "      <th>N11902</th>\n",
       "      <th>A11902</th>\n",
       "      <th>N12000</th>\n",
       "      <th>A12000</th>\n",
       "    </tr>\n",
       "  </thead>\n",
       "  <tbody>\n",
       "    <tr>\n",
       "      <th>0</th>\n",
       "      <td>1</td>\n",
       "      <td>AL</td>\n",
       "      <td>0</td>\n",
       "      <td>1</td>\n",
       "      <td>785000.0</td>\n",
       "      <td>519980.0</td>\n",
       "      <td>85690.0</td>\n",
       "      <td>165290.0</td>\n",
       "      <td>724170.0</td>\n",
       "      <td>22560.0</td>\n",
       "      <td>...</td>\n",
       "      <td>0.0</td>\n",
       "      <td>0.0</td>\n",
       "      <td>57720.0</td>\n",
       "      <td>46577.0</td>\n",
       "      <td>674840.0</td>\n",
       "      <td>1827202.0</td>\n",
       "      <td>672200.0</td>\n",
       "      <td>1818867.0</td>\n",
       "      <td>2900.0</td>\n",
       "      <td>6089.0</td>\n",
       "    </tr>\n",
       "    <tr>\n",
       "      <th>1</th>\n",
       "      <td>1</td>\n",
       "      <td>AL</td>\n",
       "      <td>0</td>\n",
       "      <td>2</td>\n",
       "      <td>554310.0</td>\n",
       "      <td>270870.0</td>\n",
       "      <td>121420.0</td>\n",
       "      <td>146470.0</td>\n",
       "      <td>515150.0</td>\n",
       "      <td>13260.0</td>\n",
       "      <td>...</td>\n",
       "      <td>0.0</td>\n",
       "      <td>0.0</td>\n",
       "      <td>81770.0</td>\n",
       "      <td>112540.0</td>\n",
       "      <td>470410.0</td>\n",
       "      <td>1445383.0</td>\n",
       "      <td>466960.0</td>\n",
       "      <td>1432458.0</td>\n",
       "      <td>4660.0</td>\n",
       "      <td>11648.0</td>\n",
       "    </tr>\n",
       "    <tr>\n",
       "      <th>2</th>\n",
       "      <td>1</td>\n",
       "      <td>AL</td>\n",
       "      <td>0</td>\n",
       "      <td>3</td>\n",
       "      <td>290630.0</td>\n",
       "      <td>113280.0</td>\n",
       "      <td>124770.0</td>\n",
       "      <td>44570.0</td>\n",
       "      <td>269700.0</td>\n",
       "      <td>6420.0</td>\n",
       "      <td>...</td>\n",
       "      <td>0.0</td>\n",
       "      <td>0.0</td>\n",
       "      <td>70360.0</td>\n",
       "      <td>144380.0</td>\n",
       "      <td>220710.0</td>\n",
       "      <td>626662.0</td>\n",
       "      <td>216530.0</td>\n",
       "      <td>610170.0</td>\n",
       "      <td>5760.0</td>\n",
       "      <td>16235.0</td>\n",
       "    </tr>\n",
       "    <tr>\n",
       "      <th>3</th>\n",
       "      <td>1</td>\n",
       "      <td>AL</td>\n",
       "      <td>0</td>\n",
       "      <td>4</td>\n",
       "      <td>181010.0</td>\n",
       "      <td>42010.0</td>\n",
       "      <td>120820.0</td>\n",
       "      <td>14410.0</td>\n",
       "      <td>168830.0</td>\n",
       "      <td>2570.0</td>\n",
       "      <td>...</td>\n",
       "      <td>0.0</td>\n",
       "      <td>0.0</td>\n",
       "      <td>49500.0</td>\n",
       "      <td>135429.0</td>\n",
       "      <td>130670.0</td>\n",
       "      <td>437179.0</td>\n",
       "      <td>126790.0</td>\n",
       "      <td>419324.0</td>\n",
       "      <td>3730.0</td>\n",
       "      <td>14903.0</td>\n",
       "    </tr>\n",
       "    <tr>\n",
       "      <th>4</th>\n",
       "      <td>1</td>\n",
       "      <td>AL</td>\n",
       "      <td>0</td>\n",
       "      <td>5</td>\n",
       "      <td>269080.0</td>\n",
       "      <td>31310.0</td>\n",
       "      <td>224330.0</td>\n",
       "      <td>8270.0</td>\n",
       "      <td>252360.0</td>\n",
       "      <td>3250.0</td>\n",
       "      <td>...</td>\n",
       "      <td>100.0</td>\n",
       "      <td>20.0</td>\n",
       "      <td>103250.0</td>\n",
       "      <td>470206.0</td>\n",
       "      <td>165650.0</td>\n",
       "      <td>724529.0</td>\n",
       "      <td>156910.0</td>\n",
       "      <td>642895.0</td>\n",
       "      <td>11280.0</td>\n",
       "      <td>80064.0</td>\n",
       "    </tr>\n",
       "  </tbody>\n",
       "</table>\n",
       "<p>5 rows × 165 columns</p>\n",
       "</div>"
      ],
      "text/plain": [
       "   STATEFIPS STATE  zipcode  agi_stub        N1     mars1     MARS2     MARS4  \\\n",
       "0          1    AL        0         1  785000.0  519980.0   85690.0  165290.0   \n",
       "1          1    AL        0         2  554310.0  270870.0  121420.0  146470.0   \n",
       "2          1    AL        0         3  290630.0  113280.0  124770.0   44570.0   \n",
       "3          1    AL        0         4  181010.0   42010.0  120820.0   14410.0   \n",
       "4          1    AL        0         5  269080.0   31310.0  224330.0    8270.0   \n",
       "\n",
       "        ELF    CPREP  ...  N85300  A85300    N11901    A11901    N11900  \\\n",
       "0  724170.0  22560.0  ...     0.0     0.0   57720.0   46577.0  674840.0   \n",
       "1  515150.0  13260.0  ...     0.0     0.0   81770.0  112540.0  470410.0   \n",
       "2  269700.0   6420.0  ...     0.0     0.0   70360.0  144380.0  220710.0   \n",
       "3  168830.0   2570.0  ...     0.0     0.0   49500.0  135429.0  130670.0   \n",
       "4  252360.0   3250.0  ...   100.0    20.0  103250.0  470206.0  165650.0   \n",
       "\n",
       "      A11900    N11902     A11902   N12000   A12000  \n",
       "0  1827202.0  672200.0  1818867.0   2900.0   6089.0  \n",
       "1  1445383.0  466960.0  1432458.0   4660.0  11648.0  \n",
       "2   626662.0  216530.0   610170.0   5760.0  16235.0  \n",
       "3   437179.0  126790.0   419324.0   3730.0  14903.0  \n",
       "4   724529.0  156910.0   642895.0  11280.0  80064.0  \n",
       "\n",
       "[5 rows x 165 columns]"
      ]
     },
     "execution_count": 108,
     "metadata": {},
     "output_type": "execute_result"
    }
   ],
   "source": [
    "df_zip_income.head()"
   ]
  },
  {
   "cell_type": "code",
   "execution_count": 109,
   "metadata": {},
   "outputs": [
    {
     "data": {
      "text/html": [
       "<div>\n",
       "<style scoped>\n",
       "    .dataframe tbody tr th:only-of-type {\n",
       "        vertical-align: middle;\n",
       "    }\n",
       "\n",
       "    .dataframe tbody tr th {\n",
       "        vertical-align: top;\n",
       "    }\n",
       "\n",
       "    .dataframe thead th {\n",
       "        text-align: right;\n",
       "    }\n",
       "</style>\n",
       "<table border=\"1\" class=\"dataframe\">\n",
       "  <thead>\n",
       "    <tr style=\"text-align: right;\">\n",
       "      <th></th>\n",
       "      <th>STATEFIPS</th>\n",
       "      <th>STATE</th>\n",
       "      <th>zipcode</th>\n",
       "      <th>agi_stub</th>\n",
       "      <th>N1</th>\n",
       "      <th>mars1</th>\n",
       "      <th>MARS2</th>\n",
       "      <th>MARS4</th>\n",
       "      <th>ELF</th>\n",
       "      <th>CPREP</th>\n",
       "      <th>PREP</th>\n",
       "      <th>DIR_DEP</th>\n",
       "      <th>VRTCRIND</th>\n",
       "      <th>N2</th>\n",
       "      <th>TOTAL_VITA</th>\n",
       "    </tr>\n",
       "  </thead>\n",
       "  <tbody>\n",
       "    <tr>\n",
       "      <th>6</th>\n",
       "      <td>1</td>\n",
       "      <td>AL</td>\n",
       "      <td>35004</td>\n",
       "      <td>1</td>\n",
       "      <td>1460.0</td>\n",
       "      <td>1010.0</td>\n",
       "      <td>200.0</td>\n",
       "      <td>210.0</td>\n",
       "      <td>1340.0</td>\n",
       "      <td>40.0</td>\n",
       "      <td>630.0</td>\n",
       "      <td>1110.0</td>\n",
       "      <td>0.0</td>\n",
       "      <td>1990.0</td>\n",
       "      <td>20.0</td>\n",
       "    </tr>\n",
       "    <tr>\n",
       "      <th>7</th>\n",
       "      <td>1</td>\n",
       "      <td>AL</td>\n",
       "      <td>35004</td>\n",
       "      <td>2</td>\n",
       "      <td>1400.0</td>\n",
       "      <td>760.0</td>\n",
       "      <td>280.0</td>\n",
       "      <td>310.0</td>\n",
       "      <td>1310.0</td>\n",
       "      <td>40.0</td>\n",
       "      <td>620.0</td>\n",
       "      <td>1120.0</td>\n",
       "      <td>30.0</td>\n",
       "      <td>2400.0</td>\n",
       "      <td>0.0</td>\n",
       "    </tr>\n",
       "    <tr>\n",
       "      <th>8</th>\n",
       "      <td>1</td>\n",
       "      <td>AL</td>\n",
       "      <td>35004</td>\n",
       "      <td>3</td>\n",
       "      <td>1020.0</td>\n",
       "      <td>460.0</td>\n",
       "      <td>350.0</td>\n",
       "      <td>190.0</td>\n",
       "      <td>970.0</td>\n",
       "      <td>30.0</td>\n",
       "      <td>460.0</td>\n",
       "      <td>750.0</td>\n",
       "      <td>0.0</td>\n",
       "      <td>1970.0</td>\n",
       "      <td>0.0</td>\n",
       "    </tr>\n",
       "    <tr>\n",
       "      <th>9</th>\n",
       "      <td>1</td>\n",
       "      <td>AL</td>\n",
       "      <td>35004</td>\n",
       "      <td>4</td>\n",
       "      <td>630.0</td>\n",
       "      <td>140.0</td>\n",
       "      <td>420.0</td>\n",
       "      <td>60.0</td>\n",
       "      <td>590.0</td>\n",
       "      <td>0.0</td>\n",
       "      <td>310.0</td>\n",
       "      <td>430.0</td>\n",
       "      <td>20.0</td>\n",
       "      <td>1500.0</td>\n",
       "      <td>0.0</td>\n",
       "    </tr>\n",
       "    <tr>\n",
       "      <th>10</th>\n",
       "      <td>1</td>\n",
       "      <td>AL</td>\n",
       "      <td>35004</td>\n",
       "      <td>5</td>\n",
       "      <td>810.0</td>\n",
       "      <td>80.0</td>\n",
       "      <td>710.0</td>\n",
       "      <td>20.0</td>\n",
       "      <td>760.0</td>\n",
       "      <td>20.0</td>\n",
       "      <td>390.0</td>\n",
       "      <td>500.0</td>\n",
       "      <td>0.0</td>\n",
       "      <td>2260.0</td>\n",
       "      <td>0.0</td>\n",
       "    </tr>\n",
       "    <tr>\n",
       "      <th>11</th>\n",
       "      <td>1</td>\n",
       "      <td>AL</td>\n",
       "      <td>35004</td>\n",
       "      <td>6</td>\n",
       "      <td>100.0</td>\n",
       "      <td>0.0</td>\n",
       "      <td>100.0</td>\n",
       "      <td>0.0</td>\n",
       "      <td>90.0</td>\n",
       "      <td>0.0</td>\n",
       "      <td>60.0</td>\n",
       "      <td>40.0</td>\n",
       "      <td>0.0</td>\n",
       "      <td>280.0</td>\n",
       "      <td>0.0</td>\n",
       "    </tr>\n",
       "    <tr>\n",
       "      <th>12</th>\n",
       "      <td>1</td>\n",
       "      <td>AL</td>\n",
       "      <td>35005</td>\n",
       "      <td>1</td>\n",
       "      <td>1380.0</td>\n",
       "      <td>860.0</td>\n",
       "      <td>140.0</td>\n",
       "      <td>350.0</td>\n",
       "      <td>1260.0</td>\n",
       "      <td>60.0</td>\n",
       "      <td>700.0</td>\n",
       "      <td>1100.0</td>\n",
       "      <td>30.0</td>\n",
       "      <td>2140.0</td>\n",
       "      <td>30.0</td>\n",
       "    </tr>\n",
       "    <tr>\n",
       "      <th>13</th>\n",
       "      <td>1</td>\n",
       "      <td>AL</td>\n",
       "      <td>35005</td>\n",
       "      <td>2</td>\n",
       "      <td>1120.0</td>\n",
       "      <td>520.0</td>\n",
       "      <td>190.0</td>\n",
       "      <td>370.0</td>\n",
       "      <td>1040.0</td>\n",
       "      <td>0.0</td>\n",
       "      <td>580.0</td>\n",
       "      <td>900.0</td>\n",
       "      <td>0.0</td>\n",
       "      <td>2080.0</td>\n",
       "      <td>0.0</td>\n",
       "    </tr>\n",
       "    <tr>\n",
       "      <th>14</th>\n",
       "      <td>1</td>\n",
       "      <td>AL</td>\n",
       "      <td>35005</td>\n",
       "      <td>3</td>\n",
       "      <td>510.0</td>\n",
       "      <td>190.0</td>\n",
       "      <td>170.0</td>\n",
       "      <td>130.0</td>\n",
       "      <td>460.0</td>\n",
       "      <td>30.0</td>\n",
       "      <td>290.0</td>\n",
       "      <td>360.0</td>\n",
       "      <td>0.0</td>\n",
       "      <td>1000.0</td>\n",
       "      <td>0.0</td>\n",
       "    </tr>\n",
       "  </tbody>\n",
       "</table>\n",
       "</div>"
      ],
      "text/plain": [
       "    STATEFIPS STATE  zipcode  agi_stub      N1   mars1  MARS2  MARS4     ELF  \\\n",
       "6           1    AL    35004         1  1460.0  1010.0  200.0  210.0  1340.0   \n",
       "7           1    AL    35004         2  1400.0   760.0  280.0  310.0  1310.0   \n",
       "8           1    AL    35004         3  1020.0   460.0  350.0  190.0   970.0   \n",
       "9           1    AL    35004         4   630.0   140.0  420.0   60.0   590.0   \n",
       "10          1    AL    35004         5   810.0    80.0  710.0   20.0   760.0   \n",
       "11          1    AL    35004         6   100.0     0.0  100.0    0.0    90.0   \n",
       "12          1    AL    35005         1  1380.0   860.0  140.0  350.0  1260.0   \n",
       "13          1    AL    35005         2  1120.0   520.0  190.0  370.0  1040.0   \n",
       "14          1    AL    35005         3   510.0   190.0  170.0  130.0   460.0   \n",
       "\n",
       "    CPREP   PREP  DIR_DEP  VRTCRIND      N2  TOTAL_VITA  \n",
       "6    40.0  630.0   1110.0       0.0  1990.0        20.0  \n",
       "7    40.0  620.0   1120.0      30.0  2400.0         0.0  \n",
       "8    30.0  460.0    750.0       0.0  1970.0         0.0  \n",
       "9     0.0  310.0    430.0      20.0  1500.0         0.0  \n",
       "10   20.0  390.0    500.0       0.0  2260.0         0.0  \n",
       "11    0.0   60.0     40.0       0.0   280.0         0.0  \n",
       "12   60.0  700.0   1100.0      30.0  2140.0        30.0  \n",
       "13    0.0  580.0    900.0       0.0  2080.0         0.0  \n",
       "14   30.0  290.0    360.0       0.0  1000.0         0.0  "
      ]
     },
     "execution_count": 109,
     "metadata": {},
     "output_type": "execute_result"
    }
   ],
   "source": [
    "df_zip_income.iloc[6:15,0:15]"
   ]
  },
  {
   "cell_type": "code",
   "execution_count": 110,
   "metadata": {},
   "outputs": [
    {
     "data": {
      "text/plain": [
       "array(['AL', 'AK', 'AZ', 'AR', 'CA', 'CO', 'CT', 'DE', 'DC', 'FL', 'GA',\n",
       "       'HI', 'ID', 'IL', 'IN', 'IA', 'KS', 'KY', 'LA', 'ME', 'MD', 'MA',\n",
       "       'MI', 'MN', 'MS', 'MO', 'MT', 'NE', 'NV', 'NH', 'NJ', 'NM', 'NY',\n",
       "       'NC', 'ND', 'OH', 'OK', 'OR', 'PA', 'RI', 'SC', 'SD', 'TN', 'TX',\n",
       "       'UT', 'VT', 'VA', 'WA', 'WV', 'WI', 'WY'], dtype=object)"
      ]
     },
     "execution_count": 110,
     "metadata": {},
     "output_type": "execute_result"
    }
   ],
   "source": [
    "df_zip_income.STATE.unique()"
   ]
  },
  {
   "cell_type": "code",
   "execution_count": 111,
   "metadata": {},
   "outputs": [
    {
     "data": {
      "text/plain": [
       "0"
      ]
     },
     "execution_count": 111,
     "metadata": {},
     "output_type": "execute_result"
    }
   ],
   "source": [
    "df_zip_income.STATE.isnull().sum()"
   ]
  },
  {
   "cell_type": "markdown",
   "metadata": {},
   "source": [
    "# Based on the 20zpdoc document, agi_stub column shows Size of adjusted gross income. \n",
    "1 = $1  under $25,000\n",
    "\n",
    "2 = $25,000  under $50,000\n",
    "\n",
    "3 = $50,000  under $75,000\n",
    "\n",
    "4 = $75,000  under $100,000\n",
    "\n",
    "5 = $100,000  under $200,000\n",
    "\n",
    "6 = $200,000 or more\n",
    "\n",
    "Note:  20zpdoc document is downloaded from https://www.irs.gov/statistics/soi-tax-stats-individual-income-tax-statistics-2020-zip-code-data-soi \n",
    "\n",
    "N1: Number of returns\n",
    "\n",
    "MARS1: Number of single returns,\t  Filing status is single\n",
    "\n",
    "MARS2: Number of joint returns,\t  Filing status is married filing jointly\n",
    "\n",
    "MARS4: Number of head of household returns,\t  Filing status is head of household\n",
    "\n",
    "# N1 >= MARS1 + MARS2 + MARS4"
   ]
  },
  {
   "cell_type": "markdown",
   "metadata": {},
   "source": [
    "In the United States, the tax filing status options include:\n",
    "\n",
    "Single: Unmarried individuals who are not qualifying for any other filing status.\n",
    "\n",
    "Married Filing Jointly: Married couples can choose to file a joint tax return, combining their income and deductions.\n",
    "\n",
    "Married Filing Separately: Married couples can choose to file separate tax returns, reporting their own individual incomes and deductions.\n",
    "\n",
    "Head of Household: This status is typically for unmarried individuals who provide a home for a qualifying person, such as a child or relative, and meet certain criteria.\n",
    "\n",
    "Qualifying Widow(er) with Dependent Child: This filing status may apply to a surviving spouse for a limited period after the death of their spouse, provided they have a dependent child and meet certain criteria."
   ]
  },
  {
   "cell_type": "markdown",
   "metadata": {},
   "source": [
    "# ZIP codes with less than 100 returns and those identified as a single building or nonresidential ZIP code were categorized as “other” (99999)."
   ]
  },
  {
   "cell_type": "code",
   "execution_count": 112,
   "metadata": {},
   "outputs": [
    {
     "data": {
      "text/plain": [
       "(166452, 165)"
      ]
     },
     "execution_count": 112,
     "metadata": {},
     "output_type": "execute_result"
    }
   ],
   "source": [
    "df_zip_income.shape"
   ]
  },
  {
   "cell_type": "code",
   "execution_count": 113,
   "metadata": {},
   "outputs": [
    {
     "data": {
      "text/plain": [
       "numpy.int64"
      ]
     },
     "execution_count": 113,
     "metadata": {},
     "output_type": "execute_result"
    }
   ],
   "source": [
    "type(df_zip_income['zipcode'][0])"
   ]
  },
  {
   "cell_type": "code",
   "execution_count": 114,
   "metadata": {},
   "outputs": [
    {
     "name": "stdout",
     "output_type": "stream",
     "text": [
      "Minimum length: 1\n",
      "Maximum length: 5\n"
     ]
    }
   ],
   "source": [
    "# Calculate the length of each ZIP code and get the min and max lengths\n",
    "min_length_df_zip_income = df_zip_income['zipcode'].astype(str).apply(len).min()\n",
    "max_length_df_zip_income = df_zip_income['zipcode'].astype(str).apply(len).max()\n",
    "\n",
    "# Display the results\n",
    "print(f\"Minimum length: {min_length_df_zip_income}\")\n",
    "print(f\"Maximum length: {max_length_df_zip_income}\")"
   ]
  },
  {
   "cell_type": "code",
   "execution_count": 115,
   "metadata": {},
   "outputs": [
    {
     "name": "stdout",
     "output_type": "stream",
     "text": [
      "zipcode_length\n",
      "1       306\n",
      "4     13128\n",
      "5    153018\n",
      "dtype: int64\n"
     ]
    }
   ],
   "source": [
    "# Create 'zipcode_length' column to store the length of each ZIP code\n",
    "df_zip_income['zipcode_length'] = df_zip_income['zipcode'].astype(str).apply(len)\n",
    "\n",
    "# Get value counts for each length\n",
    "length_value_counts = df_zip_income.groupby('zipcode_length').size()\n",
    "\n",
    "# Display the value counts\n",
    "print(length_value_counts)"
   ]
  },
  {
   "cell_type": "code",
   "execution_count": 116,
   "metadata": {},
   "outputs": [
    {
     "name": "stdout",
     "output_type": "stream",
     "text": [
      "    STATEFIPS STATE  zipcode  agi_stub      N1   mars1  MARS2  MARS4     ELF  \\\n",
      "6           1    AL    35004         1  1460.0  1010.0  200.0  210.0  1340.0   \n",
      "7           1    AL    35004         2  1400.0   760.0  280.0  310.0  1310.0   \n",
      "8           1    AL    35004         3  1020.0   460.0  350.0  190.0   970.0   \n",
      "9           1    AL    35004         4   630.0   140.0  420.0   60.0   590.0   \n",
      "10          1    AL    35004         5   810.0    80.0  710.0   20.0   760.0   \n",
      "11          1    AL    35004         6   100.0     0.0  100.0    0.0    90.0   \n",
      "12          1    AL    35005         1  1380.0   860.0  140.0  350.0  1260.0   \n",
      "13          1    AL    35005         2  1120.0   520.0  190.0  370.0  1040.0   \n",
      "14          1    AL    35005         3   510.0   190.0  170.0  130.0   460.0   \n",
      "15          1    AL    35005         4   220.0    50.0  130.0   50.0   190.0   \n",
      "\n",
      "    CPREP  ...  A85300  N11901  A11901  N11900  A11900  N11902  A11902  \\\n",
      "6    40.0  ...     0.0   110.0    80.0  1210.0  2807.0  1210.0  2795.0   \n",
      "7    40.0  ...     0.0   190.0   194.0  1210.0  3378.0  1200.0  3335.0   \n",
      "8    30.0  ...     0.0   230.0   357.0   800.0  2131.0   790.0  2119.0   \n",
      "9     0.0  ...     0.0   180.0   386.0   450.0  1282.0   440.0  1276.0   \n",
      "10   20.0  ...     0.0   290.0  1124.0   530.0  1967.0   510.0  1925.0   \n",
      "11    0.0  ...    68.0    50.0  1189.0    50.0   857.0    40.0   426.0   \n",
      "12   60.0  ...     0.0   100.0    82.0  1200.0  3598.0  1200.0  3594.0   \n",
      "13    0.0  ...     0.0   160.0   197.0   950.0  3106.0   950.0  3106.0   \n",
      "14   30.0  ...     0.0   120.0   236.0   390.0  1030.0   380.0  1029.0   \n",
      "15    0.0  ...     0.0    60.0   174.0   160.0   502.0   160.0   500.0   \n",
      "\n",
      "    N12000  A12000  zipcode_length  \n",
      "6      0.0     0.0               5  \n",
      "7     30.0    62.0               5  \n",
      "8      0.0     0.0               5  \n",
      "9      0.0     0.0               5  \n",
      "10    20.0   139.0               5  \n",
      "11     0.0     0.0               5  \n",
      "12     0.0     0.0               5  \n",
      "13     0.0     0.0               5  \n",
      "14     0.0     0.0               5  \n",
      "15     0.0     0.0               5  \n",
      "\n",
      "[10 rows x 166 columns]\n"
     ]
    }
   ],
   "source": [
    "# Drop rows where 'zipcode_length' is equal to 1\n",
    "df_zip_income = df_zip_income[df_zip_income['zipcode_length'] != 1]\n",
    "\n",
    "# Display the DataFrame after dropping rows\n",
    "print(df_zip_income.head(10))"
   ]
  },
  {
   "cell_type": "code",
   "execution_count": 117,
   "metadata": {},
   "outputs": [
    {
     "name": "stdout",
     "output_type": "stream",
     "text": [
      "zipcode_length\n",
      "4     13128\n",
      "5    153018\n",
      "dtype: int64\n"
     ]
    }
   ],
   "source": [
    "# Get value counts for each length\n",
    "length_value_counts_new = df_zip_income.groupby('zipcode_length').size()\n",
    "\n",
    "# Display the value counts\n",
    "print(length_value_counts_new)"
   ]
  },
  {
   "cell_type": "code",
   "execution_count": 118,
   "metadata": {},
   "outputs": [
    {
     "data": {
      "text/plain": [
       "0"
      ]
     },
     "execution_count": 118,
     "metadata": {},
     "output_type": "execute_result"
    }
   ],
   "source": [
    "total_zeros = (df_zip_income['zipcode'] == 0).sum()\n",
    "total_zeros"
   ]
  },
  {
   "cell_type": "code",
   "execution_count": 119,
   "metadata": {},
   "outputs": [
    {
     "data": {
      "text/plain": [
       "306"
      ]
     },
     "execution_count": 119,
     "metadata": {},
     "output_type": "execute_result"
    }
   ],
   "source": [
    "total_99999 = (df_zip_income['zipcode'] == 99999).sum()\n",
    "total_99999"
   ]
  },
  {
   "cell_type": "code",
   "execution_count": 120,
   "metadata": {},
   "outputs": [
    {
     "data": {
      "text/plain": [
       "27643"
      ]
     },
     "execution_count": 120,
     "metadata": {},
     "output_type": "execute_result"
    }
   ],
   "source": [
    "len(df_zip_income['zipcode'].unique())"
   ]
  },
  {
   "cell_type": "code",
   "execution_count": 121,
   "metadata": {},
   "outputs": [],
   "source": [
    "df_zip_income['zipcode_str'] = df_zip_income['zipcode'].astype(str)"
   ]
  },
  {
   "cell_type": "code",
   "execution_count": 122,
   "metadata": {},
   "outputs": [
    {
     "name": "stdout",
     "output_type": "stream",
     "text": [
      "object\n"
     ]
    }
   ],
   "source": [
    "print(df_zip_income['zipcode_str'].dtype)"
   ]
  },
  {
   "cell_type": "code",
   "execution_count": 123,
   "metadata": {},
   "outputs": [
    {
     "name": "stdout",
     "output_type": "stream",
     "text": [
      "0\n",
      "Rows where 'zipcode' has exactly 3 digits:\n",
      "Empty DataFrame\n",
      "Columns: [STATEFIPS, STATE, zipcode, agi_stub, N1, mars1, MARS2, MARS4, ELF, CPREP, PREP, DIR_DEP, VRTCRIND, N2, TOTAL_VITA, VITA, TCE, VITA_EIC, RAC, ELDERLY, A00100, N02650, A02650, N00200, A00200, N00300, A00300, N00600, A00600, N00650, A00650, N00700, A00700, N00900, A00900, N01000, A01000, N01400, A01400, N01700, A01700, SCHF, N02300, A02300, N02500, A02500, N26270, A26270, N02900, A02900, N03220, A03220, N03300, A03300, N03270, A03270, N03150, A03150, N03210, A03210, N02910, A02910, N04450, A04450, N04100, A04100, N04200, A04200, N04470, A04470, A00101, N17000, A17000, N18425, A18425, N18450, A18450, N18500, A18500, N18800, A18800, N18460, A18460, N18300, A18300, N19300, A19300, N19500, A19500, N19530, A19530, N19550, A19550, N19570, A19570, N19700, A19700, N20950, A20950, N04475, ...]\n",
      "Index: []\n",
      "\n",
      "[0 rows x 167 columns]\n"
     ]
    }
   ],
   "source": [
    "three_digit_rows = df_zip_income[df_zip_income['zipcode'].astype(str).str.len() == 3]\n",
    "# Display the rows\n",
    "print(len(three_digit_rows))\n",
    "print(\"Rows where 'zipcode' has exactly 3 digits:\")\n",
    "print(three_digit_rows.head(15))"
   ]
  },
  {
   "cell_type": "code",
   "execution_count": 124,
   "metadata": {},
   "outputs": [
    {
     "name": "stdout",
     "output_type": "stream",
     "text": [
      "13128\n",
      "Rows where 'zipcode' has exactly 4 digits:\n",
      "       STATEFIPS STATE  zipcode  agi_stub      N1   mars1   MARS2   MARS4  \\\n",
      "19804          9    CT     6001         1  1960.0  1710.0   160.0    70.0   \n",
      "19805          9    CT     6001         2  1070.0   770.0   180.0    90.0   \n",
      "19806          9    CT     6001         3  1030.0   630.0   260.0   100.0   \n",
      "19807          9    CT     6001         4   880.0   370.0   390.0   100.0   \n",
      "19808          9    CT     6001         5  2120.0   470.0  1510.0   100.0   \n",
      "19809          9    CT     6001         6  2310.0   160.0  2060.0    60.0   \n",
      "19810          9    CT     6002         1  3320.0  2680.0   220.0   330.0   \n",
      "19811          9    CT     6002         2  3110.0  1900.0   310.0   770.0   \n",
      "19812          9    CT     6002         3  2250.0  1240.0   380.0   510.0   \n",
      "19813          9    CT     6002         4  1400.0   640.0   450.0   250.0   \n",
      "19814          9    CT     6002         5  1950.0   600.0  1150.0   160.0   \n",
      "19815          9    CT     6002         6   720.0   160.0   530.0     0.0   \n",
      "19816          9    CT     6010         1  9220.0  7120.0   790.0  1170.0   \n",
      "19817          9    CT     6010         2  8340.0  5200.0  1200.0  1720.0   \n",
      "19818          9    CT     6010         3  5370.0  2970.0  1410.0   810.0   \n",
      "\n",
      "          ELF  CPREP  ...  N11901   A11901  N11900   A11900  N11902   A11902  \\\n",
      "19804  1760.0   70.0  ...   190.0    142.0  1480.0   2388.0  1450.0   2200.0   \n",
      "19805   990.0   30.0  ...   190.0    298.0   860.0   2539.0   820.0   2288.0   \n",
      "19806   960.0   50.0  ...   230.0    516.0   800.0   2417.0   740.0   2144.0   \n",
      "19807   820.0    0.0  ...   240.0    708.0   630.0   2378.0   570.0   2080.0   \n",
      "19808  1980.0   50.0  ...   730.0   2913.0  1390.0   7412.0  1210.0   5680.0   \n",
      "19809  2170.0   40.0  ...  1170.0  26848.0  1130.0  22968.0   820.0   9797.0   \n",
      "19810  3010.0  130.0  ...   220.0    194.0  2840.0   5685.0  2820.0   5636.0   \n",
      "19811  2890.0  100.0  ...   410.0    569.0  2680.0   7501.0  2640.0   7351.0   \n",
      "19812  2090.0   70.0  ...   470.0    799.0  1770.0   5208.0  1740.0   5003.0   \n",
      "19813  1300.0   30.0  ...   360.0    868.0  1030.0   3487.0   990.0   3190.0   \n",
      "19814  1800.0   50.0  ...   720.0   2762.0  1220.0   5560.0  1100.0   4523.0   \n",
      "19815   660.0    0.0  ...   360.0  10661.0   350.0   8072.0   230.0   3167.0   \n",
      "19816  8580.0  320.0  ...   610.0    468.0  8000.0  16606.0  7980.0  16515.0   \n",
      "19817  7930.0  210.0  ...   870.0   1122.0  7430.0  19822.0  7390.0  19705.0   \n",
      "19818  5130.0  120.0  ...   870.0   1568.0  4490.0  11916.0  4450.0  11735.0   \n",
      "\n",
      "       N12000   A12000  zipcode_length  zipcode_str  \n",
      "19804    40.0     74.0               4         6001  \n",
      "19805    70.0    250.0               4         6001  \n",
      "19806    80.0    273.0               4         6001  \n",
      "19807    70.0    298.0               4         6001  \n",
      "19808   230.0   1732.0               4         6001  \n",
      "19809   370.0  13171.0               4         6001  \n",
      "19810    30.0     40.0               4         6002  \n",
      "19811    60.0    150.0               4         6002  \n",
      "19812    70.0    205.0               4         6002  \n",
      "19813    80.0    297.0               4         6002  \n",
      "19814   160.0   1038.0               4         6002  \n",
      "19815   150.0   4905.0               4         6002  \n",
      "19816    40.0     73.0               4         6010  \n",
      "19817    60.0    117.0               4         6010  \n",
      "19818    60.0    181.0               4         6010  \n",
      "\n",
      "[15 rows x 167 columns]\n"
     ]
    }
   ],
   "source": [
    "four_digit_rows = df_zip_income[df_zip_income['zipcode'].astype(str).str.len() == 4]\n",
    "\n",
    "# Display the rows\n",
    "print(len(four_digit_rows))\n",
    "print(\"Rows where 'zipcode' has exactly 4 digits:\")\n",
    "print(four_digit_rows.head(15))"
   ]
  },
  {
   "cell_type": "markdown",
   "metadata": {},
   "source": [
    "# After examing the data with 4 digits for 'zopcode', it is clear that many Connecticut ZIP Codes have a leading zero, however, df_zip_income['zipcode'] does not have the leading zero for those zip codes. Thus, adding the leading zero to 4 digits 'zopcode'."
   ]
  },
  {
   "cell_type": "code",
   "execution_count": 125,
   "metadata": {},
   "outputs": [],
   "source": [
    "df_zip_income['zipcode_add0'] = df_zip_income['zipcode'].astype(str).apply(lambda x: x.zfill(5) if len(x) == 4 else x)"
   ]
  },
  {
   "cell_type": "code",
   "execution_count": 126,
   "metadata": {},
   "outputs": [
    {
     "name": "stdout",
     "output_type": "stream",
     "text": [
      "Rows where 'zipcode' has exactly 4 digits:\n",
      "Empty DataFrame\n",
      "Columns: [STATEFIPS, STATE, zipcode, agi_stub, N1, mars1, MARS2, MARS4, ELF, CPREP, PREP, DIR_DEP, VRTCRIND, N2, TOTAL_VITA, VITA, TCE, VITA_EIC, RAC, ELDERLY, A00100, N02650, A02650, N00200, A00200, N00300, A00300, N00600, A00600, N00650, A00650, N00700, A00700, N00900, A00900, N01000, A01000, N01400, A01400, N01700, A01700, SCHF, N02300, A02300, N02500, A02500, N26270, A26270, N02900, A02900, N03220, A03220, N03300, A03300, N03270, A03270, N03150, A03150, N03210, A03210, N02910, A02910, N04450, A04450, N04100, A04100, N04200, A04200, N04470, A04470, A00101, N17000, A17000, N18425, A18425, N18450, A18450, N18500, A18500, N18800, A18800, N18460, A18460, N18300, A18300, N19300, A19300, N19500, A19500, N19530, A19530, N19550, A19550, N19570, A19570, N19700, A19700, N20950, A20950, N04475, ...]\n",
      "Index: []\n",
      "\n",
      "[0 rows x 168 columns]\n"
     ]
    }
   ],
   "source": [
    "four_digit_rows = df_zip_income[df_zip_income['zipcode_add0'].astype(str).str.len() == 4]\n",
    "\n",
    "# Display the rows\n",
    "print(\"Rows where 'zipcode' has exactly 4 digits:\")\n",
    "print(four_digit_rows.head(60))"
   ]
  },
  {
   "cell_type": "code",
   "execution_count": 127,
   "metadata": {},
   "outputs": [
    {
     "data": {
      "text/plain": [
       "dtype('O')"
      ]
     },
     "execution_count": 127,
     "metadata": {},
     "output_type": "execute_result"
    }
   ],
   "source": [
    "df_zip_income['zipcode_add0'].dtype"
   ]
  },
  {
   "cell_type": "code",
   "execution_count": 128,
   "metadata": {},
   "outputs": [
    {
     "data": {
      "text/html": [
       "<div>\n",
       "<style scoped>\n",
       "    .dataframe tbody tr th:only-of-type {\n",
       "        vertical-align: middle;\n",
       "    }\n",
       "\n",
       "    .dataframe tbody tr th {\n",
       "        vertical-align: top;\n",
       "    }\n",
       "\n",
       "    .dataframe thead th {\n",
       "        text-align: right;\n",
       "    }\n",
       "</style>\n",
       "<table border=\"1\" class=\"dataframe\">\n",
       "  <thead>\n",
       "    <tr style=\"text-align: right;\">\n",
       "      <th></th>\n",
       "      <th>STATE</th>\n",
       "      <th>zipcode_add0</th>\n",
       "      <th>agi_stub</th>\n",
       "      <th>N1</th>\n",
       "    </tr>\n",
       "  </thead>\n",
       "  <tbody>\n",
       "    <tr>\n",
       "      <th>6</th>\n",
       "      <td>AL</td>\n",
       "      <td>35004</td>\n",
       "      <td>1</td>\n",
       "      <td>1460.0</td>\n",
       "    </tr>\n",
       "    <tr>\n",
       "      <th>7</th>\n",
       "      <td>AL</td>\n",
       "      <td>35004</td>\n",
       "      <td>2</td>\n",
       "      <td>1400.0</td>\n",
       "    </tr>\n",
       "    <tr>\n",
       "      <th>8</th>\n",
       "      <td>AL</td>\n",
       "      <td>35004</td>\n",
       "      <td>3</td>\n",
       "      <td>1020.0</td>\n",
       "    </tr>\n",
       "    <tr>\n",
       "      <th>9</th>\n",
       "      <td>AL</td>\n",
       "      <td>35004</td>\n",
       "      <td>4</td>\n",
       "      <td>630.0</td>\n",
       "    </tr>\n",
       "    <tr>\n",
       "      <th>10</th>\n",
       "      <td>AL</td>\n",
       "      <td>35004</td>\n",
       "      <td>5</td>\n",
       "      <td>810.0</td>\n",
       "    </tr>\n",
       "    <tr>\n",
       "      <th>11</th>\n",
       "      <td>AL</td>\n",
       "      <td>35004</td>\n",
       "      <td>6</td>\n",
       "      <td>100.0</td>\n",
       "    </tr>\n",
       "    <tr>\n",
       "      <th>12</th>\n",
       "      <td>AL</td>\n",
       "      <td>35005</td>\n",
       "      <td>1</td>\n",
       "      <td>1380.0</td>\n",
       "    </tr>\n",
       "    <tr>\n",
       "      <th>13</th>\n",
       "      <td>AL</td>\n",
       "      <td>35005</td>\n",
       "      <td>2</td>\n",
       "      <td>1120.0</td>\n",
       "    </tr>\n",
       "    <tr>\n",
       "      <th>14</th>\n",
       "      <td>AL</td>\n",
       "      <td>35005</td>\n",
       "      <td>3</td>\n",
       "      <td>510.0</td>\n",
       "    </tr>\n",
       "    <tr>\n",
       "      <th>15</th>\n",
       "      <td>AL</td>\n",
       "      <td>35005</td>\n",
       "      <td>4</td>\n",
       "      <td>220.0</td>\n",
       "    </tr>\n",
       "    <tr>\n",
       "      <th>16</th>\n",
       "      <td>AL</td>\n",
       "      <td>35005</td>\n",
       "      <td>5</td>\n",
       "      <td>190.0</td>\n",
       "    </tr>\n",
       "    <tr>\n",
       "      <th>17</th>\n",
       "      <td>AL</td>\n",
       "      <td>35005</td>\n",
       "      <td>6</td>\n",
       "      <td>20.0</td>\n",
       "    </tr>\n",
       "    <tr>\n",
       "      <th>18</th>\n",
       "      <td>AL</td>\n",
       "      <td>35006</td>\n",
       "      <td>1</td>\n",
       "      <td>400.0</td>\n",
       "    </tr>\n",
       "  </tbody>\n",
       "</table>\n",
       "</div>"
      ],
      "text/plain": [
       "   STATE zipcode_add0  agi_stub      N1\n",
       "6     AL        35004         1  1460.0\n",
       "7     AL        35004         2  1400.0\n",
       "8     AL        35004         3  1020.0\n",
       "9     AL        35004         4   630.0\n",
       "10    AL        35004         5   810.0\n",
       "11    AL        35004         6   100.0\n",
       "12    AL        35005         1  1380.0\n",
       "13    AL        35005         2  1120.0\n",
       "14    AL        35005         3   510.0\n",
       "15    AL        35005         4   220.0\n",
       "16    AL        35005         5   190.0\n",
       "17    AL        35005         6    20.0\n",
       "18    AL        35006         1   400.0"
      ]
     },
     "execution_count": 128,
     "metadata": {},
     "output_type": "execute_result"
    }
   ],
   "source": [
    "df_zip_income_new = df_zip_income[['STATE','zipcode_add0','agi_stub','N1']]\n",
    "df_zip_income_new.head(13)"
   ]
  },
  {
   "cell_type": "code",
   "execution_count": 129,
   "metadata": {},
   "outputs": [
    {
     "name": "stdout",
     "output_type": "stream",
     "text": [
      "Minimum length: 5\n",
      "Maximum length: 5\n"
     ]
    }
   ],
   "source": [
    "min_length_df_zip_income_new = df_zip_income_new['zipcode_add0'].astype(str).apply(len).min()\n",
    "max_length_df_zip_income_new = df_zip_income_new['zipcode_add0'].astype(str).apply(len).max()\n",
    "\n",
    "# Display the results\n",
    "print(f\"Minimum length: {min_length_df_zip_income_new}\")\n",
    "print(f\"Maximum length: {max_length_df_zip_income_new}\")"
   ]
  },
  {
   "cell_type": "code",
   "execution_count": 130,
   "metadata": {},
   "outputs": [],
   "source": [
    "# # Iterate over lengths from 1 to 5\n",
    "# for length in range(1, 6):\n",
    "#     unique_values_df_zip_income_new = df_zip_income_new['zipcode_add0'].astype(str).apply(lambda x: x[:length]).unique()\n",
    "    \n",
    "#     print(f\"Unique values for length {length}:\")\n",
    "#     print(unique_values_df_zip_income_new)\n",
    "#     print()"
   ]
  },
  {
   "cell_type": "markdown",
   "metadata": {},
   "source": [
    "# Get average income for zipcode:\n",
    "1. use the midpoint of each income range to represent the gross income (AGI_STUB column).\n",
    "2. midpoint * number of returns (N1) = INCOME_MULTIPLIED\n",
    "3. AVERAGE_AGI_STUB = sum of (INCOME_MULTIPLIED *N1)/sum of N1 (sum based on zip code)"
   ]
  },
  {
   "cell_type": "code",
   "execution_count": 131,
   "metadata": {},
   "outputs": [
    {
     "name": "stderr",
     "output_type": "stream",
     "text": [
      "C:\\Users\\tubos\\AppData\\Local\\Temp\\ipykernel_24764\\3598522466.py:12: SettingWithCopyWarning: \n",
      "A value is trying to be set on a copy of a slice from a DataFrame.\n",
      "Try using .loc[row_indexer,col_indexer] = value instead\n",
      "\n",
      "See the caveats in the documentation: https://pandas.pydata.org/pandas-docs/stable/user_guide/indexing.html#returning-a-view-versus-a-copy\n",
      "  df_zip_income_new['MIDPOINT_INCOME'] = df_zip_income_new['agi_stub'].map(income_mapping)\n"
     ]
    }
   ],
   "source": [
    "# Create a mapping dictionary for gross income categories\n",
    "income_mapping = {\n",
    "    1: 12500,\n",
    "    2: 37500,\n",
    "    3: 62500,\n",
    "    4: 87500,\n",
    "    5: 150000,\n",
    "    6: 1000000\n",
    "}\n",
    "\n",
    "# Map the 'GROSS_INCOME' column to the midpoint of each income range\n",
    "df_zip_income_new['MIDPOINT_INCOME'] = df_zip_income_new['agi_stub'].map(income_mapping)"
   ]
  },
  {
   "cell_type": "code",
   "execution_count": 132,
   "metadata": {},
   "outputs": [
    {
     "data": {
      "text/html": [
       "<div>\n",
       "<style scoped>\n",
       "    .dataframe tbody tr th:only-of-type {\n",
       "        vertical-align: middle;\n",
       "    }\n",
       "\n",
       "    .dataframe tbody tr th {\n",
       "        vertical-align: top;\n",
       "    }\n",
       "\n",
       "    .dataframe thead th {\n",
       "        text-align: right;\n",
       "    }\n",
       "</style>\n",
       "<table border=\"1\" class=\"dataframe\">\n",
       "  <thead>\n",
       "    <tr style=\"text-align: right;\">\n",
       "      <th></th>\n",
       "      <th>STATE</th>\n",
       "      <th>zipcode_add0</th>\n",
       "      <th>agi_stub</th>\n",
       "      <th>N1</th>\n",
       "      <th>MIDPOINT_INCOME</th>\n",
       "    </tr>\n",
       "  </thead>\n",
       "  <tbody>\n",
       "    <tr>\n",
       "      <th>6</th>\n",
       "      <td>AL</td>\n",
       "      <td>35004</td>\n",
       "      <td>1</td>\n",
       "      <td>1460.0</td>\n",
       "      <td>12500</td>\n",
       "    </tr>\n",
       "    <tr>\n",
       "      <th>7</th>\n",
       "      <td>AL</td>\n",
       "      <td>35004</td>\n",
       "      <td>2</td>\n",
       "      <td>1400.0</td>\n",
       "      <td>37500</td>\n",
       "    </tr>\n",
       "    <tr>\n",
       "      <th>8</th>\n",
       "      <td>AL</td>\n",
       "      <td>35004</td>\n",
       "      <td>3</td>\n",
       "      <td>1020.0</td>\n",
       "      <td>62500</td>\n",
       "    </tr>\n",
       "    <tr>\n",
       "      <th>9</th>\n",
       "      <td>AL</td>\n",
       "      <td>35004</td>\n",
       "      <td>4</td>\n",
       "      <td>630.0</td>\n",
       "      <td>87500</td>\n",
       "    </tr>\n",
       "    <tr>\n",
       "      <th>10</th>\n",
       "      <td>AL</td>\n",
       "      <td>35004</td>\n",
       "      <td>5</td>\n",
       "      <td>810.0</td>\n",
       "      <td>150000</td>\n",
       "    </tr>\n",
       "    <tr>\n",
       "      <th>11</th>\n",
       "      <td>AL</td>\n",
       "      <td>35004</td>\n",
       "      <td>6</td>\n",
       "      <td>100.0</td>\n",
       "      <td>1000000</td>\n",
       "    </tr>\n",
       "    <tr>\n",
       "      <th>12</th>\n",
       "      <td>AL</td>\n",
       "      <td>35005</td>\n",
       "      <td>1</td>\n",
       "      <td>1380.0</td>\n",
       "      <td>12500</td>\n",
       "    </tr>\n",
       "    <tr>\n",
       "      <th>13</th>\n",
       "      <td>AL</td>\n",
       "      <td>35005</td>\n",
       "      <td>2</td>\n",
       "      <td>1120.0</td>\n",
       "      <td>37500</td>\n",
       "    </tr>\n",
       "    <tr>\n",
       "      <th>14</th>\n",
       "      <td>AL</td>\n",
       "      <td>35005</td>\n",
       "      <td>3</td>\n",
       "      <td>510.0</td>\n",
       "      <td>62500</td>\n",
       "    </tr>\n",
       "    <tr>\n",
       "      <th>15</th>\n",
       "      <td>AL</td>\n",
       "      <td>35005</td>\n",
       "      <td>4</td>\n",
       "      <td>220.0</td>\n",
       "      <td>87500</td>\n",
       "    </tr>\n",
       "  </tbody>\n",
       "</table>\n",
       "</div>"
      ],
      "text/plain": [
       "   STATE zipcode_add0  agi_stub      N1  MIDPOINT_INCOME\n",
       "6     AL        35004         1  1460.0            12500\n",
       "7     AL        35004         2  1400.0            37500\n",
       "8     AL        35004         3  1020.0            62500\n",
       "9     AL        35004         4   630.0            87500\n",
       "10    AL        35004         5   810.0           150000\n",
       "11    AL        35004         6   100.0          1000000\n",
       "12    AL        35005         1  1380.0            12500\n",
       "13    AL        35005         2  1120.0            37500\n",
       "14    AL        35005         3   510.0            62500\n",
       "15    AL        35005         4   220.0            87500"
      ]
     },
     "execution_count": 132,
     "metadata": {},
     "output_type": "execute_result"
    }
   ],
   "source": [
    "df_zip_income_new.head(10)"
   ]
  },
  {
   "cell_type": "code",
   "execution_count": 133,
   "metadata": {},
   "outputs": [
    {
     "data": {
      "text/plain": [
       "Index(['STATE', 'zipcode_add0', 'agi_stub', 'N1', 'MIDPOINT_INCOME'], dtype='object')"
      ]
     },
     "execution_count": 133,
     "metadata": {},
     "output_type": "execute_result"
    }
   ],
   "source": [
    "df_zip_income_new.columns"
   ]
  },
  {
   "cell_type": "code",
   "execution_count": 134,
   "metadata": {},
   "outputs": [
    {
     "name": "stderr",
     "output_type": "stream",
     "text": [
      "C:\\Users\\tubos\\AppData\\Local\\Temp\\ipykernel_24764\\3181870962.py:3: SettingWithCopyWarning: \n",
      "A value is trying to be set on a copy of a slice from a DataFrame.\n",
      "Try using .loc[row_indexer,col_indexer] = value instead\n",
      "\n",
      "See the caveats in the documentation: https://pandas.pydata.org/pandas-docs/stable/user_guide/indexing.html#returning-a-view-versus-a-copy\n",
      "  df_zip_income_new['INCOME_MULTIPLIED'] = df_zip_income_new['MIDPOINT_INCOME'] * df_zip_income_new['N1']\n"
     ]
    },
    {
     "data": {
      "text/html": [
       "<div>\n",
       "<style scoped>\n",
       "    .dataframe tbody tr th:only-of-type {\n",
       "        vertical-align: middle;\n",
       "    }\n",
       "\n",
       "    .dataframe tbody tr th {\n",
       "        vertical-align: top;\n",
       "    }\n",
       "\n",
       "    .dataframe thead th {\n",
       "        text-align: right;\n",
       "    }\n",
       "</style>\n",
       "<table border=\"1\" class=\"dataframe\">\n",
       "  <thead>\n",
       "    <tr style=\"text-align: right;\">\n",
       "      <th></th>\n",
       "      <th>STATE</th>\n",
       "      <th>zipcode_add0</th>\n",
       "      <th>agi_stub</th>\n",
       "      <th>N1</th>\n",
       "      <th>MIDPOINT_INCOME</th>\n",
       "      <th>INCOME_MULTIPLIED</th>\n",
       "    </tr>\n",
       "  </thead>\n",
       "  <tbody>\n",
       "    <tr>\n",
       "      <th>6</th>\n",
       "      <td>AL</td>\n",
       "      <td>35004</td>\n",
       "      <td>1</td>\n",
       "      <td>1460.0</td>\n",
       "      <td>12500</td>\n",
       "      <td>18250000.0</td>\n",
       "    </tr>\n",
       "    <tr>\n",
       "      <th>7</th>\n",
       "      <td>AL</td>\n",
       "      <td>35004</td>\n",
       "      <td>2</td>\n",
       "      <td>1400.0</td>\n",
       "      <td>37500</td>\n",
       "      <td>52500000.0</td>\n",
       "    </tr>\n",
       "    <tr>\n",
       "      <th>8</th>\n",
       "      <td>AL</td>\n",
       "      <td>35004</td>\n",
       "      <td>3</td>\n",
       "      <td>1020.0</td>\n",
       "      <td>62500</td>\n",
       "      <td>63750000.0</td>\n",
       "    </tr>\n",
       "    <tr>\n",
       "      <th>9</th>\n",
       "      <td>AL</td>\n",
       "      <td>35004</td>\n",
       "      <td>4</td>\n",
       "      <td>630.0</td>\n",
       "      <td>87500</td>\n",
       "      <td>55125000.0</td>\n",
       "    </tr>\n",
       "    <tr>\n",
       "      <th>10</th>\n",
       "      <td>AL</td>\n",
       "      <td>35004</td>\n",
       "      <td>5</td>\n",
       "      <td>810.0</td>\n",
       "      <td>150000</td>\n",
       "      <td>121500000.0</td>\n",
       "    </tr>\n",
       "  </tbody>\n",
       "</table>\n",
       "</div>"
      ],
      "text/plain": [
       "   STATE zipcode_add0  agi_stub      N1  MIDPOINT_INCOME  INCOME_MULTIPLIED\n",
       "6     AL        35004         1  1460.0            12500         18250000.0\n",
       "7     AL        35004         2  1400.0            37500         52500000.0\n",
       "8     AL        35004         3  1020.0            62500         63750000.0\n",
       "9     AL        35004         4   630.0            87500         55125000.0\n",
       "10    AL        35004         5   810.0           150000        121500000.0"
      ]
     },
     "execution_count": 134,
     "metadata": {},
     "output_type": "execute_result"
    }
   ],
   "source": [
    "# Calculate the product of MIDPOINT_INCOME and Number of return\n",
    "\n",
    "df_zip_income_new['INCOME_MULTIPLIED'] = df_zip_income_new['MIDPOINT_INCOME'] * df_zip_income_new['N1']\n",
    "df_zip_income_new.head()"
   ]
  },
  {
   "cell_type": "code",
   "execution_count": 135,
   "metadata": {},
   "outputs": [
    {
     "name": "stdout",
     "output_type": "stream",
     "text": [
      "      STATE zipcode_add0  agi_stub      N1  MIDPOINT_INCOME\n",
      "19804    CT        06001         1  1960.0            12500\n",
      "19805    CT        06001         2  1070.0            37500\n",
      "19806    CT        06001         3  1030.0            62500\n",
      "19807    CT        06001         4   880.0            87500\n",
      "19808    CT        06001         5  2120.0           150000\n",
      "19809    CT        06001         6  2310.0          1000000\n",
      "19810    CT        06002         1  3320.0            12500\n",
      "19811    CT        06002         2  3110.0            37500\n",
      "19812    CT        06002         3  2250.0            62500\n",
      "19813    CT        06002         4  1400.0            87500\n"
     ]
    }
   ],
   "source": [
    "filtered_rows = df_zip_income_new[\n",
    "    (df_zip_income_new['zipcode_add0'].astype(str).str.startswith('0')) & \n",
    "    (df_zip_income_new['zipcode_add0'].astype(str).str.len() > 1)\n",
    "]\n",
    "\n",
    "# Select specific columns\n",
    "result = filtered_rows[['STATE', 'zipcode_add0', 'agi_stub', 'N1', 'MIDPOINT_INCOME']]\n",
    "\n",
    "# Display the result\n",
    "print(result.head(10))"
   ]
  },
  {
   "cell_type": "code",
   "execution_count": 136,
   "metadata": {},
   "outputs": [],
   "source": [
    "# Group by 'zipcode' and 'STATE', and calculate the sum of Number of return and the sum of the income products\n",
    "grouped_data = df_zip_income_new.groupby(['zipcode_add0', 'STATE'], as_index=False).agg({\n",
    "    'N1': 'sum',\n",
    "    'INCOME_MULTIPLIED': 'sum'\n",
    "})\n",
    "\n",
    "# Calculate the average agi_stub based on the formula\n",
    "grouped_data['AVERAGE_AGI_STUB'] = grouped_data['INCOME_MULTIPLIED'] / grouped_data['N1']"
   ]
  },
  {
   "cell_type": "code",
   "execution_count": 137,
   "metadata": {},
   "outputs": [
    {
     "data": {
      "text/html": [
       "<div>\n",
       "<style scoped>\n",
       "    .dataframe tbody tr th:only-of-type {\n",
       "        vertical-align: middle;\n",
       "    }\n",
       "\n",
       "    .dataframe tbody tr th {\n",
       "        vertical-align: top;\n",
       "    }\n",
       "\n",
       "    .dataframe thead th {\n",
       "        text-align: right;\n",
       "    }\n",
       "</style>\n",
       "<table border=\"1\" class=\"dataframe\">\n",
       "  <thead>\n",
       "    <tr style=\"text-align: right;\">\n",
       "      <th></th>\n",
       "      <th>zipcode_add0</th>\n",
       "      <th>STATE</th>\n",
       "      <th>N1</th>\n",
       "      <th>INCOME_MULTIPLIED</th>\n",
       "      <th>AVERAGE_AGI_STUB</th>\n",
       "    </tr>\n",
       "  </thead>\n",
       "  <tbody>\n",
       "    <tr>\n",
       "      <th>0</th>\n",
       "      <td>01001</td>\n",
       "      <td>MA</td>\n",
       "      <td>9320.0</td>\n",
       "      <td>8.123750e+08</td>\n",
       "      <td>87164.699571</td>\n",
       "    </tr>\n",
       "    <tr>\n",
       "      <th>1</th>\n",
       "      <td>01002</td>\n",
       "      <td>MA</td>\n",
       "      <td>9880.0</td>\n",
       "      <td>1.531250e+09</td>\n",
       "      <td>154984.817814</td>\n",
       "    </tr>\n",
       "    <tr>\n",
       "      <th>2</th>\n",
       "      <td>01005</td>\n",
       "      <td>MA</td>\n",
       "      <td>2490.0</td>\n",
       "      <td>2.153750e+08</td>\n",
       "      <td>86495.983936</td>\n",
       "    </tr>\n",
       "    <tr>\n",
       "      <th>3</th>\n",
       "      <td>01007</td>\n",
       "      <td>MA</td>\n",
       "      <td>7970.0</td>\n",
       "      <td>9.876250e+08</td>\n",
       "      <td>123917.816813</td>\n",
       "    </tr>\n",
       "    <tr>\n",
       "      <th>4</th>\n",
       "      <td>01008</td>\n",
       "      <td>MA</td>\n",
       "      <td>660.0</td>\n",
       "      <td>6.300000e+07</td>\n",
       "      <td>95454.545455</td>\n",
       "    </tr>\n",
       "    <tr>\n",
       "      <th>5</th>\n",
       "      <td>01010</td>\n",
       "      <td>MA</td>\n",
       "      <td>1980.0</td>\n",
       "      <td>2.371250e+08</td>\n",
       "      <td>119760.101010</td>\n",
       "    </tr>\n",
       "    <tr>\n",
       "      <th>6</th>\n",
       "      <td>01011</td>\n",
       "      <td>MA</td>\n",
       "      <td>630.0</td>\n",
       "      <td>3.900000e+07</td>\n",
       "      <td>61904.761905</td>\n",
       "    </tr>\n",
       "    <tr>\n",
       "      <th>7</th>\n",
       "      <td>01012</td>\n",
       "      <td>MA</td>\n",
       "      <td>410.0</td>\n",
       "      <td>2.612500e+07</td>\n",
       "      <td>63719.512195</td>\n",
       "    </tr>\n",
       "    <tr>\n",
       "      <th>8</th>\n",
       "      <td>01013</td>\n",
       "      <td>MA</td>\n",
       "      <td>11270.0</td>\n",
       "      <td>5.835000e+08</td>\n",
       "      <td>51774.622893</td>\n",
       "    </tr>\n",
       "    <tr>\n",
       "      <th>9</th>\n",
       "      <td>01020</td>\n",
       "      <td>MA</td>\n",
       "      <td>15760.0</td>\n",
       "      <td>9.882500e+08</td>\n",
       "      <td>62706.218274</td>\n",
       "    </tr>\n",
       "    <tr>\n",
       "      <th>10</th>\n",
       "      <td>01022</td>\n",
       "      <td>MA</td>\n",
       "      <td>1180.0</td>\n",
       "      <td>5.700000e+07</td>\n",
       "      <td>48305.084746</td>\n",
       "    </tr>\n",
       "    <tr>\n",
       "      <th>11</th>\n",
       "      <td>01026</td>\n",
       "      <td>MA</td>\n",
       "      <td>520.0</td>\n",
       "      <td>3.212500e+07</td>\n",
       "      <td>61778.846154</td>\n",
       "    </tr>\n",
       "    <tr>\n",
       "      <th>12</th>\n",
       "      <td>01027</td>\n",
       "      <td>MA</td>\n",
       "      <td>10070.0</td>\n",
       "      <td>9.047500e+08</td>\n",
       "      <td>89846.077458</td>\n",
       "    </tr>\n",
       "    <tr>\n",
       "      <th>13</th>\n",
       "      <td>01028</td>\n",
       "      <td>MA</td>\n",
       "      <td>8540.0</td>\n",
       "      <td>1.293000e+09</td>\n",
       "      <td>151405.152225</td>\n",
       "    </tr>\n",
       "    <tr>\n",
       "      <th>14</th>\n",
       "      <td>01030</td>\n",
       "      <td>MA</td>\n",
       "      <td>6170.0</td>\n",
       "      <td>6.362500e+08</td>\n",
       "      <td>103119.935170</td>\n",
       "    </tr>\n",
       "    <tr>\n",
       "      <th>15</th>\n",
       "      <td>01031</td>\n",
       "      <td>MA</td>\n",
       "      <td>570.0</td>\n",
       "      <td>2.962500e+07</td>\n",
       "      <td>51973.684211</td>\n",
       "    </tr>\n",
       "    <tr>\n",
       "      <th>16</th>\n",
       "      <td>01032</td>\n",
       "      <td>MA</td>\n",
       "      <td>270.0</td>\n",
       "      <td>1.762500e+07</td>\n",
       "      <td>65277.777778</td>\n",
       "    </tr>\n",
       "    <tr>\n",
       "      <th>17</th>\n",
       "      <td>01033</td>\n",
       "      <td>MA</td>\n",
       "      <td>3370.0</td>\n",
       "      <td>3.857500e+08</td>\n",
       "      <td>114465.875371</td>\n",
       "    </tr>\n",
       "    <tr>\n",
       "      <th>18</th>\n",
       "      <td>01034</td>\n",
       "      <td>MA</td>\n",
       "      <td>1040.0</td>\n",
       "      <td>1.167500e+08</td>\n",
       "      <td>112259.615385</td>\n",
       "    </tr>\n",
       "    <tr>\n",
       "      <th>19</th>\n",
       "      <td>01035</td>\n",
       "      <td>MA</td>\n",
       "      <td>2920.0</td>\n",
       "      <td>3.677500e+08</td>\n",
       "      <td>125941.780822</td>\n",
       "    </tr>\n",
       "  </tbody>\n",
       "</table>\n",
       "</div>"
      ],
      "text/plain": [
       "   zipcode_add0 STATE       N1  INCOME_MULTIPLIED  AVERAGE_AGI_STUB\n",
       "0         01001    MA   9320.0       8.123750e+08      87164.699571\n",
       "1         01002    MA   9880.0       1.531250e+09     154984.817814\n",
       "2         01005    MA   2490.0       2.153750e+08      86495.983936\n",
       "3         01007    MA   7970.0       9.876250e+08     123917.816813\n",
       "4         01008    MA    660.0       6.300000e+07      95454.545455\n",
       "5         01010    MA   1980.0       2.371250e+08     119760.101010\n",
       "6         01011    MA    630.0       3.900000e+07      61904.761905\n",
       "7         01012    MA    410.0       2.612500e+07      63719.512195\n",
       "8         01013    MA  11270.0       5.835000e+08      51774.622893\n",
       "9         01020    MA  15760.0       9.882500e+08      62706.218274\n",
       "10        01022    MA   1180.0       5.700000e+07      48305.084746\n",
       "11        01026    MA    520.0       3.212500e+07      61778.846154\n",
       "12        01027    MA  10070.0       9.047500e+08      89846.077458\n",
       "13        01028    MA   8540.0       1.293000e+09     151405.152225\n",
       "14        01030    MA   6170.0       6.362500e+08     103119.935170\n",
       "15        01031    MA    570.0       2.962500e+07      51973.684211\n",
       "16        01032    MA    270.0       1.762500e+07      65277.777778\n",
       "17        01033    MA   3370.0       3.857500e+08     114465.875371\n",
       "18        01034    MA   1040.0       1.167500e+08     112259.615385\n",
       "19        01035    MA   2920.0       3.677500e+08     125941.780822"
      ]
     },
     "execution_count": 137,
     "metadata": {},
     "output_type": "execute_result"
    }
   ],
   "source": [
    "grouped_data.head(20)"
   ]
  },
  {
   "cell_type": "code",
   "execution_count": 138,
   "metadata": {},
   "outputs": [],
   "source": [
    "grouped_data['ZIPCODE5'] = grouped_data['zipcode_add0']"
   ]
  },
  {
   "cell_type": "code",
   "execution_count": 139,
   "metadata": {},
   "outputs": [
    {
     "data": {
      "text/plain": [
       "dtype('O')"
      ]
     },
     "execution_count": 139,
     "metadata": {},
     "output_type": "execute_result"
    }
   ],
   "source": [
    "grouped_data['ZIPCODE5'].dtype"
   ]
  },
  {
   "cell_type": "code",
   "execution_count": 140,
   "metadata": {},
   "outputs": [
    {
     "data": {
      "text/plain": [
       "0"
      ]
     },
     "execution_count": 140,
     "metadata": {},
     "output_type": "execute_result"
    }
   ],
   "source": [
    "grouped_data['ZIPCODE5'].isna().sum()"
   ]
  },
  {
   "cell_type": "code",
   "execution_count": 141,
   "metadata": {},
   "outputs": [
    {
     "data": {
      "text/html": [
       "<div>\n",
       "<style scoped>\n",
       "    .dataframe tbody tr th:only-of-type {\n",
       "        vertical-align: middle;\n",
       "    }\n",
       "\n",
       "    .dataframe tbody tr th {\n",
       "        vertical-align: top;\n",
       "    }\n",
       "\n",
       "    .dataframe thead th {\n",
       "        text-align: right;\n",
       "    }\n",
       "</style>\n",
       "<table border=\"1\" class=\"dataframe\">\n",
       "  <thead>\n",
       "    <tr style=\"text-align: right;\">\n",
       "      <th></th>\n",
       "      <th>zipcode_add0</th>\n",
       "      <th>STATE</th>\n",
       "      <th>N1</th>\n",
       "      <th>INCOME_MULTIPLIED</th>\n",
       "      <th>AVERAGE_AGI_STUB</th>\n",
       "      <th>ZIPCODE5</th>\n",
       "    </tr>\n",
       "  </thead>\n",
       "  <tbody>\n",
       "    <tr>\n",
       "      <th>0</th>\n",
       "      <td>01001</td>\n",
       "      <td>MA</td>\n",
       "      <td>9320.0</td>\n",
       "      <td>8.123750e+08</td>\n",
       "      <td>87164.699571</td>\n",
       "      <td>01001</td>\n",
       "    </tr>\n",
       "    <tr>\n",
       "      <th>1</th>\n",
       "      <td>01002</td>\n",
       "      <td>MA</td>\n",
       "      <td>9880.0</td>\n",
       "      <td>1.531250e+09</td>\n",
       "      <td>154984.817814</td>\n",
       "      <td>01002</td>\n",
       "    </tr>\n",
       "    <tr>\n",
       "      <th>2</th>\n",
       "      <td>01005</td>\n",
       "      <td>MA</td>\n",
       "      <td>2490.0</td>\n",
       "      <td>2.153750e+08</td>\n",
       "      <td>86495.983936</td>\n",
       "      <td>01005</td>\n",
       "    </tr>\n",
       "    <tr>\n",
       "      <th>3</th>\n",
       "      <td>01007</td>\n",
       "      <td>MA</td>\n",
       "      <td>7970.0</td>\n",
       "      <td>9.876250e+08</td>\n",
       "      <td>123917.816813</td>\n",
       "      <td>01007</td>\n",
       "    </tr>\n",
       "    <tr>\n",
       "      <th>4</th>\n",
       "      <td>01008</td>\n",
       "      <td>MA</td>\n",
       "      <td>660.0</td>\n",
       "      <td>6.300000e+07</td>\n",
       "      <td>95454.545455</td>\n",
       "      <td>01008</td>\n",
       "    </tr>\n",
       "    <tr>\n",
       "      <th>5</th>\n",
       "      <td>01010</td>\n",
       "      <td>MA</td>\n",
       "      <td>1980.0</td>\n",
       "      <td>2.371250e+08</td>\n",
       "      <td>119760.101010</td>\n",
       "      <td>01010</td>\n",
       "    </tr>\n",
       "    <tr>\n",
       "      <th>6</th>\n",
       "      <td>01011</td>\n",
       "      <td>MA</td>\n",
       "      <td>630.0</td>\n",
       "      <td>3.900000e+07</td>\n",
       "      <td>61904.761905</td>\n",
       "      <td>01011</td>\n",
       "    </tr>\n",
       "    <tr>\n",
       "      <th>7</th>\n",
       "      <td>01012</td>\n",
       "      <td>MA</td>\n",
       "      <td>410.0</td>\n",
       "      <td>2.612500e+07</td>\n",
       "      <td>63719.512195</td>\n",
       "      <td>01012</td>\n",
       "    </tr>\n",
       "    <tr>\n",
       "      <th>8</th>\n",
       "      <td>01013</td>\n",
       "      <td>MA</td>\n",
       "      <td>11270.0</td>\n",
       "      <td>5.835000e+08</td>\n",
       "      <td>51774.622893</td>\n",
       "      <td>01013</td>\n",
       "    </tr>\n",
       "    <tr>\n",
       "      <th>9</th>\n",
       "      <td>01020</td>\n",
       "      <td>MA</td>\n",
       "      <td>15760.0</td>\n",
       "      <td>9.882500e+08</td>\n",
       "      <td>62706.218274</td>\n",
       "      <td>01020</td>\n",
       "    </tr>\n",
       "    <tr>\n",
       "      <th>10</th>\n",
       "      <td>01022</td>\n",
       "      <td>MA</td>\n",
       "      <td>1180.0</td>\n",
       "      <td>5.700000e+07</td>\n",
       "      <td>48305.084746</td>\n",
       "      <td>01022</td>\n",
       "    </tr>\n",
       "    <tr>\n",
       "      <th>11</th>\n",
       "      <td>01026</td>\n",
       "      <td>MA</td>\n",
       "      <td>520.0</td>\n",
       "      <td>3.212500e+07</td>\n",
       "      <td>61778.846154</td>\n",
       "      <td>01026</td>\n",
       "    </tr>\n",
       "    <tr>\n",
       "      <th>12</th>\n",
       "      <td>01027</td>\n",
       "      <td>MA</td>\n",
       "      <td>10070.0</td>\n",
       "      <td>9.047500e+08</td>\n",
       "      <td>89846.077458</td>\n",
       "      <td>01027</td>\n",
       "    </tr>\n",
       "    <tr>\n",
       "      <th>13</th>\n",
       "      <td>01028</td>\n",
       "      <td>MA</td>\n",
       "      <td>8540.0</td>\n",
       "      <td>1.293000e+09</td>\n",
       "      <td>151405.152225</td>\n",
       "      <td>01028</td>\n",
       "    </tr>\n",
       "    <tr>\n",
       "      <th>14</th>\n",
       "      <td>01030</td>\n",
       "      <td>MA</td>\n",
       "      <td>6170.0</td>\n",
       "      <td>6.362500e+08</td>\n",
       "      <td>103119.935170</td>\n",
       "      <td>01030</td>\n",
       "    </tr>\n",
       "    <tr>\n",
       "      <th>15</th>\n",
       "      <td>01031</td>\n",
       "      <td>MA</td>\n",
       "      <td>570.0</td>\n",
       "      <td>2.962500e+07</td>\n",
       "      <td>51973.684211</td>\n",
       "      <td>01031</td>\n",
       "    </tr>\n",
       "    <tr>\n",
       "      <th>16</th>\n",
       "      <td>01032</td>\n",
       "      <td>MA</td>\n",
       "      <td>270.0</td>\n",
       "      <td>1.762500e+07</td>\n",
       "      <td>65277.777778</td>\n",
       "      <td>01032</td>\n",
       "    </tr>\n",
       "    <tr>\n",
       "      <th>17</th>\n",
       "      <td>01033</td>\n",
       "      <td>MA</td>\n",
       "      <td>3370.0</td>\n",
       "      <td>3.857500e+08</td>\n",
       "      <td>114465.875371</td>\n",
       "      <td>01033</td>\n",
       "    </tr>\n",
       "    <tr>\n",
       "      <th>18</th>\n",
       "      <td>01034</td>\n",
       "      <td>MA</td>\n",
       "      <td>1040.0</td>\n",
       "      <td>1.167500e+08</td>\n",
       "      <td>112259.615385</td>\n",
       "      <td>01034</td>\n",
       "    </tr>\n",
       "    <tr>\n",
       "      <th>19</th>\n",
       "      <td>01035</td>\n",
       "      <td>MA</td>\n",
       "      <td>2920.0</td>\n",
       "      <td>3.677500e+08</td>\n",
       "      <td>125941.780822</td>\n",
       "      <td>01035</td>\n",
       "    </tr>\n",
       "  </tbody>\n",
       "</table>\n",
       "</div>"
      ],
      "text/plain": [
       "   zipcode_add0 STATE       N1  INCOME_MULTIPLIED  AVERAGE_AGI_STUB ZIPCODE5\n",
       "0         01001    MA   9320.0       8.123750e+08      87164.699571    01001\n",
       "1         01002    MA   9880.0       1.531250e+09     154984.817814    01002\n",
       "2         01005    MA   2490.0       2.153750e+08      86495.983936    01005\n",
       "3         01007    MA   7970.0       9.876250e+08     123917.816813    01007\n",
       "4         01008    MA    660.0       6.300000e+07      95454.545455    01008\n",
       "5         01010    MA   1980.0       2.371250e+08     119760.101010    01010\n",
       "6         01011    MA    630.0       3.900000e+07      61904.761905    01011\n",
       "7         01012    MA    410.0       2.612500e+07      63719.512195    01012\n",
       "8         01013    MA  11270.0       5.835000e+08      51774.622893    01013\n",
       "9         01020    MA  15760.0       9.882500e+08      62706.218274    01020\n",
       "10        01022    MA   1180.0       5.700000e+07      48305.084746    01022\n",
       "11        01026    MA    520.0       3.212500e+07      61778.846154    01026\n",
       "12        01027    MA  10070.0       9.047500e+08      89846.077458    01027\n",
       "13        01028    MA   8540.0       1.293000e+09     151405.152225    01028\n",
       "14        01030    MA   6170.0       6.362500e+08     103119.935170    01030\n",
       "15        01031    MA    570.0       2.962500e+07      51973.684211    01031\n",
       "16        01032    MA    270.0       1.762500e+07      65277.777778    01032\n",
       "17        01033    MA   3370.0       3.857500e+08     114465.875371    01033\n",
       "18        01034    MA   1040.0       1.167500e+08     112259.615385    01034\n",
       "19        01035    MA   2920.0       3.677500e+08     125941.780822    01035"
      ]
     },
     "execution_count": 141,
     "metadata": {},
     "output_type": "execute_result"
    }
   ],
   "source": [
    "grouped_data.head(20)"
   ]
  },
  {
   "cell_type": "markdown",
   "metadata": {},
   "source": [
    "# Adding 'AVERAGE_AGI_STUB' to df_us_houseprice based on ZIPCODE5"
   ]
  },
  {
   "cell_type": "code",
   "execution_count": 142,
   "metadata": {},
   "outputs": [
    {
     "data": {
      "text/plain": [
       "0"
      ]
     },
     "execution_count": 142,
     "metadata": {},
     "output_type": "execute_result"
    }
   ],
   "source": [
    "df_us_houseprice['ZIPCODE5'].isnull().sum()"
   ]
  },
  {
   "cell_type": "code",
   "execution_count": 143,
   "metadata": {},
   "outputs": [],
   "source": [
    "# 'ZIPCODE5' is a common column in both DataFrames, use it to merge the two df\n",
    "\n",
    "df_us_houseprice_income = pd.merge(df_us_houseprice, grouped_data[['ZIPCODE5', 'AVERAGE_AGI_STUB']], on='ZIPCODE5', how='left')"
   ]
  },
  {
   "cell_type": "code",
   "execution_count": 144,
   "metadata": {},
   "outputs": [
    {
     "data": {
      "text/html": [
       "<div>\n",
       "<style scoped>\n",
       "    .dataframe tbody tr th:only-of-type {\n",
       "        vertical-align: middle;\n",
       "    }\n",
       "\n",
       "    .dataframe tbody tr th {\n",
       "        vertical-align: top;\n",
       "    }\n",
       "\n",
       "    .dataframe thead th {\n",
       "        text-align: right;\n",
       "    }\n",
       "</style>\n",
       "<table border=\"1\" class=\"dataframe\">\n",
       "  <thead>\n",
       "    <tr style=\"text-align: right;\">\n",
       "      <th></th>\n",
       "      <th>CMTE_ID</th>\n",
       "      <th>CITY</th>\n",
       "      <th>STATE</th>\n",
       "      <th>ZIP_CODE</th>\n",
       "      <th>EMPLOYER</th>\n",
       "      <th>OCCUPATION</th>\n",
       "      <th>TRANSACTION_DT</th>\n",
       "      <th>TRANSACTION_AMT</th>\n",
       "      <th>party_full</th>\n",
       "      <th>party_label</th>\n",
       "      <th>zipcode_datatype</th>\n",
       "      <th>ZIPCODE5</th>\n",
       "      <th>2023_average</th>\n",
       "      <th>AVERAGE_AGI_STUB</th>\n",
       "    </tr>\n",
       "  </thead>\n",
       "  <tbody>\n",
       "    <tr>\n",
       "      <th>0</th>\n",
       "      <td>C00806752</td>\n",
       "      <td>LAS VEGAS</td>\n",
       "      <td>NV</td>\n",
       "      <td>89107</td>\n",
       "      <td>NaN</td>\n",
       "      <td>NaN</td>\n",
       "      <td>4052022</td>\n",
       "      <td>580</td>\n",
       "      <td>REPUBLICAN PARTY</td>\n",
       "      <td>0</td>\n",
       "      <td>&lt;class 'str'&gt;</td>\n",
       "      <td>89107</td>\n",
       "      <td>320518.986361</td>\n",
       "      <td>58496.690428</td>\n",
       "    </tr>\n",
       "    <tr>\n",
       "      <th>1</th>\n",
       "      <td>C00806752</td>\n",
       "      <td>LAS VEGAS</td>\n",
       "      <td>NV</td>\n",
       "      <td>89148</td>\n",
       "      <td>NaN</td>\n",
       "      <td>NaN</td>\n",
       "      <td>4102022</td>\n",
       "      <td>350</td>\n",
       "      <td>REPUBLICAN PARTY</td>\n",
       "      <td>0</td>\n",
       "      <td>&lt;class 'str'&gt;</td>\n",
       "      <td>89148</td>\n",
       "      <td>449054.130060</td>\n",
       "      <td>97228.905999</td>\n",
       "    </tr>\n",
       "    <tr>\n",
       "      <th>2</th>\n",
       "      <td>C00806752</td>\n",
       "      <td>LAS VEGAS</td>\n",
       "      <td>NV</td>\n",
       "      <td>89107</td>\n",
       "      <td>NONE</td>\n",
       "      <td>RETIRED</td>\n",
       "      <td>4112022</td>\n",
       "      <td>480</td>\n",
       "      <td>REPUBLICAN PARTY</td>\n",
       "      <td>0</td>\n",
       "      <td>&lt;class 'str'&gt;</td>\n",
       "      <td>89107</td>\n",
       "      <td>320518.986361</td>\n",
       "      <td>58496.690428</td>\n",
       "    </tr>\n",
       "    <tr>\n",
       "      <th>3</th>\n",
       "      <td>C00806752</td>\n",
       "      <td>LAS VEGAS</td>\n",
       "      <td>NV</td>\n",
       "      <td>89110</td>\n",
       "      <td>NONE</td>\n",
       "      <td>RETIRED</td>\n",
       "      <td>6302022</td>\n",
       "      <td>7709</td>\n",
       "      <td>REPUBLICAN PARTY</td>\n",
       "      <td>0</td>\n",
       "      <td>&lt;class 'str'&gt;</td>\n",
       "      <td>89110</td>\n",
       "      <td>326615.908573</td>\n",
       "      <td>46537.385929</td>\n",
       "    </tr>\n",
       "    <tr>\n",
       "      <th>4</th>\n",
       "      <td>C00806372</td>\n",
       "      <td>PROVIDENCE</td>\n",
       "      <td>RI</td>\n",
       "      <td>029033050</td>\n",
       "      <td>NOT EMPLOYED</td>\n",
       "      <td>NOT EMPLOYED</td>\n",
       "      <td>1112023</td>\n",
       "      <td>64427</td>\n",
       "      <td>DEMOCRATIC PARTY</td>\n",
       "      <td>1</td>\n",
       "      <td>&lt;class 'str'&gt;</td>\n",
       "      <td>02903</td>\n",
       "      <td>376564.797751</td>\n",
       "      <td>140167.364017</td>\n",
       "    </tr>\n",
       "  </tbody>\n",
       "</table>\n",
       "</div>"
      ],
      "text/plain": [
       "     CMTE_ID        CITY STATE   ZIP_CODE      EMPLOYER    OCCUPATION  \\\n",
       "0  C00806752   LAS VEGAS    NV      89107           NaN           NaN   \n",
       "1  C00806752   LAS VEGAS    NV      89148           NaN           NaN   \n",
       "2  C00806752   LAS VEGAS    NV      89107          NONE       RETIRED   \n",
       "3  C00806752   LAS VEGAS    NV      89110          NONE       RETIRED   \n",
       "4  C00806372  PROVIDENCE    RI  029033050  NOT EMPLOYED  NOT EMPLOYED   \n",
       "\n",
       "   TRANSACTION_DT  TRANSACTION_AMT        party_full  party_label  \\\n",
       "0         4052022              580  REPUBLICAN PARTY            0   \n",
       "1         4102022              350  REPUBLICAN PARTY            0   \n",
       "2         4112022              480  REPUBLICAN PARTY            0   \n",
       "3         6302022             7709  REPUBLICAN PARTY            0   \n",
       "4         1112023            64427  DEMOCRATIC PARTY            1   \n",
       "\n",
       "  zipcode_datatype ZIPCODE5   2023_average  AVERAGE_AGI_STUB  \n",
       "0    <class 'str'>    89107  320518.986361      58496.690428  \n",
       "1    <class 'str'>    89148  449054.130060      97228.905999  \n",
       "2    <class 'str'>    89107  320518.986361      58496.690428  \n",
       "3    <class 'str'>    89110  326615.908573      46537.385929  \n",
       "4    <class 'str'>    02903  376564.797751     140167.364017  "
      ]
     },
     "execution_count": 144,
     "metadata": {},
     "output_type": "execute_result"
    }
   ],
   "source": [
    "df_us_houseprice_income.head()"
   ]
  },
  {
   "cell_type": "code",
   "execution_count": 145,
   "metadata": {},
   "outputs": [
    {
     "name": "stdout",
     "output_type": "stream",
     "text": [
      "<class 'str'>    6638986\n",
      "Name: ZIPCODE5, dtype: int64\n"
     ]
    }
   ],
   "source": [
    "# Get data type counts for 'zipcode_tf' column\n",
    "dtype_counts_df_us_houseprice_income = df_us_houseprice_income['ZIPCODE5'].apply(type).value_counts()\n",
    "\n",
    "# Display the data type counts\n",
    "print(dtype_counts_df_us_houseprice_income)"
   ]
  },
  {
   "cell_type": "code",
   "execution_count": 146,
   "metadata": {},
   "outputs": [
    {
     "name": "stdout",
     "output_type": "stream",
     "text": [
      "Minimum length: 5\n",
      "Maximum length: 5\n"
     ]
    }
   ],
   "source": [
    "# Calculate the length of each ZIP code and get the min and max lengths\n",
    "min_length_df_us_houseprice_income = df_us_houseprice_income['ZIPCODE5'].astype(str).apply(len).min()\n",
    "max_length_df_us_houseprice_income = df_us_houseprice_income['ZIPCODE5'].astype(str).apply(len).max()\n",
    "\n",
    "# Display the results\n",
    "print(f\"Minimum length: {min_length_df_us_houseprice_income}\")\n",
    "print(f\"Maximum length: {max_length_df_us_houseprice_income}\")"
   ]
  },
  {
   "cell_type": "code",
   "execution_count": 147,
   "metadata": {},
   "outputs": [],
   "source": [
    "# # Iterate over lengths from 1 to 5\n",
    "# for length in range(1, 6):\n",
    "#     unique_values_df_us_houseprice_income = df_us_houseprice_income['ZIPCODE5'].astype(str).apply(lambda x: x[:length]).unique()\n",
    "    \n",
    "#     print(f\"Unique values for length {length}:\")\n",
    "#     print(unique_values_df_us_houseprice_income)\n",
    "#     print()"
   ]
  },
  {
   "cell_type": "code",
   "execution_count": 148,
   "metadata": {},
   "outputs": [
    {
     "data": {
      "text/plain": [
       "6469384"
      ]
     },
     "execution_count": 148,
     "metadata": {},
     "output_type": "execute_result"
    }
   ],
   "source": [
    "df_us_houseprice_income['AVERAGE_AGI_STUB'].count()"
   ]
  },
  {
   "cell_type": "code",
   "execution_count": 149,
   "metadata": {},
   "outputs": [
    {
     "data": {
      "text/plain": [
       "169602"
      ]
     },
     "execution_count": 149,
     "metadata": {},
     "output_type": "execute_result"
    }
   ],
   "source": [
    "df_us_houseprice_income['AVERAGE_AGI_STUB'].isna().sum()"
   ]
  },
  {
   "cell_type": "code",
   "execution_count": 150,
   "metadata": {},
   "outputs": [
    {
     "data": {
      "text/plain": [
       "0.02554637108739196"
      ]
     },
     "execution_count": 150,
     "metadata": {},
     "output_type": "execute_result"
    }
   ],
   "source": [
    "df_us_houseprice_income['AVERAGE_AGI_STUB'].isna().sum()/df_us_houseprice_income.shape[0]\n",
    "\n",
    "# 2.55% missing values in 'AVERAGE_AGI_STUB' which is renamed as'average_household_income' later."
   ]
  },
  {
   "cell_type": "code",
   "execution_count": 151,
   "metadata": {},
   "outputs": [
    {
     "data": {
      "text/plain": [
       "0.974453628912608"
      ]
     },
     "execution_count": 151,
     "metadata": {},
     "output_type": "execute_result"
    }
   ],
   "source": [
    "df_us_houseprice_income['AVERAGE_AGI_STUB'].count()/df_us_houseprice_income.shape[0]"
   ]
  },
  {
   "cell_type": "code",
   "execution_count": 152,
   "metadata": {},
   "outputs": [],
   "source": [
    "df_us_houseprice_income['average_household_income'] = df_us_houseprice_income['AVERAGE_AGI_STUB']"
   ]
  },
  {
   "cell_type": "code",
   "execution_count": 153,
   "metadata": {},
   "outputs": [],
   "source": [
    "df_us_houseprice_income['average_house_price']=df_us_houseprice_income['2023_average']"
   ]
  },
  {
   "cell_type": "code",
   "execution_count": 154,
   "metadata": {},
   "outputs": [
    {
     "data": {
      "text/html": [
       "<div>\n",
       "<style scoped>\n",
       "    .dataframe tbody tr th:only-of-type {\n",
       "        vertical-align: middle;\n",
       "    }\n",
       "\n",
       "    .dataframe tbody tr th {\n",
       "        vertical-align: top;\n",
       "    }\n",
       "\n",
       "    .dataframe thead th {\n",
       "        text-align: right;\n",
       "    }\n",
       "</style>\n",
       "<table border=\"1\" class=\"dataframe\">\n",
       "  <thead>\n",
       "    <tr style=\"text-align: right;\">\n",
       "      <th></th>\n",
       "      <th>CMTE_ID</th>\n",
       "      <th>CITY</th>\n",
       "      <th>STATE</th>\n",
       "      <th>ZIP_CODE</th>\n",
       "      <th>EMPLOYER</th>\n",
       "      <th>OCCUPATION</th>\n",
       "      <th>TRANSACTION_DT</th>\n",
       "      <th>TRANSACTION_AMT</th>\n",
       "      <th>party_full</th>\n",
       "      <th>party_label</th>\n",
       "      <th>zipcode_datatype</th>\n",
       "      <th>ZIPCODE5</th>\n",
       "      <th>2023_average</th>\n",
       "      <th>AVERAGE_AGI_STUB</th>\n",
       "      <th>average_household_income</th>\n",
       "      <th>average_house_price</th>\n",
       "    </tr>\n",
       "  </thead>\n",
       "  <tbody>\n",
       "    <tr>\n",
       "      <th>0</th>\n",
       "      <td>C00806752</td>\n",
       "      <td>LAS VEGAS</td>\n",
       "      <td>NV</td>\n",
       "      <td>89107</td>\n",
       "      <td>NaN</td>\n",
       "      <td>NaN</td>\n",
       "      <td>4052022</td>\n",
       "      <td>580</td>\n",
       "      <td>REPUBLICAN PARTY</td>\n",
       "      <td>0</td>\n",
       "      <td>&lt;class 'str'&gt;</td>\n",
       "      <td>89107</td>\n",
       "      <td>320518.986361</td>\n",
       "      <td>58496.690428</td>\n",
       "      <td>58496.690428</td>\n",
       "      <td>320518.986361</td>\n",
       "    </tr>\n",
       "    <tr>\n",
       "      <th>1</th>\n",
       "      <td>C00806752</td>\n",
       "      <td>LAS VEGAS</td>\n",
       "      <td>NV</td>\n",
       "      <td>89148</td>\n",
       "      <td>NaN</td>\n",
       "      <td>NaN</td>\n",
       "      <td>4102022</td>\n",
       "      <td>350</td>\n",
       "      <td>REPUBLICAN PARTY</td>\n",
       "      <td>0</td>\n",
       "      <td>&lt;class 'str'&gt;</td>\n",
       "      <td>89148</td>\n",
       "      <td>449054.130060</td>\n",
       "      <td>97228.905999</td>\n",
       "      <td>97228.905999</td>\n",
       "      <td>449054.130060</td>\n",
       "    </tr>\n",
       "    <tr>\n",
       "      <th>2</th>\n",
       "      <td>C00806752</td>\n",
       "      <td>LAS VEGAS</td>\n",
       "      <td>NV</td>\n",
       "      <td>89107</td>\n",
       "      <td>NONE</td>\n",
       "      <td>RETIRED</td>\n",
       "      <td>4112022</td>\n",
       "      <td>480</td>\n",
       "      <td>REPUBLICAN PARTY</td>\n",
       "      <td>0</td>\n",
       "      <td>&lt;class 'str'&gt;</td>\n",
       "      <td>89107</td>\n",
       "      <td>320518.986361</td>\n",
       "      <td>58496.690428</td>\n",
       "      <td>58496.690428</td>\n",
       "      <td>320518.986361</td>\n",
       "    </tr>\n",
       "    <tr>\n",
       "      <th>3</th>\n",
       "      <td>C00806752</td>\n",
       "      <td>LAS VEGAS</td>\n",
       "      <td>NV</td>\n",
       "      <td>89110</td>\n",
       "      <td>NONE</td>\n",
       "      <td>RETIRED</td>\n",
       "      <td>6302022</td>\n",
       "      <td>7709</td>\n",
       "      <td>REPUBLICAN PARTY</td>\n",
       "      <td>0</td>\n",
       "      <td>&lt;class 'str'&gt;</td>\n",
       "      <td>89110</td>\n",
       "      <td>326615.908573</td>\n",
       "      <td>46537.385929</td>\n",
       "      <td>46537.385929</td>\n",
       "      <td>326615.908573</td>\n",
       "    </tr>\n",
       "    <tr>\n",
       "      <th>4</th>\n",
       "      <td>C00806372</td>\n",
       "      <td>PROVIDENCE</td>\n",
       "      <td>RI</td>\n",
       "      <td>029033050</td>\n",
       "      <td>NOT EMPLOYED</td>\n",
       "      <td>NOT EMPLOYED</td>\n",
       "      <td>1112023</td>\n",
       "      <td>64427</td>\n",
       "      <td>DEMOCRATIC PARTY</td>\n",
       "      <td>1</td>\n",
       "      <td>&lt;class 'str'&gt;</td>\n",
       "      <td>02903</td>\n",
       "      <td>376564.797751</td>\n",
       "      <td>140167.364017</td>\n",
       "      <td>140167.364017</td>\n",
       "      <td>376564.797751</td>\n",
       "    </tr>\n",
       "  </tbody>\n",
       "</table>\n",
       "</div>"
      ],
      "text/plain": [
       "     CMTE_ID        CITY STATE   ZIP_CODE      EMPLOYER    OCCUPATION  \\\n",
       "0  C00806752   LAS VEGAS    NV      89107           NaN           NaN   \n",
       "1  C00806752   LAS VEGAS    NV      89148           NaN           NaN   \n",
       "2  C00806752   LAS VEGAS    NV      89107          NONE       RETIRED   \n",
       "3  C00806752   LAS VEGAS    NV      89110          NONE       RETIRED   \n",
       "4  C00806372  PROVIDENCE    RI  029033050  NOT EMPLOYED  NOT EMPLOYED   \n",
       "\n",
       "   TRANSACTION_DT  TRANSACTION_AMT        party_full  party_label  \\\n",
       "0         4052022              580  REPUBLICAN PARTY            0   \n",
       "1         4102022              350  REPUBLICAN PARTY            0   \n",
       "2         4112022              480  REPUBLICAN PARTY            0   \n",
       "3         6302022             7709  REPUBLICAN PARTY            0   \n",
       "4         1112023            64427  DEMOCRATIC PARTY            1   \n",
       "\n",
       "  zipcode_datatype ZIPCODE5   2023_average  AVERAGE_AGI_STUB  \\\n",
       "0    <class 'str'>    89107  320518.986361      58496.690428   \n",
       "1    <class 'str'>    89148  449054.130060      97228.905999   \n",
       "2    <class 'str'>    89107  320518.986361      58496.690428   \n",
       "3    <class 'str'>    89110  326615.908573      46537.385929   \n",
       "4    <class 'str'>    02903  376564.797751     140167.364017   \n",
       "\n",
       "   average_household_income  average_house_price  \n",
       "0              58496.690428        320518.986361  \n",
       "1              97228.905999        449054.130060  \n",
       "2              58496.690428        320518.986361  \n",
       "3              46537.385929        326615.908573  \n",
       "4             140167.364017        376564.797751  "
      ]
     },
     "execution_count": 154,
     "metadata": {},
     "output_type": "execute_result"
    }
   ],
   "source": [
    "df_us_houseprice_income.head()"
   ]
  },
  {
   "cell_type": "code",
   "execution_count": 155,
   "metadata": {},
   "outputs": [
    {
     "data": {
      "text/plain": [
       "0.022759951595017675"
      ]
     },
     "execution_count": 155,
     "metadata": {},
     "output_type": "execute_result"
    }
   ],
   "source": [
    "df_us_houseprice_income['average_house_price'].isnull().sum()/df_us_houseprice_income.shape[0]\n",
    "\n",
    "# 2.28% missing values in 'average_house_price'"
   ]
  },
  {
   "cell_type": "code",
   "execution_count": 156,
   "metadata": {},
   "outputs": [
    {
     "data": {
      "text/plain": [
       "(6638986, 16)"
      ]
     },
     "execution_count": 156,
     "metadata": {},
     "output_type": "execute_result"
    }
   ],
   "source": [
    "df_us_houseprice_income.shape"
   ]
  },
  {
   "cell_type": "markdown",
   "metadata": {},
   "source": [
    "# Drop columns"
   ]
  },
  {
   "cell_type": "code",
   "execution_count": 157,
   "metadata": {},
   "outputs": [],
   "source": [
    "columns_to_drop = ['zipcode_datatype','2023_average','AVERAGE_AGI_STUB']\n",
    "\n",
    "# Use the drop method to remove the specified columns\n",
    "df_us_houseprice_income = df_us_houseprice_income.drop(columns=columns_to_drop)"
   ]
  },
  {
   "cell_type": "code",
   "execution_count": 158,
   "metadata": {},
   "outputs": [
    {
     "data": {
      "text/plain": [
       "(6638986, 13)"
      ]
     },
     "execution_count": 158,
     "metadata": {},
     "output_type": "execute_result"
    }
   ],
   "source": [
    "df_us_houseprice_income.shape"
   ]
  },
  {
   "cell_type": "code",
   "execution_count": 159,
   "metadata": {},
   "outputs": [
    {
     "data": {
      "text/plain": [
       "Index(['CMTE_ID', 'CITY', 'STATE', 'ZIP_CODE', 'EMPLOYER', 'OCCUPATION',\n",
       "       'TRANSACTION_DT', 'TRANSACTION_AMT', 'party_full', 'party_label',\n",
       "       'ZIPCODE5', 'average_household_income', 'average_house_price'],\n",
       "      dtype='object')"
      ]
     },
     "execution_count": 159,
     "metadata": {},
     "output_type": "execute_result"
    }
   ],
   "source": [
    "df_us_houseprice_income.columns"
   ]
  },
  {
   "cell_type": "code",
   "execution_count": 160,
   "metadata": {},
   "outputs": [
    {
     "name": "stdout",
     "output_type": "stream",
     "text": [
      "<class 'pandas.core.frame.DataFrame'>\n",
      "Int64Index: 6638986 entries, 0 to 6638985\n",
      "Data columns (total 13 columns):\n",
      " #   Column                    Dtype  \n",
      "---  ------                    -----  \n",
      " 0   CMTE_ID                   object \n",
      " 1   CITY                      object \n",
      " 2   STATE                     object \n",
      " 3   ZIP_CODE                  object \n",
      " 4   EMPLOYER                  object \n",
      " 5   OCCUPATION                object \n",
      " 6   TRANSACTION_DT            int64  \n",
      " 7   TRANSACTION_AMT           int64  \n",
      " 8   party_full                object \n",
      " 9   party_label               int64  \n",
      " 10  ZIPCODE5                  object \n",
      " 11  average_household_income  float64\n",
      " 12  average_house_price       float64\n",
      "dtypes: float64(2), int64(3), object(8)\n",
      "memory usage: 709.1+ MB\n"
     ]
    }
   ],
   "source": [
    "df_us_houseprice_income.info()"
   ]
  },
  {
   "cell_type": "code",
   "execution_count": 161,
   "metadata": {},
   "outputs": [
    {
     "data": {
      "text/plain": [
       "dtype('O')"
      ]
     },
     "execution_count": 161,
     "metadata": {},
     "output_type": "execute_result"
    }
   ],
   "source": [
    "df_us_houseprice_income.ZIPCODE5.dtype"
   ]
  },
  {
   "cell_type": "markdown",
   "metadata": {},
   "source": [
    "# generate a new file 'df_zipcode_no_Name.csv' after generating features 'average_house_price' and 'average_household_income' from 'ZIPCODE5'¶."
   ]
  },
  {
   "cell_type": "code",
   "execution_count": 180,
   "metadata": {},
   "outputs": [],
   "source": [
    "df_us_houseprice_income.to_csv('df_zipcode_no_Name.csv', index=False)"
   ]
  },
  {
   "cell_type": "code",
   "execution_count": 181,
   "metadata": {},
   "outputs": [
    {
     "name": "stderr",
     "output_type": "stream",
     "text": [
      "C:\\Users\\tubos\\AppData\\Local\\Temp\\ipykernel_24764\\1726556694.py:1: DtypeWarning: Columns (3) have mixed types. Specify dtype option on import or set low_memory=False.\n",
      "  df_0=pd.read_csv('df_zipcode_no_Name.csv')\n"
     ]
    }
   ],
   "source": [
    "df_0=pd.read_csv('df_zipcode_no_Name.csv')"
   ]
  },
  {
   "cell_type": "code",
   "execution_count": 182,
   "metadata": {},
   "outputs": [
    {
     "data": {
      "text/plain": [
       "(6638986, 13)"
      ]
     },
     "execution_count": 182,
     "metadata": {},
     "output_type": "execute_result"
    }
   ],
   "source": [
    "df_0.shape"
   ]
  },
  {
   "cell_type": "code",
   "execution_count": 184,
   "metadata": {},
   "outputs": [
    {
     "name": "stdout",
     "output_type": "stream",
     "text": [
      "<class 'pandas.core.frame.DataFrame'>\n",
      "RangeIndex: 6638986 entries, 0 to 6638985\n",
      "Data columns (total 13 columns):\n",
      " #   Column                    Dtype  \n",
      "---  ------                    -----  \n",
      " 0   CMTE_ID                   object \n",
      " 1   CITY                      object \n",
      " 2   STATE                     object \n",
      " 3   ZIP_CODE                  object \n",
      " 4   EMPLOYER                  object \n",
      " 5   OCCUPATION                object \n",
      " 6   TRANSACTION_DT            int64  \n",
      " 7   TRANSACTION_AMT           int64  \n",
      " 8   party_full                object \n",
      " 9   party_label               int64  \n",
      " 10  ZIPCODE5                  int64  \n",
      " 11  average_household_income  float64\n",
      " 12  average_house_price       float64\n",
      "dtypes: float64(2), int64(4), object(7)\n",
      "memory usage: 658.5+ MB\n"
     ]
    }
   ],
   "source": [
    "df_0.info()"
   ]
  }
 ],
 "metadata": {
  "kernelspec": {
   "display_name": "Python 3 (ipykernel)",
   "language": "python",
   "name": "python3"
  },
  "language_info": {
   "codemirror_mode": {
    "name": "ipython",
    "version": 3
   },
   "file_extension": ".py",
   "mimetype": "text/x-python",
   "name": "python",
   "nbconvert_exporter": "python",
   "pygments_lexer": "ipython3",
   "version": "3.9.13"
  }
 },
 "nbformat": 4,
 "nbformat_minor": 2
}
