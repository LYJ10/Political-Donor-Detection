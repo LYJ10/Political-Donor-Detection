{
 "cells": [
  {
   "cell_type": "markdown",
   "id": "a7f70388",
   "metadata": {},
   "source": [
    "# In this notebook, treat the raw data in year 2023 which includes 5 seperate original txt files. "
   ]
  },
  {
   "cell_type": "markdown",
   "id": "6ec1e18f",
   "metadata": {},
   "source": [
    "# What has been done in this notebook?\n",
    "1. Add column names to the original txt files since they did not include column names. \n",
    "2. Create the dataframe new_df_xxxx with 9 columns we are interested in from the original individual donor df. xxxx is the last    four digits of each txt file.\n",
    "3. Combine the five new_df_xxxx into one dataframe df_2023.\n",
    "4. Add \"party_full\" column to df_2023 and name the dataframe as new_df_2023.\n",
    "5. Treat the CMTE_ID with the highest amount of missing values in party_ful column. After this, the party_full missing values      percentage is about 20%.\n",
    "6. Drop rows where party_full values are not equal to \"DEMOCRATIC PARTY\" or \"REPUBLICAN PARTY\".\n",
    "6. Creat a new column 'party_label', assign 1 to \"DEMOCRATIC PARTY\" and 0 to \"REPUBLICAN PARTY\".\n",
    "7. Transform 'TRANSCATION_DT' to date_time format and store it in the new column 'TRANSAC_DT_new'.\n",
    "8. Drop rows where the 'TRANSAC_DT_new' values are not in the year of 2023.\n",
    "5. Save df_2_party_2023 to a new CSV file and name it as 'df_2_party_2023.csv'\n",
    "\n",
    "(the above stesps will be applied to files in each year respectively.)"
   ]
  },
  {
   "cell_type": "code",
   "execution_count": 1,
   "id": "ecf000be",
   "metadata": {},
   "outputs": [],
   "source": [
    "import pandas as pd"
   ]
  },
  {
   "cell_type": "code",
   "execution_count": 2,
   "id": "41122fba",
   "metadata": {},
   "outputs": [],
   "source": [
    "headname = pd.read_csv('indiv_header_file (for political donor txt files).csv')"
   ]
  },
  {
   "cell_type": "code",
   "execution_count": 3,
   "id": "301f4895",
   "metadata": {},
   "outputs": [
    {
     "data": {
      "text/plain": [
       "Index(['CMTE_ID', 'AMNDT_IND', 'RPT_TP', 'TRANSACTION_PGI', 'IMAGE_NUM',\n",
       "       'TRANSACTION_TP', 'ENTITY_TP', 'NAME', 'CITY', 'STATE', 'ZIP_CODE',\n",
       "       'EMPLOYER', 'OCCUPATION', 'TRANSACTION_DT', 'TRANSACTION_AMT',\n",
       "       'OTHER_ID', 'TRAN_ID', 'FILE_NUM', 'MEMO_CD', 'MEMO_TEXT', 'SUB_ID'],\n",
       "      dtype='object')"
      ]
     },
     "execution_count": 3,
     "metadata": {},
     "output_type": "execute_result"
    }
   ],
   "source": [
    "headname.columns"
   ]
  },
  {
   "cell_type": "code",
   "execution_count": 4,
   "id": "53870e3d",
   "metadata": {},
   "outputs": [
    {
     "name": "stderr",
     "output_type": "stream",
     "text": [
      "C:\\Users\\tubos\\AppData\\Local\\Temp\\ipykernel_11040\\2522238050.py:1: DtypeWarning: Columns (10,18) have mixed types. Specify dtype option on import or set low_memory=False.\n",
      "  df_0330 = pd.read_csv('itcont_2024_20030211_20230330.txt', delimiter='|',names=headname.columns, header=None)\n"
     ]
    }
   ],
   "source": [
    "df_0330 = pd.read_csv('itcont_2024_20030211_20230330.txt', delimiter='|',names=headname.columns, header=None)"
   ]
  },
  {
   "cell_type": "code",
   "execution_count": 5,
   "id": "9e18650c",
   "metadata": {},
   "outputs": [
    {
     "name": "stderr",
     "output_type": "stream",
     "text": [
      "C:\\Users\\tubos\\AppData\\Local\\Temp\\ipykernel_11040\\4230808486.py:1: DtypeWarning: Columns (10,18) have mixed types. Specify dtype option on import or set low_memory=False.\n",
      "  df_0527 = pd.read_csv('itcont_2024_20230331_20230527.txt', delimiter='|',names=headname.columns, header=None)\n"
     ]
    }
   ],
   "source": [
    "df_0527 = pd.read_csv('itcont_2024_20230331_20230527.txt', delimiter='|',names=headname.columns, header=None)"
   ]
  },
  {
   "cell_type": "code",
   "execution_count": 6,
   "id": "58161cbc",
   "metadata": {},
   "outputs": [
    {
     "name": "stderr",
     "output_type": "stream",
     "text": [
      "C:\\Users\\tubos\\AppData\\Local\\Temp\\ipykernel_11040\\1669191063.py:1: DtypeWarning: Columns (10,18) have mixed types. Specify dtype option on import or set low_memory=False.\n",
      "  df_0721 = pd.read_csv('itcont_2024_20230528_20230721.txt', delimiter='|',names=headname.columns, header=None)\n"
     ]
    }
   ],
   "source": [
    "df_0721 = pd.read_csv('itcont_2024_20230528_20230721.txt', delimiter='|',names=headname.columns, header=None)"
   ]
  },
  {
   "cell_type": "code",
   "execution_count": 7,
   "id": "0cbe1e47",
   "metadata": {},
   "outputs": [
    {
     "name": "stderr",
     "output_type": "stream",
     "text": [
      "C:\\Users\\tubos\\AppData\\Local\\Temp\\ipykernel_11040\\1716292352.py:1: DtypeWarning: Columns (10,18) have mixed types. Specify dtype option on import or set low_memory=False.\n",
      "  df_0929 = pd.read_csv('itcont_2024_20230722_20230929.txt', delimiter='|',names=headname.columns, header=None)\n"
     ]
    }
   ],
   "source": [
    "df_0929 = pd.read_csv('itcont_2024_20230722_20230929.txt', delimiter='|',names=headname.columns, header=None)"
   ]
  },
  {
   "cell_type": "code",
   "execution_count": 8,
   "id": "7b10f191",
   "metadata": {},
   "outputs": [
    {
     "name": "stderr",
     "output_type": "stream",
     "text": [
      "C:\\Users\\tubos\\AppData\\Local\\Temp\\ipykernel_11040\\29901737.py:1: DtypeWarning: Columns (10,16,18) have mixed types. Specify dtype option on import or set low_memory=False.\n",
      "  df_0622 = pd.read_csv('itcont_2024_20230930_20260622.txt', delimiter='|',names=headname.columns, header=None)\n"
     ]
    }
   ],
   "source": [
    "df_0622 = pd.read_csv('itcont_2024_20230930_20260622.txt', delimiter='|',names=headname.columns, header=None)"
   ]
  },
  {
   "cell_type": "code",
   "execution_count": 9,
   "id": "8761b9bf",
   "metadata": {},
   "outputs": [
    {
     "data": {
      "text/plain": [
       "(1974696, 21)"
      ]
     },
     "execution_count": 9,
     "metadata": {},
     "output_type": "execute_result"
    }
   ],
   "source": [
    "df_0330.shape"
   ]
  },
  {
   "cell_type": "code",
   "execution_count": 10,
   "id": "1ca5dd0f",
   "metadata": {},
   "outputs": [
    {
     "data": {
      "text/plain": [
       "Index(['CMTE_ID', 'AMNDT_IND', 'RPT_TP', 'TRANSACTION_PGI', 'IMAGE_NUM',\n",
       "       'TRANSACTION_TP', 'ENTITY_TP', 'NAME', 'CITY', 'STATE', 'ZIP_CODE',\n",
       "       'EMPLOYER', 'OCCUPATION', 'TRANSACTION_DT', 'TRANSACTION_AMT',\n",
       "       'OTHER_ID', 'TRAN_ID', 'FILE_NUM', 'MEMO_CD', 'MEMO_TEXT', 'SUB_ID'],\n",
       "      dtype='object')"
      ]
     },
     "execution_count": 10,
     "metadata": {},
     "output_type": "execute_result"
    }
   ],
   "source": [
    "df_0330.columns"
   ]
  },
  {
   "cell_type": "code",
   "execution_count": 11,
   "id": "8a4d1a90",
   "metadata": {},
   "outputs": [
    {
     "name": "stdout",
     "output_type": "stream",
     "text": [
      "<class 'pandas.core.frame.DataFrame'>\n",
      "RangeIndex: 1974696 entries, 0 to 1974695\n",
      "Data columns (total 21 columns):\n",
      " #   Column           Dtype \n",
      "---  ------           ----- \n",
      " 0   CMTE_ID          object\n",
      " 1   AMNDT_IND        object\n",
      " 2   RPT_TP           object\n",
      " 3   TRANSACTION_PGI  object\n",
      " 4   IMAGE_NUM        int64 \n",
      " 5   TRANSACTION_TP   object\n",
      " 6   ENTITY_TP        object\n",
      " 7   NAME             object\n",
      " 8   CITY             object\n",
      " 9   STATE            object\n",
      " 10  ZIP_CODE         object\n",
      " 11  EMPLOYER         object\n",
      " 12  OCCUPATION       object\n",
      " 13  TRANSACTION_DT   int64 \n",
      " 14  TRANSACTION_AMT  int64 \n",
      " 15  OTHER_ID         object\n",
      " 16  TRAN_ID          object\n",
      " 17  FILE_NUM         int64 \n",
      " 18  MEMO_CD          object\n",
      " 19  MEMO_TEXT        object\n",
      " 20  SUB_ID           int64 \n",
      "dtypes: int64(5), object(16)\n",
      "memory usage: 316.4+ MB\n"
     ]
    }
   ],
   "source": [
    "df_0330.info()"
   ]
  },
  {
   "cell_type": "code",
   "execution_count": 12,
   "id": "f23a0843",
   "metadata": {},
   "outputs": [
    {
     "data": {
      "text/plain": [
       "(1973198, 21)"
      ]
     },
     "execution_count": 12,
     "metadata": {},
     "output_type": "execute_result"
    }
   ],
   "source": [
    "df_0527.shape"
   ]
  },
  {
   "cell_type": "code",
   "execution_count": 13,
   "id": "b26df792",
   "metadata": {},
   "outputs": [
    {
     "data": {
      "text/plain": [
       "(1997968, 21)"
      ]
     },
     "execution_count": 13,
     "metadata": {},
     "output_type": "execute_result"
    }
   ],
   "source": [
    "df_0721.shape"
   ]
  },
  {
   "cell_type": "code",
   "execution_count": 14,
   "id": "9e87efe0",
   "metadata": {},
   "outputs": [
    {
     "data": {
      "text/plain": [
       "(1989995, 21)"
      ]
     },
     "execution_count": 14,
     "metadata": {},
     "output_type": "execute_result"
    }
   ],
   "source": [
    "df_0929.shape"
   ]
  },
  {
   "cell_type": "code",
   "execution_count": 15,
   "id": "d696f2af",
   "metadata": {},
   "outputs": [
    {
     "data": {
      "text/plain": [
       "(755860, 21)"
      ]
     },
     "execution_count": 15,
     "metadata": {},
     "output_type": "execute_result"
    }
   ],
   "source": [
    "df_0622.shape"
   ]
  },
  {
   "cell_type": "markdown",
   "id": "5a8dc387",
   "metadata": {},
   "source": [
    "Contributions by individuals file format\n",
    "https://www.fec.gov/campaign-finance-data/contributions-individuals-file-description/ "
   ]
  },
  {
   "cell_type": "markdown",
   "id": "df180481",
   "metadata": {},
   "source": [
    "# create the dataframe new_df_xxxx with 8 columns listed below."
   ]
  },
  {
   "cell_type": "code",
   "execution_count": 16,
   "id": "6e699226",
   "metadata": {},
   "outputs": [],
   "source": [
    "new_df_0330 = df_0330[['CMTE_ID', 'CITY', 'STATE', 'ZIP_CODE', 'EMPLOYER', 'OCCUPATION', 'TRANSACTION_DT','TRANSACTION_AMT']]"
   ]
  },
  {
   "cell_type": "code",
   "execution_count": 21,
   "id": "21c3a555",
   "metadata": {},
   "outputs": [
    {
     "data": {
      "text/html": [
       "<div>\n",
       "<style scoped>\n",
       "    .dataframe tbody tr th:only-of-type {\n",
       "        vertical-align: middle;\n",
       "    }\n",
       "\n",
       "    .dataframe tbody tr th {\n",
       "        vertical-align: top;\n",
       "    }\n",
       "\n",
       "    .dataframe thead th {\n",
       "        text-align: right;\n",
       "    }\n",
       "</style>\n",
       "<table border=\"1\" class=\"dataframe\">\n",
       "  <thead>\n",
       "    <tr style=\"text-align: right;\">\n",
       "      <th></th>\n",
       "      <th>CMTE_ID</th>\n",
       "      <th>NAME</th>\n",
       "      <th>CITY</th>\n",
       "      <th>STATE</th>\n",
       "      <th>ZIP_CODE</th>\n",
       "      <th>EMPLOYER</th>\n",
       "      <th>OCCUPATION</th>\n",
       "      <th>TRANSACTION_DT</th>\n",
       "      <th>TRANSACTION_AMT</th>\n",
       "    </tr>\n",
       "  </thead>\n",
       "  <tbody>\n",
       "    <tr>\n",
       "      <th>0</th>\n",
       "      <td>C00817940</td>\n",
       "      <td>DUFF, JAMES</td>\n",
       "      <td>LOS ANGELES</td>\n",
       "      <td>CA</td>\n",
       "      <td>900271058</td>\n",
       "      <td>NaN</td>\n",
       "      <td>NaN</td>\n",
       "      <td>1192023</td>\n",
       "      <td>800</td>\n",
       "    </tr>\n",
       "    <tr>\n",
       "      <th>1</th>\n",
       "      <td>C00817940</td>\n",
       "      <td>ROTHMAN, ANDREW</td>\n",
       "      <td>CULVER CITY</td>\n",
       "      <td>CA</td>\n",
       "      <td>902322403</td>\n",
       "      <td>NaN</td>\n",
       "      <td>NaN</td>\n",
       "      <td>1192023</td>\n",
       "      <td>250</td>\n",
       "    </tr>\n",
       "    <tr>\n",
       "      <th>2</th>\n",
       "      <td>C00817940</td>\n",
       "      <td>PELLETT, CLARK</td>\n",
       "      <td>CHICAGO</td>\n",
       "      <td>IL</td>\n",
       "      <td>606114546</td>\n",
       "      <td>NaN</td>\n",
       "      <td>NaN</td>\n",
       "      <td>1202023</td>\n",
       "      <td>345</td>\n",
       "    </tr>\n",
       "    <tr>\n",
       "      <th>3</th>\n",
       "      <td>C00817940</td>\n",
       "      <td>DISNEY, TIMOTHY</td>\n",
       "      <td>ENCINO</td>\n",
       "      <td>CA</td>\n",
       "      <td>914361845</td>\n",
       "      <td>NaN</td>\n",
       "      <td>NaN</td>\n",
       "      <td>1192023</td>\n",
       "      <td>615</td>\n",
       "    </tr>\n",
       "    <tr>\n",
       "      <th>4</th>\n",
       "      <td>C00817940</td>\n",
       "      <td>TRONE, DAVID</td>\n",
       "      <td>POTOMAC</td>\n",
       "      <td>MD</td>\n",
       "      <td>208541640</td>\n",
       "      <td>NaN</td>\n",
       "      <td>NaN</td>\n",
       "      <td>1192023</td>\n",
       "      <td>5000</td>\n",
       "    </tr>\n",
       "  </tbody>\n",
       "</table>\n",
       "</div>"
      ],
      "text/plain": [
       "     CMTE_ID             NAME         CITY STATE   ZIP_CODE EMPLOYER  \\\n",
       "0  C00817940      DUFF, JAMES  LOS ANGELES    CA  900271058      NaN   \n",
       "1  C00817940  ROTHMAN, ANDREW  CULVER CITY    CA  902322403      NaN   \n",
       "2  C00817940   PELLETT, CLARK      CHICAGO    IL  606114546      NaN   \n",
       "3  C00817940  DISNEY, TIMOTHY       ENCINO    CA  914361845      NaN   \n",
       "4  C00817940     TRONE, DAVID      POTOMAC    MD  208541640      NaN   \n",
       "\n",
       "  OCCUPATION  TRANSACTION_DT  TRANSACTION_AMT  \n",
       "0        NaN         1192023              800  \n",
       "1        NaN         1192023              250  \n",
       "2        NaN         1202023              345  \n",
       "3        NaN         1192023              615  \n",
       "4        NaN         1192023             5000  "
      ]
     },
     "execution_count": 21,
     "metadata": {},
     "output_type": "execute_result"
    }
   ],
   "source": [
    "new_df_0330.head()"
   ]
  },
  {
   "cell_type": "code",
   "execution_count": 17,
   "id": "083c3360",
   "metadata": {},
   "outputs": [],
   "source": [
    "new_df_0527 = df_0527[['CMTE_ID', 'CITY', 'STATE', 'ZIP_CODE', 'EMPLOYER', 'OCCUPATION', 'TRANSACTION_DT','TRANSACTION_AMT']]"
   ]
  },
  {
   "cell_type": "code",
   "execution_count": 18,
   "id": "457437ad",
   "metadata": {},
   "outputs": [
    {
     "data": {
      "text/html": [
       "<div>\n",
       "<style scoped>\n",
       "    .dataframe tbody tr th:only-of-type {\n",
       "        vertical-align: middle;\n",
       "    }\n",
       "\n",
       "    .dataframe tbody tr th {\n",
       "        vertical-align: top;\n",
       "    }\n",
       "\n",
       "    .dataframe thead th {\n",
       "        text-align: right;\n",
       "    }\n",
       "</style>\n",
       "<table border=\"1\" class=\"dataframe\">\n",
       "  <thead>\n",
       "    <tr style=\"text-align: right;\">\n",
       "      <th></th>\n",
       "      <th>CMTE_ID</th>\n",
       "      <th>CITY</th>\n",
       "      <th>STATE</th>\n",
       "      <th>ZIP_CODE</th>\n",
       "      <th>EMPLOYER</th>\n",
       "      <th>OCCUPATION</th>\n",
       "      <th>TRANSACTION_DT</th>\n",
       "      <th>TRANSACTION_AMT</th>\n",
       "    </tr>\n",
       "  </thead>\n",
       "  <tbody>\n",
       "    <tr>\n",
       "      <th>0</th>\n",
       "      <td>C00443689</td>\n",
       "      <td>LAS CRUCES</td>\n",
       "      <td>NM</td>\n",
       "      <td>880076987.0</td>\n",
       "      <td>NOT EMPLOYED</td>\n",
       "      <td>NOT EMPLOYED</td>\n",
       "      <td>3312023</td>\n",
       "      <td>50</td>\n",
       "    </tr>\n",
       "    <tr>\n",
       "      <th>1</th>\n",
       "      <td>C00443689</td>\n",
       "      <td>GREENWOOD VILLAGE</td>\n",
       "      <td>CO</td>\n",
       "      <td>801111955.0</td>\n",
       "      <td>NOT EMPLOYED</td>\n",
       "      <td>NOT EMPLOYED</td>\n",
       "      <td>3312023</td>\n",
       "      <td>2</td>\n",
       "    </tr>\n",
       "    <tr>\n",
       "      <th>2</th>\n",
       "      <td>C00443689</td>\n",
       "      <td>GLENDALE</td>\n",
       "      <td>AZ</td>\n",
       "      <td>853086378.0</td>\n",
       "      <td>NOT EMPLOYED</td>\n",
       "      <td>NOT EMPLOYED</td>\n",
       "      <td>3312023</td>\n",
       "      <td>10</td>\n",
       "    </tr>\n",
       "    <tr>\n",
       "      <th>3</th>\n",
       "      <td>C00443689</td>\n",
       "      <td>BAYONNE</td>\n",
       "      <td>NJ</td>\n",
       "      <td>70021129.0</td>\n",
       "      <td>NOT EMPLOYED</td>\n",
       "      <td>NOT EMPLOYED</td>\n",
       "      <td>3312023</td>\n",
       "      <td>6</td>\n",
       "    </tr>\n",
       "    <tr>\n",
       "      <th>4</th>\n",
       "      <td>C00786194</td>\n",
       "      <td>WOODBRIDGE</td>\n",
       "      <td>VA</td>\n",
       "      <td>221925803.0</td>\n",
       "      <td>MGC</td>\n",
       "      <td>BUILDER</td>\n",
       "      <td>3312023</td>\n",
       "      <td>500</td>\n",
       "    </tr>\n",
       "  </tbody>\n",
       "</table>\n",
       "</div>"
      ],
      "text/plain": [
       "     CMTE_ID               CITY STATE     ZIP_CODE      EMPLOYER  \\\n",
       "0  C00443689         LAS CRUCES    NM  880076987.0  NOT EMPLOYED   \n",
       "1  C00443689  GREENWOOD VILLAGE    CO  801111955.0  NOT EMPLOYED   \n",
       "2  C00443689           GLENDALE    AZ  853086378.0  NOT EMPLOYED   \n",
       "3  C00443689            BAYONNE    NJ   70021129.0  NOT EMPLOYED   \n",
       "4  C00786194         WOODBRIDGE    VA  221925803.0           MGC   \n",
       "\n",
       "     OCCUPATION  TRANSACTION_DT  TRANSACTION_AMT  \n",
       "0  NOT EMPLOYED         3312023               50  \n",
       "1  NOT EMPLOYED         3312023                2  \n",
       "2  NOT EMPLOYED         3312023               10  \n",
       "3  NOT EMPLOYED         3312023                6  \n",
       "4       BUILDER         3312023              500  "
      ]
     },
     "execution_count": 18,
     "metadata": {},
     "output_type": "execute_result"
    }
   ],
   "source": [
    "new_df_0527.head()"
   ]
  },
  {
   "cell_type": "code",
   "execution_count": 19,
   "id": "4fdb05a2",
   "metadata": {},
   "outputs": [],
   "source": [
    "new_df_0721 = df_0721[['CMTE_ID', 'CITY', 'STATE', 'ZIP_CODE', 'EMPLOYER', 'OCCUPATION', 'TRANSACTION_DT','TRANSACTION_AMT']]"
   ]
  },
  {
   "cell_type": "code",
   "execution_count": 20,
   "id": "8fa7a5da",
   "metadata": {},
   "outputs": [
    {
     "data": {
      "text/html": [
       "<div>\n",
       "<style scoped>\n",
       "    .dataframe tbody tr th:only-of-type {\n",
       "        vertical-align: middle;\n",
       "    }\n",
       "\n",
       "    .dataframe tbody tr th {\n",
       "        vertical-align: top;\n",
       "    }\n",
       "\n",
       "    .dataframe thead th {\n",
       "        text-align: right;\n",
       "    }\n",
       "</style>\n",
       "<table border=\"1\" class=\"dataframe\">\n",
       "  <thead>\n",
       "    <tr style=\"text-align: right;\">\n",
       "      <th></th>\n",
       "      <th>CMTE_ID</th>\n",
       "      <th>CITY</th>\n",
       "      <th>STATE</th>\n",
       "      <th>ZIP_CODE</th>\n",
       "      <th>EMPLOYER</th>\n",
       "      <th>OCCUPATION</th>\n",
       "      <th>TRANSACTION_DT</th>\n",
       "      <th>TRANSACTION_AMT</th>\n",
       "    </tr>\n",
       "  </thead>\n",
       "  <tbody>\n",
       "    <tr>\n",
       "      <th>0</th>\n",
       "      <td>C00814152</td>\n",
       "      <td>SAN FRANCISCO</td>\n",
       "      <td>CA</td>\n",
       "      <td>94131</td>\n",
       "      <td>RETIRED</td>\n",
       "      <td>RETIRED</td>\n",
       "      <td>6022023</td>\n",
       "      <td>50</td>\n",
       "    </tr>\n",
       "    <tr>\n",
       "      <th>1</th>\n",
       "      <td>C00814152</td>\n",
       "      <td>LEANDER</td>\n",
       "      <td>TX</td>\n",
       "      <td>78641</td>\n",
       "      <td>TRUIST</td>\n",
       "      <td>RISK MGMT</td>\n",
       "      <td>6112023</td>\n",
       "      <td>150</td>\n",
       "    </tr>\n",
       "    <tr>\n",
       "      <th>2</th>\n",
       "      <td>C00814152</td>\n",
       "      <td>FALLBROOK</td>\n",
       "      <td>CA</td>\n",
       "      <td>92028</td>\n",
       "      <td>RETIRED</td>\n",
       "      <td>RETIRED</td>\n",
       "      <td>6022023</td>\n",
       "      <td>50</td>\n",
       "    </tr>\n",
       "    <tr>\n",
       "      <th>3</th>\n",
       "      <td>C00814152</td>\n",
       "      <td>PALM DESERT</td>\n",
       "      <td>CA</td>\n",
       "      <td>92211</td>\n",
       "      <td>RETIRED</td>\n",
       "      <td>RETIRED</td>\n",
       "      <td>6302023</td>\n",
       "      <td>1000</td>\n",
       "    </tr>\n",
       "    <tr>\n",
       "      <th>4</th>\n",
       "      <td>C00814152</td>\n",
       "      <td>DOVER</td>\n",
       "      <td>DE</td>\n",
       "      <td>19901</td>\n",
       "      <td>PAT'S PIZZA</td>\n",
       "      <td>DRIVER</td>\n",
       "      <td>6032023</td>\n",
       "      <td>25</td>\n",
       "    </tr>\n",
       "  </tbody>\n",
       "</table>\n",
       "</div>"
      ],
      "text/plain": [
       "     CMTE_ID           CITY STATE ZIP_CODE     EMPLOYER OCCUPATION  \\\n",
       "0  C00814152  SAN FRANCISCO    CA    94131      RETIRED    RETIRED   \n",
       "1  C00814152        LEANDER    TX    78641       TRUIST  RISK MGMT   \n",
       "2  C00814152      FALLBROOK    CA    92028      RETIRED    RETIRED   \n",
       "3  C00814152    PALM DESERT    CA    92211      RETIRED    RETIRED   \n",
       "4  C00814152          DOVER    DE    19901  PAT'S PIZZA     DRIVER   \n",
       "\n",
       "   TRANSACTION_DT  TRANSACTION_AMT  \n",
       "0         6022023               50  \n",
       "1         6112023              150  \n",
       "2         6022023               50  \n",
       "3         6302023             1000  \n",
       "4         6032023               25  "
      ]
     },
     "execution_count": 20,
     "metadata": {},
     "output_type": "execute_result"
    }
   ],
   "source": [
    "new_df_0721.head()"
   ]
  },
  {
   "cell_type": "code",
   "execution_count": 21,
   "id": "8fe4a662",
   "metadata": {},
   "outputs": [],
   "source": [
    "new_df_0929 = df_0929[['CMTE_ID', 'CITY', 'STATE', 'ZIP_CODE', 'EMPLOYER', 'OCCUPATION', 'TRANSACTION_DT','TRANSACTION_AMT']]"
   ]
  },
  {
   "cell_type": "code",
   "execution_count": 22,
   "id": "5b97b87e",
   "metadata": {},
   "outputs": [
    {
     "data": {
      "text/html": [
       "<div>\n",
       "<style scoped>\n",
       "    .dataframe tbody tr th:only-of-type {\n",
       "        vertical-align: middle;\n",
       "    }\n",
       "\n",
       "    .dataframe tbody tr th {\n",
       "        vertical-align: top;\n",
       "    }\n",
       "\n",
       "    .dataframe thead th {\n",
       "        text-align: right;\n",
       "    }\n",
       "</style>\n",
       "<table border=\"1\" class=\"dataframe\">\n",
       "  <thead>\n",
       "    <tr style=\"text-align: right;\">\n",
       "      <th></th>\n",
       "      <th>CMTE_ID</th>\n",
       "      <th>CITY</th>\n",
       "      <th>STATE</th>\n",
       "      <th>ZIP_CODE</th>\n",
       "      <th>EMPLOYER</th>\n",
       "      <th>OCCUPATION</th>\n",
       "      <th>TRANSACTION_DT</th>\n",
       "      <th>TRANSACTION_AMT</th>\n",
       "    </tr>\n",
       "  </thead>\n",
       "  <tbody>\n",
       "    <tr>\n",
       "      <th>0</th>\n",
       "      <td>C00101766</td>\n",
       "      <td>SAINT HELENA</td>\n",
       "      <td>CA</td>\n",
       "      <td>945742040.0</td>\n",
       "      <td>UNITED AIRLINES INC.</td>\n",
       "      <td>SVP MARKET &amp; COMM INNOVATION</td>\n",
       "      <td>8312023</td>\n",
       "      <td>208</td>\n",
       "    </tr>\n",
       "    <tr>\n",
       "      <th>1</th>\n",
       "      <td>C00101766</td>\n",
       "      <td>HOUSTON</td>\n",
       "      <td>TX</td>\n",
       "      <td>770274804.0</td>\n",
       "      <td>UNITED AIRLINES INC.</td>\n",
       "      <td>EVP &amp; CHIEF FINANCIAL OFFICER</td>\n",
       "      <td>8312023</td>\n",
       "      <td>208</td>\n",
       "    </tr>\n",
       "    <tr>\n",
       "      <th>2</th>\n",
       "      <td>C00101766</td>\n",
       "      <td>PARK RIDGE</td>\n",
       "      <td>IL</td>\n",
       "      <td>600681605.0</td>\n",
       "      <td>UNITED AIRLINES INC.</td>\n",
       "      <td>SR PRINCIPAL ARCHITECT - IT</td>\n",
       "      <td>8152023</td>\n",
       "      <td>20</td>\n",
       "    </tr>\n",
       "    <tr>\n",
       "      <th>3</th>\n",
       "      <td>C00101766</td>\n",
       "      <td>PARK RIDGE</td>\n",
       "      <td>IL</td>\n",
       "      <td>600681605.0</td>\n",
       "      <td>UNITED AIRLINES INC.</td>\n",
       "      <td>SR PRINCIPAL ARCHITECT - IT</td>\n",
       "      <td>8312023</td>\n",
       "      <td>20</td>\n",
       "    </tr>\n",
       "    <tr>\n",
       "      <th>4</th>\n",
       "      <td>C00101766</td>\n",
       "      <td>SAINT HELENA</td>\n",
       "      <td>CA</td>\n",
       "      <td>945742040.0</td>\n",
       "      <td>UNITED AIRLINES INC.</td>\n",
       "      <td>SVP MARKET &amp; COMM INNOVATION</td>\n",
       "      <td>8152023</td>\n",
       "      <td>208</td>\n",
       "    </tr>\n",
       "  </tbody>\n",
       "</table>\n",
       "</div>"
      ],
      "text/plain": [
       "     CMTE_ID          CITY STATE     ZIP_CODE              EMPLOYER  \\\n",
       "0  C00101766  SAINT HELENA    CA  945742040.0  UNITED AIRLINES INC.   \n",
       "1  C00101766       HOUSTON    TX  770274804.0  UNITED AIRLINES INC.   \n",
       "2  C00101766    PARK RIDGE    IL  600681605.0  UNITED AIRLINES INC.   \n",
       "3  C00101766    PARK RIDGE    IL  600681605.0  UNITED AIRLINES INC.   \n",
       "4  C00101766  SAINT HELENA    CA  945742040.0  UNITED AIRLINES INC.   \n",
       "\n",
       "                      OCCUPATION  TRANSACTION_DT  TRANSACTION_AMT  \n",
       "0   SVP MARKET & COMM INNOVATION         8312023              208  \n",
       "1  EVP & CHIEF FINANCIAL OFFICER         8312023              208  \n",
       "2    SR PRINCIPAL ARCHITECT - IT         8152023               20  \n",
       "3    SR PRINCIPAL ARCHITECT - IT         8312023               20  \n",
       "4   SVP MARKET & COMM INNOVATION         8152023              208  "
      ]
     },
     "execution_count": 22,
     "metadata": {},
     "output_type": "execute_result"
    }
   ],
   "source": [
    "new_df_0929.head()"
   ]
  },
  {
   "cell_type": "code",
   "execution_count": 23,
   "id": "d30bf9e7",
   "metadata": {},
   "outputs": [],
   "source": [
    "new_df_0622 = df_0622[['CMTE_ID', 'CITY', 'STATE', 'ZIP_CODE', 'EMPLOYER', 'OCCUPATION', 'TRANSACTION_DT','TRANSACTION_AMT']]"
   ]
  },
  {
   "cell_type": "code",
   "execution_count": 24,
   "id": "c4bb2a9f",
   "metadata": {},
   "outputs": [
    {
     "data": {
      "text/html": [
       "<div>\n",
       "<style scoped>\n",
       "    .dataframe tbody tr th:only-of-type {\n",
       "        vertical-align: middle;\n",
       "    }\n",
       "\n",
       "    .dataframe tbody tr th {\n",
       "        vertical-align: top;\n",
       "    }\n",
       "\n",
       "    .dataframe thead th {\n",
       "        text-align: right;\n",
       "    }\n",
       "</style>\n",
       "<table border=\"1\" class=\"dataframe\">\n",
       "  <thead>\n",
       "    <tr style=\"text-align: right;\">\n",
       "      <th></th>\n",
       "      <th>CMTE_ID</th>\n",
       "      <th>CITY</th>\n",
       "      <th>STATE</th>\n",
       "      <th>ZIP_CODE</th>\n",
       "      <th>EMPLOYER</th>\n",
       "      <th>OCCUPATION</th>\n",
       "      <th>TRANSACTION_DT</th>\n",
       "      <th>TRANSACTION_AMT</th>\n",
       "    </tr>\n",
       "  </thead>\n",
       "  <tbody>\n",
       "    <tr>\n",
       "      <th>0</th>\n",
       "      <td>C00108209</td>\n",
       "      <td>RICHMOND</td>\n",
       "      <td>VA</td>\n",
       "      <td>232194306.0</td>\n",
       "      <td>DOM ENERGY SERVICES, INC.</td>\n",
       "      <td>SR ACCOUNTANT</td>\n",
       "      <td>10192023</td>\n",
       "      <td>36</td>\n",
       "    </tr>\n",
       "    <tr>\n",
       "      <th>1</th>\n",
       "      <td>C00108209</td>\n",
       "      <td>RICHMOND</td>\n",
       "      <td>VA</td>\n",
       "      <td>232314527.0</td>\n",
       "      <td>VA ELECTRIC &amp; POWER CO.</td>\n",
       "      <td>SUPERVISOR-CUSTOMER</td>\n",
       "      <td>10192023</td>\n",
       "      <td>25</td>\n",
       "    </tr>\n",
       "    <tr>\n",
       "      <th>2</th>\n",
       "      <td>C00108209</td>\n",
       "      <td>RICHMOND</td>\n",
       "      <td>VA</td>\n",
       "      <td>232194306.0</td>\n",
       "      <td>DOM ENERGY SERVICES, INC.</td>\n",
       "      <td>MANAGER-ENERGY MARKE</td>\n",
       "      <td>10192023</td>\n",
       "      <td>62</td>\n",
       "    </tr>\n",
       "    <tr>\n",
       "      <th>3</th>\n",
       "      <td>C00108209</td>\n",
       "      <td>RICHMOND</td>\n",
       "      <td>VA</td>\n",
       "      <td>232193852.0</td>\n",
       "      <td>DOM ENERGY SERVICES, INC.</td>\n",
       "      <td>VP OPERATIONS SUPPOR</td>\n",
       "      <td>10192023</td>\n",
       "      <td>193</td>\n",
       "    </tr>\n",
       "    <tr>\n",
       "      <th>4</th>\n",
       "      <td>C00108209</td>\n",
       "      <td>RICHMOND</td>\n",
       "      <td>VA</td>\n",
       "      <td>232193852.0</td>\n",
       "      <td>DOM ENERGY SERVICES, INC.</td>\n",
       "      <td>RENEWABLE ENERGY PRO</td>\n",
       "      <td>10192023</td>\n",
       "      <td>25</td>\n",
       "    </tr>\n",
       "  </tbody>\n",
       "</table>\n",
       "</div>"
      ],
      "text/plain": [
       "     CMTE_ID      CITY STATE     ZIP_CODE                   EMPLOYER  \\\n",
       "0  C00108209  RICHMOND    VA  232194306.0  DOM ENERGY SERVICES, INC.   \n",
       "1  C00108209  RICHMOND    VA  232314527.0    VA ELECTRIC & POWER CO.   \n",
       "2  C00108209  RICHMOND    VA  232194306.0  DOM ENERGY SERVICES, INC.   \n",
       "3  C00108209  RICHMOND    VA  232193852.0  DOM ENERGY SERVICES, INC.   \n",
       "4  C00108209  RICHMOND    VA  232193852.0  DOM ENERGY SERVICES, INC.   \n",
       "\n",
       "             OCCUPATION  TRANSACTION_DT  TRANSACTION_AMT  \n",
       "0         SR ACCOUNTANT        10192023               36  \n",
       "1   SUPERVISOR-CUSTOMER        10192023               25  \n",
       "2  MANAGER-ENERGY MARKE        10192023               62  \n",
       "3  VP OPERATIONS SUPPOR        10192023              193  \n",
       "4  RENEWABLE ENERGY PRO        10192023               25  "
      ]
     },
     "execution_count": 24,
     "metadata": {},
     "output_type": "execute_result"
    }
   ],
   "source": [
    "new_df_0622.head()"
   ]
  },
  {
   "cell_type": "code",
   "execution_count": 25,
   "id": "53025838",
   "metadata": {},
   "outputs": [
    {
     "data": {
      "text/plain": [
       "(1974696, 8)"
      ]
     },
     "execution_count": 25,
     "metadata": {},
     "output_type": "execute_result"
    }
   ],
   "source": [
    "new_df_0330.shape"
   ]
  },
  {
   "cell_type": "code",
   "execution_count": 26,
   "id": "03911baa",
   "metadata": {},
   "outputs": [
    {
     "data": {
      "text/plain": [
       "(1973198, 8)"
      ]
     },
     "execution_count": 26,
     "metadata": {},
     "output_type": "execute_result"
    }
   ],
   "source": [
    "new_df_0527.shape"
   ]
  },
  {
   "cell_type": "code",
   "execution_count": 27,
   "id": "1db38da8",
   "metadata": {},
   "outputs": [
    {
     "data": {
      "text/plain": [
       "(1997968, 8)"
      ]
     },
     "execution_count": 27,
     "metadata": {},
     "output_type": "execute_result"
    }
   ],
   "source": [
    "new_df_0721.shape"
   ]
  },
  {
   "cell_type": "code",
   "execution_count": 28,
   "id": "42e4d7c4",
   "metadata": {},
   "outputs": [
    {
     "data": {
      "text/plain": [
       "(1989995, 8)"
      ]
     },
     "execution_count": 28,
     "metadata": {},
     "output_type": "execute_result"
    }
   ],
   "source": [
    "new_df_0929.shape"
   ]
  },
  {
   "cell_type": "code",
   "execution_count": 29,
   "id": "e80dff37",
   "metadata": {},
   "outputs": [
    {
     "data": {
      "text/plain": [
       "(755860, 8)"
      ]
     },
     "execution_count": 29,
     "metadata": {},
     "output_type": "execute_result"
    }
   ],
   "source": [
    "new_df_0622.shape"
   ]
  },
  {
   "cell_type": "code",
   "execution_count": 30,
   "id": "d3db2ea5",
   "metadata": {},
   "outputs": [
    {
     "data": {
      "text/plain": [
       "8691717"
      ]
     },
     "execution_count": 30,
     "metadata": {},
     "output_type": "execute_result"
    }
   ],
   "source": [
    "new_df_0330.shape[0]+new_df_0527.shape[0]+new_df_0721.shape[0]+new_df_0929.shape[0]+new_df_0622.shape[0]"
   ]
  },
  {
   "cell_type": "code",
   "execution_count": 31,
   "id": "1b2a7848",
   "metadata": {},
   "outputs": [],
   "source": [
    "# Assuming df1, df2, df3, and df4 are your DataFrames\n",
    "all_dfs = [new_df_0330, new_df_0527, new_df_0721, new_df_0929,new_df_0622]\n",
    "\n",
    "# Use the concat function to combine the DataFrames vertically\n",
    "df_2023 = pd.concat(all_dfs, ignore_index=True,sort=False)"
   ]
  },
  {
   "cell_type": "code",
   "execution_count": 32,
   "id": "1bc741cf",
   "metadata": {},
   "outputs": [
    {
     "data": {
      "text/plain": [
       "(8691717, 8)"
      ]
     },
     "execution_count": 32,
     "metadata": {},
     "output_type": "execute_result"
    }
   ],
   "source": [
    "df_2023.shape"
   ]
  },
  {
   "cell_type": "code",
   "execution_count": 33,
   "id": "ceff8d7b",
   "metadata": {},
   "outputs": [
    {
     "data": {
      "text/plain": [
       "C00401224    1617159\n",
       "C00770941     549075\n",
       "C00027466     475987\n",
       "C00003418     308542\n",
       "C00000935     282716\n",
       "C00042366     176503\n",
       "C00420935     165105\n",
       "C00075820     152793\n",
       "C00010603     127052\n",
       "C00694323      94350\n",
       "C00750521      87883\n",
       "C00540302      82723\n",
       "C00580068      76004\n",
       "C00411330      72960\n",
       "C00482984      71636\n",
       "C00193433      58980\n",
       "C00492785      57235\n",
       "C00343871      55334\n",
       "C00836353      51351\n",
       "C00836403      48783\n",
       "Name: CMTE_ID, dtype: int64"
      ]
     },
     "execution_count": 33,
     "metadata": {},
     "output_type": "execute_result"
    }
   ],
   "source": [
    "df_2023.CMTE_ID.value_counts().head(20)"
   ]
  },
  {
   "cell_type": "code",
   "execution_count": 34,
   "id": "d7b4c92d",
   "metadata": {},
   "outputs": [
    {
     "data": {
      "text/plain": [
       "CMTE_ID                 0\n",
       "CITY                  761\n",
       "STATE                3070\n",
       "ZIP_CODE             9170\n",
       "EMPLOYER           665557\n",
       "OCCUPATION         245020\n",
       "TRANSACTION_DT          0\n",
       "TRANSACTION_AMT         0\n",
       "dtype: int64"
      ]
     },
     "execution_count": 34,
     "metadata": {},
     "output_type": "execute_result"
    }
   ],
   "source": [
    "df_2023.isnull().sum()"
   ]
  },
  {
   "cell_type": "code",
   "execution_count": 35,
   "id": "7713fb2f",
   "metadata": {},
   "outputs": [
    {
     "data": {
      "text/plain": [
       "CMTE_ID            0.000000\n",
       "CITY               0.000088\n",
       "STATE              0.000353\n",
       "ZIP_CODE           0.001055\n",
       "EMPLOYER           0.076574\n",
       "OCCUPATION         0.028190\n",
       "TRANSACTION_DT     0.000000\n",
       "TRANSACTION_AMT    0.000000\n",
       "dtype: float64"
      ]
     },
     "execution_count": 35,
     "metadata": {},
     "output_type": "execute_result"
    }
   ],
   "source": [
    "# get percentage of null values for each column\n",
    "df_2023.isnull().sum()/len(df_2023)"
   ]
  },
  {
   "cell_type": "code",
   "execution_count": 36,
   "id": "c22e9a02",
   "metadata": {},
   "outputs": [],
   "source": [
    "# read the csv file including both CMTE_ID and party name which was exported from \n",
    "# https://www.fec.gov/data/committees/ on Dec.8,2023. The information is updated frequently on the website.\n",
    "\n",
    "df_commit = pd.read_csv('../committees-2023-12-08T16_44_14 _with party info.csv')"
   ]
  },
  {
   "cell_type": "code",
   "execution_count": 37,
   "id": "57088dad",
   "metadata": {},
   "outputs": [
    {
     "data": {
      "text/html": [
       "<div>\n",
       "<style scoped>\n",
       "    .dataframe tbody tr th:only-of-type {\n",
       "        vertical-align: middle;\n",
       "    }\n",
       "\n",
       "    .dataframe tbody tr th {\n",
       "        vertical-align: top;\n",
       "    }\n",
       "\n",
       "    .dataframe thead th {\n",
       "        text-align: right;\n",
       "    }\n",
       "</style>\n",
       "<table border=\"1\" class=\"dataframe\">\n",
       "  <thead>\n",
       "    <tr style=\"text-align: right;\">\n",
       "      <th></th>\n",
       "      <th>name</th>\n",
       "      <th>cycles</th>\n",
       "      <th>treasurer_name</th>\n",
       "      <th>committee_type</th>\n",
       "      <th>committee_type_full</th>\n",
       "      <th>filing_frequency</th>\n",
       "      <th>designation</th>\n",
       "      <th>designation_full</th>\n",
       "      <th>organization_type</th>\n",
       "      <th>organization_type_full</th>\n",
       "      <th>...</th>\n",
       "      <th>party</th>\n",
       "      <th>party_full</th>\n",
       "      <th>state</th>\n",
       "      <th>first_file_date</th>\n",
       "      <th>last_file_date</th>\n",
       "      <th>first_f1_date</th>\n",
       "      <th>last_f1_date</th>\n",
       "      <th>committee_id</th>\n",
       "      <th>candidate_ids</th>\n",
       "      <th>sponsor_candidate_ids</th>\n",
       "    </tr>\n",
       "  </thead>\n",
       "  <tbody>\n",
       "    <tr>\n",
       "      <th>0</th>\n",
       "      <td>TOM HICKEY FOR CONGRESS</td>\n",
       "      <td>{2002}</td>\n",
       "      <td>COLIN M GALLAGHER</td>\n",
       "      <td>H</td>\n",
       "      <td>House</td>\n",
       "      <td>T</td>\n",
       "      <td>P</td>\n",
       "      <td>Principal campaign committee</td>\n",
       "      <td>NaN</td>\n",
       "      <td>NaN</td>\n",
       "      <td>...</td>\n",
       "      <td>REP</td>\n",
       "      <td>REPUBLICAN PARTY</td>\n",
       "      <td>MI</td>\n",
       "      <td>5/16/2001</td>\n",
       "      <td>5/17/2002</td>\n",
       "      <td>5/16/2001</td>\n",
       "      <td>5/16/2001</td>\n",
       "      <td>C00366450</td>\n",
       "      <td>{H8MI13151}</td>\n",
       "      <td>NaN</td>\n",
       "    </tr>\n",
       "    <tr>\n",
       "      <th>1</th>\n",
       "      <td>WIN PAC</td>\n",
       "      <td>{2002,2004,2006,2008}</td>\n",
       "      <td>KINDE DURKEE</td>\n",
       "      <td>N</td>\n",
       "      <td>PAC - Nonqualified</td>\n",
       "      <td>A</td>\n",
       "      <td>U</td>\n",
       "      <td>Unauthorized</td>\n",
       "      <td>NaN</td>\n",
       "      <td>NaN</td>\n",
       "      <td>...</td>\n",
       "      <td>NaN</td>\n",
       "      <td>NaN</td>\n",
       "      <td>CA</td>\n",
       "      <td>6/5/2001</td>\n",
       "      <td>1/31/2008</td>\n",
       "      <td>6/5/2001</td>\n",
       "      <td>8/8/2001</td>\n",
       "      <td>C00366732</td>\n",
       "      <td>{}</td>\n",
       "      <td>NaN</td>\n",
       "    </tr>\n",
       "    <tr>\n",
       "      <th>2</th>\n",
       "      <td>FIRST CONGRESSIONAL DISTRICT VICTORY FUND</td>\n",
       "      <td>{2002}</td>\n",
       "      <td>ANN MARIE HABERSHAW</td>\n",
       "      <td>X</td>\n",
       "      <td>Party - Nonqualified</td>\n",
       "      <td>T</td>\n",
       "      <td>J</td>\n",
       "      <td>Joint fundraising committee</td>\n",
       "      <td>NaN</td>\n",
       "      <td>NaN</td>\n",
       "      <td>...</td>\n",
       "      <td>NaN</td>\n",
       "      <td>NaN</td>\n",
       "      <td>DC</td>\n",
       "      <td>7/6/2001</td>\n",
       "      <td>5/23/2002</td>\n",
       "      <td>7/6/2001</td>\n",
       "      <td>7/6/2001</td>\n",
       "      <td>C00367433</td>\n",
       "      <td>{H2IL01042}</td>\n",
       "      <td>NaN</td>\n",
       "    </tr>\n",
       "    <tr>\n",
       "      <th>3</th>\n",
       "      <td>CORRECTIONAL SERVICES CORPORATION/YOUTH SERVIC...</td>\n",
       "      <td>{2002,2004,2006}</td>\n",
       "      <td>BERNARD WAGNER</td>\n",
       "      <td>N</td>\n",
       "      <td>PAC - Nonqualified</td>\n",
       "      <td>A</td>\n",
       "      <td>U</td>\n",
       "      <td>Unauthorized</td>\n",
       "      <td>C</td>\n",
       "      <td>Corporation</td>\n",
       "      <td>...</td>\n",
       "      <td>NaN</td>\n",
       "      <td>NaN</td>\n",
       "      <td>FL</td>\n",
       "      <td>7/11/2001</td>\n",
       "      <td>9/15/2005</td>\n",
       "      <td>7/11/2001</td>\n",
       "      <td>7/11/2001</td>\n",
       "      <td>C00367540</td>\n",
       "      <td>{}</td>\n",
       "      <td>NaN</td>\n",
       "    </tr>\n",
       "    <tr>\n",
       "      <th>4</th>\n",
       "      <td>KEN REVELL FOR CONGRESS</td>\n",
       "      <td>{2002,2004}</td>\n",
       "      <td>NATASHA REVELL</td>\n",
       "      <td>H</td>\n",
       "      <td>House</td>\n",
       "      <td>A</td>\n",
       "      <td>P</td>\n",
       "      <td>Principal campaign committee</td>\n",
       "      <td>NaN</td>\n",
       "      <td>NaN</td>\n",
       "      <td>...</td>\n",
       "      <td>NaN</td>\n",
       "      <td>NaN</td>\n",
       "      <td>FL</td>\n",
       "      <td>7/12/2001</td>\n",
       "      <td>7/31/2003</td>\n",
       "      <td>8/14/2001</td>\n",
       "      <td>8/14/2001</td>\n",
       "      <td>C00367565</td>\n",
       "      <td>{H2FL01159}</td>\n",
       "      <td>NaN</td>\n",
       "    </tr>\n",
       "  </tbody>\n",
       "</table>\n",
       "<p>5 rows × 21 columns</p>\n",
       "</div>"
      ],
      "text/plain": [
       "                                                name                 cycles  \\\n",
       "0                            TOM HICKEY FOR CONGRESS                 {2002}   \n",
       "1                                            WIN PAC  {2002,2004,2006,2008}   \n",
       "2          FIRST CONGRESSIONAL DISTRICT VICTORY FUND                 {2002}   \n",
       "3  CORRECTIONAL SERVICES CORPORATION/YOUTH SERVIC...       {2002,2004,2006}   \n",
       "4                            KEN REVELL FOR CONGRESS            {2002,2004}   \n",
       "\n",
       "        treasurer_name committee_type   committee_type_full filing_frequency  \\\n",
       "0    COLIN M GALLAGHER              H                 House                T   \n",
       "1         KINDE DURKEE              N    PAC - Nonqualified                A   \n",
       "2  ANN MARIE HABERSHAW              X  Party - Nonqualified                T   \n",
       "3       BERNARD WAGNER              N    PAC - Nonqualified                A   \n",
       "4       NATASHA REVELL              H                 House                A   \n",
       "\n",
       "  designation              designation_full organization_type  \\\n",
       "0           P  Principal campaign committee               NaN   \n",
       "1           U                  Unauthorized               NaN   \n",
       "2           J   Joint fundraising committee               NaN   \n",
       "3           U                  Unauthorized                 C   \n",
       "4           P  Principal campaign committee               NaN   \n",
       "\n",
       "  organization_type_full  ... party        party_full state first_file_date  \\\n",
       "0                    NaN  ...   REP  REPUBLICAN PARTY    MI       5/16/2001   \n",
       "1                    NaN  ...   NaN               NaN    CA        6/5/2001   \n",
       "2                    NaN  ...   NaN               NaN    DC        7/6/2001   \n",
       "3            Corporation  ...   NaN               NaN    FL       7/11/2001   \n",
       "4                    NaN  ...   NaN               NaN    FL       7/12/2001   \n",
       "\n",
       "  last_file_date first_f1_date last_f1_date committee_id candidate_ids  \\\n",
       "0      5/17/2002     5/16/2001    5/16/2001    C00366450   {H8MI13151}   \n",
       "1      1/31/2008      6/5/2001     8/8/2001    C00366732            {}   \n",
       "2      5/23/2002      7/6/2001     7/6/2001    C00367433   {H2IL01042}   \n",
       "3      9/15/2005     7/11/2001    7/11/2001    C00367540            {}   \n",
       "4      7/31/2003     8/14/2001    8/14/2001    C00367565   {H2FL01159}   \n",
       "\n",
       "  sponsor_candidate_ids  \n",
       "0                   NaN  \n",
       "1                   NaN  \n",
       "2                   NaN  \n",
       "3                   NaN  \n",
       "4                   NaN  \n",
       "\n",
       "[5 rows x 21 columns]"
      ]
     },
     "execution_count": 37,
     "metadata": {},
     "output_type": "execute_result"
    }
   ],
   "source": [
    "df_commit.head()"
   ]
  },
  {
   "cell_type": "code",
   "execution_count": 38,
   "id": "68112143",
   "metadata": {},
   "outputs": [
    {
     "name": "stdout",
     "output_type": "stream",
     "text": [
      "<class 'pandas.core.frame.DataFrame'>\n",
      "RangeIndex: 79884 entries, 0 to 79883\n",
      "Data columns (total 21 columns):\n",
      " #   Column                     Non-Null Count  Dtype \n",
      "---  ------                     --------------  ----- \n",
      " 0   name                       79870 non-null  object\n",
      " 1   cycles                     79884 non-null  object\n",
      " 2   treasurer_name             77150 non-null  object\n",
      " 3   committee_type             79862 non-null  object\n",
      " 4   committee_type_full        79862 non-null  object\n",
      " 5   filing_frequency           79884 non-null  object\n",
      " 6   designation                79849 non-null  object\n",
      " 7   designation_full           79849 non-null  object\n",
      " 8   organization_type          10999 non-null  object\n",
      " 9   organization_type_full     10971 non-null  object\n",
      " 10  affiliated_committee_name  45236 non-null  object\n",
      " 11  party                      37674 non-null  object\n",
      " 12  party_full                 37410 non-null  object\n",
      " 13  state                      79619 non-null  object\n",
      " 14  first_file_date            79792 non-null  object\n",
      " 15  last_file_date             79792 non-null  object\n",
      " 16  first_f1_date              76283 non-null  object\n",
      " 17  last_f1_date               76283 non-null  object\n",
      " 18  committee_id               79884 non-null  object\n",
      " 19  candidate_ids              79884 non-null  object\n",
      " 20  sponsor_candidate_ids      1176 non-null   object\n",
      "dtypes: object(21)\n",
      "memory usage: 12.8+ MB\n"
     ]
    }
   ],
   "source": [
    "df_commit.info()"
   ]
  },
  {
   "cell_type": "code",
   "execution_count": 39,
   "id": "ecdce84a",
   "metadata": {},
   "outputs": [
    {
     "data": {
      "text/plain": [
       "REPUBLICAN PARTY              15857\n",
       "DEMOCRATIC PARTY              15058\n",
       "INDEPENDENT                    2066\n",
       "UNKNOWN                         930\n",
       "LIBERTARIAN PARTY               899\n",
       "OTHER                           376\n",
       "NONE                            308\n",
       "GREEN PARTY                     284\n",
       "WRITE-IN                        205\n",
       "NO PARTY AFFILIATION            189\n",
       "UNAFFILIATED                    170\n",
       "REFORM PARTY                    121\n",
       "SOCIALIST WORKERS PARTY         110\n",
       "DEMOCRATIC-FARM-LABOR           102\n",
       "DEMOCRATIC-FARMER-LABOR          65\n",
       "CONSTITUTION PARTY               65\n",
       "CITIZENS' PARTY                  53\n",
       "AMERICAN INDEPENDENT PARTY       53\n",
       "CONSERVATIVE PARTY               51\n",
       "INDEPENDENCE PARTY               50\n",
       "Name: party_full, dtype: int64"
      ]
     },
     "execution_count": 39,
     "metadata": {},
     "output_type": "execute_result"
    }
   ],
   "source": [
    "df_commit.party_full.value_counts().head(20)"
   ]
  },
  {
   "cell_type": "markdown",
   "id": "4794f453",
   "metadata": {},
   "source": [
    "# merge the party_full column from df_commit to new_df and name it as new_df_party "
   ]
  },
  {
   "cell_type": "code",
   "execution_count": 40,
   "id": "f68263fd",
   "metadata": {},
   "outputs": [],
   "source": [
    "# Merge based on 'committee_id'\n",
    "df_commit['CMTE_ID'] = df_commit['committee_id']\n",
    "new_df_2023 = pd.merge(df_2023, df_commit[['CMTE_ID', 'party_full']], on='CMTE_ID', how='left')"
   ]
  },
  {
   "cell_type": "code",
   "execution_count": 41,
   "id": "2bbb665a",
   "metadata": {},
   "outputs": [
    {
     "data": {
      "text/html": [
       "<div>\n",
       "<style scoped>\n",
       "    .dataframe tbody tr th:only-of-type {\n",
       "        vertical-align: middle;\n",
       "    }\n",
       "\n",
       "    .dataframe tbody tr th {\n",
       "        vertical-align: top;\n",
       "    }\n",
       "\n",
       "    .dataframe thead th {\n",
       "        text-align: right;\n",
       "    }\n",
       "</style>\n",
       "<table border=\"1\" class=\"dataframe\">\n",
       "  <thead>\n",
       "    <tr style=\"text-align: right;\">\n",
       "      <th></th>\n",
       "      <th>CMTE_ID</th>\n",
       "      <th>CITY</th>\n",
       "      <th>STATE</th>\n",
       "      <th>ZIP_CODE</th>\n",
       "      <th>EMPLOYER</th>\n",
       "      <th>OCCUPATION</th>\n",
       "      <th>TRANSACTION_DT</th>\n",
       "      <th>TRANSACTION_AMT</th>\n",
       "      <th>party_full</th>\n",
       "    </tr>\n",
       "  </thead>\n",
       "  <tbody>\n",
       "    <tr>\n",
       "      <th>0</th>\n",
       "      <td>C00817940</td>\n",
       "      <td>LOS ANGELES</td>\n",
       "      <td>CA</td>\n",
       "      <td>900271058</td>\n",
       "      <td>NaN</td>\n",
       "      <td>NaN</td>\n",
       "      <td>1192023</td>\n",
       "      <td>800</td>\n",
       "      <td>NaN</td>\n",
       "    </tr>\n",
       "    <tr>\n",
       "      <th>1</th>\n",
       "      <td>C00817940</td>\n",
       "      <td>CULVER CITY</td>\n",
       "      <td>CA</td>\n",
       "      <td>902322403</td>\n",
       "      <td>NaN</td>\n",
       "      <td>NaN</td>\n",
       "      <td>1192023</td>\n",
       "      <td>250</td>\n",
       "      <td>NaN</td>\n",
       "    </tr>\n",
       "    <tr>\n",
       "      <th>2</th>\n",
       "      <td>C00817940</td>\n",
       "      <td>CHICAGO</td>\n",
       "      <td>IL</td>\n",
       "      <td>606114546</td>\n",
       "      <td>NaN</td>\n",
       "      <td>NaN</td>\n",
       "      <td>1202023</td>\n",
       "      <td>345</td>\n",
       "      <td>NaN</td>\n",
       "    </tr>\n",
       "    <tr>\n",
       "      <th>3</th>\n",
       "      <td>C00817940</td>\n",
       "      <td>ENCINO</td>\n",
       "      <td>CA</td>\n",
       "      <td>914361845</td>\n",
       "      <td>NaN</td>\n",
       "      <td>NaN</td>\n",
       "      <td>1192023</td>\n",
       "      <td>615</td>\n",
       "      <td>NaN</td>\n",
       "    </tr>\n",
       "    <tr>\n",
       "      <th>4</th>\n",
       "      <td>C00817940</td>\n",
       "      <td>POTOMAC</td>\n",
       "      <td>MD</td>\n",
       "      <td>208541640</td>\n",
       "      <td>NaN</td>\n",
       "      <td>NaN</td>\n",
       "      <td>1192023</td>\n",
       "      <td>5000</td>\n",
       "      <td>NaN</td>\n",
       "    </tr>\n",
       "  </tbody>\n",
       "</table>\n",
       "</div>"
      ],
      "text/plain": [
       "     CMTE_ID         CITY STATE   ZIP_CODE EMPLOYER OCCUPATION  \\\n",
       "0  C00817940  LOS ANGELES    CA  900271058      NaN        NaN   \n",
       "1  C00817940  CULVER CITY    CA  902322403      NaN        NaN   \n",
       "2  C00817940      CHICAGO    IL  606114546      NaN        NaN   \n",
       "3  C00817940       ENCINO    CA  914361845      NaN        NaN   \n",
       "4  C00817940      POTOMAC    MD  208541640      NaN        NaN   \n",
       "\n",
       "   TRANSACTION_DT  TRANSACTION_AMT party_full  \n",
       "0         1192023              800        NaN  \n",
       "1         1192023              250        NaN  \n",
       "2         1202023              345        NaN  \n",
       "3         1192023              615        NaN  \n",
       "4         1192023             5000        NaN  "
      ]
     },
     "execution_count": 41,
     "metadata": {},
     "output_type": "execute_result"
    }
   ],
   "source": [
    "new_df_2023.head()"
   ]
  },
  {
   "cell_type": "code",
   "execution_count": 42,
   "id": "9d35bdf0",
   "metadata": {},
   "outputs": [
    {
     "data": {
      "text/plain": [
       "(8691717, 9)"
      ]
     },
     "execution_count": 42,
     "metadata": {},
     "output_type": "execute_result"
    }
   ],
   "source": [
    "new_df_2023.shape"
   ]
  },
  {
   "cell_type": "code",
   "execution_count": 43,
   "id": "7dcd2363",
   "metadata": {},
   "outputs": [
    {
     "data": {
      "text/plain": [
       "4738952"
      ]
     },
     "execution_count": 43,
     "metadata": {},
     "output_type": "execute_result"
    }
   ],
   "source": [
    "new_df_2023.party_full.isnull().sum()"
   ]
  },
  {
   "cell_type": "code",
   "execution_count": 44,
   "id": "9eec229f",
   "metadata": {},
   "outputs": [
    {
     "data": {
      "text/plain": [
       "3952765"
      ]
     },
     "execution_count": 44,
     "metadata": {},
     "output_type": "execute_result"
    }
   ],
   "source": [
    "new_df_2023.party_full.count()"
   ]
  },
  {
   "cell_type": "code",
   "execution_count": 45,
   "id": "b09b6c7e",
   "metadata": {},
   "outputs": [
    {
     "data": {
      "text/plain": [
       "3952765"
      ]
     },
     "execution_count": 45,
     "metadata": {},
     "output_type": "execute_result"
    }
   ],
   "source": [
    "len(new_df_2023)-new_df_2023.party_full.isnull().sum()"
   ]
  },
  {
   "cell_type": "code",
   "execution_count": 46,
   "id": "7c7a3d43",
   "metadata": {},
   "outputs": [
    {
     "data": {
      "text/plain": [
       "0.5452262193994581"
      ]
     },
     "execution_count": 46,
     "metadata": {},
     "output_type": "execute_result"
    }
   ],
   "source": [
    "party_null_percentage = new_df_2023.party_full.isnull().sum()/len(new_df_2023)\n",
    "party_null_percentage "
   ]
  },
  {
   "cell_type": "code",
   "execution_count": 47,
   "id": "aa044562",
   "metadata": {},
   "outputs": [
    {
     "data": {
      "text/plain": [
       "REPUBLICAN PARTY           2018600\n",
       "DEMOCRATIC PARTY           1551317\n",
       "UNKNOWN                     208802\n",
       "INDEPENDENT                 100331\n",
       "NONE                         50567\n",
       "DEMOCRATIC-FARMER-LABOR      16063\n",
       "LIBERTARIAN PARTY             2853\n",
       "OTHER                         1740\n",
       "NEW PROGRESSIVE PARTY         1229\n",
       "GREEN PARTY                    612\n",
       "CONSTITUTION PARTY             338\n",
       "NEW ALLIANCE                   165\n",
       "UNAFFILIATED                    68\n",
       "WRITE-IN                        22\n",
       "NON-PARTY                       18\n",
       "NO PARTY AFFILIATION            14\n",
       "CONSTITUTIONAL                   8\n",
       "REFORM PARTY                     7\n",
       "COMMUNIST PARTY                  7\n",
       "CONSERVATIVE PARTY               4\n",
       "Name: party_full, dtype: int64"
      ]
     },
     "execution_count": 47,
     "metadata": {},
     "output_type": "execute_result"
    }
   ],
   "source": [
    "new_df_2023.party_full.value_counts()"
   ]
  },
  {
   "cell_type": "code",
   "execution_count": 48,
   "id": "d3c142f4",
   "metadata": {},
   "outputs": [
    {
     "data": {
      "text/plain": [
       "REPUBLICAN PARTY           0.510680\n",
       "DEMOCRATIC PARTY           0.392464\n",
       "UNKNOWN                    0.052824\n",
       "INDEPENDENT                0.025382\n",
       "NONE                       0.012793\n",
       "DEMOCRATIC-FARMER-LABOR    0.004064\n",
       "LIBERTARIAN PARTY          0.000722\n",
       "OTHER                      0.000440\n",
       "NEW PROGRESSIVE PARTY      0.000311\n",
       "GREEN PARTY                0.000155\n",
       "CONSTITUTION PARTY         0.000086\n",
       "NEW ALLIANCE               0.000042\n",
       "UNAFFILIATED               0.000017\n",
       "WRITE-IN                   0.000006\n",
       "NON-PARTY                  0.000005\n",
       "NO PARTY AFFILIATION       0.000004\n",
       "CONSTITUTIONAL             0.000002\n",
       "REFORM PARTY               0.000002\n",
       "COMMUNIST PARTY            0.000002\n",
       "CONSERVATIVE PARTY         0.000001\n",
       "Name: party_full, dtype: float64"
      ]
     },
     "execution_count": 48,
     "metadata": {},
     "output_type": "execute_result"
    }
   ],
   "source": [
    "party_percentage = new_df_2023.party_full.value_counts()/new_df_2023.party_full.count()\n",
    "party_percentage"
   ]
  },
  {
   "cell_type": "code",
   "execution_count": 49,
   "id": "d95ac568",
   "metadata": {},
   "outputs": [
    {
     "name": "stdout",
     "output_type": "stream",
     "text": [
      "Unique CMTE_ID values for rows where 'party_full' is null:\n",
      "['C00817940' 'C00815316' 'C00806562' ... 'C00325977' 'C00755850'\n",
      " 'C00424010']\n"
     ]
    }
   ],
   "source": [
    "null_party_full_df = new_df_2023[new_df_2023['party_full'].isnull()]\n",
    "\n",
    "# Display unique values of 'CMTE_ID' for rows where 'party_full' is null\n",
    "unique_cmte_ids_for_null_party_full = null_party_full_df['CMTE_ID'].unique()\n",
    "\n",
    "# Display the result\n",
    "print(\"Unique CMTE_ID values for rows where 'party_full' is null:\")\n",
    "print(unique_cmte_ids_for_null_party_full)"
   ]
  },
  {
   "cell_type": "code",
   "execution_count": 50,
   "id": "43866d0d",
   "metadata": {},
   "outputs": [
    {
     "data": {
      "text/plain": [
       "3883"
      ]
     },
     "execution_count": 50,
     "metadata": {},
     "output_type": "execute_result"
    }
   ],
   "source": [
    "len(unique_cmte_ids_for_null_party_full)"
   ]
  },
  {
   "cell_type": "code",
   "execution_count": 51,
   "id": "96a94851",
   "metadata": {},
   "outputs": [
    {
     "data": {
      "text/plain": [
       "C00401224    1617159\n",
       "C00770941     549075\n",
       "C00694323      94350\n",
       "C00750521      87883\n",
       "C00580068      76004\n",
       "C00193433      58980\n",
       "C00836353      51351\n",
       "C00836403      48783\n",
       "C00573261      39261\n",
       "C00830679      38593\n",
       "C00748228      36319\n",
       "C00685297      35173\n",
       "C00603084      32851\n",
       "C00142711      32545\n",
       "C00096156      30908\n",
       "C00088591      30093\n",
       "C00562983      29669\n",
       "C00770214      27634\n",
       "C00002089      27128\n",
       "C00744946      27025\n",
       "C00365536      26736\n",
       "C00745786      26179\n",
       "C00676395      24237\n",
       "C00341396      23656\n",
       "C00337733      21701\n",
       "C00238725      21402\n",
       "C00271338      20252\n",
       "C00248716      19660\n",
       "C00076810      19103\n",
       "C00782599      18843\n",
       "Name: CMTE_ID, dtype: int64"
      ]
     },
     "execution_count": 51,
     "metadata": {},
     "output_type": "execute_result"
    }
   ],
   "source": [
    "null_party_full_df['CMTE_ID'].value_counts().head(30)"
   ]
  },
  {
   "cell_type": "markdown",
   "id": "cd2e72d8",
   "metadata": {},
   "source": [
    "# Treat the CMTE_ID with the highest amount of missing values in party_ful column"
   ]
  },
  {
   "cell_type": "markdown",
   "id": "e17b0ba0",
   "metadata": {},
   "source": [
    "A list of joint funderaising committees and associated political party\n",
    "https://www.opensecrets.org/jfc/top.php?type=C "
   ]
  },
  {
   "cell_type": "markdown",
   "id": "18a9f110",
   "metadata": {},
   "source": [
    "C00401224 (ActBlue) \n",
    "\n",
    "The party for this CMTE_ID will be labled as 'Democratic Party' based on the information below:\n",
    "\n",
    "\"ActBlue is not run by the official Democratic Party or any other organization. We are a mission-based organization, which is why only Democrats and progressive organizations (not Republicans) can use our tools to fundraise.\" \n",
    "\n",
    "https://support.actblue.com/donors/about-actblue/is-actblue-run-by-the-democratic-party-or-affiliated-with-any-organizations/\n"
   ]
  },
  {
   "cell_type": "code",
   "execution_count": 52,
   "id": "8af667b1",
   "metadata": {},
   "outputs": [],
   "source": [
    "#assign 'DEMOCRATIC PARTY' to column 'party_full' for 'CMTE_ID' == 'C00401224'\n",
    "\n",
    "new_df_2023.loc[new_df_2023['CMTE_ID'] == 'C00401224', 'party_full'] = 'DEMOCRATIC PARTY'"
   ]
  },
  {
   "cell_type": "markdown",
   "id": "dd8fc923",
   "metadata": {},
   "source": [
    "C00770941 (trump save america joint fundraising committee)\n",
    "\n",
    "The party for this CMTE_ID will be labled as 'Republican Party' since Trump is affilicated with republican party.\n",
    "\n",
    "https://secure.winred.com/save-america-joint-fundraising-committee/storefront/"
   ]
  },
  {
   "cell_type": "code",
   "execution_count": 53,
   "id": "b2b5590d",
   "metadata": {},
   "outputs": [],
   "source": [
    "#assign 'REPUBLICAN PARTY' to column 'party_full' for 'CMTE_ID' == 'C00770941'\n",
    "\n",
    "new_df_2023.loc[new_df_2023['CMTE_ID'] == 'C00770941', 'party_full'] = 'REPUBLICAN PARTY'"
   ]
  },
  {
   "cell_type": "markdown",
   "id": "fdc543c1",
   "metadata": {},
   "source": [
    "C00836353  (NEWSOM FOR CALIFORNIA GOVERNOR 2022) \n",
    "\n",
    "Not clear which party this CMTE_ID is related with, thus, no change to this. \n",
    "https://www.fec.gov/data/committee/C00836353/"
   ]
  },
  {
   "cell_type": "markdown",
   "id": "f2c965e4",
   "metadata": {},
   "source": [
    "C00694323 (\tWINRED) \n",
    "\n",
    "Based on the video description, winRed is a platform used to raise money for Republican party. Thus, the party for this CMTE_ID will be labled as 'Republican Party'.\n",
    "\n",
    "https://www.fec.gov/data/committee/C00694323/?tab=about-committee \n",
    "\n",
    "https://support.winred.com/en/articles/3056005-what-is-winred "
   ]
  },
  {
   "cell_type": "code",
   "execution_count": 54,
   "id": "cf696398",
   "metadata": {},
   "outputs": [],
   "source": [
    "#assign 'REPUBLICAN PARTY' to column 'party_full' for 'CMTE_ID' == 'C00694323'\n",
    "\n",
    "new_df_2023.loc[new_df_2023['CMTE_ID'] == 'C00694323', 'party_full'] = 'REPUBLICAN PARTY'"
   ]
  },
  {
   "cell_type": "markdown",
   "id": "fbabd855",
   "metadata": {},
   "source": [
    "C00750521  (TEAM SCALISE)\n",
    "\n",
    "The party for this CMTE_ID will be labled as 'Republican Party' since Steve Scalise is affilicated with republican party.\n",
    "\n",
    "https://teamscalise.com/"
   ]
  },
  {
   "cell_type": "code",
   "execution_count": 55,
   "id": "099158f6",
   "metadata": {},
   "outputs": [],
   "source": [
    "#assign 'REPUBLICAN PARTY' to column 'party_full' for 'CMTE_ID' == 'C00750521'\n",
    "\n",
    "new_df_2023.loc[new_df_2023['CMTE_ID'] == 'C00750521', 'party_full'] = 'REPUBLICAN PARTY'"
   ]
  },
  {
   "cell_type": "code",
   "execution_count": 56,
   "id": "38659a5a",
   "metadata": {},
   "outputs": [],
   "source": [
    "# C00685297    (ELECT DEMOCRATIC WOMEN): 'DEMOCRATIC Party' \n",
    "# https://electdemocraticwomen.org/\n",
    "#assign 'DEMOCRATIC PARTY' to column 'party_full' for 'CMTE_ID' == 'C00685297'\n",
    "\n",
    "new_df_2023.loc[new_df_2023['CMTE_ID'] == 'C00685297', 'party_full'] = 'DEMOCRATIC PARTY'"
   ]
  },
  {
   "cell_type": "code",
   "execution_count": 57,
   "id": "26ba0dea",
   "metadata": {},
   "outputs": [],
   "source": [
    "# C00676395 (BLACKBURN TENNESSEE VICTORY FUND): 'Republican Party' https://www.opensecrets.org/jfc/summary.php?id=C00676395&cycle=2022\n",
    "\n",
    "#assign 'REPUBLICAN PARTY' to column 'party_full' for 'CMTE_ID' == 'C00676395'\n",
    "\n",
    "new_df_2023.loc[new_df_2023['CMTE_ID'] == 'C00676395', 'party_full'] = 'REPUBLICAN PARTY'"
   ]
  },
  {
   "cell_type": "code",
   "execution_count": 58,
   "id": "39f1acf3",
   "metadata": {},
   "outputs": [],
   "source": [
    "# C00580068 (PROGRESSIVE TURNOUT PROJECT): 'DEMOCRATIC PARTY'  https://www.opensecrets.org/orgs/progressive-turnout-project/summary?id=D000069975 \n",
    "\n",
    "#assign 'DEMOCRATIC PARTY' to column 'party_full' for 'CMTE_ID' == 'C00580068'\n",
    "\n",
    "new_df_2023.loc[new_df_2023['CMTE_ID'] == 'C00580068', 'party_full'] = 'DEMOCRATIC PARTY'"
   ]
  },
  {
   "cell_type": "code",
   "execution_count": 59,
   "id": "1108924d",
   "metadata": {},
   "outputs": [],
   "source": [
    "# C00573261  (END CITIZENS UNITED):'DEMOCRATIC PARTY' https://www.opensecrets.org/political-action-committees-pacs/end-citizens-united/C00573261/candidate-recipients/2020\n",
    "\n",
    "#assign 'DEMOCRATIC PARTY' to column 'party_full' for 'CMTE_ID' == 'C00573261'\n",
    "new_df_2023.loc[new_df_2023['CMTE_ID'] == 'C00573261', 'party_full'] = 'DEMOCRATIC PARTY'"
   ]
  },
  {
   "cell_type": "code",
   "execution_count": 60,
   "id": "ca369d1b",
   "metadata": {},
   "outputs": [],
   "source": [
    "# C00193433 (EMILYS LIST):'DEMOCRATIC PARTY' https://www.opensecrets.org/orgs/emily-s-list/recipients?id=d000000113\n",
    "\n",
    "#assign 'DEMOCRATIC PARTY' to column 'party_full' for 'CMTE_ID' == 'C00193433'\n",
    "\n",
    "new_df_2023.loc[new_df_2023['CMTE_ID'] == 'C00193433', 'party_full'] = 'DEMOCRATIC PARTY'"
   ]
  },
  {
   "cell_type": "code",
   "execution_count": 61,
   "id": "ba37828b",
   "metadata": {},
   "outputs": [],
   "source": [
    "# C00748228  (MARCH ON PAC):'DEMOCRATIC PARTY' \n",
    "# https://www.opensecrets.org/political-action-committees-pacs/march-on-pac/C00748228/candidate-recipients/2022\n",
    "\n",
    "#assign 'DEMOCRATIC PARTY' to column 'party_full' for 'CMTE_ID' == 'C00748228'\n",
    "\n",
    "new_df_2023.loc[new_df_2023['CMTE_ID'] == 'C00748228', 'party_full'] = 'DEMOCRATIC PARTY'\n"
   ]
  },
  {
   "cell_type": "code",
   "execution_count": 62,
   "id": "5b5c8af4",
   "metadata": {},
   "outputs": [],
   "source": [
    "# C00725820 (THE LINCOLN PROJECT):'DEMOCRATIC PARTY' \n",
    "# https://lincolnproject.us/\n",
    "\n",
    "#assign 'DEMOCRATIC PARTY' to column 'party_full' for 'CMTE_ID' == 'C00725820'\n",
    "\n",
    "new_df_2023.loc[new_df_2023['CMTE_ID'] == 'C00725820', 'party_full'] = 'DEMOCRATIC PARTY'\n"
   ]
  },
  {
   "cell_type": "markdown",
   "id": "4556580f",
   "metadata": {},
   "source": [
    "C00096156 (HONEYWELL INTERNATIONAL POLITICAL ACTION COMMITTEE)::Support both parties\n",
    "https://www.opensecrets.org/political-action-committees-pacs/honeywell-international/C00096156/summary/2022"
   ]
  },
  {
   "cell_type": "code",
   "execution_count": 63,
   "id": "c73bcbf4",
   "metadata": {},
   "outputs": [],
   "source": [
    "# C00770214 (CHAMPION AMERICAN VALUES):'Republican Party'\n",
    "# https://www.opensecrets.org/political-action-committees-pacs/champion-american-values/C00770214/summary/2022\n",
    "\n",
    "#assign 'REPUBLICAN PARTY' to column 'party_full' for 'CMTE_ID' == 'C00770214'\n",
    "\n",
    "new_df_2023.loc[new_df_2023['CMTE_ID'] == 'C00770214', 'party_full'] = 'REPUBLICAN PARTY'\n"
   ]
  },
  {
   "cell_type": "code",
   "execution_count": 64,
   "id": "c037c117",
   "metadata": {},
   "outputs": [],
   "source": [
    "# C00693515 (FAIR FIGHT):'DEMOCRATIC PARTY' \n",
    "# https://www.opensecrets.org/political-action-committees-pacs/fair-fight-pac/C00693515/summary/2020\n",
    "\n",
    "#assign 'DEMOCRATIC PARTY' to column 'party_full' for 'CMTE_ID' == 'C00693515'\n",
    "\n",
    "new_df_2023.loc[new_df_2023['CMTE_ID'] == 'C00693515', 'party_full'] = 'DEMOCRATIC PARTY'\n"
   ]
  },
  {
   "cell_type": "code",
   "execution_count": 65,
   "id": "e9b59877",
   "metadata": {},
   "outputs": [],
   "source": [
    "# C00692319 (VPP):'DEMOCRATIC PARTY' \n",
    "# https://www.opensecrets.org/political-action-committees-pacs/voter-protection-project/C00692319/summary/2022\n",
    "\n",
    "\n",
    "#assign 'DEMOCRATIC PARTY' to column 'party_full' for 'CMTE_ID' == 'C00692319'\n",
    "\n",
    "new_df_2023.loc[new_df_2023['CMTE_ID'] == 'C00692319', 'party_full'] = 'DEMOCRATIC PARTY'"
   ]
  },
  {
   "cell_type": "code",
   "execution_count": 66,
   "id": "5817f6ff",
   "metadata": {},
   "outputs": [],
   "source": [
    "# C00718510 (OCCUPY DEMOCRATS ELECTION FUND):'DEMOCRATIC PARTY' \n",
    "\n",
    "#assign 'DEMOCRATIC PARTY' to column 'party_full' for 'CMTE_ID' == 'C00718510'\n",
    "\n",
    "new_df_2023.loc[new_df_2023['CMTE_ID'] == 'C00718510', 'party_full'] = 'DEMOCRATIC PARTY'"
   ]
  },
  {
   "cell_type": "code",
   "execution_count": 67,
   "id": "927b7d90",
   "metadata": {},
   "outputs": [],
   "source": [
    "# C00633404 (STOP REPUBLICANS): Not sure. https://stoprepublicans.com/"
   ]
  },
  {
   "cell_type": "code",
   "execution_count": 68,
   "id": "556bee1a",
   "metadata": {},
   "outputs": [],
   "source": [
    "# C00341396 (MOVEON.ORG POLITICAL ACTION): 'DEMOCRATIC PARTY'\n",
    "# https://www.opensecrets.org/political-action-committees-pacs/moveon-org/C00341396/summary/2020\n",
    "\n",
    "\n",
    "#assign 'DEMOCRATIC PARTY' to column 'party_full' for 'CMTE_ID' == 'C00341396'\n",
    "\n",
    "new_df_2023.loc[new_df_2023['CMTE_ID'] == 'C00341396', 'party_full'] = 'DEMOCRATIC PARTY'"
   ]
  },
  {
   "cell_type": "code",
   "execution_count": 69,
   "id": "0bb2b166",
   "metadata": {},
   "outputs": [],
   "source": [
    "# C00830679  (TEAM ELISE): 'Republican Party' \n",
    "# https://secure.winred.com/team-elise/es_don_om_ga_cgs-spk_se_20231018/?utm_campaign=es_don_om_ga_cgs-spk_se_20231018&utm_source=ga&utm_medium=se&amount=25&utm_term=te_e&gclid=CjwKCAiAhJWsBhAaEiwAmrNyqwzF3isE8kjzbkMJLWAGe8UKVOhWMp4_kOebyGWa9emjs5xI3y_-shoCCEsQAvD_BwE\n",
    "\n",
    "#assign 'REPUBLICAN PARTY' to column 'party_full' for 'CMTE_ID' == 'C00830679'\n",
    "\n",
    "new_df_2023.loc[new_df_2023['CMTE_ID'] == 'C00830679', 'party_full'] = 'REPUBLICAN PARTY'"
   ]
  },
  {
   "cell_type": "code",
   "execution_count": 70,
   "id": "24ff5d83",
   "metadata": {},
   "outputs": [],
   "source": [
    "# C00142711 (THE BOEING COMPANY POLITICAL ACTION COMMITTEE): Support both parties \n",
    "# https://www.opensecrets.org/political-action-committees-pacs/boeing-co/C00142711/candidate-recipients/2022"
   ]
  },
  {
   "cell_type": "markdown",
   "id": "57105006",
   "metadata": {},
   "source": [
    "C00483883 (RETIRED AMERICANS PAC): not sure which party   https://retiredamericanspac.org/"
   ]
  },
  {
   "cell_type": "code",
   "execution_count": 71,
   "id": "419d7fad",
   "metadata": {},
   "outputs": [],
   "source": [
    "# C00632398 (LET AMERICA VOTE PAC): 'DEMOCRATIC PARTY'\n",
    "# https://www.opensecrets.org/political-action-committees-pacs/let-america-vote/C00632398/summary/2022\n",
    "\n",
    "#assign 'DEMOCRATIC PARTY' to column 'party_full' for 'CMTE_ID' == 'C00632398'\n",
    "\n",
    "new_df_2023.loc[new_df_2023['CMTE_ID'] == 'C00632398', 'party_full'] = 'DEMOCRATIC PARTY'"
   ]
  },
  {
   "cell_type": "code",
   "execution_count": 72,
   "id": "ef391b5c",
   "metadata": {},
   "outputs": [],
   "source": [
    "# C00365536 (CHC BOLD PAC): 'DEMOCRATIC PARTY'\n",
    "# https://www.opensecrets.org/political-action-committees-pacs/committee-for-hispanic-causes-bold-pac/C00365536/summary/2020\n",
    "#assign 'DEMOCRATIC PARTY' to column 'party_full' for 'CMTE_ID' == 'C00365536'\n",
    "\n",
    "new_df_2023.loc[new_df_2023['CMTE_ID'] == 'C00365536', 'party_full'] = 'DEMOCRATIC PARTY'"
   ]
  },
  {
   "cell_type": "code",
   "execution_count": 73,
   "id": "1fa4aa4b",
   "metadata": {},
   "outputs": [],
   "source": [
    "# C00782599 (ELECT DIVERSE DEMOCRATS PAC): DEMOCRATS\n",
    "#assign 'DEMOCRATIC PARTY' to column 'party_full' for 'CMTE_ID' == 'C00782599'\n",
    "\n",
    "new_df_2023.loc[new_df_2023['CMTE_ID'] == 'C00782599', 'party_full'] = 'DEMOCRATIC PARTY'"
   ]
  },
  {
   "cell_type": "code",
   "execution_count": 74,
   "id": "c1bde634",
   "metadata": {},
   "outputs": [],
   "source": [
    "# C00765982 (STAND FOR AMERICA PAC):'Republican Party' \n",
    "# https://www.opensecrets.org/political-action-committees-pacs/stand-for-america-pac/C00765982/summary/2022\n",
    "#assign 'REPUBLICAN PARTY' to column 'party_full' for 'CMTE_ID' == 'C00765982'\n",
    "\n",
    "new_df_2023.loc[new_df_2023['CMTE_ID'] == 'C00765982', 'party_full'] = 'REPUBLICAN PARTY'"
   ]
  },
  {
   "cell_type": "code",
   "execution_count": 75,
   "id": "b97902e7",
   "metadata": {},
   "outputs": [],
   "source": [
    "# C00271338 (AMERIPAC: THE FUND FOR A GREATER AMERICA):'DEMOCRATIC PARTY'\n",
    "# https://www.opensecrets.org/political-action-committees-pacs/ameripac-the-fund-for-a-greater-america/C00271338/summary/2022\n",
    "#assign 'DEMOCRATIC PARTY' to column 'party_full' for 'CMTE_ID' == 'C00271338'\n",
    "\n",
    "new_df_2023.loc[new_df_2023['CMTE_ID'] == 'C00271338', 'party_full'] = 'DEMOCRATIC PARTY'"
   ]
  },
  {
   "cell_type": "code",
   "execution_count": 76,
   "id": "06c54ec6",
   "metadata": {},
   "outputs": [],
   "source": [
    "# C00753558 (DEMOCRATIC VICTORY PAC, INC.): DEMOCRATIC\n",
    "#assign 'DEMOCRATIC PARTY' to column 'party_full' for 'CMTE_ID' == 'C00753558'\n",
    "\n",
    "new_df_2023.loc[new_df_2023['CMTE_ID'] == 'C00753558', 'party_full'] = 'DEMOCRATIC PARTY'"
   ]
  },
  {
   "cell_type": "code",
   "execution_count": 77,
   "id": "4727d831",
   "metadata": {},
   "outputs": [],
   "source": [
    "# C00836403 (TEAM EMMER): 'Republican Party'  https://www.opensecrets.org/jfc/summary.php?id=C00573444&cycle=2022 \n",
    "\n",
    "#assign 'REPUBLICAN PARTY' to column 'party_full' for 'CMTE_ID' == 'C00836403'\n",
    "\n",
    "new_df_2023.loc[new_df_2023['CMTE_ID'] == 'C00836403', 'party_full'] = 'REPUBLICAN PARTY'"
   ]
  },
  {
   "cell_type": "code",
   "execution_count": 78,
   "id": "2c2dfb25",
   "metadata": {},
   "outputs": [],
   "source": [
    "# C00603084 (NATIONAL DEMOCRATIC TRAINING COMMITTEE PAC): DEMOCRATIC\n",
    "#assign 'DEMOCRATIC PARTY' to column 'party_full' for 'CMTE_ID' == 'C00603084'\n",
    "\n",
    "new_df_2023.loc[new_df_2023['CMTE_ID'] == 'C00603084', 'party_full'] = 'DEMOCRATIC PARTY'"
   ]
  },
  {
   "cell_type": "code",
   "execution_count": 79,
   "id": "2a85c498",
   "metadata": {},
   "outputs": [],
   "source": [
    "# C00088591 (EMPLOYEES OF NORTHROP GRUMMAN CORPORATION PAC): support both parties"
   ]
  },
  {
   "cell_type": "code",
   "execution_count": 80,
   "id": "96a8fff4",
   "metadata": {},
   "outputs": [],
   "source": [
    "# C00562983 (DEMOCRATIC ACTION):DEMOCRATIC\n",
    "#assign 'DEMOCRATIC PARTY' to column 'party_full' for 'CMTE_ID' == 'C00562983'\n",
    "\n",
    "new_df_2023.loc[new_df_2023['CMTE_ID'] == 'C00562983', 'party_full'] = 'DEMOCRATIC PARTY'\n"
   ]
  },
  {
   "cell_type": "code",
   "execution_count": 81,
   "id": "d6ad2375",
   "metadata": {},
   "outputs": [],
   "source": [
    "# C00002089 (COMMUNICATIONS WORKERS OF AMERICA - COPE POLITICAL CONTRIBUTIONS COMMITTEE): DEMOCRATIC\n",
    "# https://www.opensecrets.org/political-action-committees-pacs/communications-workers-of-america/C00002089/summary/2020\n",
    "#assign 'DEMOCRATIC PARTY' to column 'party_full' for 'CMTE_ID' == 'C00002089'\n",
    "\n",
    "new_df_2023.loc[new_df_2023['CMTE_ID'] == 'C00002089', 'party_full'] = 'DEMOCRATIC PARTY'"
   ]
  },
  {
   "cell_type": "code",
   "execution_count": 82,
   "id": "6e3c0a3a",
   "metadata": {},
   "outputs": [],
   "source": [
    "# C00744946 (BIDEN VICTORY FUND):DEMOCRATIC\n",
    "# https://www.opensecrets.org/jfc/summary.php?id=C00744946\n",
    "\n",
    "#assign 'DEMOCRATIC PARTY' to column 'party_full' for 'CMTE_ID' == 'C00744946'\n",
    "\n",
    "new_df_2023.loc[new_df_2023['CMTE_ID'] == 'C00744946', 'party_full'] = 'DEMOCRATIC PARTY'"
   ]
  },
  {
   "cell_type": "code",
   "execution_count": 83,
   "id": "3c88f893",
   "metadata": {},
   "outputs": [],
   "source": [
    "# C00745786 (DEMOCRATIC STRATEGY INSTITUTE): DEMOCRATIC\n",
    "\n",
    "#assign 'DEMOCRATIC PARTY' to column 'party_full' for 'CMTE_ID' == 'C00745786'\n",
    "\n",
    "new_df_2023.loc[new_df_2023['CMTE_ID'] == 'C00745786', 'party_full'] = 'DEMOCRATIC PARTY'"
   ]
  },
  {
   "cell_type": "code",
   "execution_count": 84,
   "id": "67e08af9",
   "metadata": {},
   "outputs": [],
   "source": [
    "# C00337733 (MASON TENDERS DISTRICT COUNCIL OF GREATER NEW YORK & LI PAC): DEMOCRATIC\n",
    "# https://www.opensecrets.org/political-action-committees-pacs/mason-tenders-district-council-of-ny/C00337733/summary/2018\n",
    "#assign 'DEMOCRATIC PARTY' to column 'party_full' for 'CMTE_ID' == 'C00337733'\n",
    "\n",
    "new_df_2023.loc[new_df_2023['CMTE_ID'] == 'C00337733', 'party_full'] = 'DEMOCRATIC PARTY'"
   ]
  },
  {
   "cell_type": "code",
   "execution_count": 85,
   "id": "8bdd44b7",
   "metadata": {},
   "outputs": [],
   "source": [
    "# C00238725 (NATIONAL AIR TRAFFIC CONTROLLERS ASSOCIATION PAC): majority to DEMOCRATIC\n",
    "# https://www.opensecrets.org/political-action-committees-pacs/national-air-traffic-controllers-assn/C00238725/summary/2022\n",
    "\n",
    "#assign 'DEMOCRATIC PARTY' to column 'party_full' for 'CMTE_ID' == 'C00238725'\n",
    "\n",
    "new_df_2023.loc[new_df_2023['CMTE_ID'] == 'C00238725', 'party_full'] = 'DEMOCRATIC PARTY'"
   ]
  },
  {
   "cell_type": "code",
   "execution_count": 86,
   "id": "e2cef826",
   "metadata": {},
   "outputs": [],
   "source": [
    "# C00248716 (COMCAST CORPORATION & NBCUNIVERSAL POLITICAL ACTION COMMITTEE - FEDERAL):support both parties equally"
   ]
  },
  {
   "cell_type": "code",
   "execution_count": 87,
   "id": "48b93612",
   "metadata": {},
   "outputs": [],
   "source": [
    "# replace 'DEMOCRATIC-FARMER-LABOR' with 'DEMOCRATIC PARTY' in column party_full \n",
    "#(since it is affiliated with the Democratic Party in the U.S.)\n",
    "\n",
    "new_df_2023['party_full'].replace('DEMOCRATIC-FARMER-LABOR', 'DEMOCRATIC PARTY', inplace=True)"
   ]
  },
  {
   "cell_type": "code",
   "execution_count": 88,
   "id": "210c212a",
   "metadata": {},
   "outputs": [
    {
     "data": {
      "text/plain": [
       "1671491"
      ]
     },
     "execution_count": 88,
     "metadata": {},
     "output_type": "execute_result"
    }
   ],
   "source": [
    "# after the updates above, recheck the null and party counts\n",
    "\n",
    "new_df_2023.party_full.isnull().sum()"
   ]
  },
  {
   "cell_type": "code",
   "execution_count": 89,
   "id": "546ee783",
   "metadata": {},
   "outputs": [
    {
     "data": {
      "text/plain": [
       "0.1923084932470765"
      ]
     },
     "execution_count": 89,
     "metadata": {},
     "output_type": "execute_result"
    }
   ],
   "source": [
    "party_null_percentage_new = new_df_2023.party_full.isnull().sum()/len(new_df_2023)\n",
    "party_null_percentage_new "
   ]
  },
  {
   "cell_type": "code",
   "execution_count": 90,
   "id": "71fb9ea1",
   "metadata": {},
   "outputs": [
    {
     "data": {
      "text/plain": [
       "DEMOCRATIC PARTY         3757716\n",
       "REPUBLICAN PARTY         2895725\n",
       "UNKNOWN                   208802\n",
       "INDEPENDENT               100331\n",
       "NONE                       50567\n",
       "LIBERTARIAN PARTY           2853\n",
       "OTHER                       1740\n",
       "NEW PROGRESSIVE PARTY       1229\n",
       "GREEN PARTY                  612\n",
       "CONSTITUTION PARTY           338\n",
       "NEW ALLIANCE                 165\n",
       "UNAFFILIATED                  68\n",
       "WRITE-IN                      22\n",
       "NON-PARTY                     18\n",
       "NO PARTY AFFILIATION          14\n",
       "CONSTITUTIONAL                 8\n",
       "REFORM PARTY                   7\n",
       "COMMUNIST PARTY                7\n",
       "CONSERVATIVE PARTY             4\n",
       "Name: party_full, dtype: int64"
      ]
     },
     "execution_count": 90,
     "metadata": {},
     "output_type": "execute_result"
    }
   ],
   "source": [
    "new_df_2023.party_full.value_counts()"
   ]
  },
  {
   "cell_type": "code",
   "execution_count": 91,
   "id": "d3ceb0f6",
   "metadata": {},
   "outputs": [
    {
     "data": {
      "text/plain": [
       "DEMOCRATIC PARTY         5.352699e-01\n",
       "REPUBLICAN PARTY         4.124832e-01\n",
       "UNKNOWN                  2.974292e-02\n",
       "INDEPENDENT              1.429171e-02\n",
       "NONE                     7.203044e-03\n",
       "LIBERTARIAN PARTY        4.063972e-04\n",
       "OTHER                    2.478553e-04\n",
       "NEW PROGRESSIVE PARTY    1.750656e-04\n",
       "GREEN PARTY              8.717668e-05\n",
       "CONSTITUTION PARTY       4.814660e-05\n",
       "NEW ALLIANCE             2.350352e-05\n",
       "UNAFFILIATED             9.686298e-06\n",
       "WRITE-IN                 3.133802e-06\n",
       "NON-PARTY                2.564020e-06\n",
       "NO PARTY AFFILIATION     1.994238e-06\n",
       "CONSTITUTIONAL           1.139564e-06\n",
       "REFORM PARTY             9.971189e-07\n",
       "COMMUNIST PARTY          9.971189e-07\n",
       "CONSERVATIVE PARTY       5.697822e-07\n",
       "Name: party_full, dtype: float64"
      ]
     },
     "execution_count": 91,
     "metadata": {},
     "output_type": "execute_result"
    }
   ],
   "source": [
    "party_percentage_new = new_df_2023.party_full.value_counts()/new_df_2023.party_full.count()\n",
    "party_percentage_new"
   ]
  },
  {
   "cell_type": "code",
   "execution_count": 92,
   "id": "ef21af6b",
   "metadata": {},
   "outputs": [
    {
     "data": {
      "text/html": [
       "<div>\n",
       "<style scoped>\n",
       "    .dataframe tbody tr th:only-of-type {\n",
       "        vertical-align: middle;\n",
       "    }\n",
       "\n",
       "    .dataframe tbody tr th {\n",
       "        vertical-align: top;\n",
       "    }\n",
       "\n",
       "    .dataframe thead th {\n",
       "        text-align: right;\n",
       "    }\n",
       "</style>\n",
       "<table border=\"1\" class=\"dataframe\">\n",
       "  <thead>\n",
       "    <tr style=\"text-align: right;\">\n",
       "      <th></th>\n",
       "      <th>CMTE_ID</th>\n",
       "      <th>CITY</th>\n",
       "      <th>STATE</th>\n",
       "      <th>ZIP_CODE</th>\n",
       "      <th>EMPLOYER</th>\n",
       "      <th>OCCUPATION</th>\n",
       "      <th>TRANSACTION_DT</th>\n",
       "      <th>TRANSACTION_AMT</th>\n",
       "      <th>party_full</th>\n",
       "    </tr>\n",
       "  </thead>\n",
       "  <tbody>\n",
       "    <tr>\n",
       "      <th>0</th>\n",
       "      <td>C00817940</td>\n",
       "      <td>LOS ANGELES</td>\n",
       "      <td>CA</td>\n",
       "      <td>900271058</td>\n",
       "      <td>NaN</td>\n",
       "      <td>NaN</td>\n",
       "      <td>1192023</td>\n",
       "      <td>800</td>\n",
       "      <td>NaN</td>\n",
       "    </tr>\n",
       "    <tr>\n",
       "      <th>1</th>\n",
       "      <td>C00817940</td>\n",
       "      <td>CULVER CITY</td>\n",
       "      <td>CA</td>\n",
       "      <td>902322403</td>\n",
       "      <td>NaN</td>\n",
       "      <td>NaN</td>\n",
       "      <td>1192023</td>\n",
       "      <td>250</td>\n",
       "      <td>NaN</td>\n",
       "    </tr>\n",
       "    <tr>\n",
       "      <th>2</th>\n",
       "      <td>C00817940</td>\n",
       "      <td>CHICAGO</td>\n",
       "      <td>IL</td>\n",
       "      <td>606114546</td>\n",
       "      <td>NaN</td>\n",
       "      <td>NaN</td>\n",
       "      <td>1202023</td>\n",
       "      <td>345</td>\n",
       "      <td>NaN</td>\n",
       "    </tr>\n",
       "    <tr>\n",
       "      <th>3</th>\n",
       "      <td>C00817940</td>\n",
       "      <td>ENCINO</td>\n",
       "      <td>CA</td>\n",
       "      <td>914361845</td>\n",
       "      <td>NaN</td>\n",
       "      <td>NaN</td>\n",
       "      <td>1192023</td>\n",
       "      <td>615</td>\n",
       "      <td>NaN</td>\n",
       "    </tr>\n",
       "    <tr>\n",
       "      <th>4</th>\n",
       "      <td>C00817940</td>\n",
       "      <td>POTOMAC</td>\n",
       "      <td>MD</td>\n",
       "      <td>208541640</td>\n",
       "      <td>NaN</td>\n",
       "      <td>NaN</td>\n",
       "      <td>1192023</td>\n",
       "      <td>5000</td>\n",
       "      <td>NaN</td>\n",
       "    </tr>\n",
       "  </tbody>\n",
       "</table>\n",
       "</div>"
      ],
      "text/plain": [
       "     CMTE_ID         CITY STATE   ZIP_CODE EMPLOYER OCCUPATION  \\\n",
       "0  C00817940  LOS ANGELES    CA  900271058      NaN        NaN   \n",
       "1  C00817940  CULVER CITY    CA  902322403      NaN        NaN   \n",
       "2  C00817940      CHICAGO    IL  606114546      NaN        NaN   \n",
       "3  C00817940       ENCINO    CA  914361845      NaN        NaN   \n",
       "4  C00817940      POTOMAC    MD  208541640      NaN        NaN   \n",
       "\n",
       "   TRANSACTION_DT  TRANSACTION_AMT party_full  \n",
       "0         1192023              800        NaN  \n",
       "1         1192023              250        NaN  \n",
       "2         1202023              345        NaN  \n",
       "3         1192023              615        NaN  \n",
       "4         1192023             5000        NaN  "
      ]
     },
     "execution_count": 92,
     "metadata": {},
     "output_type": "execute_result"
    }
   ],
   "source": [
    "new_df_2023.head()"
   ]
  },
  {
   "cell_type": "code",
   "execution_count": 93,
   "id": "d7f507ed",
   "metadata": {},
   "outputs": [
    {
     "data": {
      "text/plain": [
       "(8691717, 9)"
      ]
     },
     "execution_count": 93,
     "metadata": {},
     "output_type": "execute_result"
    }
   ],
   "source": [
    "new_df_2023.shape"
   ]
  },
  {
   "cell_type": "markdown",
   "id": "9e9a99ee",
   "metadata": {},
   "source": [
    "# only keep rows where party_full value is Democratic party or Republican party (drop rows with all other values)."
   ]
  },
  {
   "cell_type": "code",
   "execution_count": 94,
   "id": "22894fb4",
   "metadata": {},
   "outputs": [],
   "source": [
    "# only keep rows where party_full value is Democratic party or Republican party (drop rows with all other values).\n",
    "\n",
    "df_2_party = new_df_2023[new_df_2023['party_full'].isin(['DEMOCRATIC PARTY', 'REPUBLICAN PARTY'])]"
   ]
  },
  {
   "cell_type": "code",
   "execution_count": 95,
   "id": "32feae82",
   "metadata": {},
   "outputs": [
    {
     "data": {
      "text/html": [
       "<div>\n",
       "<style scoped>\n",
       "    .dataframe tbody tr th:only-of-type {\n",
       "        vertical-align: middle;\n",
       "    }\n",
       "\n",
       "    .dataframe tbody tr th {\n",
       "        vertical-align: top;\n",
       "    }\n",
       "\n",
       "    .dataframe thead th {\n",
       "        text-align: right;\n",
       "    }\n",
       "</style>\n",
       "<table border=\"1\" class=\"dataframe\">\n",
       "  <thead>\n",
       "    <tr style=\"text-align: right;\">\n",
       "      <th></th>\n",
       "      <th>CMTE_ID</th>\n",
       "      <th>CITY</th>\n",
       "      <th>STATE</th>\n",
       "      <th>ZIP_CODE</th>\n",
       "      <th>EMPLOYER</th>\n",
       "      <th>OCCUPATION</th>\n",
       "      <th>TRANSACTION_DT</th>\n",
       "      <th>TRANSACTION_AMT</th>\n",
       "      <th>party_full</th>\n",
       "    </tr>\n",
       "  </thead>\n",
       "  <tbody>\n",
       "    <tr>\n",
       "      <th>8</th>\n",
       "      <td>C00806752</td>\n",
       "      <td>LAS VEGAS</td>\n",
       "      <td>NV</td>\n",
       "      <td>89107</td>\n",
       "      <td>NaN</td>\n",
       "      <td>NaN</td>\n",
       "      <td>4052022</td>\n",
       "      <td>580</td>\n",
       "      <td>REPUBLICAN PARTY</td>\n",
       "    </tr>\n",
       "    <tr>\n",
       "      <th>9</th>\n",
       "      <td>C00806752</td>\n",
       "      <td>LAS VEGAS</td>\n",
       "      <td>NV</td>\n",
       "      <td>89148</td>\n",
       "      <td>NaN</td>\n",
       "      <td>NaN</td>\n",
       "      <td>4102022</td>\n",
       "      <td>350</td>\n",
       "      <td>REPUBLICAN PARTY</td>\n",
       "    </tr>\n",
       "    <tr>\n",
       "      <th>10</th>\n",
       "      <td>C00806752</td>\n",
       "      <td>LAS VEGAS</td>\n",
       "      <td>NV</td>\n",
       "      <td>89107</td>\n",
       "      <td>NONE</td>\n",
       "      <td>RETIRED</td>\n",
       "      <td>4112022</td>\n",
       "      <td>480</td>\n",
       "      <td>REPUBLICAN PARTY</td>\n",
       "    </tr>\n",
       "    <tr>\n",
       "      <th>11</th>\n",
       "      <td>C00806752</td>\n",
       "      <td>LAS VEGAS</td>\n",
       "      <td>NV</td>\n",
       "      <td>89110</td>\n",
       "      <td>NONE</td>\n",
       "      <td>RETIRED</td>\n",
       "      <td>6302022</td>\n",
       "      <td>7709</td>\n",
       "      <td>REPUBLICAN PARTY</td>\n",
       "    </tr>\n",
       "    <tr>\n",
       "      <th>12</th>\n",
       "      <td>C00806372</td>\n",
       "      <td>PROVIDENCE</td>\n",
       "      <td>RI</td>\n",
       "      <td>029033050</td>\n",
       "      <td>NOT EMPLOYED</td>\n",
       "      <td>NOT EMPLOYED</td>\n",
       "      <td>1112023</td>\n",
       "      <td>64427</td>\n",
       "      <td>DEMOCRATIC PARTY</td>\n",
       "    </tr>\n",
       "  </tbody>\n",
       "</table>\n",
       "</div>"
      ],
      "text/plain": [
       "      CMTE_ID        CITY STATE   ZIP_CODE      EMPLOYER    OCCUPATION  \\\n",
       "8   C00806752   LAS VEGAS    NV      89107           NaN           NaN   \n",
       "9   C00806752   LAS VEGAS    NV      89148           NaN           NaN   \n",
       "10  C00806752   LAS VEGAS    NV      89107          NONE       RETIRED   \n",
       "11  C00806752   LAS VEGAS    NV      89110          NONE       RETIRED   \n",
       "12  C00806372  PROVIDENCE    RI  029033050  NOT EMPLOYED  NOT EMPLOYED   \n",
       "\n",
       "    TRANSACTION_DT  TRANSACTION_AMT        party_full  \n",
       "8          4052022              580  REPUBLICAN PARTY  \n",
       "9          4102022              350  REPUBLICAN PARTY  \n",
       "10         4112022              480  REPUBLICAN PARTY  \n",
       "11         6302022             7709  REPUBLICAN PARTY  \n",
       "12         1112023            64427  DEMOCRATIC PARTY  "
      ]
     },
     "execution_count": 95,
     "metadata": {},
     "output_type": "execute_result"
    }
   ],
   "source": [
    "df_2_party.head()"
   ]
  },
  {
   "cell_type": "code",
   "execution_count": 96,
   "id": "e97ebeda",
   "metadata": {},
   "outputs": [
    {
     "data": {
      "text/plain": [
       "0"
      ]
     },
     "execution_count": 96,
     "metadata": {},
     "output_type": "execute_result"
    }
   ],
   "source": [
    "df_2_party['party_full'].isnull().sum()"
   ]
  },
  {
   "cell_type": "code",
   "execution_count": 97,
   "id": "c7cb7ccf",
   "metadata": {},
   "outputs": [
    {
     "data": {
      "text/plain": [
       "(6653441, 9)"
      ]
     },
     "execution_count": 97,
     "metadata": {},
     "output_type": "execute_result"
    }
   ],
   "source": [
    "df_2_party.shape"
   ]
  },
  {
   "cell_type": "code",
   "execution_count": 98,
   "id": "321d8e6c",
   "metadata": {},
   "outputs": [
    {
     "data": {
      "text/plain": [
       "DEMOCRATIC PARTY    3757716\n",
       "REPUBLICAN PARTY    2895725\n",
       "Name: party_full, dtype: int64"
      ]
     },
     "execution_count": 98,
     "metadata": {},
     "output_type": "execute_result"
    }
   ],
   "source": [
    "df_2_party['party_full'].value_counts()"
   ]
  },
  {
   "cell_type": "code",
   "execution_count": 99,
   "id": "435d43d8",
   "metadata": {},
   "outputs": [
    {
     "data": {
      "text/plain": [
       "DEMOCRATIC PARTY    0.564778\n",
       "REPUBLICAN PARTY    0.435222\n",
       "Name: party_full, dtype: float64"
      ]
     },
     "execution_count": 99,
     "metadata": {},
     "output_type": "execute_result"
    }
   ],
   "source": [
    "df_2_party['party_full'].value_counts()/df_2_party.shape[0]"
   ]
  },
  {
   "cell_type": "markdown",
   "id": "a37e52da",
   "metadata": {},
   "source": [
    "# Creat a new column 'party_label'"
   ]
  },
  {
   "cell_type": "code",
   "execution_count": 112,
   "id": "ee1a6e0b",
   "metadata": {},
   "outputs": [],
   "source": [
    "# creat a new column 'party_label', assign ? to \"DEMOCRATIC PARTY\" and ? to \"REPUBLICAN PARTY\"\n"
   ]
  },
  {
   "cell_type": "code",
   "execution_count": 104,
   "id": "1b6044ee",
   "metadata": {},
   "outputs": [
    {
     "data": {
      "text/plain": [
       "(6653441, 10)"
      ]
     },
     "execution_count": 104,
     "metadata": {},
     "output_type": "execute_result"
    }
   ],
   "source": [
    "df_2_party.shape"
   ]
  },
  {
   "cell_type": "code",
   "execution_count": 105,
   "id": "14e434e4",
   "metadata": {},
   "outputs": [
    {
     "name": "stdout",
     "output_type": "stream",
     "text": [
      "<class 'pandas.core.frame.DataFrame'>\n",
      "Int64Index: 6653441 entries, 8 to 8691716\n",
      "Data columns (total 10 columns):\n",
      " #   Column           Dtype \n",
      "---  ------           ----- \n",
      " 0   CMTE_ID          object\n",
      " 1   CITY             object\n",
      " 2   STATE            object\n",
      " 3   ZIP_CODE         object\n",
      " 4   EMPLOYER         object\n",
      " 5   OCCUPATION       object\n",
      " 6   TRANSACTION_DT   int64 \n",
      " 7   TRANSACTION_AMT  int64 \n",
      " 8   party_full       object\n",
      " 9   party_label      int64 \n",
      "dtypes: int64(3), object(7)\n",
      "memory usage: 558.4+ MB\n"
     ]
    }
   ],
   "source": [
    "df_2_party.info()"
   ]
  },
  {
   "cell_type": "markdown",
   "id": "950382b7",
   "metadata": {},
   "source": [
    "# Save df_2_party based on the original five txt files from the year of 2023 to a new CSV file named as 'df_2_party_5txt.csv' (exclude donor names, includes all dates, not just 2023)."
   ]
  },
  {
   "cell_type": "code",
   "execution_count": 108,
   "id": "8590f58e",
   "metadata": {},
   "outputs": [],
   "source": [
    "# Save df_2_party based on the original five txt files from the year of 2023 to a new CSV file named as \n",
    "#'df_2_party_5txt.csv' (exclude donor names, includes all dates, not just 2023,)\n",
    "\n",
    "# df_2_party.to_csv('df_2023_treat party_no_names.csv', index=False)"
   ]
  },
  {
   "cell_type": "code",
   "execution_count": 109,
   "id": "f022b909",
   "metadata": {},
   "outputs": [
    {
     "name": "stderr",
     "output_type": "stream",
     "text": [
      "C:\\Users\\tubos\\AppData\\Local\\Temp\\ipykernel_11040\\2380578302.py:1: DtypeWarning: Columns (3) have mixed types. Specify dtype option on import or set low_memory=False.\n",
      "  df_2023 = pd.read_csv('df_2023_treat party_no_names.csv')\n"
     ]
    }
   ],
   "source": [
    "# df_2023 = pd.read_csv('df_2023_treat party_no_names.csv')"
   ]
  },
  {
   "cell_type": "code",
   "execution_count": 111,
   "id": "baa0e7e2",
   "metadata": {},
   "outputs": [
    {
     "data": {
      "text/plain": [
       "Index(['CMTE_ID', 'CITY', 'STATE', 'ZIP_CODE', 'EMPLOYER', 'OCCUPATION',\n",
       "       'TRANSACTION_DT', 'TRANSACTION_AMT', 'party_full', 'party_label'],\n",
       "      dtype='object')"
      ]
     },
     "execution_count": 111,
     "metadata": {},
     "output_type": "execute_result"
    }
   ],
   "source": [
    "df_2023.columns"
   ]
  }
 ],
 "metadata": {
  "kernelspec": {
   "display_name": "Python 3 (ipykernel)",
   "language": "python",
   "name": "python3"
  },
  "language_info": {
   "codemirror_mode": {
    "name": "ipython",
    "version": 3
   },
   "file_extension": ".py",
   "mimetype": "text/x-python",
   "name": "python",
   "nbconvert_exporter": "python",
   "pygments_lexer": "ipython3",
   "version": "3.9.13"
  }
 },
 "nbformat": 4,
 "nbformat_minor": 5
}
