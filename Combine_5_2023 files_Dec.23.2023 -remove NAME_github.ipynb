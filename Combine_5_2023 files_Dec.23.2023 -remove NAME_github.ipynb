{
 "cells": [
  {
   "cell_type": "markdown",
   "id": "a7f70388",
   "metadata": {},
   "source": [
    "# In this notebook, treat the raw data in year 2023 which includes 5 seperate original txt files. "
   ]
  },
  {
   "cell_type": "markdown",
   "id": "6ec1e18f",
   "metadata": {},
   "source": [
    "# What has been done in this notebook?\n",
    "1. Add column names to the original txt files since they did not include column names. \n",
    "2. Create the dataframe new_df_xxxx with 9 columns we are interested in from the original individual donor df. xxxx is the last    four digits of each txt file.\n",
    "3. Combine the five new_df_xxxx into one dataframe df_2023.\n",
    "4. Add \"party_full\" column to df_2023 and name the dataframe as new_df_2023.\n",
    "5. Treat the CMTE_ID with the highest amount of missing values in party_ful column. After this, the party_full missing values      percentage is about 20%.\n",
    "6. Drop rows where party_full values are not equal to \"DEMOCRATIC PARTY\" or \"REPUBLICAN PARTY\".\n",
    "5. Save df_2_party_2023 to a new CSV file and name it as 'df_2_party_2023.csv'\n",
   
  },
  {
   "cell_type": "code",
   "execution_count": 2,
   "id": "41122fba",
   "metadata": {},
   "outputs": [],
   "source": [
    "headname = pd.read_csv('indiv_header_file (for political donor txt files).csv')"
   ]
  },
  {
   "cell_type": "code",
   "execution_count": 3,
   "id": "301f4895",
   "metadata": {},
   "outputs": [
    {
     "data": {
      "text/plain": [
       "Index(['CMTE_ID', 'AMNDT_IND', 'RPT_TP', 'TRANSACTION_PGI', 'IMAGE_NUM',\n",
       "       'TRANSACTION_TP', 'ENTITY_TP', 'NAME', 'CITY', 'STATE', 'ZIP_CODE',\n",
       "       'EMPLOYER', 'OCCUPATION', 'TRANSACTION_DT', 'TRANSACTION_AMT',\n",
       "       'OTHER_ID', 'TRAN_ID', 'FILE_NUM', 'MEMO_CD', 'MEMO_TEXT', 'SUB_ID'],\n",
       "      dtype='object')"
      ]
     },
     "execution_count": 3,
     "metadata": {},
     "output_type": "execute_result"
    }
   ],
   "source": [
    "headname.columns"
   ]
  },
  {
   "cell_type": "code",
   "execution_count": 4,
   "id": "53870e3d",
   "metadata": {},
   "outputs": [
    {
     "name": "stderr",
     "output_type": "stream",
     "text": [
      "C:\\Users\\tubos\\AppData\\Local\\Temp\\ipykernel_11040\\2522238050.py:1: DtypeWarning: Columns (10,18) have mixed types. Specify dtype option on import or set low_memory=False.\n",
      "  df_0330 = pd.read_csv('itcont_2024_20030211_20230330.txt', delimiter='|',names=headname.columns, header=None)\n"
     ]
    }
   ],
   "source": [
    "df_0330 = pd.read_csv('itcont_2024_20030211_20230330.txt', delimiter='|',names=headname.columns, header=None)"
   ]
  },
  {
   "cell_type": "code",
   "execution_count": 5,
   "id": "9e18650c",
   "metadata": {},
   "outputs": [
    {
     "name": "stderr",
     "output_type": "stream",
     "text": [
      "C:\\Users\\tubos\\AppData\\Local\\Temp\\ipykernel_11040\\4230808486.py:1: DtypeWarning: Columns (10,18) have mixed types. Specify dtype option on import or set low_memory=False.\n",
      "  df_0527 = pd.read_csv('itcont_2024_20230331_20230527.txt', delimiter='|',names=headname.columns, header=None)\n"
     ]
    }
   ],
   "source": [
    "df_0527 = pd.read_csv('itcont_2024_20230331_20230527.txt', delimiter='|',names=headname.columns, header=None)"
   ]
  },
  {
   "cell_type": "code",
   "execution_count": 6,
   "id": "58161cbc",
   "metadata": {},
   "outputs": [
    {
     "name": "stderr",
     "output_type": "stream",
     "text": [
      "C:\\Users\\tubos\\AppData\\Local\\Temp\\ipykernel_11040\\1669191063.py:1: DtypeWarning: Columns (10,18) have mixed types. Specify dtype option on import or set low_memory=False.\n",
      "  df_0721 = pd.read_csv('itcont_2024_20230528_20230721.txt', delimiter='|',names=headname.columns, header=None)\n"
     ]
    }
   ],
   "source": [
    "df_0721 = pd.read_csv('itcont_2024_20230528_20230721.txt', delimiter='|',names=headname.columns, header=None)"
   ]
  },
  {
   "cell_type": "code",
   "execution_count": 7,
   "id": "0cbe1e47",
   "metadata": {},
   "outputs": [
    {
     "name": "stderr",
     "output_type": "stream",
     "text": [
      "C:\\Users\\tubos\\AppData\\Local\\Temp\\ipykernel_11040\\1716292352.py:1: DtypeWarning: Columns (10,18) have mixed types. Specify dtype option on import or set low_memory=False.\n",
      "  df_0929 = pd.read_csv('itcont_2024_20230722_20230929.txt', delimiter='|',names=headname.columns, header=None)\n"
     ]
    }
   ],
   "source": [
    "df_0929 = pd.read_csv('itcont_2024_20230722_20230929.txt', delimiter='|',names=headname.columns, header=None)"
   ]
  },
  {
   "cell_type": "code",
   "execution_count": 8,
   "id": "7b10f191",
   "metadata": {},
   "outputs": [
    {
     "name": "stderr",
     "output_type": "stream",
     "text": [
      "C:\\Users\\tubos\\AppData\\Local\\Temp\\ipykernel_11040\\29901737.py:1: DtypeWarning: Columns (10,16,18) have mixed types. Specify dtype option on import or set low_memory=False.\n",
      "  df_0622 = pd.read_csv('itcont_2024_20230930_20260622.txt', delimiter='|',names=headname.columns, header=None)\n"
     ]
    }
   ],
   "source": [
    "df_0622 = pd.read_csv('itcont_2024_20230930_20260622.txt', delimiter='|',names=headname.columns, header=None)"
   ]
  },
  {
   "cell_type": "code",
   "execution_count": 9,
   "id": "8761b9bf",
   "metadata": {},
   "outputs": [
    {
     "data": {
      "text/plain": [
       "(1974696, 21)"
      ]
     },
     "execution_count": 9,
     "metadata": {},
     "output_type": "execute_result"
    }
   ],
   "source": [
    "df_0330.shape"
   ]
  },
  {
   "cell_type": "code",
   "execution_count": 10,
   "id": "1ca5dd0f",
   "metadata": {},
   "outputs": [
    {
     "data": {
      "text/plain": [
       "Index(['CMTE_ID', 'AMNDT_IND', 'RPT_TP', 'TRANSACTION_PGI', 'IMAGE_NUM',\n",
       "       'TRANSACTION_TP', 'ENTITY_TP', 'NAME', 'CITY', 'STATE', 'ZIP_CODE',\n",
       "       'EMPLOYER', 'OCCUPATION', 'TRANSACTION_DT', 'TRANSACTION_AMT',\n",
       "       'OTHER_ID', 'TRAN_ID', 'FILE_NUM', 'MEMO_CD', 'MEMO_TEXT', 'SUB_ID'],\n",
       "      dtype='object')"
      ]
     },
     "execution_count": 10,
     "metadata": {},
     "output_type": "execute_result"
    }
   ],
   "source": [
    "df_0330.columns"
   ]
  },
  {
   "cell_type": "code",
   "execution_count": 11,
   "id": "8a4d1a90",
   "metadata": {},
   "outputs": [
    {
     "name": "stdout",
     "output_type": "stream",
     "text": [
      "<class 'pandas.core.frame.DataFrame'>\n",
      "RangeIndex: 1974696 entries, 0 to 1974695\n",
      "Data columns (total 21 columns):\n",
      " #   Column           Dtype \n",
      "---  ------           ----- \n",
      " 0   CMTE_ID          object\n",
      " 1   AMNDT_IND        object\n",
      " 2   RPT_TP           object\n",
      " 3   TRANSACTION_PGI  object\n",
      " 4   IMAGE_NUM        int64 \n",
      " 5   TRANSACTION_TP   object\n",
      " 6   ENTITY_TP        object\n",
      " 7   NAME             object\n",
      " 8   CITY             object\n",
      " 9   STATE            object\n",
      " 10  ZIP_CODE         object\n",
      " 11  EMPLOYER         object\n",
      " 12  OCCUPATION       object\n",
      " 13  TRANSACTION_DT   int64 \n",
      " 14  TRANSACTION_AMT  int64 \n",
      " 15  OTHER_ID         object\n",
      " 16  TRAN_ID          object\n",
      " 17  FILE_NUM         int64 \n",
      " 18  MEMO_CD          object\n",
      " 19  MEMO_TEXT        object\n",
      " 20  SUB_ID           int64 \n",
      "dtypes: int64(5), object(16)\n",
      "memory usage: 316.4+ MB\n"
     ]
    }
   ],
   "source": [
    "df_0330.info()"
   ]
  },
  {
   "cell_type": "code",
   "execution_count": 12,
   "id": "f23a0843",
   "metadata": {},
   "outputs": [
    {
     "data": {
      "text/plain": [
       "(1973198, 21)"
      ]
     },
     "execution_count": 12,
     "metadata": {},
     "output_type": "execute_result"
    }
   ],
   "source": [
    "df_0527.shape"
   ]
  },
  {
   "cell_type": "code",
   "execution_count": 13,
   "id": "b26df792",
   "metadata": {},
   "outputs": [
    {
     "data": {
      "text/plain": [
       "(1997968, 21)"
      ]
     },
     "execution_count": 13,
     "metadata": {},
     "output_type": "execute_result"
    }
   ],
   "source": [
    "df_0721.shape"
   ]
  },
  {
   "cell_type": "code",
   "execution_count": 14,
   "id": "9e87efe0",
   "metadata": {},
   "outputs": [
    {
     "data": {
      "text/plain": [
       "(1989995, 21)"
      ]
     },
     "execution_count": 14,
     "metadata": {},
     "output_type": "execute_result"
    }
   ],
   "source": [
    "df_0929.shape"
   ]
  },
  {
   "cell_type": "code",
   "execution_count": 15,
   "id": "d696f2af",
   "metadata": {},
   "outputs": [
    {
     "data": {
      "text/plain": [
       "(755860, 21)"
      ]
     },
     "execution_count": 15,
     "metadata": {},
     "output_type": "execute_result"
    }
   ],
   "source": [
    "df_0622.shape"
   ]
  },
  {
   "cell_type": "markdown",
   "id": "5a8dc387",
   "metadata": {},
   "source": [
    "Contributions by individuals file format\n",
    "https://www.fec.gov/campaign-finance-data/contributions-individuals-file-description/ "
   ]
  },
  {
   "cell_type": "markdown",
   "id": "df180481",
   "metadata": {},
   "source": [
    "# create the dataframe new_df_xxxx with 8 columns listed below."
   ]
  },
  {
   "cell_type": "code",
   "execution_count": 16,
   "id": "6e699226",
   "metadata": {},
   "outputs": [],
   "source": [
    "new_df_0330 = df_0330[['CMTE_ID', 'CITY', 'STATE', 'ZIP_CODE', 'EMPLOYER', 'OCCUPATION', 'TRANSACTION_DT','TRANSACTION_AMT']]"
   ]
  },
  {
   "cell_type": "code",
   "execution_count": 21,
   "id": "21c3a555",
   "metadata": {},
   "outputs": [
    {
     "data": {
      "text/html": [
       "<div>\n",
       "<style scoped>\n",
       "    .dataframe tbody tr th:only-of-type {\n",
       "        vertical-align: middle;\n",
       "    }\n",
       "\n",
       "    .dataframe tbody tr th {\n",
       "        vertical-align: top;\n",
       "    }\n",
       "\n",
       "    .dataframe thead th {\n",
       "        text-align: right;\n",
       "    }\n",
       "</style>\n",
       "<table border=\"1\" class=\"dataframe\">\n",
       "  <thead>\n",
       "    <tr style=\"text-align: right;\">\n",
       "      <th></th>\n",
       "      <th>CMTE_ID</th>\n",
       "      <th>NAME</th>\n",
       "      <th>CITY</th>\n",
       "      <th>STATE</th>\n",
       "      <th>ZIP_CODE</th>\n",
       "      <th>EMPLOYER</th>\n",
       "      <th>OCCUPATION</th>\n",
       "      <th>TRANSACTION_DT</th>\n",
       "      <th>TRANSACTION_AMT</th>\n",
       "    </tr>\n",
       "  </thead>\n",
       "  <tbody>\n",
       "    <tr>\n",
       "      <th>0</th>\n",
       "      <td>C00817940</td>\n",
       "      <td>DUFF, JAMES</td>\n",
       "      <td>LOS ANGELES</td>\n",
       "      <td>CA</td>\n",
       "      <td>900271058</td>\n",
       "      <td>NaN</td>\n",
       "      <td>NaN</td>\n",
       "      <td>1192023</td>\n",
       "      <td>800</td>\n",
       "    </tr>\n",
       "    <tr>\n",
       "      <th>1</th>\n",
       "      <td>C00817940</td>\n",
       "      <td>ROTHMAN, ANDREW</td>\n",
       "      <td>CULVER CITY</td>\n",
       "      <td>CA</td>\n",
       "      <td>902322403</td>\n",
       "      <td>NaN</td>\n",
       "      <td>NaN</td>\n",
       "      <td>1192023</td>\n",
       "      <td>250</td>\n",
       "    </tr>\n",
       "    <tr>\n",
       "      <th>2</th>\n",
       "      <td>C00817940</td>\n",
       "      <td>PELLETT, CLARK</td>\n",
       "      <td>CHICAGO</td>\n",
       "      <td>IL</td>\n",
       "      <td>606114546</td>\n",
       "      <td>NaN</td>\n",
       "      <td>NaN</td>\n",
       "      <td>1202023</td>\n",
       "      <td>345</td>\n",
       "    </tr>\n",
       "    <tr>\n",
       "      <th>3</th>\n",
       "      <td>C00817940</td>\n",
       "      <td>DISNEY, TIMOTHY</td>\n",
       "      <td>ENCINO</td>\n",
       "      <td>CA</td>\n",
       "      <td>914361845</td>\n",
       "      <td>NaN</td>\n",
       "      <td>NaN</td>\n",
       "      <td>1192023</td>\n",
       "      <td>615</td>\n",
       "    </tr>\n",
       "    <tr>\n",
       "      <th>4</th>\n",
       "      <td>C00817940</td>\n",
       "      <td>TRONE, DAVID</td>\n",
       "      <td>POTOMAC</td>\n",
       "      <td>MD</td>\n",
       "      <td>208541640</td>\n",
       "      <td>NaN</td>\n",
       "      <td>NaN</td>\n",
       "      <td>1192023</td>\n",
       "      <td>5000</td>\n",
       "    </tr>\n",
       "  </tbody>\n",
       "</table>\n",
       "</div>"
      ],
      "text/plain": [
       "     CMTE_ID             NAME         CITY STATE   ZIP_CODE EMPLOYER  \\\n",
       "0  C00817940      DUFF, JAMES  LOS ANGELES    CA  900271058      NaN   \n",
       "1  C00817940  ROTHMAN, ANDREW  CULVER CITY    CA  902322403      NaN   \n",
       "2  C00817940   PELLETT, CLARK      CHICAGO    IL  606114546      NaN   \n",
       "3  C00817940  DISNEY, TIMOTHY       ENCINO    CA  914361845      NaN   \n",
       "4  C00817940     TRONE, DAVID      POTOMAC    MD  208541640      NaN   \n",
       "\n",
       "  OCCUPATION  TRANSACTION_DT  TRANSACTION_AMT  \n",
       "0        NaN         1192023              800  \n",
       "1        NaN         1192023              250  \n",
       "2        NaN         1202023              345  \n",
       "3        NaN         1192023              615  \n",
       "4        NaN         1192023             5000  "
      ]
     },
     "execution_count": 21,
     "metadata": {},
     "output_type": "execute_result"
    }
   ],
   "source": [
    "new_df_0330.head()"
   ]
  },
  {
   "cell_type": "code",
   "execution_count": 17,
   "id": "083c3360",
   "metadata": {},
   "outputs": [],
   "source": [
    "new_df_0527 = df_0527[['CMTE_ID', 'CITY', 'STATE', 'ZIP_CODE', 'EMPLOYER', 'OCCUPATION', 'TRANSACTION_DT','TRANSACTION_AMT']]"
   ]
  },
  {
   "cell_type": "code",
   "execution_count": 18,
   "id": "457437ad",
   "metadata": {},
   "outputs": [
    {
     "data": {
      "text/html": [
       "<div>\n",
       "<style scoped>\n",
       "    .dataframe tbody tr th:only-of-type {\n",
       "        vertical-align: middle;\n",
       "    }\n",
       "\n",
       "    .dataframe tbody tr th {\n",
       "        vertical-align: top;\n",
       "    }\n",
       "\n",
       "    .dataframe thead th {\n",
       "        text-align: right;\n",
       "    }\n",
       "</style>\n",
       "<table border=\"1\" class=\"dataframe\">\n",
       "  <thead>\n",
       "    <tr style=\"text-align: right;\">\n",
       "      <th></th>\n",
       "      <th>CMTE_ID</th>\n",
       "      <th>CITY</th>\n",
       "      <th>STATE</th>\n",
       "      <th>ZIP_CODE</th>\n",
       "      <th>EMPLOYER</th>\n",
       "      <th>OCCUPATION</th>\n",
       "      <th>TRANSACTION_DT</th>\n",
       "      <th>TRANSACTION_AMT</th>\n",
       "    </tr>\n",
       "  </thead>\n",
       "  <tbody>\n",
       "    <tr>\n",
       "      <th>0</th>\n",
       "      <td>C00443689</td>\n",
       "      <td>LAS CRUCES</td>\n",
       "      <td>NM</td>\n",
       "      <td>880076987.0</td>\n",
       "      <td>NOT EMPLOYED</td>\n",
       "      <td>NOT EMPLOYED</td>\n",
       "      <td>3312023</td>\n",
       "      <td>50</td>\n",
       "    </tr>\n",
       "    <tr>\n",
       "      <th>1</th>\n",
       "      <td>C00443689</td>\n",
       "      <td>GREENWOOD VILLAGE</td>\n",
       "      <td>CO</td>\n",
       "      <td>801111955.0</td>\n",
       "      <td>NOT EMPLOYED</td>\n",
       "      <td>NOT EMPLOYED</td>\n",
       "      <td>3312023</td>\n",
       "      <td>2</td>\n",
       "    </tr>\n",
       "    <tr>\n",
       "      <th>2</th>\n",
       "      <td>C00443689</td>\n",
       "      <td>GLENDALE</td>\n",
       "      <td>AZ</td>\n",
       "      <td>853086378.0</td>\n",
       "      <td>NOT EMPLOYED</td>\n",
       "      <td>NOT EMPLOYED</td>\n",
       "      <td>3312023</td>\n",
       "      <td>10</td>\n",
       "    </tr>\n",
       "    <tr>\n",
       "      <th>3</th>\n",
       "      <td>C00443689</td>\n",
       "      <td>BAYONNE</td>\n",
       "      <td>NJ</td>\n",
       "      <td>70021129.0</td>\n",
       "      <td>NOT EMPLOYED</td>\n",
       "      <td>NOT EMPLOYED</td>\n",
       "      <td>3312023</td>\n",
       "      <td>6</td>\n",
       "    </tr>\n",
       "    <tr>\n",
       "      <th>4</th>\n",
       "      <td>C00786194</td>\n",
       "      <td>WOODBRIDGE</td>\n",
       "      <td>VA</td>\n",
       "      <td>221925803.0</td>\n",
       "      <td>MGC</td>\n",
       "      <td>BUILDER</td>\n",
       "      <td>3312023</td>\n",
       "      <td>500</td>\n",
       "    </tr>\n",
       "  </tbody>\n",
       "</table>\n",
       "</div>"
      ],
      "text/plain": [
       "     CMTE_ID               CITY STATE     ZIP_CODE      EMPLOYER  \\\n",
       "0  C00443689         LAS CRUCES    NM  880076987.0  NOT EMPLOYED   \n",
       "1  C00443689  GREENWOOD VILLAGE    CO  801111955.0  NOT EMPLOYED   \n",
       "2  C00443689           GLENDALE    AZ  853086378.0  NOT EMPLOYED   \n",
       "3  C00443689            BAYONNE    NJ   70021129.0  NOT EMPLOYED   \n",
       "4  C00786194         WOODBRIDGE    VA  221925803.0           MGC   \n",
       "\n",
       "     OCCUPATION  TRANSACTION_DT  TRANSACTION_AMT  \n",
       "0  NOT EMPLOYED         3312023               50  \n",
       "1  NOT EMPLOYED         3312023                2  \n",
       "2  NOT EMPLOYED         3312023               10  \n",
       "3  NOT EMPLOYED         3312023                6  \n",
       "4       BUILDER         3312023              500  "
      ]
     },
     "execution_count": 18,
     "metadata": {},
     "output_type": "execute_result"
    }
   ],
   "source": [
    "new_df_0527.head()"
   ]
  },
  {
   "cell_type": "code",
   "execution_count": 19,
   "id": "4fdb05a2",
   "metadata": {},
   "outputs": [],
   "source": [
    "new_df_0721 = df_0721[['CMTE_ID', 'CITY', 'STATE', 'ZIP_CODE', 'EMPLOYER', 'OCCUPATION', 'TRANSACTION_DT','TRANSACTION_AMT']]"
   ]
  },
  {
   "cell_type": "code",
   "execution_count": 20,
   "id": "8fa7a5da",
   "metadata": {},
   "outputs": [
    {
     "data": {
      "text/html": [
       "<div>\n",
       "<style scoped>\n",
       "    .dataframe tbody tr th:only-of-type {\n",
       "        vertical-align: middle;\n",
       "    }\n",
       "\n",
       "    .dataframe tbody tr th {\n",
       "        vertical-align: top;\n",
       "    }\n",
       "\n",
       "    .dataframe thead th {\n",
       "        text-align: right;\n",
       "    }\n",
       "</style>\n",
       "<table border=\"1\" class=\"dataframe\">\n",
       "  <thead>\n",
       "    <tr style=\"text-align: right;\">\n",
       "      <th></th>\n",
       "      <th>CMTE_ID</th>\n",
       "      <th>CITY</th>\n",
       "      <th>STATE</th>\n",
       "      <th>ZIP_CODE</th>\n",
       "      <th>EMPLOYER</th>\n",
       "      <th>OCCUPATION</th>\n",
       "      <th>TRANSACTION_DT</th>\n",
       "      <th>TRANSACTION_AMT</th>\n",
       "    </tr>\n",
       "  </thead>\n",
       "  <tbody>\n",
       "    <tr>\n",
       "      <th>0</th>\n",
       "      <td>C00814152</td>\n",
       "      <td>SAN FRANCISCO</td>\n",
       "      <td>CA</td>\n",
       "      <td>94131</td>\n",
       "      <td>RETIRED</td>\n",
       "      <td>RETIRED</td>\n",
       "      <td>6022023</td>\n",
       "      <td>50</td>\n",
       "    </tr>\n",
       "    <tr>\n",
       "      <th>1</th>\n",
       "      <td>C00814152</td>\n",
       "      <td>LEANDER</td>\n",
       "      <td>TX</td>\n",
       "      <td>78641</td>\n",
       "      <td>TRUIST</td>\n",
       "      <td>RISK MGMT</td>\n",
       "      <td>6112023</td>\n",
       "      <td>150</td>\n",
       "    </tr>\n",
       "    <tr>\n",
       "      <th>2</th>\n",
       "      <td>C00814152</td>\n",
       "      <td>FALLBROOK</td>\n",
       "      <td>CA</td>\n",
       "      <td>92028</td>\n",
       "      <td>RETIRED</td>\n",
       "      <td>RETIRED</td>\n",
       "      <td>6022023</td>\n",
       "      <td>50</td>\n",
       "    </tr>\n",
       "    <tr>\n",
       "      <th>3</th>\n",
       "      <td>C00814152</td>\n",
       "      <td>PALM DESERT</td>\n",
       "      <td>CA</td>\n",
       "      <td>92211</td>\n",
       "      <td>RETIRED</td>\n",
       "      <td>RETIRED</td>\n",
       "      <td>6302023</td>\n",
       "      <td>1000</td>\n",
       "    </tr>\n",
       "    <tr>\n",
       "      <th>4</th>\n",
       "      <td>C00814152</td>\n",
       "      <td>DOVER</td>\n",
       "      <td>DE</td>\n",
       "      <td>19901</td>\n",
       "      <td>PAT'S PIZZA</td>\n",
       "      <td>DRIVER</td>\n",
       "      <td>6032023</td>\n",
       "      <td>25</td>\n",
       "    </tr>\n",
       "  </tbody>\n",
       "</table>\n",
       "</div>"
      ],
      "text/plain": [
       "     CMTE_ID           CITY STATE ZIP_CODE     EMPLOYER OCCUPATION  \\\n",
       "0  C00814152  SAN FRANCISCO    CA    94131      RETIRED    RETIRED   \n",
       "1  C00814152        LEANDER    TX    78641       TRUIST  RISK MGMT   \n",
       "2  C00814152      FALLBROOK    CA    92028      RETIRED    RETIRED   \n",
       "3  C00814152    PALM DESERT    CA    92211      RETIRED    RETIRED   \n",
       "4  C00814152          DOVER    DE    19901  PAT'S PIZZA     DRIVER   \n",
       "\n",
       "   TRANSACTION_DT  TRANSACTION_AMT  \n",
       "0         6022023               50  \n",
       "1         6112023              150  \n",
       "2         6022023               50  \n",
       "3         6302023             1000  \n",
       "4         6032023               25  "
      ]
     },
     "execution_count": 20,
     "metadata": {},
     "output_type": "execute_result"
    }
   ],
   "source": [
    "new_df_0721.head()"
   ]
  },
  {
   "cell_type": "code",
   "execution_count": 21,
   "id": "8fe4a662",
   "metadata": {},
   "outputs": [],
   "source": [
    "new_df_0929 = df_0929[['CMTE_ID', 'CITY', 'STATE', 'ZIP_CODE', 'EMPLOYER', 'OCCUPATION', 'TRANSACTION_DT','TRANSACTION_AMT']]"
   ]
  },
  {
   "cell_type": "code",
   "execution_count": 22,
   "id": "5b97b87e",
   "metadata": {},
   "outputs": [
    {
     "data": {
      "text/html": [
       "<div>\n",
       "<style scoped>\n",
       "    .dataframe tbody tr th:only-of-type {\n",
       "        vertical-align: middle;\n",
       "    }\n",
       "\n",
       "    .dataframe tbody tr th {\n",
       "        vertical-align: top;\n",
       "    }\n",
       "\n",
       "    .dataframe thead th {\n",
       "        text-align: right;\n",
       "    }\n",
       "</style>\n",
       "<table border=\"1\" class=\"dataframe\">\n",
       "  <thead>\n",
       "    <tr style=\"text-align: right;\">\n",
       "      <th></th>\n",
       "      <th>CMTE_ID</th>\n",
       "      <th>CITY</th>\n",
       "      <th>STATE</th>\n",
       "      <th>ZIP_CODE</th>\n",
       "      <th>EMPLOYER</th>\n",
       "      <th>OCCUPATION</th>\n",
       "      <th>TRANSACTION_DT</th>\n",
       "      <th>TRANSACTION_AMT</th>\n",
       "    </tr>\n",
       "  </thead>\n",
       "  <tbody>\n",
       "    <tr>\n",
       "      <th>0</th>\n",
       "      <td>C00101766</td>\n",
       "      <td>SAINT HELENA</td>\n",
       "      <td>CA</td>\n",
       "      <td>945742040.0</td>\n",
       "      <td>UNITED AIRLINES INC.</td>\n",
       "      <td>SVP MARKET &amp; COMM INNOVATION</td>\n",
       "      <td>8312023</td>\n",
       "      <td>208</td>\n",
       "    </tr>\n",
       "    <tr>\n",
       "      <th>1</th>\n",
       "      <td>C00101766</td>\n",
       "      <td>HOUSTON</td>\n",
       "      <td>TX</td>\n",
       "      <td>770274804.0</td>\n",
       "      <td>UNITED AIRLINES INC.</td>\n",
       "      <td>EVP &amp; CHIEF FINANCIAL OFFICER</td>\n",
       "      <td>8312023</td>\n",
       "      <td>208</td>\n",
       "    </tr>\n",
       "    <tr>\n",
       "      <th>2</th>\n",
       "      <td>C00101766</td>\n",
       "      <td>PARK RIDGE</td>\n",
       "      <td>IL</td>\n",
       "      <td>600681605.0</td>\n",
       "      <td>UNITED AIRLINES INC.</td>\n",
       "      <td>SR PRINCIPAL ARCHITECT - IT</td>\n",
       "      <td>8152023</td>\n",
       "      <td>20</td>\n",
       "    </tr>\n",
       "    <tr>\n",
       "      <th>3</th>\n",
       "      <td>C00101766</td>\n",
       "      <td>PARK RIDGE</td>\n",
       "      <td>IL</td>\n",
       "      <td>600681605.0</td>\n",
       "      <td>UNITED AIRLINES INC.</td>\n",
       "      <td>SR PRINCIPAL ARCHITECT - IT</td>\n",
       "      <td>8312023</td>\n",
       "      <td>20</td>\n",
       "    </tr>\n",
       "    <tr>\n",
       "      <th>4</th>\n",
       "      <td>C00101766</td>\n",
       "      <td>SAINT HELENA</td>\n",
       "      <td>CA</td>\n",
       "      <td>945742040.0</td>\n",
       "      <td>UNITED AIRLINES INC.</td>\n",
       "      <td>SVP MARKET &amp; COMM INNOVATION</td>\n",
       "      <td>8152023</td>\n",
       "      <td>208</td>\n",
       "    </tr>\n",
       "  </tbody>\n",
       "</table>\n",
       "</div>"
      ],
      "text/plain": [
       "     CMTE_ID          CITY STATE     ZIP_CODE              EMPLOYER  \\\n",
       "0  C00101766  SAINT HELENA    CA  945742040.0  UNITED AIRLINES INC.   \n",
       "1  C00101766       HOUSTON    TX  770274804.0  UNITED AIRLINES INC.   \n",
       "2  C00101766    PARK RIDGE    IL  600681605.0  UNITED AIRLINES INC.   \n",
       "3  C00101766    PARK RIDGE    IL  600681605.0  UNITED AIRLINES INC.   \n",
       "4  C00101766  SAINT HELENA    CA  945742040.0  UNITED AIRLINES INC.   \n",
       "\n",
       "                      OCCUPATION  TRANSACTION_DT  TRANSACTION_AMT  \n",
       "0   SVP MARKET & COMM INNOVATION         8312023              208  \n",
       "1  EVP & CHIEF FINANCIAL OFFICER         8312023              208  \n",
       "2    SR PRINCIPAL ARCHITECT - IT         8152023               20  \n",
       "3    SR PRINCIPAL ARCHITECT - IT         8312023               20  \n",
       "4   SVP MARKET & COMM INNOVATION         8152023              208  "
      ]
     },
     "execution_count": 22,
     "metadata": {},
     "output_type": "execute_result"
    }
   ],
   "source": [
    "new_df_0929.head()"
   ]
  },
  {
   "cell_type": "code",
   "execution_count": 23,
   "id": "d30bf9e7",
   "metadata": {},
   "outputs": [],
   "source": [
    "new_df_0622 = df_0622[['CMTE_ID', 'CITY', 'STATE', 'ZIP_CODE', 'EMPLOYER', 'OCCUPATION', 'TRANSACTION_DT','TRANSACTION_AMT']]"
   ]
  },
  {
   "cell_type": "code",
   "execution_count": 24,
   "id": "c4bb2a9f",
   "metadata": {},
   "outputs": [
    {
     "data": {
      "text/html": [
       "<div>\n",
       "<style scoped>\n",
       "    .dataframe tbody tr th:only-of-type {\n",
       "        vertical-align: middle;\n",
       "    }\n",
       "\n",
       "    .dataframe tbody tr th {\n",
       "        vertical-align: top;\n",
       "    }\n",
       "\n",
       "    .dataframe thead th {\n",
       "        text-align: right;\n",
       "    }\n",
       "</style>\n",
       "<table border=\"1\" class=\"dataframe\">\n",
       "  <thead>\n",
       "    <tr style=\"text-align: right;\">\n",
       "      <th></th>\n",
       "      <th>CMTE_ID</th>\n",
       "      <th>CITY</th>\n",
       "      <th>STATE</th>\n",
       "      <th>ZIP_CODE</th>\n",
       "      <th>EMPLOYER</th>\n",
       "      <th>OCCUPATION</th>\n",
       "      <th>TRANSACTION_DT</th>\n",
       "      <th>TRANSACTION_AMT</th>\n",
       "    </tr>\n",
       "  </thead>\n",
       "  <tbody>\n",
       "    <tr>\n",
       "      <th>0</th>\n",
       "      <td>C00108209</td>\n",
       "      <td>RICHMOND</td>\n",
       "      <td>VA</td>\n",
       "      <td>232194306.0</td>\n",
       "      <td>DOM ENERGY SERVICES, INC.</td>\n",
       "      <td>SR ACCOUNTANT</td>\n",
       "      <td>10192023</td>\n",
       "      <td>36</td>\n",
       "    </tr>\n",
       "    <tr>\n",
       "      <th>1</th>\n",
       "      <td>C00108209</td>\n",
       "      <td>RICHMOND</td>\n",
       "      <td>VA</td>\n",
       "      <td>232314527.0</td>\n",
       "      <td>VA ELECTRIC &amp; POWER CO.</td>\n",
       "      <td>SUPERVISOR-CUSTOMER</td>\n",
       "      <td>10192023</td>\n",
       "      <td>25</td>\n",
       "    </tr>\n",
       "    <tr>\n",
       "      <th>2</th>\n",
       "      <td>C00108209</td>\n",
       "      <td>RICHMOND</td>\n",
       "      <td>VA</td>\n",
       "      <td>232194306.0</td>\n",
       "      <td>DOM ENERGY SERVICES, INC.</td>\n",
       "      <td>MANAGER-ENERGY MARKE</td>\n",
       "      <td>10192023</td>\n",
       "      <td>62</td>\n",
       "    </tr>\n",
       "    <tr>\n",
       "      <th>3</th>\n",
       "      <td>C00108209</td>\n",
       "      <td>RICHMOND</td>\n",
       "      <td>VA</td>\n",
       "      <td>232193852.0</td>\n",
       "      <td>DOM ENERGY SERVICES, INC.</td>\n",
       "      <td>VP OPERATIONS SUPPOR</td>\n",
       "      <td>10192023</td>\n",
       "      <td>193</td>\n",
       "    </tr>\n",
       "    <tr>\n",
       "      <th>4</th>\n",
       "      <td>C00108209</td>\n",
       "      <td>RICHMOND</td>\n",
       "      <td>VA</td>\n",
       "      <td>232193852.0</td>\n",
       "      <td>DOM ENERGY SERVICES, INC.</td>\n",
       "      <td>RENEWABLE ENERGY PRO</td>\n",
       "      <td>10192023</td>\n",
       "      <td>25</td>\n",
       "    </tr>\n",
       "  </tbody>\n",
       "</table>\n",
       "</div>"
      ],
      "text/plain": [
       "     CMTE_ID      CITY STATE     ZIP_CODE                   EMPLOYER  \\\n",
       "0  C00108209  RICHMOND    VA  232194306.0  DOM ENERGY SERVICES, INC.   \n",
       "1  C00108209  RICHMOND    VA  232314527.0    VA ELECTRIC & POWER CO.   \n",
       "2  C00108209  RICHMOND    VA  232194306.0  DOM ENERGY SERVICES, INC.   \n",
       "3  C00108209  RICHMOND    VA  232193852.0  DOM ENERGY SERVICES, INC.   \n",
       "4  C00108209  RICHMOND    VA  232193852.0  DOM ENERGY SERVICES, INC.   \n",
       "\n",
       "             OCCUPATION  TRANSACTION_DT  TRANSACTION_AMT  \n",
       "0         SR ACCOUNTANT        10192023               36  \n",
       "1   SUPERVISOR-CUSTOMER        10192023               25  \n",
       "2  MANAGER-ENERGY MARKE        10192023               62  \n",
       "3  VP OPERATIONS SUPPOR        10192023              193  \n",
       "4  RENEWABLE ENERGY PRO        10192023               25  "
      ]
     },
     "execution_count": 24,
     "metadata": {},
     "output_type": "execute_result"
    }
   ],
   "source": [
    "new_df_0622.head()"
   ]
  },
  {
   "cell_type": "code",
   "execution_count": 25,
   "id": "53025838",
   "metadata": {},
   "outputs": [
    {
     "data": {
      "text/plain": [
       "(1974696, 8)"
      ]
     },
     "execution_count": 25,
     "metadata": {},
     "output_type": "execute_result"
    }
   ],
   "source": [
    "new_df_0330.shape"
   ]
  },
  {
   "cell_type": "code",
   "execution_count": 26,
   "id": "03911baa",
   "metadata": {},
   "outputs": [
    {
     "data": {
      "text/plain": [
       "(1973198, 8)"
      ]
     },
     "execution_count": 26,
     "metadata": {},
     "output_type": "execute_result"
    }
   ],
   "source": [
    "new_df_0527.shape"
   ]
  },
  {
   "cell_type": "code",
   "execution_count": 27,
   "id": "1db38da8",
   "metadata": {},
   "outputs": [
    {
     "data": {
      "text/plain": [
       "(1997968, 8)"
      ]
     },
     "execution_count": 27,
     "metadata": {},
     "output_type": "execute_result"
    }
   ],
   "source": [
    "new_df_0721.shape"
   ]
  },
  {
   "cell_type": "code",
   "execution_count": 28,
   "id": "42e4d7c4",
   "metadata": {},
   "outputs": [
    {
     "data": {
      "text/plain": [
       "(1989995, 8)"
      ]
     },
     "execution_count": 28,
     "metadata": {},
     "output_type": "execute_result"
    }
   ],
   "source": [
    "new_df_0929.shape"
   ]
  },
  {
   "cell_type": "code",
   "execution_count": 29,
   "id": "e80dff37",
   "metadata": {},
   "outputs": [
    {
     "data": {
      "text/plain": [
       "(755860, 8)"
      ]
     },
     "execution_count": 29,
     "metadata": {},
     "output_type": "execute_result"
    }
   ],
   "source": [
    "new_df_0622.shape"
   ]
  },
  {
   "cell_type": "code",
   "execution_count": 30,
   "id": "d3db2ea5",
   "metadata": {},
   "outputs": [
    {
     "data": {
      "text/plain": [
       "8691717"
      ]
     },
     "execution_count": 30,
     "metadata": {},
     "output_type": "execute_result"
    }
   ],
   "source": [
    "new_df_0330.shape[0]+new_df_0527.shape[0]+new_df_0721.shape[0]+new_df_0929.shape[0]+new_df_0622.shape[0]"
   ]
  },
  {
   "cell_type": "code",
   "execution_count": 31,
   "id": "1b2a7848",
   "metadata": {},
   "outputs": [],
   "source": [
    "# Assuming df1, df2, df3, and df4 are your DataFrames\n",
    "all_dfs = [new_df_0330, new_df_0527, new_df_0721, new_df_0929,new_df_0622]\n",
    "\n",
    "# Use the concat function to combine the DataFrames vertically\n",
    "df_2023 = pd.concat(all_dfs, ignore_index=True,sort=False)"
   ]
  },
  {
   "cell_type": "code",
   "execution_count": 32,
   "id": "1bc741cf",
   "metadata": {},
   "outputs": [
    {
     "data": {
      "text/plain": [
       "(8691717, 8)"
      ]
     },
     "execution_count": 32,
     "metadata": {},
     "output_type": "execute_result"
    }
   ],
   "source": [
    "df_2023.shape"
   ]
  },
  {
   "cell_type": "code",
   "execution_count": 33,
   "id": "ceff8d7b",
   "metadata": {},
   "outputs": [
    {
     "data": {
      "text/plain": [
       "C00401224    1617159\n",
       "C00770941     549075\n",
       "C00027466     475987\n",
       "C00003418     308542\n",
       "C00000935     282716\n",
       "C00042366     176503\n",
       "C00420935     165105\n",
       "C00075820     152793\n",
       "C00010603     127052\n",
       "C00694323      94350\n",
       "C00750521      87883\n",
       "C00540302      82723\n",
       "C00580068      76004\n",
       "C00411330      72960\n",
       "C00482984      71636\n",
       "C00193433      58980\n",
       "C00492785      57235\n",
       "C00343871      55334\n",
       "C00836353      51351\n",
       "C00836403      48783\n",
       "Name: CMTE_ID, dtype: int64"
      ]
     },
     "execution_count": 33,
     "metadata": {},
     "output_type": "execute_result"
    }
   ],
   "source": [
    "df_2023.CMTE_ID.value_counts().head(20)"
   ]
  },
  {
   "cell_type": "code",
   "execution_count": 34,
   "id": "d7b4c92d",
   "metadata": {},
   "outputs": [
    {
     "data": {
      "text/plain": [
       "CMTE_ID                 0\n",
       "CITY                  761\n",
       "STATE                3070\n",
       "ZIP_CODE             9170\n",
       "EMPLOYER           665557\n",
       "OCCUPATION         245020\n",
       "TRANSACTION_DT          0\n",
       "TRANSACTION_AMT         0\n",
       "dtype: int64"
      ]
     },
     "execution_count": 34,
     "metadata": {},
     "output_type": "execute_result"
    }
   ],
   "source": [
    "df_2023.isnull().sum()"
   ]
  },
  {
   "cell_type": "code",
   "execution_count": 35,
   "id": "7713fb2f",
   "metadata": {},
   "outputs": [
    {
     "data": {
      "text/plain": [
       "CMTE_ID            0.000000\n",
       "CITY               0.000088\n",
       "STATE              0.000353\n",
       "ZIP_CODE           0.001055\n",
       "EMPLOYER           0.076574\n",
       "OCCUPATION         0.028190\n",
       "TRANSACTION_DT     0.000000\n",
       "TRANSACTION_AMT    0.000000\n",
       "dtype: float64"
      ]
     },
     "execution_count": 35,
     "metadata": {},
     "output_type": "execute_result"
    }
   ],
   "source": [
    "# get percentage of null values for each column\n",
    "df_2023.isnull().sum()/len(df_2023)"
   ]
  },
  {
   "cell_type": "code",
   "execution_count": 36,
   "id": "c22e9a02",
   "metadata": {},
   "outputs": [],
   "source": [
    "# read the csv file including both CMTE_ID and party name which was exported from \n",
    "# https://www.fec.gov/data/committees/ on Dec.8,2023. The information is updated frequently on the website.\n",
    "\n",
    "df_commit = pd.read_csv('../committees-2023-12-08T16_44_14 _with party info.csv')"
   ]
  },
  {
   "cell_type": "code",
   "execution_count": 37,
   "id": "57088dad",
   "metadata": {},
   "outputs": [
    {
     "data": {
      "text/html": [
       "<div>\n",
       "<style scoped>\n",
       "    .dataframe tbody tr th:only-of-type {\n",
       "        vertical-align: middle;\n",
       "    }\n",
       "\n",
       "    .dataframe tbody tr th {\n",
       "        vertical-align: top;\n",
       "    }\n",
       "\n",
       "    .dataframe thead th {\n",
       "        text-align: right;\n",
       "    }\n",
       "</style>\n",
       "<table border=\"1\" class=\"dataframe\">\n",
       "  <thead>\n",
       "    <tr style=\"text-align: right;\">\n",
       "      <th></th>\n",
       "      <th>name</th>\n",
       "      <th>cycles</th>\n",
       "      <th>treasurer_name</th>\n",
       "      <th>committee_type</th>\n",
       "      <th>committee_type_full</th>\n",
       "      <th>filing_frequency</th>\n",
       "      <th>designation</th>\n",
       "      <th>designation_full</th>\n",
       "      <th>organization_type</th>\n",
       "      <th>organization_type_full</th>\n",
       "      <th>...</th>\n",
       "      <th>party</th>\n",
       "      <th>party_full</th>\n",
       "      <th>state</th>\n",
       "      <th>first_file_date</th>\n",
       "      <th>last_file_date</th>\n",
       "      <th>first_f1_date</th>\n",
       "      <th>last_f1_date</th>\n",
       "      <th>committee_id</th>\n",
       "      <th>candidate_ids</th>\n",
       "      <th>sponsor_candidate_ids</th>\n",
       "    </tr>\n",
       "  </thead>\n",
       "  <tbody>\n",
       "    <tr>\n",
       "      <th>0</th>\n",
       "      <td>TOM HICKEY FOR CONGRESS</td>\n",
       "      <td>{2002}</td>\n",
       "      <td>COLIN M GALLAGHER</td>\n",
       "      <td>H</td>\n",
       "      <td>House</td>\n",
       "      <td>T</td>\n",
       "      <td>P</td>\n",
       "      <td>Principal campaign committee</td>\n",
       "      <td>NaN</td>\n",
       "      <td>NaN</td>\n",
       "      <td>...</td>\n",
       "      <td>REP</td>\n",
       "      <td>REPUBLICAN PARTY</td>\n",
       "      <td>MI</td>\n",
       "      <td>5/16/2001</td>\n",
       "      <td>5/17/2002</td>\n",
       "      <td>5/16/2001</td>\n",
       "      <td>5/16/2001</td>\n",
       "      <td>C00366450</td>\n",
       "      <td>{H8MI13151}</td>\n",
       "      <td>NaN</td>\n",
       "    </tr>\n",
       "    <tr>\n",
       "      <th>1</th>\n",
       "      <td>WIN PAC</td>\n",
       "      <td>{2002,2004,2006,2008}</td>\n",
       "      <td>KINDE DURKEE</td>\n",
       "      <td>N</td>\n",
       "      <td>PAC - Nonqualified</td>\n",
       "      <td>A</td>\n",
       "      <td>U</td>\n",
       "      <td>Unauthorized</td>\n",
       "      <td>NaN</td>\n",
       "      <td>NaN</td>\n",
       "      <td>...</td>\n",
       "      <td>NaN</td>\n",
       "      <td>NaN</td>\n",
       "      <td>CA</td>\n",
       "      <td>6/5/2001</td>\n",
       "      <td>1/31/2008</td>\n",
       "      <td>6/5/2001</td>\n",
       "      <td>8/8/2001</td>\n",
       "      <td>C00366732</td>\n",
       "      <td>{}</td>\n",
       "      <td>NaN</td>\n",
       "    </tr>\n",
       "    <tr>\n",
       "      <th>2</th>\n",
       "      <td>FIRST CONGRESSIONAL DISTRICT VICTORY FUND</td>\n",
       "      <td>{2002}</td>\n",
       "      <td>ANN MARIE HABERSHAW</td>\n",
       "      <td>X</td>\n",
       "      <td>Party - Nonqualified</td>\n",
       "      <td>T</td>\n",
       "      <td>J</td>\n",
       "      <td>Joint fundraising committee</td>\n",
       "      <td>NaN</td>\n",
       "      <td>NaN</td>\n",
       "      <td>...</td>\n",
       "      <td>NaN</td>\n",
       "      <td>NaN</td>\n",
       "      <td>DC</td>\n",
       "      <td>7/6/2001</td>\n",
       "      <td>5/23/2002</td>\n",
       "      <td>7/6/2001</td>\n",
       "      <td>7/6/2001</td>\n",
       "      <td>C00367433</td>\n",
       "      <td>{H2IL01042}</td>\n",
       "      <td>NaN</td>\n",
       "    </tr>\n",
       "    <tr>\n",
       "      <th>3</th>\n",
       "      <td>CORRECTIONAL SERVICES CORPORATION/YOUTH SERVIC...</td>\n",
       "      <td>{2002,2004,2006}</td>\n",
       "      <td>BERNARD WAGNER</td>\n",
       "      <td>N</td>\n",
       "      <td>PAC - Nonqualified</td>\n",
       "      <td>A</td>\n",
       "      <td>U</td>\n",
       "      <td>Unauthorized</td>\n",
       "      <td>C</td>\n",
       "      <td>Corporation</td>\n",
       "      <td>...</td>\n",
       "      <td>NaN</td>\n",
       "      <td>NaN</td>\n",
       "      <td>FL</td>\n",
       "      <td>7/11/2001</td>\n",
       "      <td>9/15/2005</td>\n",
       "      <td>7/11/2001</td>\n",
       "      <td>7/11/2001</td>\n",
       "      <td>C00367540</td>\n",
       "      <td>{}</td>\n",
       "      <td>NaN</td>\n",
       "    </tr>\n",
       "    <tr>\n",
       "      <th>4</th>\n",
       "      <td>KEN REVELL FOR CONGRESS</td>\n",
       "      <td>{2002,2004}</td>\n",
       "      <td>NATASHA REVELL</td>\n",
       "      <td>H</td>\n",
       "      <td>House</td>\n",
       "      <td>A</td>\n",
       "      <td>P</td>\n",
       "      <td>Principal campaign committee</td>\n",
       "      <td>NaN</td>\n",
       "      <td>NaN</td>\n",
       "      <td>...</td>\n",
       "      <td>NaN</td>\n",
       "      <td>NaN</td>\n",
       "      <td>FL</td>\n",
       "      <td>7/12/2001</td>\n",
       "      <td>7/31/2003</td>\n",
       "      <td>8/14/2001</td>\n",
       "      <td>8/14/2001</td>\n",
       "      <td>C00367565</td>\n",
       "      <td>{H2FL01159}</td>\n",
       "      <td>NaN</td>\n",
       "    </tr>\n",
       "  </tbody>\n",
       "</table>\n",
       "<p>5 rows × 21 columns</p>\n",
       "</div>"
      ],
      "text/plain": [
       "                                                name                 cycles  \\\n",
       "0                            TOM HICKEY FOR CONGRESS                 {2002}   \n",
       "1                                            WIN PAC  {2002,2004,2006,2008}   \n",
       "2          FIRST CONGRESSIONAL DISTRICT VICTORY FUND                 {2002}   \n",
       "3  CORRECTIONAL SERVICES CORPORATION/YOUTH SERVIC...       {2002,2004,2006}   \n",
       "4                            KEN REVELL FOR CONGRESS            {2002,2004}   \n",
       "\n",
       "        treasurer_name committee_type   committee_type_full filing_frequency  \\\n",
       "0    COLIN M GALLAGHER              H                 House                T   \n",
       "1         KINDE DURKEE              N    PAC - Nonqualified                A   \n",
       "2  ANN MARIE HABERSHAW              X  Party - Nonqualified                T   \n",
       "3       BERNARD WAGNER              N    PAC - Nonqualified                A   \n",
       "4       NATASHA REVELL              H                 House                A   \n",
       "\n",
       "  designation              designation_full organization_type  \\\n",
       "0           P  Principal campaign committee               NaN   \n",
       "1           U                  Unauthorized               NaN   \n",
       "2           J   Joint fundraising committee               NaN   \n",
       "3           U                  Unauthorized                 C   \n",
       "4           P  Principal campaign committee               NaN   \n",
       "\n",
       "  organization_type_full  ... party        party_full state first_file_date  \\\n",
       "0                    NaN  ...   REP  REPUBLICAN PARTY    MI       5/16/2001   \n",
       "1                    NaN  ...   NaN               NaN    CA        6/5/2001   \n",
       "2                    NaN  ...   NaN               NaN    DC        7/6/2001   \n",
       "3            Corporation  ...   NaN               NaN    FL       7/11/2001   \n",
       "4                    NaN  ...   NaN               NaN    FL       7/12/2001   \n",
       "\n",
       "  last_file_date first_f1_date last_f1_date committee_id candidate_ids  \\\n",
       "0      5/17/2002     5/16/2001    5/16/2001    C00366450   {H8MI13151}   \n",
       "1      1/31/2008      6/5/2001     8/8/2001    C00366732            {}   \n",
       "2      5/23/2002      7/6/2001     7/6/2001    C00367433   {H2IL01042}   \n",
       "3      9/15/2005     7/11/2001    7/11/2001    C00367540            {}   \n",
       "4      7/31/2003     8/14/2001    8/14/2001    C00367565   {H2FL01159}   \n",
       "\n",
       "  sponsor_candidate_ids  \n",
       "0                   NaN  \n",
       "1                   NaN  \n",
       "2                   NaN  \n",
       "3                   NaN  \n",
       "4                   NaN  \n",
       "\n",
       "[5 rows x 21 columns]"
      ]
     },
     "execution_count": 37,
     "metadata": {},
     "output_type": "execute_result"
    }
   ],
   "source": [
    "df_commit.head()"
   ]
  },
  {
   "cell_type": "code",
   "execution_count": 38,
   "id": "68112143",
   "metadata": {},
   "outputs": [
    {
     "name": "stdout",
     "output_type": "stream",
     "text": [
      "<class 'pandas.core.frame.DataFrame'>\n",
      "RangeIndex: 79884 entries, 0 to 79883\n",
      "Data columns (total 21 columns):\n",
      " #   Column                     Non-Null Count  Dtype \n",
      "---  ------                     --------------  ----- \n",
      " 0   name                       79870 non-null  object\n",
      " 1   cycles                     79884 non-null  object\n",
      " 2   treasurer_name             77150 non-null  object\n",
      " 3   committee_type             79862 non-null  object\n",
      " 4   committee_type_full        79862 non-null  object\n",
      " 5   filing_frequency           79884 non-null  object\n",
      " 6   designation                79849 non-null  object\n",
      " 7   designation_full           79849 non-null  object\n",
      " 8   organization_type          10999 non-null  object\n",
      " 9   organization_type_full     10971 non-null  object\n",
      " 10  affiliated_committee_name  45236 non-null  object\n",
      " 11  party                      37674 non-null  object\n",
      " 12  party_full                 37410 non-null  object\n",
      " 13  state                      79619 non-null  object\n",
      " 14  first_file_date            79792 non-null  object\n",
      " 15  last_file_date             79792 non-null  object\n",
      " 16  first_f1_date              76283 non-null  object\n",
      " 17  last_f1_date               76283 non-null  object\n",
      " 18  committee_id               79884 non-null  object\n",
      " 19  candidate_ids              79884 non-null  object\n",
      " 20  sponsor_candidate_ids      1176 non-null   object\n",
      "dtypes: object(21)\n",
      "memory usage: 12.8+ MB\n"
     ]
    }
   ],
   "source": [
    "df_commit.info()"
   ]
  },
  {
   "cell_type": "code",
   "execution_count": 39,
   "id": "ecdce84a",
   "metadata": {},
   "outputs": [
    {
     "data": {
      "text/plain": [
       "REPUBLICAN PARTY              15857\n",
       "DEMOCRATIC PARTY              15058\n",
       "INDEPENDENT                    2066\n",
       "UNKNOWN                         930\n",
       "LIBERTARIAN PARTY               899\n",
       "OTHER                           376\n",
       "NONE                            308\n",
       "GREEN PARTY                     284\n",
       "WRITE-IN                        205\n",
       "NO PARTY AFFILIATION            189\n",
       "UNAFFILIATED                    170\n",
       "REFORM PARTY                    121\n",
       "SOCIALIST WORKERS PARTY         110\n",
       "DEMOCRATIC-FARM-LABOR           102\n",
       "DEMOCRATIC-FARMER-LABOR          65\n",
       "CONSTITUTION PARTY               65\n",
       "CITIZENS' PARTY                  53\n",
       "AMERICAN INDEPENDENT PARTY       53\n",
       "CONSERVATIVE PARTY               51\n",
       "INDEPENDENCE PARTY               50\n",
       "Name: party_full, dtype: int64"
      ]
     },
     "execution_count": 39,
     "metadata": {},
     "output_type": "execute_result"
    }
   ],
   "source": [
    "df_commit.party_full.value_counts().head(20)"
   ]
  },
  {
   "cell_type": "markdown",
   "id": "4794f453",
   "metadata": {},
   "source": [
    "# merge the party_full column from df_commit to new_df and name it as new_df_party "
   ]
  },
  {
   "cell_type": "code",
   "execution_count": 40,
   "id": "f68263fd",
   "metadata": {},
   "outputs": [],
   "source": [
    "# Merge based on 'committee_id'\n",
    "df_commit['CMTE_ID'] = df_commit['committee_id']\n",
    "new_df_2023 = pd.merge(df_2023, df_commit[['CMTE_ID', 'party_full']], on='CMTE_ID', how='left')"
   ]
  },
  {
   "cell_type": "code",
   "execution_count": 41,
   "id": "2bbb665a",
   "metadata": {},
   "outputs": [
    {
     "data": {
      "text/html": [
       "<div>\n",
       "<style scoped>\n",
       "    .dataframe tbody tr th:only-of-type {\n",
       "        vertical-align: middle;\n",
       "    }\n",
       "\n",
       "    .dataframe tbody tr th {\n",
       "        vertical-align: top;\n",
       "    }\n",
       "\n",
       "    .dataframe thead th {\n",
       "        text-align: right;\n",
       "    }\n",
       "</style>\n",
       "<table border=\"1\" class=\"dataframe\">\n",
       "  <thead>\n",
       "    <tr style=\"text-align: right;\">\n",
       "      <th></th>\n",
       "      <th>CMTE_ID</th>\n",
       "      <th>CITY</th>\n",
       "      <th>STATE</th>\n",
       "      <th>ZIP_CODE</th>\n",
       "      <th>EMPLOYER</th>\n",
       "      <th>OCCUPATION</th>\n",
       "      <th>TRANSACTION_DT</th>\n",
       "      <th>TRANSACTION_AMT</th>\n",
       "      <th>party_full</th>\n",
       "    </tr>\n",
       "  </thead>\n",
       "  <tbody>\n",
       "    <tr>\n",
       "      <th>0</th>\n",
       "      <td>C00817940</td>\n",
       "      <td>LOS ANGELES</td>\n",
       "      <td>CA</td>\n",
       "      <td>900271058</td>\n",
       "      <td>NaN</td>\n",
       "      <td>NaN</td>\n",
       "      <td>1192023</td>\n",
       "      <td>800</td>\n",
       "      <td>NaN</td>\n",
       "    </tr>\n",
       "    <tr>\n",
       "      <th>1</th>\n",
       "      <td>C00817940</td>\n",
       "      <td>CULVER CITY</td>\n",
       "      <td>CA</td>\n",
       "      <td>902322403</td>\n",
       "      <td>NaN</td>\n",
       "      <td>NaN</td>\n",
       "      <td>1192023</td>\n",
       "      <td>250</td>\n",
       "      <td>NaN</td>\n",
       "    </tr>\n",
       "    <tr>\n",
       "      <th>2</th>\n",
       "      <td>C00817940</td>\n",
       "      <td>CHICAGO</td>\n",
       "      <td>IL</td>\n",
       "      <td>606114546</td>\n",
       "      <td>NaN</td>\n",
       "      <td>NaN</td>\n",
       "      <td>1202023</td>\n",
       "      <td>345</td>\n",
       "      <td>NaN</td>\n",
       "    </tr>\n",
       "    <tr>\n",
       "      <th>3</th>\n",
       "      <td>C00817940</td>\n",
       "      <td>ENCINO</td>\n",
       "      <td>CA</td>\n",
       "      <td>914361845</td>\n",
       "      <td>NaN</td>\n",
       "      <td>NaN</td>\n",
       "      <td>1192023</td>\n",
       "      <td>615</td>\n",
       "      <td>NaN</td>\n",
       "    </tr>\n",
       "    <tr>\n",
       "      <th>4</th>\n",
       "      <td>C00817940</td>\n",
       "      <td>POTOMAC</td>\n",
       "      <td>MD</td>\n",
       "      <td>208541640</td>\n",
       "      <td>NaN</td>\n",
       "      <td>NaN</td>\n",
       "      <td>1192023</td>\n",
       "      <td>5000</td>\n",
       "      <td>NaN</td>\n",
       "    </tr>\n",
       "  </tbody>\n",
       "</table>\n",
       "</div>"
      ],
      "text/plain": [
       "     CMTE_ID         CITY STATE   ZIP_CODE EMPLOYER OCCUPATION  \\\n",
       "0  C00817940  LOS ANGELES    CA  900271058      NaN        NaN   \n",
       "1  C00817940  CULVER CITY    CA  902322403      NaN        NaN   \n",
       "2  C00817940      CHICAGO    IL  606114546      NaN        NaN   \n",
       "3  C00817940       ENCINO    CA  914361845      NaN        NaN   \n",
       "4  C00817940      POTOMAC    MD  208541640      NaN        NaN   \n",
       "\n",
       "   TRANSACTION_DT  TRANSACTION_AMT party_full  \n",
       "0         1192023              800        NaN  \n",
       "1         1192023              250        NaN  \n",
       "2         1202023              345        NaN  \n",
       "3         1192023              615        NaN  \n",
       "4         1192023             5000        NaN  "
      ]
     },
     "execution_count": 41,
     "metadata": {},
     "output_type": "execute_result"
    }
   ],
   "source": [
    "new_df_2023.head()"
   ]
  },
  {
   "cell_type": "code",
   "execution_count": 42,
   "id": "9d35bdf0",
   "metadata": {},
   "outputs": [
    {
     "data": {
      "text/plain": [
       "(8691717, 9)"
      ]
     },
     "execution_count": 42,
     "metadata": {},
     "output_type": "execute_result"
    }
   ],
   "source": [
    "new_df_2023.shape"
   ]
  },
  {
   "cell_type": "code",
   "execution_count": 43,
   "id": "7dcd2363",
   "metadata": {},
   "outputs": [
    {
     "data": {
      "text/plain": [
       "4738952"
      ]
     },
     "execution_count": 43,
     "metadata": {},
     "output_type": "execute_result"
    }
   ],
   "source": [
    "new_df_2023.party_full.isnull().sum()"
   ]
  },
  {
   "cell_type": "code",
   "execution_count": 44,
   "id": "9eec229f",
   "metadata": {},
   "outputs": [
    {
     "data": {
      "text/plain": [
       "3952765"
      ]
     },
     "execution_count": 44,
     "metadata": {},
     "output_type": "execute_result"
    }
   ],
   "source": [
    "new_df_2023.party_full.count()"
   ]
  },
  {
   "cell_type": "code",
   "execution_count": 45,
   "id": "b09b6c7e",
   "metadata": {},
   "outputs": [
    {
     "data": {
      "text/plain": [
       "3952765"
      ]
     },
     "execution_count": 45,
     "metadata": {},
     "output_type": "execute_result"
    }
   ],
   "source": [
    "len(new_df_2023)-new_df_2023.party_full.isnull().sum()"
   ]
  },
  {
   "cell_type": "code",
   "execution_count": 46,
   "id": "7c7a3d43",
   "metadata": {},
   "outputs": [
    {
     "data": {
      "text/plain": [
       "0.5452262193994581"
      ]
     },
     "execution_count": 46,
     "metadata": {},
     "output_type": "execute_result"
    }
   ],
   "source": [
    "party_null_percentage = new_df_2023.party_full.isnull().sum()/len(new_df_2023)\n",
    "party_null_percentage "
   ]
  },
  {
   "cell_type": "code",
   "execution_count": 47,
   "id": "aa044562",
   "metadata": {},
   "outputs": [
    {
     "data": {
      "text/plain": [
       "REPUBLICAN PARTY           2018600\n",
       "DEMOCRATIC PARTY           1551317\n",
       "UNKNOWN                     208802\n",
       "INDEPENDENT                 100331\n",
       "NONE                         50567\n",
       "DEMOCRATIC-FARMER-LABOR      16063\n",
       "LIBERTARIAN PARTY             2853\n",
       "OTHER                         1740\n",
       "NEW PROGRESSIVE PARTY         1229\n",
       "GREEN PARTY                    612\n",
       "CONSTITUTION PARTY             338\n",
       "NEW ALLIANCE                   165\n",
       "UNAFFILIATED                    68\n",
       "WRITE-IN                        22\n",
       "NON-PARTY                       18\n",
       "NO PARTY AFFILIATION            14\n",
       "CONSTITUTIONAL                   8\n",
       "REFORM PARTY                     7\n",
       "COMMUNIST PARTY                  7\n",
       "CONSERVATIVE PARTY               4\n",
       "Name: party_full, dtype: int64"
      ]
     },
     "execution_count": 47,
     "metadata": {},
     "output_type": "execute_result"
    }
   ],
   "source": [
    "new_df_2023.party_full.value_counts()"
   ]
  },
  {
   "cell_type": "code",
   "execution_count": 48,
   "id": "d3c142f4",
   "metadata": {},
   "outputs": [
    {
     "data": {
      "text/plain": [
       "REPUBLICAN PARTY           0.510680\n",
       "DEMOCRATIC PARTY           0.392464\n",
       "UNKNOWN                    0.052824\n",
       "INDEPENDENT                0.025382\n",
       "NONE                       0.012793\n",
       "DEMOCRATIC-FARMER-LABOR    0.004064\n",
       "LIBERTARIAN PARTY          0.000722\n",
       "OTHER                      0.000440\n",
       "NEW PROGRESSIVE PARTY      0.000311\n",
       "GREEN PARTY                0.000155\n",
       "CONSTITUTION PARTY         0.000086\n",
       "NEW ALLIANCE               0.000042\n",
       "UNAFFILIATED               0.000017\n",
       "WRITE-IN                   0.000006\n",
       "NON-PARTY                  0.000005\n",
       "NO PARTY AFFILIATION       0.000004\n",
       "CONSTITUTIONAL             0.000002\n",
       "REFORM PARTY               0.000002\n",
       "COMMUNIST PARTY            0.000002\n",
       "CONSERVATIVE PARTY         0.000001\n",
       "Name: party_full, dtype: float64"
      ]
     },
     "execution_count": 48,
     "metadata": {},
     "output_type": "execute_result"
    }
   ],
   "source": [
    "party_percentage = new_df_2023.party_full.value_counts()/new_df_2023.party_full.count()\n",
    "party_percentage"
   ]
  },
  {
   "cell_type": "code",
   "execution_count": 49,
   "id": "d95ac568",
   "metadata": {},
   "outputs": [
    {
     "name": "stdout",
     "output_type": "stream",
     "text": [
      "Unique CMTE_ID values for rows where 'party_full' is null:\n",
      "['C00817940' 'C00815316' 'C00806562' ... 'C00325977' 'C00755850'\n",
      " 'C00424010']\n"
     ]
    }
   ],
   "source": [
    "null_party_full_df = new_df_2023[new_df_2023['party_full'].isnull()]\n",
    "\n",
    "# Display unique values of 'CMTE_ID' for rows where 'party_full' is null\n",
    "unique_cmte_ids_for_null_party_full = null_party_full_df['CMTE_ID'].unique()\n",
    "\n",
    "# Display the result\n",
    "print(\"Unique CMTE_ID values for rows where 'party_full' is null:\")\n",
    "print(unique_cmte_ids_for_null_party_full)"
   ]
  },
  {
   "cell_type": "code",
   "execution_count": 50,
   "id": "43866d0d",
   "metadata": {},
   "outputs": [
    {
     "data": {
      "text/plain": [
       "3883"
      ]
     },
     "execution_count": 50,
     "metadata": {},
     "output_type": "execute_result"
    }
   ],
   "source": [
    "len(unique_cmte_ids_for_null_party_full)"
   ]
  },
  {
   "cell_type": "code",
   "execution_count": 51,
   "id": "96a94851",
   "metadata": {},
   "outputs": [
    {
     "data": {
      "text/plain": [
       "C00401224    1617159\n",
       "C00770941     549075\n",
       "C00694323      94350\n",
       "C00750521      87883\n",
       "C00580068      76004\n",
       "C00193433      58980\n",
       "C00836353      51351\n",
       "C00836403      48783\n",
       "C00573261      39261\n",
       "C00830679      38593\n",
       "C00748228      36319\n",
       "C00685297      35173\n",
       "C00603084      32851\n",
       "C00142711      32545\n",
       "C00096156      30908\n",
       "C00088591      30093\n",
       "C00562983      29669\n",
       "C00770214      27634\n",
       "C00002089      27128\n",
       "C00744946      27025\n",
       "C00365536      26736\n",
       "C00745786      26179\n",
       "C00676395      24237\n",
       "C00341396      23656\n",
       "C00337733      21701\n",
       "C00238725      21402\n",
       "C00271338      20252\n",
       "C00248716      19660\n",
       "C00076810      19103\n",
       "C00782599      18843\n",
       "Name: CMTE_ID, dtype: int64"
      ]
     },
     "execution_count": 51,
     "metadata": {},
     "output_type": "execute_result"
    }
   ],
   "source": [
    "null_party_full_df['CMTE_ID'].value_counts().head(30)"
   ]
  },
  {
   "cell_type": "markdown",
   "id": "cd2e72d8",
   "metadata": {},
   "source": [
    "# Treat the CMTE_ID with the highest amount of missing values in party_ful column"
   ]
  },
  {
   "cell_type": "markdown",
   "id": "e17b0ba0",
   "metadata": {},
   "source": [
    "A list of joint funderaising committees and associated political party\n",
    "https://www.opensecrets.org/jfc/top.php?type=C "
   ]
  },
  {
   "cell_type": "markdown",
   "id": "18a9f110",
   "metadata": {},
   "source": [
    "C00401224 (ActBlue) \n",
    "\n",
    "The party for this CMTE_ID will be labled as 'Democratic Party' based on the information below:\n",
    "\n",
    "\"ActBlue is not run by the official Democratic Party or any other organization. We are a mission-based organization, which is why only Democrats and progressive organizations (not Republicans) can use our tools to fundraise.\" \n",
    "\n",
    "https://support.actblue.com/donors/about-actblue/is-actblue-run-by-the-democratic-party-or-affiliated-with-any-organizations/\n"
   ]
  },
  {
   "cell_type": "code",
   "execution_count": 52,
   "id": "8af667b1",
   "metadata": {},
   "outputs": [],
   "source": [
    "#assign 'DEMOCRATIC PARTY' to column 'party_full' for 'CMTE_ID' == 'C00401224'\n",
    "\n",
    "new_df_2023.loc[new_df_2023['CMTE_ID'] == 'C00401224', 'party_full'] = 'DEMOCRATIC PARTY'"
   ]
  },
  {
   "cell_type": "markdown",
   "id": "dd8fc923",
   "metadata": {},
   "source": [
    "C00770941 (trump save america joint fundraising committee)\n",
    "\n",
    "The party for this CMTE_ID will be labled as 'Republican Party' since Trump is affilicated with republican party.\n",
    "\n",
    "https://secure.winred.com/save-america-joint-fundraising-committee/storefront/"
   ]
  },
  {
   "cell_type": "code",
   "execution_count": 53,
   "id": "b2b5590d",
   "metadata": {},
   "outputs": [],
   "source": [
    "#assign 'REPUBLICAN PARTY' to column 'party_full' for 'CMTE_ID' == 'C00770941'\n",
    "\n",
    "new_df_2023.loc[new_df_2023['CMTE_ID'] == 'C00770941', 'party_full'] = 'REPUBLICAN PARTY'"
   ]
  },
  {
   "cell_type": "markdown",
   "id": "fdc543c1",
   "metadata": {},
   "source": [
    "C00836353  (NEWSOM FOR CALIFORNIA GOVERNOR 2022) \n",
    "\n",
    "Not clear which party this CMTE_ID is related with, thus, no change to this. \n",
    "https://www.fec.gov/data/committee/C00836353/"
   ]
  },
  {
   "cell_type": "markdown",
   "id": "f2c965e4",
   "metadata": {},
   "source": [
    "C00694323 (\tWINRED) \n",
    "\n",
    "Based on the video description, winRed is a platform used to raise money for Republican party. Thus, the party for this CMTE_ID will be labled as 'Republican Party'.\n",
    "\n",
    "https://www.fec.gov/data/committee/C00694323/?tab=about-committee \n",
    "\n",
    "https://support.winred.com/en/articles/3056005-what-is-winred "
   ]
  },
  {
   "cell_type": "code",
   "execution_count": 54,
   "id": "cf696398",
   "metadata": {},
   "outputs": [],
   "source": [
    "#assign 'REPUBLICAN PARTY' to column 'party_full' for 'CMTE_ID' == 'C00694323'\n",
    "\n",
    "new_df_2023.loc[new_df_2023['CMTE_ID'] == 'C00694323', 'party_full'] = 'REPUBLICAN PARTY'"
   ]
  },
  {
   "cell_type": "markdown",
   "id": "fbabd855",
   "metadata": {},
   "source": [
    "C00750521  (TEAM SCALISE)\n",
    "\n",
    "The party for this CMTE_ID will be labled as 'Republican Party' since Steve Scalise is affilicated with republican party.\n",
    "\n",
    "https://teamscalise.com/"
   ]
  },
  {
   "cell_type": "code",
   "execution_count": 55,
   "id": "099158f6",
   "metadata": {},
   "outputs": [],
   "source": [
    "#assign 'REPUBLICAN PARTY' to column 'party_full' for 'CMTE_ID' == 'C00750521'\n",
    "\n",
    "new_df_2023.loc[new_df_2023['CMTE_ID'] == 'C00750521', 'party_full'] = 'REPUBLICAN PARTY'"
   ]
  },
  {
   "cell_type": "code",
   "execution_count": 56,
   "id": "38659a5a",
   "metadata": {},
   "outputs": [],
   "source": [
    "# C00685297    (ELECT DEMOCRATIC WOMEN): 'DEMOCRATIC Party' \n",
    "# https://electdemocraticwomen.org/\n",
    "#assign 'DEMOCRATIC PARTY' to column 'party_full' for 'CMTE_ID' == 'C00685297'\n",
    "\n",
    "new_df_2023.loc[new_df_2023['CMTE_ID'] == 'C00685297', 'party_full'] = 'DEMOCRATIC PARTY'"
   ]
  },
  {
   "cell_type": "code",
   "execution_count": 57,
   "id": "26ba0dea",
   "metadata": {},
   "outputs": [],
   "source": [
    "# C00676395 (BLACKBURN TENNESSEE VICTORY FUND): 'Republican Party' https://www.opensecrets.org/jfc/summary.php?id=C00676395&cycle=2022\n",
    "\n",
    "#assign 'REPUBLICAN PARTY' to column 'party_full' for 'CMTE_ID' == 'C00676395'\n",
    "\n",
    "new_df_2023.loc[new_df_2023['CMTE_ID'] == 'C00676395', 'party_full'] = 'REPUBLICAN PARTY'"
   ]
  },
  {
   "cell_type": "code",
   "execution_count": 58,
   "id": "39f1acf3",
   "metadata": {},
   "outputs": [],
   "source": [
    "# C00580068 (PROGRESSIVE TURNOUT PROJECT): 'DEMOCRATIC PARTY'  https://www.opensecrets.org/orgs/progressive-turnout-project/summary?id=D000069975 \n",
    "\n",
    "#assign 'DEMOCRATIC PARTY' to column 'party_full' for 'CMTE_ID' == 'C00580068'\n",
    "\n",
    "new_df_2023.loc[new_df_2023['CMTE_ID'] == 'C00580068', 'party_full'] = 'DEMOCRATIC PARTY'"
   ]
  },
  {
   "cell_type": "code",
   "execution_count": 59,
   "id": "1108924d",
   "metadata": {},
   "outputs": [],
   "source": [
    "# C00573261  (END CITIZENS UNITED):'DEMOCRATIC PARTY' https://www.opensecrets.org/political-action-committees-pacs/end-citizens-united/C00573261/candidate-recipients/2020\n",
    "\n",
    "#assign 'DEMOCRATIC PARTY' to column 'party_full' for 'CMTE_ID' == 'C00573261'\n",
    "new_df_2023.loc[new_df_2023['CMTE_ID'] == 'C00573261', 'party_full'] = 'DEMOCRATIC PARTY'"
   ]
  },
  {
   "cell_type": "code",
   "execution_count": 60,
   "id": "ca369d1b",
   "metadata": {},
   "outputs": [],
   "source": [
    "# C00193433 (EMILYS LIST):'DEMOCRATIC PARTY' https://www.opensecrets.org/orgs/emily-s-list/recipients?id=d000000113\n",
    "\n",
    "#assign 'DEMOCRATIC PARTY' to column 'party_full' for 'CMTE_ID' == 'C00193433'\n",
    "\n",
    "new_df_2023.loc[new_df_2023['CMTE_ID'] == 'C00193433', 'party_full'] = 'DEMOCRATIC PARTY'"
   ]
  },
  {
   "cell_type": "code",
   "execution_count": 61,
   "id": "ba37828b",
   "metadata": {},
   "outputs": [],
   "source": [
    "# C00748228  (MARCH ON PAC):'DEMOCRATIC PARTY' \n",
    "# https://www.opensecrets.org/political-action-committees-pacs/march-on-pac/C00748228/candidate-recipients/2022\n",
    "\n",
    "#assign 'DEMOCRATIC PARTY' to column 'party_full' for 'CMTE_ID' == 'C00748228'\n",
    "\n",
    "new_df_2023.loc[new_df_2023['CMTE_ID'] == 'C00748228', 'party_full'] = 'DEMOCRATIC PARTY'\n"
   ]
  },
  {
   "cell_type": "code",
   "execution_count": 62,
   "id": "5b5c8af4",
   "metadata": {},
   "outputs": [],
   "source": [
    "# C00725820 (THE LINCOLN PROJECT):'DEMOCRATIC PARTY' \n",
    "# https://lincolnproject.us/\n",
    "\n",
    "#assign 'DEMOCRATIC PARTY' to column 'party_full' for 'CMTE_ID' == 'C00725820'\n",
    "\n",
    "new_df_2023.loc[new_df_2023['CMTE_ID'] == 'C00725820', 'party_full'] = 'DEMOCRATIC PARTY'\n"
   ]
  },
  {
   "cell_type": "markdown",
   "id": "4556580f",
   "metadata": {},
   "source": [
    "C00096156 (HONEYWELL INTERNATIONAL POLITICAL ACTION COMMITTEE)::Support both parties\n",
    "https://www.opensecrets.org/political-action-committees-pacs/honeywell-international/C00096156/summary/2022"
   ]
  },
  {
   "cell_type": "code",
   "execution_count": 63,
   "id": "c73bcbf4",
   "metadata": {},
   "outputs": [],
   "source": [
    "# C00770214 (CHAMPION AMERICAN VALUES):'Republican Party'\n",
    "# https://www.opensecrets.org/political-action-committees-pacs/champion-american-values/C00770214/summary/2022\n",
    "\n",
    "#assign 'REPUBLICAN PARTY' to column 'party_full' for 'CMTE_ID' == 'C00770214'\n",
    "\n",
    "new_df_2023.loc[new_df_2023['CMTE_ID'] == 'C00770214', 'party_full'] = 'REPUBLICAN PARTY'\n"
   ]
  },
  {
   "cell_type": "code",
   "execution_count": 64,
   "id": "c037c117",
   "metadata": {},
   "outputs": [],
   "source": [
    "# C00693515 (FAIR FIGHT):'DEMOCRATIC PARTY' \n",
    "# https://www.opensecrets.org/political-action-committees-pacs/fair-fight-pac/C00693515/summary/2020\n",
    "\n",
    "#assign 'DEMOCRATIC PARTY' to column 'party_full' for 'CMTE_ID' == 'C00693515'\n",
    "\n",
    "new_df_2023.loc[new_df_2023['CMTE_ID'] == 'C00693515', 'party_full'] = 'DEMOCRATIC PARTY'\n"
   ]
  },
  {
   "cell_type": "code",
   "execution_count": 65,
   "id": "e9b59877",
   "metadata": {},
   "outputs": [],
   "source": [
    "# C00692319 (VPP):'DEMOCRATIC PARTY' \n",
    "# https://www.opensecrets.org/political-action-committees-pacs/voter-protection-project/C00692319/summary/2022\n",
    "\n",
    "\n",
    "#assign 'DEMOCRATIC PARTY' to column 'party_full' for 'CMTE_ID' == 'C00692319'\n",
    "\n",
    "new_df_2023.loc[new_df_2023['CMTE_ID'] == 'C00692319', 'party_full'] = 'DEMOCRATIC PARTY'"
   ]
  },
  {
   "cell_type": "code",
   "execution_count": 66,
   "id": "5817f6ff",
   "metadata": {},
   "outputs": [],
   "source": [
    "# C00718510 (OCCUPY DEMOCRATS ELECTION FUND):'DEMOCRATIC PARTY' \n",
    "\n",
    "#assign 'DEMOCRATIC PARTY' to column 'party_full' for 'CMTE_ID' == 'C00718510'\n",
    "\n",
    "new_df_2023.loc[new_df_2023['CMTE_ID'] == 'C00718510', 'party_full'] = 'DEMOCRATIC PARTY'"
   ]
  },
  {
   "cell_type": "code",
   "execution_count": 67,
   "id": "927b7d90",
   "metadata": {},
   "outputs": [],
   "source": [
    "# C00633404 (STOP REPUBLICANS): Not sure. https://stoprepublicans.com/"
   ]
  },
  {
   "cell_type": "code",
   "execution_count": 68,
   "id": "556bee1a",
   "metadata": {},
   "outputs": [],
   "source": [
    "# C00341396 (MOVEON.ORG POLITICAL ACTION): 'DEMOCRATIC PARTY'\n",
    "# https://www.opensecrets.org/political-action-committees-pacs/moveon-org/C00341396/summary/2020\n",
    "\n",
    "\n",
    "#assign 'DEMOCRATIC PARTY' to column 'party_full' for 'CMTE_ID' == 'C00341396'\n",
    "\n",
    "new_df_2023.loc[new_df_2023['CMTE_ID'] == 'C00341396', 'party_full'] = 'DEMOCRATIC PARTY'"
   ]
  },
  {
   "cell_type": "code",
   "execution_count": 69,
   "id": "0bb2b166",
   "metadata": {},
   "outputs": [],
   "source": [
    "# C00830679  (TEAM ELISE): 'Republican Party' \n",
    "# https://secure.winred.com/team-elise/es_don_om_ga_cgs-spk_se_20231018/?utm_campaign=es_don_om_ga_cgs-spk_se_20231018&utm_source=ga&utm_medium=se&amount=25&utm_term=te_e&gclid=CjwKCAiAhJWsBhAaEiwAmrNyqwzF3isE8kjzbkMJLWAGe8UKVOhWMp4_kOebyGWa9emjs5xI3y_-shoCCEsQAvD_BwE\n",
    "\n",
    "#assign 'REPUBLICAN PARTY' to column 'party_full' for 'CMTE_ID' == 'C00830679'\n",
    "\n",
    "new_df_2023.loc[new_df_2023['CMTE_ID'] == 'C00830679', 'party_full'] = 'REPUBLICAN PARTY'"
   ]
  },
  {
   "cell_type": "code",
   "execution_count": 70,
   "id": "24ff5d83",
   "metadata": {},
   "outputs": [],
   "source": [
    "# C00142711 (THE BOEING COMPANY POLITICAL ACTION COMMITTEE): Support both parties \n",
    "# https://www.opensecrets.org/political-action-committees-pacs/boeing-co/C00142711/candidate-recipients/2022"
   ]
  },
  {
   "cell_type": "markdown",
   "id": "57105006",
   "metadata": {},
   "source": [
    "C00483883 (RETIRED AMERICANS PAC): not sure which party   https://retiredamericanspac.org/"
   ]
  },
  {
   "cell_type": "code",
   "execution_count": 71,
   "id": "419d7fad",
   "metadata": {},
   "outputs": [],
   "source": [
    "# C00632398 (LET AMERICA VOTE PAC): 'DEMOCRATIC PARTY'\n",
    "# https://www.opensecrets.org/political-action-committees-pacs/let-america-vote/C00632398/summary/2022\n",
    "\n",
    "#assign 'DEMOCRATIC PARTY' to column 'party_full' for 'CMTE_ID' == 'C00632398'\n",
    "\n",
    "new_df_2023.loc[new_df_2023['CMTE_ID'] == 'C00632398', 'party_full'] = 'DEMOCRATIC PARTY'"
   ]
  },
  {
   "cell_type": "code",
   "execution_count": 72,
   "id": "ef391b5c",
   "metadata": {},
   "outputs": [],
   "source": [
    "# C00365536 (CHC BOLD PAC): 'DEMOCRATIC PARTY'\n",
    "# https://www.opensecrets.org/political-action-committees-pacs/committee-for-hispanic-causes-bold-pac/C00365536/summary/2020\n",
    "#assign 'DEMOCRATIC PARTY' to column 'party_full' for 'CMTE_ID' == 'C00365536'\n",
    "\n",
    "new_df_2023.loc[new_df_2023['CMTE_ID'] == 'C00365536', 'party_full'] = 'DEMOCRATIC PARTY'"
   ]
  },
  {
   "cell_type": "code",
   "execution_count": 73,
   "id": "1fa4aa4b",
   "metadata": {},
   "outputs": [],
   "source": [
    "# C00782599 (ELECT DIVERSE DEMOCRATS PAC): DEMOCRATS\n",
    "#assign 'DEMOCRATIC PARTY' to column 'party_full' for 'CMTE_ID' == 'C00782599'\n",
    "\n",
    "new_df_2023.loc[new_df_2023['CMTE_ID'] == 'C00782599', 'party_full'] = 'DEMOCRATIC PARTY'"
   ]
  },
  {
   "cell_type": "code",
   "execution_count": 74,
   "id": "c1bde634",
   "metadata": {},
   "outputs": [],
   "source": [
    "# C00765982 (STAND FOR AMERICA PAC):'Republican Party' \n",
    "# https://www.opensecrets.org/political-action-committees-pacs/stand-for-america-pac/C00765982/summary/2022\n",
    "#assign 'REPUBLICAN PARTY' to column 'party_full' for 'CMTE_ID' == 'C00765982'\n",
    "\n",
    "new_df_2023.loc[new_df_2023['CMTE_ID'] == 'C00765982', 'party_full'] = 'REPUBLICAN PARTY'"
   ]
  },
  {
   "cell_type": "code",
   "execution_count": 75,
   "id": "b97902e7",
   "metadata": {},
   "outputs": [],
   "source": [
    "# C00271338 (AMERIPAC: THE FUND FOR A GREATER AMERICA):'DEMOCRATIC PARTY'\n",
    "# https://www.opensecrets.org/political-action-committees-pacs/ameripac-the-fund-for-a-greater-america/C00271338/summary/2022\n",
    "#assign 'DEMOCRATIC PARTY' to column 'party_full' for 'CMTE_ID' == 'C00271338'\n",
    "\n",
    "new_df_2023.loc[new_df_2023['CMTE_ID'] == 'C00271338', 'party_full'] = 'DEMOCRATIC PARTY'"
   ]
  },
  {
   "cell_type": "code",
   "execution_count": 76,
   "id": "06c54ec6",
   "metadata": {},
   "outputs": [],
   "source": [
    "# C00753558 (DEMOCRATIC VICTORY PAC, INC.): DEMOCRATIC\n",
    "#assign 'DEMOCRATIC PARTY' to column 'party_full' for 'CMTE_ID' == 'C00753558'\n",
    "\n",
    "new_df_2023.loc[new_df_2023['CMTE_ID'] == 'C00753558', 'party_full'] = 'DEMOCRATIC PARTY'"
   ]
  },
  {
   "cell_type": "code",
   "execution_count": 77,
   "id": "4727d831",
   "metadata": {},
   "outputs": [],
   "source": [
    "# C00836403 (TEAM EMMER): 'Republican Party'  https://www.opensecrets.org/jfc/summary.php?id=C00573444&cycle=2022 \n",
    "\n",
    "#assign 'REPUBLICAN PARTY' to column 'party_full' for 'CMTE_ID' == 'C00836403'\n",
    "\n",
    "new_df_2023.loc[new_df_2023['CMTE_ID'] == 'C00836403', 'party_full'] = 'REPUBLICAN PARTY'"
   ]
  },
  {
   "cell_type": "code",
   "execution_count": 78,
   "id": "2c2dfb25",
   "metadata": {},
   "outputs": [],
   "source": [
    "# C00603084 (NATIONAL DEMOCRATIC TRAINING COMMITTEE PAC): DEMOCRATIC\n",
    "#assign 'DEMOCRATIC PARTY' to column 'party_full' for 'CMTE_ID' == 'C00603084'\n",
    "\n",
    "new_df_2023.loc[new_df_2023['CMTE_ID'] == 'C00603084', 'party_full'] = 'DEMOCRATIC PARTY'"
   ]
  },
  {
   "cell_type": "code",
   "execution_count": 79,
   "id": "2a85c498",
   "metadata": {},
   "outputs": [],
   "source": [
    "# C00088591 (EMPLOYEES OF NORTHROP GRUMMAN CORPORATION PAC): support both parties"
   ]
  },
  {
   "cell_type": "code",
   "execution_count": 80,
   "id": "96a8fff4",
   "metadata": {},
   "outputs": [],
   "source": [
    "# C00562983 (DEMOCRATIC ACTION):DEMOCRATIC\n",
    "#assign 'DEMOCRATIC PARTY' to column 'party_full' for 'CMTE_ID' == 'C00562983'\n",
    "\n",
    "new_df_2023.loc[new_df_2023['CMTE_ID'] == 'C00562983', 'party_full'] = 'DEMOCRATIC PARTY'\n"
   ]
  },
  {
   "cell_type": "code",
   "execution_count": 81,
   "id": "d6ad2375",
   "metadata": {},
   "outputs": [],
   "source": [
    "# C00002089 (COMMUNICATIONS WORKERS OF AMERICA - COPE POLITICAL CONTRIBUTIONS COMMITTEE): DEMOCRATIC\n",
    "# https://www.opensecrets.org/political-action-committees-pacs/communications-workers-of-america/C00002089/summary/2020\n",
    "#assign 'DEMOCRATIC PARTY' to column 'party_full' for 'CMTE_ID' == 'C00002089'\n",
    "\n",
    "new_df_2023.loc[new_df_2023['CMTE_ID'] == 'C00002089', 'party_full'] = 'DEMOCRATIC PARTY'"
   ]
  },
  {
   "cell_type": "code",
   "execution_count": 82,
   "id": "6e3c0a3a",
   "metadata": {},
   "outputs": [],
   "source": [
    "# C00744946 (BIDEN VICTORY FUND):DEMOCRATIC\n",
    "# https://www.opensecrets.org/jfc/summary.php?id=C00744946\n",
    "\n",
    "#assign 'DEMOCRATIC PARTY' to column 'party_full' for 'CMTE_ID' == 'C00744946'\n",
    "\n",
    "new_df_2023.loc[new_df_2023['CMTE_ID'] == 'C00744946', 'party_full'] = 'DEMOCRATIC PARTY'"
   ]
  },
  {
   "cell_type": "code",
   "execution_count": 83,
   "id": "3c88f893",
   "metadata": {},
   "outputs": [],
   "source": [
    "# C00745786 (DEMOCRATIC STRATEGY INSTITUTE): DEMOCRATIC\n",
    "\n",
    "#assign 'DEMOCRATIC PARTY' to column 'party_full' for 'CMTE_ID' == 'C00745786'\n",
    "\n",
    "new_df_2023.loc[new_df_2023['CMTE_ID'] == 'C00745786', 'party_full'] = 'DEMOCRATIC PARTY'"
   ]
  },
  {
   "cell_type": "code",
   "execution_count": 84,
   "id": "67e08af9",
   "metadata": {},
   "outputs": [],
   "source": [
    "# C00337733 (MASON TENDERS DISTRICT COUNCIL OF GREATER NEW YORK & LI PAC): DEMOCRATIC\n",
    "# https://www.opensecrets.org/political-action-committees-pacs/mason-tenders-district-council-of-ny/C00337733/summary/2018\n",
    "#assign 'DEMOCRATIC PARTY' to column 'party_full' for 'CMTE_ID' == 'C00337733'\n",
    "\n",
    "new_df_2023.loc[new_df_2023['CMTE_ID'] == 'C00337733', 'party_full'] = 'DEMOCRATIC PARTY'"
   ]
  },
  {
   "cell_type": "code",
   "execution_count": 85,
   "id": "8bdd44b7",
   "metadata": {},
   "outputs": [],
   "source": [
    "# C00238725 (NATIONAL AIR TRAFFIC CONTROLLERS ASSOCIATION PAC): majority to DEMOCRATIC\n",
    "# https://www.opensecrets.org/political-action-committees-pacs/national-air-traffic-controllers-assn/C00238725/summary/2022\n",
    "\n",
    "#assign 'DEMOCRATIC PARTY' to column 'party_full' for 'CMTE_ID' == 'C00238725'\n",
    "\n",
    "new_df_2023.loc[new_df_2023['CMTE_ID'] == 'C00238725', 'party_full'] = 'DEMOCRATIC PARTY'"
   ]
  },
  {
   "cell_type": "code",
   "execution_count": 86,
   "id": "e2cef826",
   "metadata": {},
   "outputs": [],
   "source": [
    "# C00248716 (COMCAST CORPORATION & NBCUNIVERSAL POLITICAL ACTION COMMITTEE - FEDERAL):support both parties equally"
   ]
  },
  {
   "cell_type": "code",
   "execution_count": 87,
   "id": "48b93612",
   "metadata": {},
   "outputs": [],
   "source": [
    "# replace 'DEMOCRATIC-FARMER-LABOR' with 'DEMOCRATIC PARTY' in column party_full \n",
    "#(since it is affiliated with the Democratic Party in the U.S.)\n",
    "\n",
    "new_df_2023['party_full'].replace('DEMOCRATIC-FARMER-LABOR', 'DEMOCRATIC PARTY', inplace=True)"
   ]
  },
  {
   "cell_type": "code",
   "execution_count": 88,
   "id": "210c212a",
   "metadata": {},
   "outputs": [
    {
     "data": {
      "text/plain": [
       "1671491"
      ]
     },
     "execution_count": 88,
     "metadata": {},
     "output_type": "execute_result"
    }
   ],
   "source": [
    "# after the updates above, recheck the null and party counts\n",
    "\n",
    "new_df_2023.party_full.isnull().sum()"
   ]
  },
  {
   "cell_type": "code",
   "execution_count": 89,
   "id": "546ee783",
   "metadata": {},
   "outputs": [
    {
     "data": {
      "text/plain": [
       "0.1923084932470765"
      ]
     },
     "execution_count": 89,
     "metadata": {},
     "output_type": "execute_result"
    }
   ],
   "source": [
    "party_null_percentage_new = new_df_2023.party_full.isnull().sum()/len(new_df_2023)\n",
    "party_null_percentage_new "
   ]
  },
  {
   "cell_type": "code",
   "execution_count": 90,
   "id": "71fb9ea1",
   "metadata": {},
   "outputs": [
    {
     "data": {
      "text/plain": [
       "DEMOCRATIC PARTY         3757716\n",
       "REPUBLICAN PARTY         2895725\n",
       "UNKNOWN                   208802\n",
       "INDEPENDENT               100331\n",
       "NONE                       50567\n",
       "LIBERTARIAN PARTY           2853\n",
       "OTHER                       1740\n",
       "NEW PROGRESSIVE PARTY       1229\n",
       "GREEN PARTY                  612\n",
       "CONSTITUTION PARTY           338\n",
       "NEW ALLIANCE                 165\n",
       "UNAFFILIATED                  68\n",
       "WRITE-IN                      22\n",
       "NON-PARTY                     18\n",
       "NO PARTY AFFILIATION          14\n",
       "CONSTITUTIONAL                 8\n",
       "REFORM PARTY                   7\n",
       "COMMUNIST PARTY                7\n",
       "CONSERVATIVE PARTY             4\n",
       "Name: party_full, dtype: int64"
      ]
     },
     "execution_count": 90,
     "metadata": {},
     "output_type": "execute_result"
    }
   ],
   "source": [
    "new_df_2023.party_full.value_counts()"
   ]
  },
  {
   "cell_type": "code",
   "execution_count": 91,
   "id": "d3ceb0f6",
   "metadata": {},
   "outputs": [
    {
     "data": {
      "text/plain": [
       "DEMOCRATIC PARTY         5.352699e-01\n",
       "REPUBLICAN PARTY         4.124832e-01\n",
       "UNKNOWN                  2.974292e-02\n",
       "INDEPENDENT              1.429171e-02\n",
       "NONE                     7.203044e-03\n",
       "LIBERTARIAN PARTY        4.063972e-04\n",
       "OTHER                    2.478553e-04\n",
       "NEW PROGRESSIVE PARTY    1.750656e-04\n",
       "GREEN PARTY              8.717668e-05\n",
       "CONSTITUTION PARTY       4.814660e-05\n",
       "NEW ALLIANCE             2.350352e-05\n",
       "UNAFFILIATED             9.686298e-06\n",
       "WRITE-IN                 3.133802e-06\n",
       "NON-PARTY                2.564020e-06\n",
       "NO PARTY AFFILIATION     1.994238e-06\n",
       "CONSTITUTIONAL           1.139564e-06\n",
       "REFORM PARTY             9.971189e-07\n",
       "COMMUNIST PARTY          9.971189e-07\n",
       "CONSERVATIVE PARTY       5.697822e-07\n",
       "Name: party_full, dtype: float64"
      ]
     },
     "execution_count": 91,
     "metadata": {},
     "output_type": "execute_result"
    }
   ],
   "source": [
    "party_percentage_new = new_df_2023.party_full.value_counts()/new_df_2023.party_full.count()\n",
    "party_percentage_new"
   ]
  },
  {
   "cell_type": "code",
   "execution_count": 92,
   "id": "ef21af6b",
   "metadata": {},
   "outputs": [
    {
     "data": {
      "text/html": [
       "<div>\n",
       "<style scoped>\n",
       "    .dataframe tbody tr th:only-of-type {\n",
       "        vertical-align: middle;\n",
       "    }\n",
       "\n",
       "    .dataframe tbody tr th {\n",
       "        vertical-align: top;\n",
       "    }\n",
       "\n",
       "    .dataframe thead th {\n",
       "        text-align: right;\n",
       "    }\n",
       "</style>\n",
       "<table border=\"1\" class=\"dataframe\">\n",
       "  <thead>\n",
       "    <tr style=\"text-align: right;\">\n",
       "      <th></th>\n",
       "      <th>CMTE_ID</th>\n",
       "      <th>CITY</th>\n",
       "      <th>STATE</th>\n",
       "      <th>ZIP_CODE</th>\n",
       "      <th>EMPLOYER</th>\n",
       "      <th>OCCUPATION</th>\n",
       "      <th>TRANSACTION_DT</th>\n",
       "      <th>TRANSACTION_AMT</th>\n",
       "      <th>party_full</th>\n",
       "    </tr>\n",
       "  </thead>\n",
       "  <tbody>\n",
       "    <tr>\n",
       "      <th>0</th>\n",
       "      <td>C00817940</td>\n",
       "      <td>LOS ANGELES</td>\n",
       "      <td>CA</td>\n",
       "      <td>900271058</td>\n",
       "      <td>NaN</td>\n",
       "      <td>NaN</td>\n",
       "      <td>1192023</td>\n",
       "      <td>800</td>\n",
       "      <td>NaN</td>\n",
       "    </tr>\n",
       "    <tr>\n",
       "      <th>1</th>\n",
       "      <td>C00817940</td>\n",
       "      <td>CULVER CITY</td>\n",
       "      <td>CA</td>\n",
       "      <td>902322403</td>\n",
       "      <td>NaN</td>\n",
       "      <td>NaN</td>\n",
       "      <td>1192023</td>\n",
       "      <td>250</td>\n",
       "      <td>NaN</td>\n",
       "    </tr>\n",
       "    <tr>\n",
       "      <th>2</th>\n",
       "      <td>C00817940</td>\n",
       "      <td>CHICAGO</td>\n",
       "      <td>IL</td>\n",
       "      <td>606114546</td>\n",
       "      <td>NaN</td>\n",
       "      <td>NaN</td>\n",
       "      <td>1202023</td>\n",
       "      <td>345</td>\n",
       "      <td>NaN</td>\n",
       "    </tr>\n",
       "    <tr>\n",
       "      <th>3</th>\n",
       "      <td>C00817940</td>\n",
       "      <td>ENCINO</td>\n",
       "      <td>CA</td>\n",
       "      <td>914361845</td>\n",
       "      <td>NaN</td>\n",
       "      <td>NaN</td>\n",
       "      <td>1192023</td>\n",
       "      <td>615</td>\n",
       "      <td>NaN</td>\n",
       "    </tr>\n",
       "    <tr>\n",
       "      <th>4</th>\n",
       "      <td>C00817940</td>\n",
       "      <td>POTOMAC</td>\n",
       "      <td>MD</td>\n",
       "      <td>208541640</td>\n",
       "      <td>NaN</td>\n",
       "      <td>NaN</td>\n",
       "      <td>1192023</td>\n",
       "      <td>5000</td>\n",
       "      <td>NaN</td>\n",
       "    </tr>\n",
       "  </tbody>\n",
       "</table>\n",
       "</div>"
      ],
      "text/plain": [
       "     CMTE_ID         CITY STATE   ZIP_CODE EMPLOYER OCCUPATION  \\\n",
       "0  C00817940  LOS ANGELES    CA  900271058      NaN        NaN   \n",
       "1  C00817940  CULVER CITY    CA  902322403      NaN        NaN   \n",
       "2  C00817940      CHICAGO    IL  606114546      NaN        NaN   \n",
       "3  C00817940       ENCINO    CA  914361845      NaN        NaN   \n",
       "4  C00817940      POTOMAC    MD  208541640      NaN        NaN   \n",
       "\n",
       "   TRANSACTION_DT  TRANSACTION_AMT party_full  \n",
       "0         1192023              800        NaN  \n",
       "1         1192023              250        NaN  \n",
       "2         1202023              345        NaN  \n",
       "3         1192023              615        NaN  \n",
       "4         1192023             5000        NaN  "
      ]
     },
     "execution_count": 92,
     "metadata": {},
     "output_type": "execute_result"
    }
   ],
   "source": [
    "new_df_2023.head()"
   ]
  },
  {
   "cell_type": "code",
   "execution_count": 93,
   "id": "d7f507ed",
   "metadata": {},
   "outputs": [
    {
     "data": {
      "text/plain": [
       "(8691717, 9)"
      ]
     },
     "execution_count": 93,
     "metadata": {},
     "output_type": "execute_result"
    }
   ],
   "source": [
    "new_df_2023.shape"
   ]
  },
  {
   "cell_type": "markdown",
   "id": "9e9a99ee",
   "metadata": {},
   "source": [
    "# only keep rows where party_full value is Democratic party or Republican party (drop rows with all other values)."
   ]
  },
  {
   "cell_type": "code",
   "execution_count": 94,
   "id": "22894fb4",
   "metadata": {},
   "outputs": [],
   "source": [
    "# only keep rows where party_full value is Democratic party or Republican party (drop rows with all other values).\n",
    "\n",
    "df_2_party = new_df_2023[new_df_2023['party_full'].isin(['DEMOCRATIC PARTY', 'REPUBLICAN PARTY'])]"
   ]
  },
  {
   "cell_type": "code",
   "execution_count": 95,
   "id": "32feae82",
   "metadata": {},
   "outputs": [
    {
     "data": {
      "text/html": [
       "<div>\n",
       "<style scoped>\n",
       "    .dataframe tbody tr th:only-of-type {\n",
       "        vertical-align: middle;\n",
       "    }\n",
       "\n",
       "    .dataframe tbody tr th {\n",
       "        vertical-align: top;\n",
       "    }\n",
       "\n",
       "    .dataframe thead th {\n",
       "        text-align: right;\n",
       "    }\n",
       "</style>\n",
       "<table border=\"1\" class=\"dataframe\">\n",
       "  <thead>\n",
       "    <tr style=\"text-align: right;\">\n",
       "      <th></th>\n",
       "      <th>CMTE_ID</th>\n",
       "      <th>CITY</th>\n",
       "      <th>STATE</th>\n",
       "      <th>ZIP_CODE</th>\n",
       "      <th>EMPLOYER</th>\n",
       "      <th>OCCUPATION</th>\n",
       "      <th>TRANSACTION_DT</th>\n",
       "      <th>TRANSACTION_AMT</th>\n",
       "      <th>party_full</th>\n",
       "    </tr>\n",
       "  </thead>\n",
       "  <tbody>\n",
       "    <tr>\n",
       "      <th>8</th>\n",
       "      <td>C00806752</td>\n",
       "      <td>LAS VEGAS</td>\n",
       "      <td>NV</td>\n",
       "      <td>89107</td>\n",
       "      <td>NaN</td>\n",
       "      <td>NaN</td>\n",
       "      <td>4052022</td>\n",
       "      <td>580</td>\n",
       "      <td>REPUBLICAN PARTY</td>\n",
       "    </tr>\n",
       "    <tr>\n",
       "      <th>9</th>\n",
       "      <td>C00806752</td>\n",
       "      <td>LAS VEGAS</td>\n",
       "      <td>NV</td>\n",
       "      <td>89148</td>\n",
       "      <td>NaN</td>\n",
       "      <td>NaN</td>\n",
       "      <td>4102022</td>\n",
       "      <td>350</td>\n",
       "      <td>REPUBLICAN PARTY</td>\n",
       "    </tr>\n",
       "    <tr>\n",
       "      <th>10</th>\n",
       "      <td>C00806752</td>\n",
       "      <td>LAS VEGAS</td>\n",
       "      <td>NV</td>\n",
       "      <td>89107</td>\n",
       "      <td>NONE</td>\n",
       "      <td>RETIRED</td>\n",
       "      <td>4112022</td>\n",
       "      <td>480</td>\n",
       "      <td>REPUBLICAN PARTY</td>\n",
       "    </tr>\n",
       "    <tr>\n",
       "      <th>11</th>\n",
       "      <td>C00806752</td>\n",
       "      <td>LAS VEGAS</td>\n",
       "      <td>NV</td>\n",
       "      <td>89110</td>\n",
       "      <td>NONE</td>\n",
       "      <td>RETIRED</td>\n",
       "      <td>6302022</td>\n",
       "      <td>7709</td>\n",
       "      <td>REPUBLICAN PARTY</td>\n",
       "    </tr>\n",
       "    <tr>\n",
       "      <th>12</th>\n",
       "      <td>C00806372</td>\n",
       "      <td>PROVIDENCE</td>\n",
       "      <td>RI</td>\n",
       "      <td>029033050</td>\n",
       "      <td>NOT EMPLOYED</td>\n",
       "      <td>NOT EMPLOYED</td>\n",
       "      <td>1112023</td>\n",
       "      <td>64427</td>\n",
       "      <td>DEMOCRATIC PARTY</td>\n",
       "    </tr>\n",
       "  </tbody>\n",
       "</table>\n",
       "</div>"
      ],
      "text/plain": [
       "      CMTE_ID        CITY STATE   ZIP_CODE      EMPLOYER    OCCUPATION  \\\n",
       "8   C00806752   LAS VEGAS    NV      89107           NaN           NaN   \n",
       "9   C00806752   LAS VEGAS    NV      89148           NaN           NaN   \n",
       "10  C00806752   LAS VEGAS    NV      89107          NONE       RETIRED   \n",
       "11  C00806752   LAS VEGAS    NV      89110          NONE       RETIRED   \n",
       "12  C00806372  PROVIDENCE    RI  029033050  NOT EMPLOYED  NOT EMPLOYED   \n",
       "\n",
       "    TRANSACTION_DT  TRANSACTION_AMT        party_full  \n",
       "8          4052022              580  REPUBLICAN PARTY  \n",
       "9          4102022              350  REPUBLICAN PARTY  \n",
       "10         4112022              480  REPUBLICAN PARTY  \n",
       "11         6302022             7709  REPUBLICAN PARTY  \n",
       "12         1112023            64427  DEMOCRATIC PARTY  "
      ]
     },
     "execution_count": 95,
     "metadata": {},
     "output_type": "execute_result"
    }
   ],
   "source": [
    "df_2_party.head()"
   ]
  },
  {
   "cell_type": "code",
   "execution_count": 96,
   "id": "e97ebeda",
   "metadata": {},
   "outputs": [
    {
     "data": {
      "text/plain": [
       "0"
      ]
     },
     "execution_count": 96,
     "metadata": {},
     "output_type": "execute_result"
    }
   ],
   "source": [
    "df_2_party['party_full'].isnull().sum()"
   ]
  },
  {
   "cell_type": "code",
   "execution_count": 97,
   "id": "c7cb7ccf",
   "metadata": {},
   "outputs": [
    {
     "data": {
      "text/plain": [
       "(6653441, 9)"
      ]
     },
     "execution_count": 97,
     "metadata": {},
     "output_type": "execute_result"
    }
   ],
   "source": [
    "df_2_party.shape"
   ]
  },
  {
   "cell_type": "code",
   "execution_count": 98,
   "id": "321d8e6c",
   "metadata": {},
   "outputs": [
    {
     "data": {
      "text/plain": [
       "DEMOCRATIC PARTY    3757716\n",
       "REPUBLICAN PARTY    2895725\n",
       "Name: party_full, dtype: int64"
      ]
     },
     "execution_count": 98,
     "metadata": {},
     "output_type": "execute_result"
    }
   ],
   "source": [
    "df_2_party['party_full'].value_counts()"
   ]
  },
  {
   "cell_type": "code",
   "execution_count": 99,
   "id": "435d43d8",
   "metadata": {},
   "outputs": [
    {
     "data": {
      "text/plain": [
       "DEMOCRATIC PARTY    0.564778\n",
       "REPUBLICAN PARTY    0.435222\n",
       "Name: party_full, dtype: float64"
      ]
     },
     "execution_count": 99,
     "metadata": {},
     "output_type": "execute_result"
    }
   ],
   "source": [
    "df_2_party['party_full'].value_counts()/df_2_party.shape[0]"
   ]
  },
  {
   "cell_type": "markdown",
   "id": "a37e52da",
   "metadata": {},
   "source": [
    "# Creat a new column 'party_label', assign 1 to \"DEMOCRATIC PARTY\" and 0 to \"REPUBLICAN PARTY\""
   ]
  },
  {
   "cell_type": "code",
   "execution_count": 100,
   "id": "ee1a6e0b",
   "metadata": {},
   "outputs": [
    {
     "name": "stderr",
     "output_type": "stream",
     "text": [
      "C:\\Users\\tubos\\AppData\\Local\\Temp\\ipykernel_11040\\2031384534.py:3: SettingWithCopyWarning: \n",
      "A value is trying to be set on a copy of a slice from a DataFrame.\n",
      "Try using .loc[row_indexer,col_indexer] = value instead\n",
      "\n",
      "See the caveats in the documentation: https://pandas.pydata.org/pandas-docs/stable/user_guide/indexing.html#returning-a-view-versus-a-copy\n",
      "  df_2_party['party_label'] = df_2_party['party_full'].map({'DEMOCRATIC PARTY': 1, 'REPUBLICAN PARTY': 0})\n"
     ]
    },
    {
     "data": {
      "text/html": [
       "<div>\n",
       "<style scoped>\n",
       "    .dataframe tbody tr th:only-of-type {\n",
       "        vertical-align: middle;\n",
       "    }\n",
       "\n",
       "    .dataframe tbody tr th {\n",
       "        vertical-align: top;\n",
       "    }\n",
       "\n",
       "    .dataframe thead th {\n",
       "        text-align: right;\n",
       "    }\n",
       "</style>\n",
       "<table border=\"1\" class=\"dataframe\">\n",
       "  <thead>\n",
       "    <tr style=\"text-align: right;\">\n",
       "      <th></th>\n",
       "      <th>CMTE_ID</th>\n",
       "      <th>CITY</th>\n",
       "      <th>STATE</th>\n",
       "      <th>ZIP_CODE</th>\n",
       "      <th>EMPLOYER</th>\n",
       "      <th>OCCUPATION</th>\n",
       "      <th>TRANSACTION_DT</th>\n",
       "      <th>TRANSACTION_AMT</th>\n",
       "      <th>party_full</th>\n",
       "      <th>party_label</th>\n",
       "    </tr>\n",
       "  </thead>\n",
       "  <tbody>\n",
       "    <tr>\n",
       "      <th>8</th>\n",
       "      <td>C00806752</td>\n",
       "      <td>LAS VEGAS</td>\n",
       "      <td>NV</td>\n",
       "      <td>89107</td>\n",
       "      <td>NaN</td>\n",
       "      <td>NaN</td>\n",
       "      <td>4052022</td>\n",
       "      <td>580</td>\n",
       "      <td>REPUBLICAN PARTY</td>\n",
       "      <td>0</td>\n",
       "    </tr>\n",
       "    <tr>\n",
       "      <th>9</th>\n",
       "      <td>C00806752</td>\n",
       "      <td>LAS VEGAS</td>\n",
       "      <td>NV</td>\n",
       "      <td>89148</td>\n",
       "      <td>NaN</td>\n",
       "      <td>NaN</td>\n",
       "      <td>4102022</td>\n",
       "      <td>350</td>\n",
       "      <td>REPUBLICAN PARTY</td>\n",
       "      <td>0</td>\n",
       "    </tr>\n",
       "    <tr>\n",
       "      <th>10</th>\n",
       "      <td>C00806752</td>\n",
       "      <td>LAS VEGAS</td>\n",
       "      <td>NV</td>\n",
       "      <td>89107</td>\n",
       "      <td>NONE</td>\n",
       "      <td>RETIRED</td>\n",
       "      <td>4112022</td>\n",
       "      <td>480</td>\n",
       "      <td>REPUBLICAN PARTY</td>\n",
       "      <td>0</td>\n",
       "    </tr>\n",
       "    <tr>\n",
       "      <th>11</th>\n",
       "      <td>C00806752</td>\n",
       "      <td>LAS VEGAS</td>\n",
       "      <td>NV</td>\n",
       "      <td>89110</td>\n",
       "      <td>NONE</td>\n",
       "      <td>RETIRED</td>\n",
       "      <td>6302022</td>\n",
       "      <td>7709</td>\n",
       "      <td>REPUBLICAN PARTY</td>\n",
       "      <td>0</td>\n",
       "    </tr>\n",
       "    <tr>\n",
       "      <th>12</th>\n",
       "      <td>C00806372</td>\n",
       "      <td>PROVIDENCE</td>\n",
       "      <td>RI</td>\n",
       "      <td>029033050</td>\n",
       "      <td>NOT EMPLOYED</td>\n",
       "      <td>NOT EMPLOYED</td>\n",
       "      <td>1112023</td>\n",
       "      <td>64427</td>\n",
       "      <td>DEMOCRATIC PARTY</td>\n",
       "      <td>1</td>\n",
       "    </tr>\n",
       "  </tbody>\n",
       "</table>\n",
       "</div>"
      ],
      "text/plain": [
       "      CMTE_ID        CITY STATE   ZIP_CODE      EMPLOYER    OCCUPATION  \\\n",
       "8   C00806752   LAS VEGAS    NV      89107           NaN           NaN   \n",
       "9   C00806752   LAS VEGAS    NV      89148           NaN           NaN   \n",
       "10  C00806752   LAS VEGAS    NV      89107          NONE       RETIRED   \n",
       "11  C00806752   LAS VEGAS    NV      89110          NONE       RETIRED   \n",
       "12  C00806372  PROVIDENCE    RI  029033050  NOT EMPLOYED  NOT EMPLOYED   \n",
       "\n",
       "    TRANSACTION_DT  TRANSACTION_AMT        party_full  party_label  \n",
       "8          4052022              580  REPUBLICAN PARTY            0  \n",
       "9          4102022              350  REPUBLICAN PARTY            0  \n",
       "10         4112022              480  REPUBLICAN PARTY            0  \n",
       "11         6302022             7709  REPUBLICAN PARTY            0  \n",
       "12         1112023            64427  DEMOCRATIC PARTY            1  "
      ]
     },
     "execution_count": 100,
     "metadata": {},
     "output_type": "execute_result"
    }
   ],
   "source": [
    "# creat a new column 'party_label', assign 1 to \"DEMOCRATIC PARTY\" and 0 to \"REPUBLICAN PARTY\"\n",
    "\n",
    "df_2_party['party_label'] = df_2_party['party_full'].map({'DEMOCRATIC PARTY': 1, 'REPUBLICAN PARTY': 0})\n",
    "\n",
    "df_2_party.head()"
   ]
  },
  {
   "cell_type": "code",
   "execution_count": 101,
   "id": "1b6044ee",
   "metadata": {},
   "outputs": [
    {
     "data": {
      "text/plain": [
       "(6653441, 10)"
      ]
     },
     "execution_count": 101,
     "metadata": {},
     "output_type": "execute_result"
    }
   ],
   "source": [
    "df_2_party.shape"
   ]
  },
  {
   "cell_type": "code",
   "execution_count": 102,
   "id": "14e434e4",
   "metadata": {},
   "outputs": [
    {
     "name": "stdout",
     "output_type": "stream",
     "text": [
      "<class 'pandas.core.frame.DataFrame'>\n",
      "Int64Index: 6653441 entries, 8 to 8691716\n",
      "Data columns (total 10 columns):\n",
      " #   Column           Dtype \n",
      "---  ------           ----- \n",
      " 0   CMTE_ID          object\n",
      " 1   CITY             object\n",
      " 2   STATE            object\n",
      " 3   ZIP_CODE         object\n",
      " 4   EMPLOYER         object\n",
      " 5   OCCUPATION       object\n",
      " 6   TRANSACTION_DT   int64 \n",
      " 7   TRANSACTION_AMT  int64 \n",
      " 8   party_full       object\n",
      " 9   party_label      int64 \n",
      "dtypes: int64(3), object(7)\n",
      "memory usage: 558.4+ MB\n"
     ]
    }
   ],
   "source": [
    "df_2_party.info()"
   ]
  },
  {
   "cell_type": "markdown",
   "id": "72789ac9",
   "metadata": {},
   "source": [
    "# Transform 'TRANSACTION_DT' to datetime format"
   ]
  },
  {
   "cell_type": "code",
   "execution_count": 108,
   "id": "14c84533",
   "metadata": {},
   "outputs": [
    {
     "data": {
      "text/plain": [
       "dtype('int64')"
      ]
     },
     "execution_count": 108,
     "metadata": {},
     "output_type": "execute_result"
    }
   ],
   "source": [
    "df_2_party['TRANSACTION_DT'].dtype"
   ]
  },
  {
   "cell_type": "code",
   "execution_count": 109,
   "id": "a7c119d5",
   "metadata": {},
   "outputs": [
    {
     "data": {
      "text/plain": [
       "0"
      ]
     },
     "execution_count": 109,
     "metadata": {},
     "output_type": "execute_result"
    }
   ],
   "source": [
    "df_2_party['TRANSACTION_DT'].isnull().sum()"
   ]
  },
  {
   "cell_type": "code",
   "execution_count": 110,
   "id": "56e91849",
   "metadata": {},
   "outputs": [
    {
     "name": "stderr",
     "output_type": "stream",
     "text": [
      "C:\\Users\\tubos\\AppData\\Local\\Temp\\ipykernel_21696\\3989309145.py:2: SettingWithCopyWarning: \n",
      "A value is trying to be set on a copy of a slice from a DataFrame.\n",
      "Try using .loc[row_indexer,col_indexer] = value instead\n",
      "\n",
      "See the caveats in the documentation: https://pandas.pydata.org/pandas-docs/stable/user_guide/indexing.html#returning-a-view-versus-a-copy\n",
      "  df_tmp['TRANSACTION_DT'] = df_tmp['TRANSACTION_DT'].astype(str)\n",
      "C:\\Users\\tubos\\AppData\\Local\\Temp\\ipykernel_21696\\3989309145.py:5: SettingWithCopyWarning: \n",
      "A value is trying to be set on a copy of a slice from a DataFrame\n",
      "\n",
      "See the caveats in the documentation: https://pandas.pydata.org/pandas-docs/stable/user_guide/indexing.html#returning-a-view-versus-a-copy\n",
      "  df_tmp.loc[df_tmp['TRANSACTION_DT'].str.len() == 7, 'TRANSACTION_DT'] = '0' + df_tmp['TRANSACTION_DT']\n"
     ]
    }
   ],
   "source": [
    "df_tmp = df_2_party[['TRANSACTION_DT']]\n",
    "df_tmp['TRANSACTION_DT'] = df_tmp['TRANSACTION_DT'].astype(str)\n",
    "\n",
    "# Check if the length is 7 and prepend '0' if true\n",
    "df_tmp.loc[df_tmp['TRANSACTION_DT'].str.len() == 7, 'TRANSACTION_DT'] = '0' + df_tmp['TRANSACTION_DT']"
   ]
  },
  {
   "cell_type": "code",
   "execution_count": 111,
   "id": "95582d57",
   "metadata": {},
   "outputs": [
    {
     "data": {
      "text/html": [
       "<div>\n",
       "<style scoped>\n",
       "    .dataframe tbody tr th:only-of-type {\n",
       "        vertical-align: middle;\n",
       "    }\n",
       "\n",
       "    .dataframe tbody tr th {\n",
       "        vertical-align: top;\n",
       "    }\n",
       "\n",
       "    .dataframe thead th {\n",
       "        text-align: right;\n",
       "    }\n",
       "</style>\n",
       "<table border=\"1\" class=\"dataframe\">\n",
       "  <thead>\n",
       "    <tr style=\"text-align: right;\">\n",
       "      <th></th>\n",
       "      <th>TRANSACTION_DT</th>\n",
       "    </tr>\n",
       "  </thead>\n",
       "  <tbody>\n",
       "    <tr>\n",
       "      <th>8</th>\n",
       "      <td>04052022</td>\n",
       "    </tr>\n",
       "    <tr>\n",
       "      <th>9</th>\n",
       "      <td>04102022</td>\n",
       "    </tr>\n",
       "    <tr>\n",
       "      <th>10</th>\n",
       "      <td>04112022</td>\n",
       "    </tr>\n",
       "    <tr>\n",
       "      <th>11</th>\n",
       "      <td>06302022</td>\n",
       "    </tr>\n",
       "    <tr>\n",
       "      <th>12</th>\n",
       "      <td>01112023</td>\n",
       "    </tr>\n",
       "    <tr>\n",
       "      <th>13</th>\n",
       "      <td>01102023</td>\n",
       "    </tr>\n",
       "    <tr>\n",
       "      <th>14</th>\n",
       "      <td>01102023</td>\n",
       "    </tr>\n",
       "    <tr>\n",
       "      <th>15</th>\n",
       "      <td>01052023</td>\n",
       "    </tr>\n",
       "    <tr>\n",
       "      <th>16</th>\n",
       "      <td>01052023</td>\n",
       "    </tr>\n",
       "    <tr>\n",
       "      <th>18</th>\n",
       "      <td>10192022</td>\n",
       "    </tr>\n",
       "  </tbody>\n",
       "</table>\n",
       "</div>"
      ],
      "text/plain": [
       "   TRANSACTION_DT\n",
       "8        04052022\n",
       "9        04102022\n",
       "10       04112022\n",
       "11       06302022\n",
       "12       01112023\n",
       "13       01102023\n",
       "14       01102023\n",
       "15       01052023\n",
       "16       01052023\n",
       "18       10192022"
      ]
     },
     "execution_count": 111,
     "metadata": {},
     "output_type": "execute_result"
    }
   ],
   "source": [
    "df_tmp.head(10)"
   ]
  },
  {
   "cell_type": "code",
   "execution_count": 112,
   "id": "c8d68eda",
   "metadata": {},
   "outputs": [
    {
     "name": "stderr",
     "output_type": "stream",
     "text": [
      "C:\\Users\\tubos\\AppData\\Local\\Temp\\ipykernel_21696\\2953690632.py:1: SettingWithCopyWarning: \n",
      "A value is trying to be set on a copy of a slice from a DataFrame.\n",
      "Try using .loc[row_indexer,col_indexer] = value instead\n",
      "\n",
      "See the caveats in the documentation: https://pandas.pydata.org/pandas-docs/stable/user_guide/indexing.html#returning-a-view-versus-a-copy\n",
      "  df_tmp['transac_date'] = pd.to_datetime(df_tmp['TRANSACTION_DT'], format='%m%d%Y', errors='coerce')\n"
     ]
    }
   ],
   "source": [
    "df_tmp['transac_date'] = pd.to_datetime(df_tmp['TRANSACTION_DT'], format='%m%d%Y', errors='coerce')"
   ]
  },
  {
   "cell_type": "code",
   "execution_count": 113,
   "id": "a6b28784",
   "metadata": {},
   "outputs": [
    {
     "data": {
      "text/html": [
       "<div>\n",
       "<style scoped>\n",
       "    .dataframe tbody tr th:only-of-type {\n",
       "        vertical-align: middle;\n",
       "    }\n",
       "\n",
       "    .dataframe tbody tr th {\n",
       "        vertical-align: top;\n",
       "    }\n",
       "\n",
       "    .dataframe thead th {\n",
       "        text-align: right;\n",
       "    }\n",
       "</style>\n",
       "<table border=\"1\" class=\"dataframe\">\n",
       "  <thead>\n",
       "    <tr style=\"text-align: right;\">\n",
       "      <th></th>\n",
       "      <th>TRANSACTION_DT</th>\n",
       "      <th>transac_date</th>\n",
       "    </tr>\n",
       "  </thead>\n",
       "  <tbody>\n",
       "    <tr>\n",
       "      <th>8</th>\n",
       "      <td>04052022</td>\n",
       "      <td>2022-04-05</td>\n",
       "    </tr>\n",
       "    <tr>\n",
       "      <th>9</th>\n",
       "      <td>04102022</td>\n",
       "      <td>2022-04-10</td>\n",
       "    </tr>\n",
       "    <tr>\n",
       "      <th>10</th>\n",
       "      <td>04112022</td>\n",
       "      <td>2022-04-11</td>\n",
       "    </tr>\n",
       "    <tr>\n",
       "      <th>11</th>\n",
       "      <td>06302022</td>\n",
       "      <td>2022-06-30</td>\n",
       "    </tr>\n",
       "    <tr>\n",
       "      <th>12</th>\n",
       "      <td>01112023</td>\n",
       "      <td>2023-01-11</td>\n",
       "    </tr>\n",
       "    <tr>\n",
       "      <th>13</th>\n",
       "      <td>01102023</td>\n",
       "      <td>2023-01-10</td>\n",
       "    </tr>\n",
       "    <tr>\n",
       "      <th>14</th>\n",
       "      <td>01102023</td>\n",
       "      <td>2023-01-10</td>\n",
       "    </tr>\n",
       "    <tr>\n",
       "      <th>15</th>\n",
       "      <td>01052023</td>\n",
       "      <td>2023-01-05</td>\n",
       "    </tr>\n",
       "    <tr>\n",
       "      <th>16</th>\n",
       "      <td>01052023</td>\n",
       "      <td>2023-01-05</td>\n",
       "    </tr>\n",
       "    <tr>\n",
       "      <th>18</th>\n",
       "      <td>10192022</td>\n",
       "      <td>2022-10-19</td>\n",
       "    </tr>\n",
       "  </tbody>\n",
       "</table>\n",
       "</div>"
      ],
      "text/plain": [
       "   TRANSACTION_DT transac_date\n",
       "8        04052022   2022-04-05\n",
       "9        04102022   2022-04-10\n",
       "10       04112022   2022-04-11\n",
       "11       06302022   2022-06-30\n",
       "12       01112023   2023-01-11\n",
       "13       01102023   2023-01-10\n",
       "14       01102023   2023-01-10\n",
       "15       01052023   2023-01-05\n",
       "16       01052023   2023-01-05\n",
       "18       10192022   2022-10-19"
      ]
     },
     "execution_count": 113,
     "metadata": {},
     "output_type": "execute_result"
    }
   ],
   "source": [
    "df_tmp.head(10)"
   ]
  },
  {
   "cell_type": "code",
   "execution_count": 114,
   "id": "654f1376",
   "metadata": {},
   "outputs": [
    {
     "name": "stdout",
     "output_type": "stream",
     "text": [
      "        TRANSACTION_DT transac_date\n",
      "8214673       12062023   2023-12-06\n",
      "8214678       12062023   2023-12-06\n",
      "8214679       12062023   2023-12-06\n",
      "8214682       12012023   2023-12-01\n",
      "8680676       12052023   2023-12-05\n"
     ]
    }
   ],
   "source": [
    "# Filter rows for December 2023\n",
    "december_2023_data = df_tmp[(df_tmp['transac_date'] >= '2023-12-01') & (df_tmp['transac_date'] < '2024-01-01')]\n",
    "\n",
    "# Display the filtered DataFrame\n",
    "print(december_2023_data)"
   ]
  },
  {
   "cell_type": "code",
   "execution_count": 115,
   "id": "2a41cea2",
   "metadata": {},
   "outputs": [
    {
     "name": "stderr",
     "output_type": "stream",
     "text": [
      "C:\\Users\\tubos\\AppData\\Local\\Temp\\ipykernel_21696\\1563289091.py:1: SettingWithCopyWarning: \n",
      "A value is trying to be set on a copy of a slice from a DataFrame.\n",
      "Try using .loc[row_indexer,col_indexer] = value instead\n",
      "\n",
      "See the caveats in the documentation: https://pandas.pydata.org/pandas-docs/stable/user_guide/indexing.html#returning-a-view-versus-a-copy\n",
      "  df_2_party['TRANSAC_DT_new'] = df_tmp['transac_date']\n"
     ]
    }
   ],
   "source": [
    "df_2_party['TRANSAC_DT_new'] = df_tmp['transac_date']"
   ]
  },
  {
   "cell_type": "code",
   "execution_count": 116,
   "id": "1b618c78",
   "metadata": {},
   "outputs": [
    {
     "data": {
      "text/html": [
       "<div>\n",
       "<style scoped>\n",
       "    .dataframe tbody tr th:only-of-type {\n",
       "        vertical-align: middle;\n",
       "    }\n",
       "\n",
       "    .dataframe tbody tr th {\n",
       "        vertical-align: top;\n",
       "    }\n",
       "\n",
       "    .dataframe thead th {\n",
       "        text-align: right;\n",
       "    }\n",
       "</style>\n",
       "<table border=\"1\" class=\"dataframe\">\n",
       "  <thead>\n",
       "    <tr style=\"text-align: right;\">\n",
       "      <th></th>\n",
       "      <th>CMTE_ID</th>\n",
       "      <th>NAME</th>\n",
       "      <th>CITY</th>\n",
       "      <th>STATE</th>\n",
       "      <th>ZIP_CODE</th>\n",
       "      <th>EMPLOYER</th>\n",
       "      <th>OCCUPATION</th>\n",
       "      <th>TRANSACTION_DT</th>\n",
       "      <th>TRANSACTION_AMT</th>\n",
       "      <th>party_full</th>\n",
       "      <th>party_label</th>\n",
       "      <th>TRANSAC_DT_new</th>\n",
       "    </tr>\n",
       "  </thead>\n",
       "  <tbody>\n",
       "    <tr>\n",
       "      <th>8</th>\n",
       "      <td>C00806752</td>\n",
       "      <td>AURELIA ARNOLD ROBERTS</td>\n",
       "      <td>LAS VEGAS</td>\n",
       "      <td>NV</td>\n",
       "      <td>89107</td>\n",
       "      <td>NaN</td>\n",
       "      <td>NaN</td>\n",
       "      <td>4052022</td>\n",
       "      <td>580</td>\n",
       "      <td>REPUBLICAN PARTY</td>\n",
       "      <td>0</td>\n",
       "      <td>2022-04-05</td>\n",
       "    </tr>\n",
       "    <tr>\n",
       "      <th>9</th>\n",
       "      <td>C00806752</td>\n",
       "      <td>JENNIFER HENRY</td>\n",
       "      <td>LAS VEGAS</td>\n",
       "      <td>NV</td>\n",
       "      <td>89148</td>\n",
       "      <td>NaN</td>\n",
       "      <td>NaN</td>\n",
       "      <td>4102022</td>\n",
       "      <td>350</td>\n",
       "      <td>REPUBLICAN PARTY</td>\n",
       "      <td>0</td>\n",
       "      <td>2022-04-10</td>\n",
       "    </tr>\n",
       "    <tr>\n",
       "      <th>10</th>\n",
       "      <td>C00806752</td>\n",
       "      <td>LAUB, BILL</td>\n",
       "      <td>LAS VEGAS</td>\n",
       "      <td>NV</td>\n",
       "      <td>89107</td>\n",
       "      <td>NONE</td>\n",
       "      <td>RETIRED</td>\n",
       "      <td>4112022</td>\n",
       "      <td>480</td>\n",
       "      <td>REPUBLICAN PARTY</td>\n",
       "      <td>0</td>\n",
       "      <td>2022-04-11</td>\n",
       "    </tr>\n",
       "    <tr>\n",
       "      <th>11</th>\n",
       "      <td>C00806752</td>\n",
       "      <td>STEEL, DIANE</td>\n",
       "      <td>LAS VEGAS</td>\n",
       "      <td>NV</td>\n",
       "      <td>89110</td>\n",
       "      <td>NONE</td>\n",
       "      <td>RETIRED</td>\n",
       "      <td>6302022</td>\n",
       "      <td>7709</td>\n",
       "      <td>REPUBLICAN PARTY</td>\n",
       "      <td>0</td>\n",
       "      <td>2022-06-30</td>\n",
       "    </tr>\n",
       "    <tr>\n",
       "      <th>12</th>\n",
       "      <td>C00806372</td>\n",
       "      <td>SEGAL, DAVID</td>\n",
       "      <td>PROVIDENCE</td>\n",
       "      <td>RI</td>\n",
       "      <td>029033050</td>\n",
       "      <td>NOT EMPLOYED</td>\n",
       "      <td>NOT EMPLOYED</td>\n",
       "      <td>1112023</td>\n",
       "      <td>64427</td>\n",
       "      <td>DEMOCRATIC PARTY</td>\n",
       "      <td>1</td>\n",
       "      <td>2023-01-11</td>\n",
       "    </tr>\n",
       "    <tr>\n",
       "      <th>13</th>\n",
       "      <td>C00796540</td>\n",
       "      <td>ROSE, HAL M.</td>\n",
       "      <td>BROOKLYN</td>\n",
       "      <td>NY</td>\n",
       "      <td>112012170</td>\n",
       "      <td>NaN</td>\n",
       "      <td>NaN</td>\n",
       "      <td>1102023</td>\n",
       "      <td>800</td>\n",
       "      <td>DEMOCRATIC PARTY</td>\n",
       "      <td>1</td>\n",
       "      <td>2023-01-10</td>\n",
       "    </tr>\n",
       "    <tr>\n",
       "      <th>14</th>\n",
       "      <td>C00796540</td>\n",
       "      <td>ROSE, LISA</td>\n",
       "      <td>BROOKLYN</td>\n",
       "      <td>NY</td>\n",
       "      <td>112012129</td>\n",
       "      <td>NaN</td>\n",
       "      <td>NaN</td>\n",
       "      <td>1102023</td>\n",
       "      <td>800</td>\n",
       "      <td>DEMOCRATIC PARTY</td>\n",
       "      <td>1</td>\n",
       "      <td>2023-01-10</td>\n",
       "    </tr>\n",
       "    <tr>\n",
       "      <th>15</th>\n",
       "      <td>C00796540</td>\n",
       "      <td>ARONSON, BERNARD</td>\n",
       "      <td>TAKOMA PARK</td>\n",
       "      <td>MD</td>\n",
       "      <td>209124128</td>\n",
       "      <td>NaN</td>\n",
       "      <td>NaN</td>\n",
       "      <td>1052023</td>\n",
       "      <td>1000</td>\n",
       "      <td>DEMOCRATIC PARTY</td>\n",
       "      <td>1</td>\n",
       "      <td>2023-01-05</td>\n",
       "    </tr>\n",
       "    <tr>\n",
       "      <th>16</th>\n",
       "      <td>C00796540</td>\n",
       "      <td>AIZER, ROSEMARY</td>\n",
       "      <td>NEW YORK</td>\n",
       "      <td>NY</td>\n",
       "      <td>100280139</td>\n",
       "      <td>NaN</td>\n",
       "      <td>NaN</td>\n",
       "      <td>1052023</td>\n",
       "      <td>1000</td>\n",
       "      <td>DEMOCRATIC PARTY</td>\n",
       "      <td>1</td>\n",
       "      <td>2023-01-05</td>\n",
       "    </tr>\n",
       "    <tr>\n",
       "      <th>18</th>\n",
       "      <td>C00765560</td>\n",
       "      <td>MILLER, DAVID</td>\n",
       "      <td>DARNESTOWN</td>\n",
       "      <td>MD</td>\n",
       "      <td>20874</td>\n",
       "      <td>NaN</td>\n",
       "      <td>NaN</td>\n",
       "      <td>10192022</td>\n",
       "      <td>2800</td>\n",
       "      <td>DEMOCRATIC PARTY</td>\n",
       "      <td>1</td>\n",
       "      <td>2022-10-19</td>\n",
       "    </tr>\n",
       "  </tbody>\n",
       "</table>\n",
       "</div>"
      ],
      "text/plain": [
       "      CMTE_ID                    NAME         CITY STATE   ZIP_CODE  \\\n",
       "8   C00806752  AURELIA ARNOLD ROBERTS    LAS VEGAS    NV      89107   \n",
       "9   C00806752          JENNIFER HENRY    LAS VEGAS    NV      89148   \n",
       "10  C00806752              LAUB, BILL    LAS VEGAS    NV      89107   \n",
       "11  C00806752            STEEL, DIANE    LAS VEGAS    NV      89110   \n",
       "12  C00806372            SEGAL, DAVID   PROVIDENCE    RI  029033050   \n",
       "13  C00796540            ROSE, HAL M.     BROOKLYN    NY  112012170   \n",
       "14  C00796540              ROSE, LISA     BROOKLYN    NY  112012129   \n",
       "15  C00796540        ARONSON, BERNARD  TAKOMA PARK    MD  209124128   \n",
       "16  C00796540         AIZER, ROSEMARY     NEW YORK    NY  100280139   \n",
       "18  C00765560           MILLER, DAVID   DARNESTOWN    MD      20874   \n",
       "\n",
       "        EMPLOYER    OCCUPATION  TRANSACTION_DT  TRANSACTION_AMT  \\\n",
       "8            NaN           NaN         4052022              580   \n",
       "9            NaN           NaN         4102022              350   \n",
       "10          NONE       RETIRED         4112022              480   \n",
       "11          NONE       RETIRED         6302022             7709   \n",
       "12  NOT EMPLOYED  NOT EMPLOYED         1112023            64427   \n",
       "13           NaN           NaN         1102023              800   \n",
       "14           NaN           NaN         1102023              800   \n",
       "15           NaN           NaN         1052023             1000   \n",
       "16           NaN           NaN         1052023             1000   \n",
       "18           NaN           NaN        10192022             2800   \n",
       "\n",
       "          party_full  party_label TRANSAC_DT_new  \n",
       "8   REPUBLICAN PARTY            0     2022-04-05  \n",
       "9   REPUBLICAN PARTY            0     2022-04-10  \n",
       "10  REPUBLICAN PARTY            0     2022-04-11  \n",
       "11  REPUBLICAN PARTY            0     2022-06-30  \n",
       "12  DEMOCRATIC PARTY            1     2023-01-11  \n",
       "13  DEMOCRATIC PARTY            1     2023-01-10  \n",
       "14  DEMOCRATIC PARTY            1     2023-01-10  \n",
       "15  DEMOCRATIC PARTY            1     2023-01-05  \n",
       "16  DEMOCRATIC PARTY            1     2023-01-05  \n",
       "18  DEMOCRATIC PARTY            1     2022-10-19  "
      ]
     },
     "execution_count": 116,
     "metadata": {},
     "output_type": "execute_result"
    }
   ],
   "source": [
    "df_2_party.head(10)"
   ]
  },
  {
   "cell_type": "code",
   "execution_count": 117,
   "id": "680b35e6",
   "metadata": {},
   "outputs": [
    {
     "data": {
      "text/plain": [
       "Timestamp('2003-02-11 00:00:00')"
      ]
     },
     "execution_count": 117,
     "metadata": {},
     "output_type": "execute_result"
    }
   ],
   "source": [
    "df_2_party['TRANSAC_DT_new'] .min()"
   ]
  },
  {
   "cell_type": "code",
   "execution_count": 118,
   "id": "9e1e2bda",
   "metadata": {},
   "outputs": [
    {
     "data": {
      "text/plain": [
       "Timestamp('2026-06-22 00:00:00')"
      ]
     },
     "execution_count": 118,
     "metadata": {},
     "output_type": "execute_result"
    }
   ],
   "source": [
    "df_2_party['TRANSAC_DT_new'] .max()"
   ]
  },
  {
   "cell_type": "code",
   "execution_count": 119,
   "id": "601345af",
   "metadata": {},
   "outputs": [],
   "source": [
    "target = df_2_party.party_label\n",
    "TRANSAC_DT = df_2_party.TRANSAC_DT_new"
   ]
  },
  {
   "cell_type": "code",
   "execution_count": 120,
   "id": "126f9a05",
   "metadata": {},
   "outputs": [],
   "source": [
    "target.index = TRANSAC_DT"
   ]
  },
  {
   "cell_type": "code",
   "execution_count": 121,
   "id": "d4d4961f",
   "metadata": {},
   "outputs": [
    {
     "data": {
      "text/plain": [
       "TRANSAC_DT_new\n",
       "2022-04-05    0\n",
       "2022-04-10    0\n",
       "2022-04-11    0\n",
       "2022-06-30    0\n",
       "2023-01-11    1\n",
       "Name: party_label, dtype: int64"
      ]
     },
     "execution_count": 121,
     "metadata": {},
     "output_type": "execute_result"
    }
   ],
   "source": [
    "target.head()"
   ]
  },
  {
   "cell_type": "code",
   "execution_count": 122,
   "id": "6099de80",
   "metadata": {},
   "outputs": [
    {
     "data": {
      "text/plain": [
       "0"
      ]
     },
     "execution_count": 122,
     "metadata": {},
     "output_type": "execute_result"
    }
   ],
   "source": [
    "target.isnull().sum()"
   ]
  },
  {
   "cell_type": "code",
   "execution_count": 123,
   "id": "ea852f91",
   "metadata": {},
   "outputs": [
    {
     "data": {
      "text/plain": [
       "dtype('int64')"
      ]
     },
     "execution_count": 123,
     "metadata": {},
     "output_type": "execute_result"
    }
   ],
   "source": [
    "target.dtype"
   ]
  },
  {
   "cell_type": "code",
   "execution_count": 124,
   "id": "cc11f80d",
   "metadata": {},
   "outputs": [
    {
     "data": {
      "text/plain": [
       "TRANSAC_DT_new\n",
       "2003-02-11    1\n",
       "2003-02-11    1\n",
       "2003-02-11    1\n",
       "2003-02-11    1\n",
       "2003-02-12    1\n",
       "             ..\n",
       "2023-12-05    1\n",
       "2023-12-06    0\n",
       "2023-12-06    0\n",
       "2023-12-06    0\n",
       "2026-06-22    1\n",
       "Name: party_label, Length: 6653441, dtype: int64"
      ]
     },
     "execution_count": 124,
     "metadata": {},
     "output_type": "execute_result"
    }
   ],
   "source": [
    "target.sort_index()"
   ]
  },
  {
   "cell_type": "code",
   "execution_count": 125,
   "id": "6d2d6156",
   "metadata": {},
   "outputs": [
    {
     "name": "stdout",
     "output_type": "stream",
     "text": [
      "                               count_0  count_1\n",
      "TRANSAC_DT_new TRANSAC_DT_new                  \n",
      "2003           2                     0        6\n",
      "2013           5                     0        1\n",
      "2019           5                     0        2\n",
      "2021           2                     1        0\n",
      "               9                     1        0\n",
      "2022           1                     1        0\n",
      "               3                     0        2\n",
      "               4                     6        0\n",
      "               5                   352        0\n",
      "               6                     6       53\n",
      "               7                     3        2\n",
      "               8                     9       27\n",
      "               9                    12       11\n",
      "               10                   22       13\n",
      "               11                  771       21\n",
      "               12                 2522     1867\n",
      "2023           1                165017   314369\n",
      "               2                174191   340754\n",
      "               3                272147   430632\n",
      "               4                335413   436995\n",
      "               5                354756   517011\n",
      "               6                457084   572927\n",
      "               7                281052   275960\n",
      "               8                339327   307172\n",
      "               9                347611   362335\n",
      "               10               164850   193168\n",
      "               11                  567     4386\n",
      "               12                    4        1\n",
      "2026           6                     0        1\n"
     ]
    }
   ],
   "source": [
    "df_target_DT = pd.DataFrame({'target': target})\n",
    "\n",
    "# Resample data by month and year, and count occurrences of 1 and 0\n",
    "result = df_target_DT.groupby([df_target_DT.index.year, df_target_DT.index.month, 'target']).size().unstack(fill_value=0)\n",
    "\n",
    "# Rename columns for better readability\n",
    "result.columns = ['count_0', 'count_1']\n",
    "\n",
    "print(result)"
   ]
  },
  {
   "cell_type": "code",
   "execution_count": 132,
   "id": "f6a4303f",
   "metadata": {},
   "outputs": [
    {
     "data": {
      "image/png": "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\n",
      "text/plain": [
       "<Figure size 1000x600 with 1 Axes>"
      ]
     },
     "metadata": {},
     "output_type": "display_data"
    }
   ],
   "source": [
    "import matplotlib.pyplot as plt\n",
    "\n",
    "result.plot(kind='bar', stacked=True, figsize=(10, 6))\n",
    "plt.title('Counts of 0 and 1 for Each Year')\n",
    "plt.xlabel('Year')\n",
    "plt.ylabel('Count')\n",
    "plt.legend(title='Target', labels=['0', '1'])\n",
    "plt.show()"
   ]
  },
  {
   "cell_type": "code",
   "execution_count": 249,
   "id": "6a8fd7e6",
   "metadata": {},
   "outputs": [],
   "source": [
    "# # If not, convert it to datetime using pd.to_datetime(df_2_party['TRANSAC_DT_new'])\n",
    "\n",
    "# # Filter rows where 'TRANSAC_DT_new' is within the year 2023\n",
    "# df_2_party_2023 = df_2_party[(df_2_party['TRANSAC_DT_new'] >= '2023-01-01') & (df_2_party['TRANSAC_DT_new'] < '2024-01-01')]\n",
    "\n",
    "# # Reset index if needed\n",
    "# df_2_party_2023.reset_index(drop=True, inplace=True)"
   ]
  },
  {
   "cell_type": "code",
   "execution_count": null,
   "id": "4e194d16",
   "metadata": {},
   "outputs": [],
   "source": [
    "# df_2_party_2023.sort_values(by='TRANSACTION_DT').head()"
   ]
  },
  {
   "cell_type": "code",
   "execution_count": null,
   "id": "976dc1c8",
   "metadata": {},
   "outputs": [],
   "source": [
    "# df_2_party_2023.sort_values(by='TRANSACTION_DT').tail(5)"
   ]
  },
  {
   "cell_type": "markdown",
   "id": "a410abc1",
   "metadata": {},
   "source": [
    "# Save df_2_party based on the original five txt files from the year of 2023 to a new CSV file named as 'df_2_party_5txt.csv' (includes all dates, not just 2023)"
   ]
  },
  {
   "cell_type": "code",
   "execution_count": 133,
   "id": "1b106f4c",
   "metadata": {},
   "outputs": [],
   "source": [
    "# Save df_2_party_2023 to a new CSV file\n",
    "df_2_party.to_csv('df_2_party_5txt.csv', index=False)"
   ]
  },
  {
   "cell_type": "markdown",
   "id": "1fdd2979",
   "metadata": {},
   "source": [
    "# read the newly generated file'df_2_party_5txt.csv'"
   ]
  },
  {
   "cell_type": "code",
   "execution_count": 4,
   "id": "9b18987a",
   "metadata": {},
   "outputs": [
    {
     "name": "stderr",
     "output_type": "stream",
     "text": [
      "C:\\Users\\tubos\\AppData\\Local\\Temp\\ipykernel_15216\\2067966936.py:2: DtypeWarning: Columns (4) have mixed types. Specify dtype option on import or set low_memory=False.\n",
      "  df_party = pd.read_csv('df_2_party_5txt_Dec.23.csv')\n"
     ]
    }
   ],
   "source": [
    "# df_2_party_5txt = pd.read_csv('df_2_party_5txt.csv')\n",
    "df_party = pd.read_csv('df_2_party_5txt_Dec.23.csv')"
   ]
  },
  {
   "cell_type": "code",
   "execution_count": 6,
   "id": "d4a23290",
   "metadata": {},
   "outputs": [
    {
     "data": {
      "text/plain": [
       "(6653441, 12)"
      ]
     },
     "execution_count": 6,
     "metadata": {},
     "output_type": "execute_result"
    }
   ],
   "source": [
    "df_party.shape"
   ]
  },
  {
   "cell_type": "code",
   "execution_count": 7,
   "id": "5ff7c0b5",
   "metadata": {},
   "outputs": [
    {
     "data": {
      "text/html": [
       "<div>\n",
       "<style scoped>\n",
       "    .dataframe tbody tr th:only-of-type {\n",
       "        vertical-align: middle;\n",
       "    }\n",
       "\n",
       "    .dataframe tbody tr th {\n",
       "        vertical-align: top;\n",
       "    }\n",
       "\n",
       "    .dataframe thead th {\n",
       "        text-align: right;\n",
       "    }\n",
       "</style>\n",
       "<table border=\"1\" class=\"dataframe\">\n",
       "  <thead>\n",
       "    <tr style=\"text-align: right;\">\n",
       "      <th></th>\n",
       "      <th>CMTE_ID</th>\n",
       "      <th>NAME</th>\n",
       "      <th>CITY</th>\n",
       "      <th>STATE</th>\n",
       "      <th>ZIP_CODE</th>\n",
       "      <th>EMPLOYER</th>\n",
       "      <th>OCCUPATION</th>\n",
       "      <th>TRANSACTION_DT</th>\n",
       "      <th>TRANSACTION_AMT</th>\n",
       "      <th>party_full</th>\n",
       "      <th>party_label</th>\n",
       "      <th>TRANSAC_DT_new</th>\n",
       "    </tr>\n",
       "  </thead>\n",
       "  <tbody>\n",
       "    <tr>\n",
       "      <th>0</th>\n",
       "      <td>C00806752</td>\n",
       "      <td>AURELIA ARNOLD ROBERTS</td>\n",
       "      <td>LAS VEGAS</td>\n",
       "      <td>NV</td>\n",
       "      <td>89107</td>\n",
       "      <td>NaN</td>\n",
       "      <td>NaN</td>\n",
       "      <td>4052022</td>\n",
       "      <td>580</td>\n",
       "      <td>REPUBLICAN PARTY</td>\n",
       "      <td>0</td>\n",
       "      <td>2022-04-05</td>\n",
       "    </tr>\n",
       "    <tr>\n",
       "      <th>1</th>\n",
       "      <td>C00806752</td>\n",
       "      <td>JENNIFER HENRY</td>\n",
       "      <td>LAS VEGAS</td>\n",
       "      <td>NV</td>\n",
       "      <td>89148</td>\n",
       "      <td>NaN</td>\n",
       "      <td>NaN</td>\n",
       "      <td>4102022</td>\n",
       "      <td>350</td>\n",
       "      <td>REPUBLICAN PARTY</td>\n",
       "      <td>0</td>\n",
       "      <td>2022-04-10</td>\n",
       "    </tr>\n",
       "    <tr>\n",
       "      <th>2</th>\n",
       "      <td>C00806752</td>\n",
       "      <td>LAUB, BILL</td>\n",
       "      <td>LAS VEGAS</td>\n",
       "      <td>NV</td>\n",
       "      <td>89107</td>\n",
       "      <td>NONE</td>\n",
       "      <td>RETIRED</td>\n",
       "      <td>4112022</td>\n",
       "      <td>480</td>\n",
       "      <td>REPUBLICAN PARTY</td>\n",
       "      <td>0</td>\n",
       "      <td>2022-04-11</td>\n",
       "    </tr>\n",
       "    <tr>\n",
       "      <th>3</th>\n",
       "      <td>C00806752</td>\n",
       "      <td>STEEL, DIANE</td>\n",
       "      <td>LAS VEGAS</td>\n",
       "      <td>NV</td>\n",
       "      <td>89110</td>\n",
       "      <td>NONE</td>\n",
       "      <td>RETIRED</td>\n",
       "      <td>6302022</td>\n",
       "      <td>7709</td>\n",
       "      <td>REPUBLICAN PARTY</td>\n",
       "      <td>0</td>\n",
       "      <td>2022-06-30</td>\n",
       "    </tr>\n",
       "    <tr>\n",
       "      <th>4</th>\n",
       "      <td>C00806372</td>\n",
       "      <td>SEGAL, DAVID</td>\n",
       "      <td>PROVIDENCE</td>\n",
       "      <td>RI</td>\n",
       "      <td>029033050</td>\n",
       "      <td>NOT EMPLOYED</td>\n",
       "      <td>NOT EMPLOYED</td>\n",
       "      <td>1112023</td>\n",
       "      <td>64427</td>\n",
       "      <td>DEMOCRATIC PARTY</td>\n",
       "      <td>1</td>\n",
       "      <td>2023-01-11</td>\n",
       "    </tr>\n",
       "  </tbody>\n",
       "</table>\n",
       "</div>"
      ],
      "text/plain": [
       "     CMTE_ID                    NAME        CITY STATE   ZIP_CODE  \\\n",
       "0  C00806752  AURELIA ARNOLD ROBERTS   LAS VEGAS    NV      89107   \n",
       "1  C00806752          JENNIFER HENRY   LAS VEGAS    NV      89148   \n",
       "2  C00806752              LAUB, BILL   LAS VEGAS    NV      89107   \n",
       "3  C00806752            STEEL, DIANE   LAS VEGAS    NV      89110   \n",
       "4  C00806372            SEGAL, DAVID  PROVIDENCE    RI  029033050   \n",
       "\n",
       "       EMPLOYER    OCCUPATION  TRANSACTION_DT  TRANSACTION_AMT  \\\n",
       "0           NaN           NaN         4052022              580   \n",
       "1           NaN           NaN         4102022              350   \n",
       "2          NONE       RETIRED         4112022              480   \n",
       "3          NONE       RETIRED         6302022             7709   \n",
       "4  NOT EMPLOYED  NOT EMPLOYED         1112023            64427   \n",
       "\n",
       "         party_full  party_label TRANSAC_DT_new  \n",
       "0  REPUBLICAN PARTY            0     2022-04-05  \n",
       "1  REPUBLICAN PARTY            0     2022-04-10  \n",
       "2  REPUBLICAN PARTY            0     2022-04-11  \n",
       "3  REPUBLICAN PARTY            0     2022-06-30  \n",
       "4  DEMOCRATIC PARTY            1     2023-01-11  "
      ]
     },
     "execution_count": 7,
     "metadata": {},
     "output_type": "execute_result"
    }
   ],
   "source": [
    "df_party.head()"
   ]
  },
  {
   "cell_type": "code",
   "execution_count": 9,
   "id": "4f759ada",
   "metadata": {},
   "outputs": [
    {
     "name": "stdout",
     "output_type": "stream",
     "text": [
      "<class 'pandas.core.frame.DataFrame'>\n",
      "RangeIndex: 6653441 entries, 0 to 6653440\n",
      "Data columns (total 12 columns):\n",
      " #   Column           Dtype \n",
      "---  ------           ----- \n",
      " 0   CMTE_ID          object\n",
      " 1   NAME             object\n",
      " 2   CITY             object\n",
      " 3   STATE            object\n",
      " 4   ZIP_CODE         object\n",
      " 5   EMPLOYER         object\n",
      " 6   OCCUPATION       object\n",
      " 7   TRANSACTION_DT   int64 \n",
      " 8   TRANSACTION_AMT  int64 \n",
      " 9   party_full       object\n",
      " 10  party_label      int64 \n",
      " 11  TRANSAC_DT_new   object\n",
      "dtypes: int64(3), object(9)\n",
      "memory usage: 609.1+ MB\n"
     ]
    }
   ],
   "source": [
    "df_party.info()"
   ]
  },
  {
   "cell_type": "code",
   "execution_count": 10,
   "id": "14d8a26b",
   "metadata": {},
   "outputs": [
    {
     "data": {
      "text/plain": [
       "CMTE_ID                 0\n",
       "NAME                    0\n",
       "CITY                  292\n",
       "STATE                2423\n",
       "ZIP_CODE             8275\n",
       "EMPLOYER           551570\n",
       "OCCUPATION         218535\n",
       "TRANSACTION_DT          0\n",
       "TRANSACTION_AMT         0\n",
       "party_full              0\n",
       "party_label             0\n",
       "TRANSAC_DT_new          0\n",
       "dtype: int64"
      ]
     },
     "execution_count": 10,
     "metadata": {},
     "output_type": "execute_result"
    }
   ],
   "source": [
    "df_party.isnull().sum()"
   ]
  },
  {
   "cell_type": "code",
   "execution_count": 11,
   "id": "3980881e",
   "metadata": {},
   "outputs": [
    {
     "data": {
      "text/plain": [
       "CMTE_ID            0.000000\n",
       "NAME               0.000000\n",
       "CITY               0.000044\n",
       "STATE              0.000364\n",
       "ZIP_CODE           0.001244\n",
       "EMPLOYER           0.082900\n",
       "OCCUPATION         0.032845\n",
       "TRANSACTION_DT     0.000000\n",
       "TRANSACTION_AMT    0.000000\n",
       "party_full         0.000000\n",
       "party_label        0.000000\n",
       "TRANSAC_DT_new     0.000000\n",
       "dtype: float64"
      ]
     },
     "execution_count": 11,
     "metadata": {},
     "output_type": "execute_result"
    }
   ],
   "source": [
    "df_party.isnull().sum()/df_party.shape[0]"
   ]
  },
  {
   "cell_type": "code",
   "execution_count": null,
   "id": "5e6ef30e",
   "metadata": {},
   "outputs": [],
   "source": []
  }
 ],
 "metadata": {
  "kernelspec": {
   "display_name": "Python 3 (ipykernel)",
   "language": "python",
   "name": "python3"
  },
  "language_info": {
   "codemirror_mode": {
    "name": "ipython",
    "version": 3
   },
   "file_extension": ".py",
   "mimetype": "text/x-python",
   "name": "python",
   "nbconvert_exporter": "python",
   "pygments_lexer": "ipython3",
   "version": "3.9.13"
  }
 },
 "nbformat": 4,
 "nbformat_minor": 5
}
